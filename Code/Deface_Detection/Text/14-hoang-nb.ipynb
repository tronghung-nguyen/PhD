{
 "cells": [
  {
   "attachments": {},
   "cell_type": "markdown",
   "id": "6d6b2993",
   "metadata": {},
   "source": [
    "## Import libraries"
   ]
  },
  {
   "cell_type": "code",
   "execution_count": 1,
   "id": "651f438e",
   "metadata": {
    "_cell_guid": "b1076dfc-b9ad-4769-8c92-a6c4dae69d19",
    "_uuid": "8f2839f25d086af736a60e9eeb907d3b93b6e0e5",
    "execution": {
     "iopub.execute_input": "2023-10-10T08:33:44.483693Z",
     "iopub.status.busy": "2023-10-10T08:33:44.483351Z",
     "iopub.status.idle": "2023-10-10T08:33:55.065052Z",
     "shell.execute_reply": "2023-10-10T08:33:55.064019Z"
    },
    "papermill": {
     "duration": 10.587852,
     "end_time": "2023-10-10T08:33:55.067193",
     "exception": false,
     "start_time": "2023-10-10T08:33:44.479341",
     "status": "completed"
    },
    "tags": []
   },
   "outputs": [
    {
     "name": "stderr",
     "output_type": "stream",
     "text": [
      "/opt/conda/lib/python3.10/site-packages/scipy/__init__.py:146: UserWarning: A NumPy version >=1.16.5 and <1.23.0 is required for this version of SciPy (detected version 1.23.5\n",
      "  warnings.warn(f\"A NumPy version >={np_minversion} and <{np_maxversion}\"\n"
     ]
    }
   ],
   "source": [
    "import numpy as np\n",
    "import pandas as pd\n",
    "import tensorflow as tf\n",
    "from matplotlib import pyplot as plt\n",
    "from kaggle_datasets import KaggleDatasets\n",
    "from kaggle_secrets import UserSecretsClient\n",
    "from glob import glob\n",
    "from tqdm.notebook import tqdm\n",
    "from multiprocessing import cpu_count\n",
    "from joblib import Parallel, delayed\n",
    "from tensorflow.keras.models import Sequential\n",
    "from tensorflow.keras import layers as L\n",
    "from tensorflow.keras.utils import to_categorical\n",
    "from tensorflow.keras.callbacks import LearningRateScheduler, ModelCheckpoint\n",
    "from sklearn.model_selection import train_test_split\n",
    "from sklearn import metrics\n",
    "\n",
    "from sklearn.feature_extraction.text import CountVectorizer\n",
    "\n",
    "from sklearn.feature_extraction.text import TfidfVectorizer\n",
    "from sklearn.ensemble import RandomForestClassifier\n",
    "\n",
    "from sklearn.tree import DecisionTreeClassifier\n",
    "from sklearn.naive_bayes import GaussianNB, MultinomialNB\n",
    "from sklearn.pipeline import Pipeline\n",
    "from sklearn.metrics import accuracy_score, precision_score, recall_score, f1_score\n"
   ]
  },
  {
   "attachments": {},
   "cell_type": "markdown",
   "id": "d5972240",
   "metadata": {},
   "source": [
    "## Constant"
   ]
  },
  {
   "cell_type": "code",
   "execution_count": 2,
   "id": "581f5c5b",
   "metadata": {
    "execution": {
     "iopub.execute_input": "2023-10-10T08:33:55.074667Z",
     "iopub.status.busy": "2023-10-10T08:33:55.073464Z",
     "iopub.status.idle": "2023-10-10T08:33:55.088222Z",
     "shell.execute_reply": "2023-10-10T08:33:55.087078Z"
    },
    "papermill": {
     "duration": 0.020245,
     "end_time": "2023-10-10T08:33:55.090092",
     "exception": false,
     "start_time": "2023-10-10T08:33:55.069847",
     "status": "completed"
    },
    "tags": []
   },
   "outputs": [
    {
     "name": "stdout",
     "output_type": "stream",
     "text": [
      "N_JOBS: 2\n",
      "Batch size: 8\n"
     ]
    }
   ],
   "source": [
    "try:\n",
    "    tpu = tf.distribute.cluster_resolver.TPUClusterResolver()\n",
    "    print('Running on TPU:', tpu.master())\n",
    "except ValueError:\n",
    "    tpu = None\n",
    "\n",
    "if tpu:\n",
    "    tf.config.experimental_connect_to_cluster(tpu)\n",
    "    tf.tpu.experimental.initialize_tpu_system(tpu)\n",
    "    strategy = tf.distribute.experimental.TPUStrategy(tpu)\n",
    "else:\n",
    "    strategy = tf.distribute.get_strategy()\n",
    "\n",
    "# user_secrets = UserSecretsClient()\n",
    "# user_credential = user_secrets.get_gcloud_credential()\n",
    "# user_secrets.set_tensorflow_credential(user_credential)\n",
    "# GCS_DS_PATH = KaggleDatasets().get_gcs_path('websiteb dbbb-defacement')\n",
    "\n",
    "AUTO = tf.data.experimental.AUTOTUNE\n",
    "BATCH_SIZE = 8 * strategy.num_replicas_in_sync\n",
    "N_JOBS = cpu_count()\n",
    "\n",
    "\n",
    "IMG_SIZE = 224\n",
    "EPOCHS = 50\n",
    "\n",
    "print('N_JOBS:', N_JOBS)\n",
    "print('Batch size:', BATCH_SIZE)\n",
    "# print('GCS_DS_PATH:', GCS_DS_PATH)"
   ]
  },
  {
   "attachments": {},
   "cell_type": "markdown",
   "id": "544c2a7e",
   "metadata": {},
   "source": [
    "## Path"
   ]
  },
  {
   "cell_type": "code",
   "execution_count": 3,
   "id": "ff57c6af",
   "metadata": {
    "execution": {
     "iopub.execute_input": "2023-10-10T08:33:55.095891Z",
     "iopub.status.busy": "2023-10-10T08:33:55.095305Z",
     "iopub.status.idle": "2023-10-10T08:33:58.596726Z",
     "shell.execute_reply": "2023-10-10T08:33:58.595740Z"
    },
    "papermill": {
     "duration": 3.506584,
     "end_time": "2023-10-10T08:33:58.598889",
     "exception": false,
     "start_time": "2023-10-10T08:33:55.092305",
     "status": "completed"
    },
    "tags": []
   },
   "outputs": [],
   "source": [
    "dataset_path = '../input/website-defacement/'\n",
    "img_paths = glob(dataset_path + 'image/*/*')\n",
    "txt_paths = glob(dataset_path + 'text/*/*')\n",
    "img_names = [path.split('/')[-1][:-4] for path in img_paths]\n",
    "txt_names = [path.split('/')[-1][:-4] for path in txt_paths]\n",
    "names = list(set(img_names).intersection(txt_names))"
   ]
  },
  {
   "attachments": {},
   "cell_type": "markdown",
   "id": "205898b1",
   "metadata": {},
   "source": [
    "## Prepare data"
   ]
  },
  {
   "cell_type": "code",
   "execution_count": 4,
   "id": "f32498d4",
   "metadata": {
    "execution": {
     "iopub.execute_input": "2023-10-10T08:33:58.605401Z",
     "iopub.status.busy": "2023-10-10T08:33:58.604539Z",
     "iopub.status.idle": "2023-10-10T08:34:55.505009Z",
     "shell.execute_reply": "2023-10-10T08:34:55.503986Z"
    },
    "papermill": {
     "duration": 56.90582,
     "end_time": "2023-10-10T08:34:55.507193",
     "exception": false,
     "start_time": "2023-10-10T08:33:58.601373",
     "status": "completed"
    },
    "tags": []
   },
   "outputs": [
    {
     "data": {
      "application/vnd.jupyter.widget-view+json": {
       "model_id": "64a6a2434b9a48e8b504563adfb73d35",
       "version_major": 2,
       "version_minor": 0
      },
      "text/plain": [
       "  0%|          | 0/96234 [00:00<?, ?it/s]"
      ]
     },
     "metadata": {},
     "output_type": "display_data"
    }
   ],
   "source": [
    "def prepare_data(name):\n",
    "    if glob(dataset_path + f'text/defaced/{name}.txt'):\n",
    "        path = dataset_path + f'text/defaced/{name}.txt'\n",
    "        label = 1\n",
    "    else:\n",
    "        path = dataset_path + f'text/benign/{name}.txt'\n",
    "        label = 0\n",
    "    return (path, label)\n",
    "\n",
    "output = Parallel(n_jobs=N_JOBS)(delayed(prepare_data)(name) for name in tqdm(names))\n",
    "X, y = zip(*output)\n",
    "\n",
    "# X_train, X_test, y_train, y_test = train_test_split(X, y, test_size=0.2, random_state=42, shuffle=True)\n",
    "# # y_train = to_categorical(y_train, num_classes=2)\n",
    "# # X_train, X_valid, y_train, y_valid = train_test_split(X_train, y_train, test_size=0.25, \n",
    "# #                                                       random_state=42)\n",
    "\n",
    "# print(len(X_train), len(X_test))"
   ]
  },
  {
   "attachments": {},
   "cell_type": "markdown",
   "id": "5b1ef5ff",
   "metadata": {},
   "source": [
    "## K-fold"
   ]
  },
  {
   "cell_type": "code",
   "execution_count": 5,
   "id": "01559357",
   "metadata": {
    "execution": {
     "iopub.execute_input": "2023-10-10T08:34:55.514038Z",
     "iopub.status.busy": "2023-10-10T08:34:55.513410Z",
     "iopub.status.idle": "2023-10-10T08:34:56.118218Z",
     "shell.execute_reply": "2023-10-10T08:34:56.117089Z"
    },
    "papermill": {
     "duration": 0.610289,
     "end_time": "2023-10-10T08:34:56.120181",
     "exception": false,
     "start_time": "2023-10-10T08:34:55.509892",
     "status": "completed"
    },
    "tags": []
   },
   "outputs": [
    {
     "name": "stdout",
     "output_type": "stream",
     "text": [
      "Fold 1:\n",
      "Train set size: 86610\n",
      "Test set size: 9624\n",
      "Fold 2:\n",
      "Train set size: 86610\n",
      "Test set size: 9624\n",
      "Fold 3:\n",
      "Train set size: 86610\n",
      "Test set size: 9624\n",
      "Fold 4:\n",
      "Train set size: 86610\n",
      "Test set size: 9624\n",
      "Fold 5:\n",
      "Train set size: 86611\n",
      "Test set size: 9623\n",
      "Fold 6:\n",
      "Train set size: 86611\n",
      "Test set size: 9623\n",
      "Fold 7:\n",
      "Train set size: 86611\n",
      "Test set size: 9623\n",
      "Fold 8:\n",
      "Train set size: 86611\n",
      "Test set size: 9623\n",
      "Fold 9:\n",
      "Train set size: 86611\n",
      "Test set size: 9623\n",
      "Fold 10:\n",
      "Train set size: 86611\n",
      "Test set size: 9623\n"
     ]
    }
   ],
   "source": [
    "import numpy as np\n",
    "from sklearn.model_selection import KFold\n",
    "\n",
    "n_splits = 10\n",
    "\n",
    "X = np.array(X)\n",
    "y = np.array(y)\n",
    "\n",
    "# Khởi tạo K-Fold Cross-Validator\n",
    "kf = KFold(n_splits=n_splits, shuffle=True, random_state=42)\n",
    "\n",
    "# Lặp qua các phần đã chia\n",
    "for fold_number, (train_index, test_index) in enumerate(kf.split(X, y), 1):\n",
    "    X_train, X_test = X[train_index], X[test_index]\n",
    "    y_train, y_test = y[train_index], y[test_index]    \n",
    "    \n",
    "    print(f\"Fold {fold_number}:\")\n",
    "    print(f\"Train set size: {len(X_train)}\")\n",
    "    print(f\"Test set size: {len(X_test)}\")"
   ]
  },
  {
   "cell_type": "code",
   "execution_count": 6,
   "id": "856cd8c7",
   "metadata": {
    "execution": {
     "iopub.execute_input": "2023-10-10T08:34:56.126702Z",
     "iopub.status.busy": "2023-10-10T08:34:56.126415Z",
     "iopub.status.idle": "2023-10-10T08:34:56.130902Z",
     "shell.execute_reply": "2023-10-10T08:34:56.129963Z"
    },
    "papermill": {
     "duration": 0.009863,
     "end_time": "2023-10-10T08:34:56.132767",
     "exception": false,
     "start_time": "2023-10-10T08:34:56.122904",
     "status": "completed"
    },
    "tags": []
   },
   "outputs": [],
   "source": [
    "X_fold = np.array_split(X, 10)\n",
    "y_fold = np.array_split(y, 10)"
   ]
  },
  {
   "attachments": {},
   "cell_type": "markdown",
   "id": "96487952",
   "metadata": {},
   "source": [
    "## Train"
   ]
  },
  {
   "cell_type": "code",
   "execution_count": 7,
   "id": "766fb175",
   "metadata": {
    "execution": {
     "iopub.execute_input": "2023-10-10T08:34:56.139262Z",
     "iopub.status.busy": "2023-10-10T08:34:56.138647Z",
     "iopub.status.idle": "2023-10-10T08:43:33.882722Z",
     "shell.execute_reply": "2023-10-10T08:43:33.881550Z"
    },
    "papermill": {
     "duration": 517.751303,
     "end_time": "2023-10-10T08:43:33.886743",
     "exception": false,
     "start_time": "2023-10-10T08:34:56.135440",
     "status": "completed"
    },
    "tags": []
   },
   "outputs": [
    {
     "name": "stdout",
     "output_type": "stream",
     "text": [
      "Average TP: 620.4\n",
      "Average FP: 173.8\n",
      "Average FN: 162.3\n",
      "Average TN: 968.5\n"
     ]
    }
   ],
   "source": [
    "from sklearn.preprocessing import FunctionTransformer\n",
    "total_TP = 0\n",
    "total_FP = 0\n",
    "total_FN = 0\n",
    "total_TN = 0\n",
    "\n",
    "to_dense = FunctionTransformer(lambda x: x.toarray(), accept_sparse=True)\n",
    "for X_, y_ in zip(X_fold,y_fold):\n",
    "    X_train, X_test, y_train, y_test = train_test_split(X_, y_, test_size=0.2, random_state=42, shuffle=True)\n",
    "    pipeline = Pipeline([\n",
    "        ('tf', CountVectorizer(input='filename',max_features=300, ngram_range=(2,2), analyzer= 'char')),\n",
    "        ('to_dense', to_dense),\n",
    "        ('classifier', MultinomialNB())\n",
    "    ])\n",
    "\n",
    "    pipeline.fit(X_train, y_train)\n",
    "\n",
    "    y_pred = pipeline.predict(X_test)\n",
    "    clf_report = metrics.classification_report(y_test, y_pred, digits=4)\n",
    "    cnf_matrix = metrics.confusion_matrix(y_test, y_pred)\n",
    "    TN, FP, FN, TP = cnf_matrix.ravel()\n",
    "    total_TP += TP\n",
    "    total_FP += FP\n",
    "    total_FN += FN\n",
    "    total_TN += TN\n",
    "n_folds = 10\n",
    "average_TP = total_TP / n_folds\n",
    "average_FP = total_FP / n_folds\n",
    "average_FN = total_FN / n_folds\n",
    "average_TN = total_TN / n_folds\n",
    "\n",
    "print(\"Average TP:\", average_TP)\n",
    "print(\"Average FP:\", average_FP)\n",
    "print(\"Average FN:\", average_FN)\n",
    "print(\"Average TN:\", average_TN)"
   ]
  },
  {
   "attachments": {},
   "cell_type": "markdown",
   "id": "90bfd78c",
   "metadata": {},
   "source": [
    "## Evaluate"
   ]
  },
  {
   "cell_type": "code",
   "execution_count": 8,
   "id": "44d5b736",
   "metadata": {
    "execution": {
     "iopub.execute_input": "2023-10-10T08:43:33.902107Z",
     "iopub.status.busy": "2023-10-10T08:43:33.901567Z",
     "iopub.status.idle": "2023-10-10T08:43:33.934505Z",
     "shell.execute_reply": "2023-10-10T08:43:33.933393Z"
    },
    "papermill": {
     "duration": 0.044258,
     "end_time": "2023-10-10T08:43:33.937837",
     "exception": false,
     "start_time": "2023-10-10T08:43:33.893579",
     "status": "completed"
    },
    "tags": []
   },
   "outputs": [
    {
     "name": "stdout",
     "output_type": "stream",
     "text": [
      "[[620.4, 173.8], [162.3, 968.5]]\n",
      "      TPR       FPR       FNR       ACC Precision    Recall  F1_score\n",
      "   0.7926    0.1521    0.2074    0.8254    0.7812    0.7926    0.7869\n"
     ]
    }
   ],
   "source": [
    "TP = average_TP\n",
    "FP = average_FP\n",
    "FN = average_FN\n",
    "TN = average_TN\n",
    "\n",
    "precision = TP / (TP + FP)\n",
    "recall = TP / (TP + FN)\n",
    "f1_score = 2 * (precision * recall) / (precision + recall)\n",
    "\n",
    "cnf_matrix = [[TP,FP],[FN,TN]]\n",
    "TPR = TP / (TP + FN)\n",
    "FPR = FP / (FP + TN)\n",
    "FNR = FN / (FN + TP)\n",
    "ACC = (TP+TN)/(TP+FP+TN+FN)\n",
    "other_metrics = pd.DataFrame({'TPR': '%.4f' % TPR, \n",
    "                              'FPR': '%.4f' % FPR, \n",
    "                              'FNR': '%.4f' % FNR,\n",
    "                              'ACC': '%.4f' % ACC,\n",
    "                             'Precision':'%.4f' % precision,\n",
    "                             'Recall':'%.4f' % recall,\n",
    "                             'F1_score':'%.4f' % f1_score,}, index=[0]).to_string(col_space=9, index=False)\n",
    "# print(clf_report)\n",
    "print(cnf_matrix)\n",
    "print(other_metrics)"
   ]
  }
 ],
 "metadata": {
  "kernelspec": {
   "display_name": "Python 3",
   "language": "python",
   "name": "python3"
  },
  "language_info": {
   "codemirror_mode": {
    "name": "ipython",
    "version": 3
   },
   "file_extension": ".py",
   "mimetype": "text/x-python",
   "name": "python",
   "nbconvert_exporter": "python",
   "pygments_lexer": "ipython3",
   "version": "3.10.12"
  },
  "papermill": {
   "default_parameters": {},
   "duration": 595.293457,
   "end_time": "2023-10-10T08:43:36.568971",
   "environment_variables": {},
   "exception": null,
   "input_path": "__notebook__.ipynb",
   "output_path": "__notebook__.ipynb",
   "parameters": {},
   "start_time": "2023-10-10T08:33:41.275514",
   "version": "2.4.0"
  },
  "widgets": {
   "application/vnd.jupyter.widget-state+json": {
    "state": {
     "077d702199d54f32ab1f920c3da59240": {
      "model_module": "@jupyter-widgets/controls",
      "model_module_version": "1.5.0",
      "model_name": "FloatProgressModel",
      "state": {
       "_dom_classes": [],
       "_model_module": "@jupyter-widgets/controls",
       "_model_module_version": "1.5.0",
       "_model_name": "FloatProgressModel",
       "_view_count": null,
       "_view_module": "@jupyter-widgets/controls",
       "_view_module_version": "1.5.0",
       "_view_name": "ProgressView",
       "bar_style": "success",
       "description": "",
       "description_tooltip": null,
       "layout": "IPY_MODEL_1ce593ec7ede434bacc19b02ce3c8bf4",
       "max": 96234,
       "min": 0,
       "orientation": "horizontal",
       "style": "IPY_MODEL_260c5f9e87864cbc8c944847b3245072",
       "value": 96234
      }
     },
     "1ce593ec7ede434bacc19b02ce3c8bf4": {
      "model_module": "@jupyter-widgets/base",
      "model_module_version": "1.2.0",
      "model_name": "LayoutModel",
      "state": {
       "_model_module": "@jupyter-widgets/base",
       "_model_module_version": "1.2.0",
       "_model_name": "LayoutModel",
       "_view_count": null,
       "_view_module": "@jupyter-widgets/base",
       "_view_module_version": "1.2.0",
       "_view_name": "LayoutView",
       "align_content": null,
       "align_items": null,
       "align_self": null,
       "border": null,
       "bottom": null,
       "display": null,
       "flex": null,
       "flex_flow": null,
       "grid_area": null,
       "grid_auto_columns": null,
       "grid_auto_flow": null,
       "grid_auto_rows": null,
       "grid_column": null,
       "grid_gap": null,
       "grid_row": null,
       "grid_template_areas": null,
       "grid_template_columns": null,
       "grid_template_rows": null,
       "height": null,
       "justify_content": null,
       "justify_items": null,
       "left": null,
       "margin": null,
       "max_height": null,
       "max_width": null,
       "min_height": null,
       "min_width": null,
       "object_fit": null,
       "object_position": null,
       "order": null,
       "overflow": null,
       "overflow_x": null,
       "overflow_y": null,
       "padding": null,
       "right": null,
       "top": null,
       "visibility": null,
       "width": null
      }
     },
     "260c5f9e87864cbc8c944847b3245072": {
      "model_module": "@jupyter-widgets/controls",
      "model_module_version": "1.5.0",
      "model_name": "ProgressStyleModel",
      "state": {
       "_model_module": "@jupyter-widgets/controls",
       "_model_module_version": "1.5.0",
       "_model_name": "ProgressStyleModel",
       "_view_count": null,
       "_view_module": "@jupyter-widgets/base",
       "_view_module_version": "1.2.0",
       "_view_name": "StyleView",
       "bar_color": null,
       "description_width": ""
      }
     },
     "2dc0166d5cc3441b8ffc9b6267b93f5d": {
      "model_module": "@jupyter-widgets/controls",
      "model_module_version": "1.5.0",
      "model_name": "DescriptionStyleModel",
      "state": {
       "_model_module": "@jupyter-widgets/controls",
       "_model_module_version": "1.5.0",
       "_model_name": "DescriptionStyleModel",
       "_view_count": null,
       "_view_module": "@jupyter-widgets/base",
       "_view_module_version": "1.2.0",
       "_view_name": "StyleView",
       "description_width": ""
      }
     },
     "64a6a2434b9a48e8b504563adfb73d35": {
      "model_module": "@jupyter-widgets/controls",
      "model_module_version": "1.5.0",
      "model_name": "HBoxModel",
      "state": {
       "_dom_classes": [],
       "_model_module": "@jupyter-widgets/controls",
       "_model_module_version": "1.5.0",
       "_model_name": "HBoxModel",
       "_view_count": null,
       "_view_module": "@jupyter-widgets/controls",
       "_view_module_version": "1.5.0",
       "_view_name": "HBoxView",
       "box_style": "",
       "children": [
        "IPY_MODEL_ff7e849904a448e093f9f5c30c234f8b",
        "IPY_MODEL_077d702199d54f32ab1f920c3da59240",
        "IPY_MODEL_ce72eeb9e3cc4609a21cba57da2518b7"
       ],
       "layout": "IPY_MODEL_8ffcfc1fe2124000be069a9704f909a9"
      }
     },
     "6e4581e18369445bba9987690aa337b5": {
      "model_module": "@jupyter-widgets/base",
      "model_module_version": "1.2.0",
      "model_name": "LayoutModel",
      "state": {
       "_model_module": "@jupyter-widgets/base",
       "_model_module_version": "1.2.0",
       "_model_name": "LayoutModel",
       "_view_count": null,
       "_view_module": "@jupyter-widgets/base",
       "_view_module_version": "1.2.0",
       "_view_name": "LayoutView",
       "align_content": null,
       "align_items": null,
       "align_self": null,
       "border": null,
       "bottom": null,
       "display": null,
       "flex": null,
       "flex_flow": null,
       "grid_area": null,
       "grid_auto_columns": null,
       "grid_auto_flow": null,
       "grid_auto_rows": null,
       "grid_column": null,
       "grid_gap": null,
       "grid_row": null,
       "grid_template_areas": null,
       "grid_template_columns": null,
       "grid_template_rows": null,
       "height": null,
       "justify_content": null,
       "justify_items": null,
       "left": null,
       "margin": null,
       "max_height": null,
       "max_width": null,
       "min_height": null,
       "min_width": null,
       "object_fit": null,
       "object_position": null,
       "order": null,
       "overflow": null,
       "overflow_x": null,
       "overflow_y": null,
       "padding": null,
       "right": null,
       "top": null,
       "visibility": null,
       "width": null
      }
     },
     "74e10fc0b4f647deb7041d7db766ba95": {
      "model_module": "@jupyter-widgets/base",
      "model_module_version": "1.2.0",
      "model_name": "LayoutModel",
      "state": {
       "_model_module": "@jupyter-widgets/base",
       "_model_module_version": "1.2.0",
       "_model_name": "LayoutModel",
       "_view_count": null,
       "_view_module": "@jupyter-widgets/base",
       "_view_module_version": "1.2.0",
       "_view_name": "LayoutView",
       "align_content": null,
       "align_items": null,
       "align_self": null,
       "border": null,
       "bottom": null,
       "display": null,
       "flex": null,
       "flex_flow": null,
       "grid_area": null,
       "grid_auto_columns": null,
       "grid_auto_flow": null,
       "grid_auto_rows": null,
       "grid_column": null,
       "grid_gap": null,
       "grid_row": null,
       "grid_template_areas": null,
       "grid_template_columns": null,
       "grid_template_rows": null,
       "height": null,
       "justify_content": null,
       "justify_items": null,
       "left": null,
       "margin": null,
       "max_height": null,
       "max_width": null,
       "min_height": null,
       "min_width": null,
       "object_fit": null,
       "object_position": null,
       "order": null,
       "overflow": null,
       "overflow_x": null,
       "overflow_y": null,
       "padding": null,
       "right": null,
       "top": null,
       "visibility": null,
       "width": null
      }
     },
     "849cb4bc59834989b3395641fc1247d7": {
      "model_module": "@jupyter-widgets/controls",
      "model_module_version": "1.5.0",
      "model_name": "DescriptionStyleModel",
      "state": {
       "_model_module": "@jupyter-widgets/controls",
       "_model_module_version": "1.5.0",
       "_model_name": "DescriptionStyleModel",
       "_view_count": null,
       "_view_module": "@jupyter-widgets/base",
       "_view_module_version": "1.2.0",
       "_view_name": "StyleView",
       "description_width": ""
      }
     },
     "8ffcfc1fe2124000be069a9704f909a9": {
      "model_module": "@jupyter-widgets/base",
      "model_module_version": "1.2.0",
      "model_name": "LayoutModel",
      "state": {
       "_model_module": "@jupyter-widgets/base",
       "_model_module_version": "1.2.0",
       "_model_name": "LayoutModel",
       "_view_count": null,
       "_view_module": "@jupyter-widgets/base",
       "_view_module_version": "1.2.0",
       "_view_name": "LayoutView",
       "align_content": null,
       "align_items": null,
       "align_self": null,
       "border": null,
       "bottom": null,
       "display": null,
       "flex": null,
       "flex_flow": null,
       "grid_area": null,
       "grid_auto_columns": null,
       "grid_auto_flow": null,
       "grid_auto_rows": null,
       "grid_column": null,
       "grid_gap": null,
       "grid_row": null,
       "grid_template_areas": null,
       "grid_template_columns": null,
       "grid_template_rows": null,
       "height": null,
       "justify_content": null,
       "justify_items": null,
       "left": null,
       "margin": null,
       "max_height": null,
       "max_width": null,
       "min_height": null,
       "min_width": null,
       "object_fit": null,
       "object_position": null,
       "order": null,
       "overflow": null,
       "overflow_x": null,
       "overflow_y": null,
       "padding": null,
       "right": null,
       "top": null,
       "visibility": null,
       "width": null
      }
     },
     "ce72eeb9e3cc4609a21cba57da2518b7": {
      "model_module": "@jupyter-widgets/controls",
      "model_module_version": "1.5.0",
      "model_name": "HTMLModel",
      "state": {
       "_dom_classes": [],
       "_model_module": "@jupyter-widgets/controls",
       "_model_module_version": "1.5.0",
       "_model_name": "HTMLModel",
       "_view_count": null,
       "_view_module": "@jupyter-widgets/controls",
       "_view_module_version": "1.5.0",
       "_view_name": "HTMLView",
       "description": "",
       "description_tooltip": null,
       "layout": "IPY_MODEL_6e4581e18369445bba9987690aa337b5",
       "placeholder": "​",
       "style": "IPY_MODEL_849cb4bc59834989b3395641fc1247d7",
       "value": " 96234/96234 [00:56&lt;00:00, 1619.88it/s]"
      }
     },
     "ff7e849904a448e093f9f5c30c234f8b": {
      "model_module": "@jupyter-widgets/controls",
      "model_module_version": "1.5.0",
      "model_name": "HTMLModel",
      "state": {
       "_dom_classes": [],
       "_model_module": "@jupyter-widgets/controls",
       "_model_module_version": "1.5.0",
       "_model_name": "HTMLModel",
       "_view_count": null,
       "_view_module": "@jupyter-widgets/controls",
       "_view_module_version": "1.5.0",
       "_view_name": "HTMLView",
       "description": "",
       "description_tooltip": null,
       "layout": "IPY_MODEL_74e10fc0b4f647deb7041d7db766ba95",
       "placeholder": "​",
       "style": "IPY_MODEL_2dc0166d5cc3441b8ffc9b6267b93f5d",
       "value": "100%"
      }
     }
    },
    "version_major": 2,
    "version_minor": 0
   }
  }
 },
 "nbformat": 4,
 "nbformat_minor": 5
}
