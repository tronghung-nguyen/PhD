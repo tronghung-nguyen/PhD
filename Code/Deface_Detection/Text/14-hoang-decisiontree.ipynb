{
 "cells": [
  {
   "attachments": {},
   "cell_type": "markdown",
   "id": "2cf29181",
   "metadata": {},
   "source": [
    "## Import libraries"
   ]
  },
  {
   "cell_type": "code",
   "execution_count": 1,
   "id": "b15683dc",
   "metadata": {
    "_cell_guid": "b1076dfc-b9ad-4769-8c92-a6c4dae69d19",
    "_uuid": "8f2839f25d086af736a60e9eeb907d3b93b6e0e5",
    "execution": {
     "iopub.execute_input": "2023-10-10T08:28:14.106127Z",
     "iopub.status.busy": "2023-10-10T08:28:14.105790Z",
     "iopub.status.idle": "2023-10-10T08:28:23.954880Z",
     "shell.execute_reply": "2023-10-10T08:28:23.953934Z"
    },
    "papermill": {
     "duration": 9.855278,
     "end_time": "2023-10-10T08:28:23.956993",
     "exception": false,
     "start_time": "2023-10-10T08:28:14.101715",
     "status": "completed"
    },
    "tags": []
   },
   "outputs": [
    {
     "name": "stderr",
     "output_type": "stream",
     "text": [
      "/opt/conda/lib/python3.10/site-packages/scipy/__init__.py:146: UserWarning: A NumPy version >=1.16.5 and <1.23.0 is required for this version of SciPy (detected version 1.23.5\n",
      "  warnings.warn(f\"A NumPy version >={np_minversion} and <{np_maxversion}\"\n"
     ]
    }
   ],
   "source": [
    "import numpy as np\n",
    "import pandas as pd\n",
    "import tensorflow as tf\n",
    "from matplotlib import pyplot as plt\n",
    "from kaggle_datasets import KaggleDatasets\n",
    "from kaggle_secrets import UserSecretsClient\n",
    "from glob import glob\n",
    "from tqdm.notebook import tqdm\n",
    "from multiprocessing import cpu_count\n",
    "from joblib import Parallel, delayed\n",
    "from tensorflow.keras.models import Sequential\n",
    "from tensorflow.keras import layers as L\n",
    "from tensorflow.keras.utils import to_categorical\n",
    "from tensorflow.keras.callbacks import LearningRateScheduler, ModelCheckpoint\n",
    "from sklearn.model_selection import train_test_split\n",
    "from sklearn import metrics\n",
    "\n",
    "from sklearn.feature_extraction.text import CountVectorizer\n",
    "\n",
    "from sklearn.feature_extraction.text import TfidfVectorizer\n",
    "from sklearn.ensemble import RandomForestClassifier\n",
    "\n",
    "from sklearn.tree import DecisionTreeClassifier\n",
    "from sklearn.pipeline import Pipeline\n",
    "from sklearn.metrics import accuracy_score, precision_score, recall_score, f1_score\n"
   ]
  },
  {
   "attachments": {},
   "cell_type": "markdown",
   "id": "5f09790f",
   "metadata": {},
   "source": [
    "## Constant"
   ]
  },
  {
   "cell_type": "code",
   "execution_count": 2,
   "id": "3e44fe70",
   "metadata": {
    "execution": {
     "iopub.execute_input": "2023-10-10T08:28:23.963516Z",
     "iopub.status.busy": "2023-10-10T08:28:23.962380Z",
     "iopub.status.idle": "2023-10-10T08:28:23.975977Z",
     "shell.execute_reply": "2023-10-10T08:28:23.975030Z"
    },
    "papermill": {
     "duration": 0.018308,
     "end_time": "2023-10-10T08:28:23.977749",
     "exception": false,
     "start_time": "2023-10-10T08:28:23.959441",
     "status": "completed"
    },
    "tags": []
   },
   "outputs": [
    {
     "name": "stdout",
     "output_type": "stream",
     "text": [
      "N_JOBS: 2\n",
      "Batch size: 8\n"
     ]
    }
   ],
   "source": [
    "try:\n",
    "    tpu = tf.distribute.cluster_resolver.TPUClusterResolver()\n",
    "    print('Running on TPU:', tpu.master())\n",
    "except ValueError:\n",
    "    tpu = None\n",
    "\n",
    "if tpu:\n",
    "    tf.config.experimental_connect_to_cluster(tpu)\n",
    "    tf.tpu.experimental.initialize_tpu_system(tpu)\n",
    "    strategy = tf.distribute.experimental.TPUStrategy(tpu)\n",
    "else:\n",
    "    strategy = tf.distribute.get_strategy()\n",
    "\n",
    "# user_secrets = UserSecretsClient()\n",
    "# user_credential = user_secrets.get_gcloud_credential()\n",
    "# user_secrets.set_tensorflow_credential(user_credential)\n",
    "# GCS_DS_PATH = KaggleDatasets().get_gcs_path('websiteb dbbb-defacement')\n",
    "\n",
    "AUTO = tf.data.experimental.AUTOTUNE\n",
    "BATCH_SIZE = 8 * strategy.num_replicas_in_sync\n",
    "N_JOBS = cpu_count()\n",
    "\n",
    "\n",
    "IMG_SIZE = 224\n",
    "EPOCHS = 50\n",
    "\n",
    "print('N_JOBS:', N_JOBS)\n",
    "print('Batch size:', BATCH_SIZE)\n",
    "# print('GCS_DS_PATH:', GCS_DS_PATH)"
   ]
  },
  {
   "attachments": {},
   "cell_type": "markdown",
   "id": "5fb176b2",
   "metadata": {},
   "source": [
    "## Path"
   ]
  },
  {
   "cell_type": "code",
   "execution_count": 3,
   "id": "07dd064f",
   "metadata": {
    "execution": {
     "iopub.execute_input": "2023-10-10T08:28:23.983259Z",
     "iopub.status.busy": "2023-10-10T08:28:23.982561Z",
     "iopub.status.idle": "2023-10-10T08:28:26.716074Z",
     "shell.execute_reply": "2023-10-10T08:28:26.715085Z"
    },
    "papermill": {
     "duration": 2.738491,
     "end_time": "2023-10-10T08:28:26.718225",
     "exception": false,
     "start_time": "2023-10-10T08:28:23.979734",
     "status": "completed"
    },
    "tags": []
   },
   "outputs": [],
   "source": [
    "dataset_path = '../input/website-defacement/'\n",
    "img_paths = glob(dataset_path + 'image/*/*')\n",
    "txt_paths = glob(dataset_path + 'text/*/*')\n",
    "img_names = [path.split('/')[-1][:-4] for path in img_paths]\n",
    "txt_names = [path.split('/')[-1][:-4] for path in txt_paths]\n",
    "names = list(set(img_names).intersection(txt_names))"
   ]
  },
  {
   "attachments": {},
   "cell_type": "markdown",
   "id": "77a98621",
   "metadata": {},
   "source": [
    "## Prepare data"
   ]
  },
  {
   "cell_type": "code",
   "execution_count": 4,
   "id": "8d78b9bb",
   "metadata": {
    "execution": {
     "iopub.execute_input": "2023-10-10T08:28:26.723824Z",
     "iopub.status.busy": "2023-10-10T08:28:26.723555Z",
     "iopub.status.idle": "2023-10-10T08:28:58.153021Z",
     "shell.execute_reply": "2023-10-10T08:28:58.152024Z"
    },
    "papermill": {
     "duration": 31.434585,
     "end_time": "2023-10-10T08:28:58.155170",
     "exception": false,
     "start_time": "2023-10-10T08:28:26.720585",
     "status": "completed"
    },
    "tags": []
   },
   "outputs": [
    {
     "data": {
      "application/vnd.jupyter.widget-view+json": {
       "model_id": "27c9b5935aa949eb91ad2349390f2a65",
       "version_major": 2,
       "version_minor": 0
      },
      "text/plain": [
       "  0%|          | 0/96234 [00:00<?, ?it/s]"
      ]
     },
     "metadata": {},
     "output_type": "display_data"
    }
   ],
   "source": [
    "def prepare_data(name):\n",
    "    if glob(dataset_path + f'text/defaced/{name}.txt'):\n",
    "        path = dataset_path + f'text/defaced/{name}.txt'\n",
    "        label = 1\n",
    "    else:\n",
    "        path = dataset_path + f'text/benign/{name}.txt'\n",
    "        label = 0\n",
    "    return (path, label)\n",
    "\n",
    "output = Parallel(n_jobs=N_JOBS)(delayed(prepare_data)(name) for name in tqdm(names))\n",
    "X, y = zip(*output)\n",
    "\n",
    "# X_train, X_test, y_train, y_test = train_test_split(X, y, test_size=0.2, random_state=42, shuffle=True)\n",
    "# # y_train = to_categorical(y_train, num_classes=2)\n",
    "# # X_train, X_valid, y_train, y_valid = train_test_split(X_train, y_train, test_size=0.25, \n",
    "# #                                                       random_state=42)\n",
    "\n",
    "# print(len(X_train), len(X_test))"
   ]
  },
  {
   "attachments": {},
   "cell_type": "markdown",
   "id": "91ebd0d4",
   "metadata": {},
   "source": [
    "## K-fold"
   ]
  },
  {
   "cell_type": "code",
   "execution_count": 5,
   "id": "5963419b",
   "metadata": {
    "execution": {
     "iopub.execute_input": "2023-10-10T08:28:58.161192Z",
     "iopub.status.busy": "2023-10-10T08:28:58.160915Z",
     "iopub.status.idle": "2023-10-10T08:28:58.796752Z",
     "shell.execute_reply": "2023-10-10T08:28:58.795359Z"
    },
    "papermill": {
     "duration": 0.640896,
     "end_time": "2023-10-10T08:28:58.798585",
     "exception": false,
     "start_time": "2023-10-10T08:28:58.157689",
     "status": "completed"
    },
    "tags": []
   },
   "outputs": [
    {
     "name": "stdout",
     "output_type": "stream",
     "text": [
      "Fold 1:\n",
      "Train set size: 86610\n",
      "Test set size: 9624\n",
      "Fold 2:\n",
      "Train set size: 86610\n",
      "Test set size: 9624\n",
      "Fold 3:\n",
      "Train set size: 86610\n",
      "Test set size: 9624\n",
      "Fold 4:\n",
      "Train set size: 86610\n",
      "Test set size: 9624\n",
      "Fold 5:\n",
      "Train set size: 86611\n",
      "Test set size: 9623\n",
      "Fold 6:\n",
      "Train set size: 86611\n",
      "Test set size: 9623\n",
      "Fold 7:\n",
      "Train set size: 86611\n",
      "Test set size: 9623\n",
      "Fold 8:\n",
      "Train set size: 86611\n",
      "Test set size: 9623\n",
      "Fold 9:\n",
      "Train set size: 86611\n",
      "Test set size: 9623\n",
      "Fold 10:\n",
      "Train set size: 86611\n",
      "Test set size: 9623\n"
     ]
    }
   ],
   "source": [
    "import numpy as np\n",
    "from sklearn.model_selection import KFold\n",
    "\n",
    "n_splits = 10\n",
    "\n",
    "X = np.array(X)\n",
    "y = np.array(y)\n",
    "\n",
    "# Khởi tạo K-Fold Cross-Validator\n",
    "kf = KFold(n_splits=n_splits, shuffle=True, random_state=42)\n",
    "\n",
    "# Lặp qua các phần đã chia\n",
    "for fold_number, (train_index, test_index) in enumerate(kf.split(X, y), 1):\n",
    "    X_train, X_test = X[train_index], X[test_index]\n",
    "    y_train, y_test = y[train_index], y[test_index]    \n",
    "    \n",
    "    print(f\"Fold {fold_number}:\")\n",
    "    print(f\"Train set size: {len(X_train)}\")\n",
    "    print(f\"Test set size: {len(X_test)}\")"
   ]
  },
  {
   "cell_type": "code",
   "execution_count": 6,
   "id": "ab71649d",
   "metadata": {
    "execution": {
     "iopub.execute_input": "2023-10-10T08:28:58.804890Z",
     "iopub.status.busy": "2023-10-10T08:28:58.804615Z",
     "iopub.status.idle": "2023-10-10T08:28:58.808882Z",
     "shell.execute_reply": "2023-10-10T08:28:58.807996Z"
    },
    "papermill": {
     "duration": 0.009298,
     "end_time": "2023-10-10T08:28:58.810722",
     "exception": false,
     "start_time": "2023-10-10T08:28:58.801424",
     "status": "completed"
    },
    "tags": []
   },
   "outputs": [],
   "source": [
    "X_fold = np.array_split(X, 10)\n",
    "y_fold = np.array_split(y, 10)"
   ]
  },
  {
   "attachments": {},
   "cell_type": "markdown",
   "id": "3dc3de91",
   "metadata": {},
   "source": [
    "## Train"
   ]
  },
  {
   "cell_type": "code",
   "execution_count": 7,
   "id": "279764d2",
   "metadata": {
    "execution": {
     "iopub.execute_input": "2023-10-10T08:28:58.816293Z",
     "iopub.status.busy": "2023-10-10T08:28:58.816053Z",
     "iopub.status.idle": "2023-10-10T08:35:15.176511Z",
     "shell.execute_reply": "2023-10-10T08:35:15.175600Z"
    },
    "papermill": {
     "duration": 376.368089,
     "end_time": "2023-10-10T08:35:15.181156",
     "exception": false,
     "start_time": "2023-10-10T08:28:58.813067",
     "status": "completed"
    },
    "tags": []
   },
   "outputs": [
    {
     "name": "stdout",
     "output_type": "stream",
     "text": [
      "Average TP: 658.4\n",
      "Average FP: 121.7\n",
      "Average FN: 126.3\n",
      "Average TN: 1018.6\n"
     ]
    }
   ],
   "source": [
    "total_TP = 0\n",
    "total_FP = 0\n",
    "total_FN = 0\n",
    "total_TN = 0\n",
    "for X_, y_ in zip(X_fold,y_fold):\n",
    "    X_train, X_test, y_train, y_test = train_test_split(X_, y_, test_size=0.2, random_state=42, shuffle=True)\n",
    "    pipeline = Pipeline([\n",
    "        ('tf', CountVectorizer(input='filename',max_features=300, ngram_range=(2,2), analyzer= 'char')),\n",
    "        ('classifier', DecisionTreeClassifier())\n",
    "    ])\n",
    "\n",
    "    pipeline.fit(X_train, y_train)\n",
    "\n",
    "    y_pred = pipeline.predict(X_test)\n",
    "    clf_report = metrics.classification_report(y_test, y_pred, digits=4)\n",
    "    cnf_matrix = metrics.confusion_matrix(y_test, y_pred)\n",
    "    TN, FP, FN, TP = cnf_matrix.ravel()\n",
    "    total_TP += TP\n",
    "    total_FP += FP\n",
    "    total_FN += FN\n",
    "    total_TN += TN\n",
    "n_folds = 10\n",
    "average_TP = total_TP / n_folds\n",
    "average_FP = total_FP / n_folds\n",
    "average_FN = total_FN / n_folds\n",
    "average_TN = total_TN / n_folds\n",
    "\n",
    "print(\"Average TP:\", average_TP)\n",
    "print(\"Average FP:\", average_FP)\n",
    "print(\"Average FN:\", average_FN)\n",
    "print(\"Average TN:\", average_TN)"
   ]
  },
  {
   "attachments": {},
   "cell_type": "markdown",
   "id": "b33585ce",
   "metadata": {},
   "source": [
    "## Evaluate"
   ]
  },
  {
   "cell_type": "code",
   "execution_count": 8,
   "id": "6e7a987e",
   "metadata": {
    "execution": {
     "iopub.execute_input": "2023-10-10T08:35:15.187778Z",
     "iopub.status.busy": "2023-10-10T08:35:15.187343Z",
     "iopub.status.idle": "2023-10-10T08:35:15.206631Z",
     "shell.execute_reply": "2023-10-10T08:35:15.205493Z"
    },
    "papermill": {
     "duration": 0.024581,
     "end_time": "2023-10-10T08:35:15.208277",
     "exception": false,
     "start_time": "2023-10-10T08:35:15.183696",
     "status": "completed"
    },
    "tags": []
   },
   "outputs": [
    {
     "name": "stdout",
     "output_type": "stream",
     "text": [
      "[[658.4, 121.7], [121.7, 1018.6]]\n",
      "      TPR       FPR       FNR       ACC Precision    Recall  F1_score\n",
      "   0.8440    0.1067    0.1560    0.8733    0.8440    0.8440    0.8440\n"
     ]
    }
   ],
   "source": [
    "TP = average_TP\n",
    "FP = average_FP\n",
    "FN = average_FP\n",
    "TN = average_TN\n",
    "\n",
    "precision = TP / (TP + FP)\n",
    "recall = TP / (TP + FN)\n",
    "f1_score = 2 * (precision * recall) / (precision + recall)\n",
    "\n",
    "cnf_matrix = [[TP,FP],[FN,TN]]\n",
    "TPR = TP / (TP + FN)\n",
    "FPR = FP / (FP + TN)\n",
    "FNR = FN / (FN + TP)\n",
    "ACC = (TP+TN)/(TP+FP+TN+FN)\n",
    "other_metrics = pd.DataFrame({'TPR': '%.4f' % TPR, \n",
    "                              'FPR': '%.4f' % FPR, \n",
    "                              'FNR': '%.4f' % FNR,\n",
    "                              'ACC': '%.4f' % ACC,\n",
    "                             'Precision':'%.4f' % precision,\n",
    "                             'Recall':'%.4f' % recall,\n",
    "                             'F1_score':'%.4f' % f1_score,}, index=[0]).to_string(col_space=9, index=False)\n",
    "# print(clf_report)\n",
    "print(cnf_matrix)\n",
    "print(other_metrics)"
   ]
  }
 ],
 "metadata": {
  "kernelspec": {
   "display_name": "Python 3",
   "language": "python",
   "name": "python3"
  },
  "language_info": {
   "codemirror_mode": {
    "name": "ipython",
    "version": 3
   },
   "file_extension": ".py",
   "mimetype": "text/x-python",
   "name": "python",
   "nbconvert_exporter": "python",
   "pygments_lexer": "ipython3",
   "version": "3.10.12"
  },
  "papermill": {
   "default_parameters": {},
   "duration": 426.76706,
   "end_time": "2023-10-10T08:35:17.829807",
   "environment_variables": {},
   "exception": null,
   "input_path": "__notebook__.ipynb",
   "output_path": "__notebook__.ipynb",
   "parameters": {},
   "start_time": "2023-10-10T08:28:11.062747",
   "version": "2.4.0"
  },
  "widgets": {
   "application/vnd.jupyter.widget-state+json": {
    "state": {
     "27c9b5935aa949eb91ad2349390f2a65": {
      "model_module": "@jupyter-widgets/controls",
      "model_module_version": "1.5.0",
      "model_name": "HBoxModel",
      "state": {
       "_dom_classes": [],
       "_model_module": "@jupyter-widgets/controls",
       "_model_module_version": "1.5.0",
       "_model_name": "HBoxModel",
       "_view_count": null,
       "_view_module": "@jupyter-widgets/controls",
       "_view_module_version": "1.5.0",
       "_view_name": "HBoxView",
       "box_style": "",
       "children": [
        "IPY_MODEL_cac6b5f349c445449014248cb4502680",
        "IPY_MODEL_c9280d72cf084aa5b8209dc4ac055d0e",
        "IPY_MODEL_3fe72a96017d491abf7aa84271182297"
       ],
       "layout": "IPY_MODEL_c78cd8dba24641a19bd0bf5b3f28cd25"
      }
     },
     "38070a982553417892d3262391cfefae": {
      "model_module": "@jupyter-widgets/base",
      "model_module_version": "1.2.0",
      "model_name": "LayoutModel",
      "state": {
       "_model_module": "@jupyter-widgets/base",
       "_model_module_version": "1.2.0",
       "_model_name": "LayoutModel",
       "_view_count": null,
       "_view_module": "@jupyter-widgets/base",
       "_view_module_version": "1.2.0",
       "_view_name": "LayoutView",
       "align_content": null,
       "align_items": null,
       "align_self": null,
       "border": null,
       "bottom": null,
       "display": null,
       "flex": null,
       "flex_flow": null,
       "grid_area": null,
       "grid_auto_columns": null,
       "grid_auto_flow": null,
       "grid_auto_rows": null,
       "grid_column": null,
       "grid_gap": null,
       "grid_row": null,
       "grid_template_areas": null,
       "grid_template_columns": null,
       "grid_template_rows": null,
       "height": null,
       "justify_content": null,
       "justify_items": null,
       "left": null,
       "margin": null,
       "max_height": null,
       "max_width": null,
       "min_height": null,
       "min_width": null,
       "object_fit": null,
       "object_position": null,
       "order": null,
       "overflow": null,
       "overflow_x": null,
       "overflow_y": null,
       "padding": null,
       "right": null,
       "top": null,
       "visibility": null,
       "width": null
      }
     },
     "3fe72a96017d491abf7aa84271182297": {
      "model_module": "@jupyter-widgets/controls",
      "model_module_version": "1.5.0",
      "model_name": "HTMLModel",
      "state": {
       "_dom_classes": [],
       "_model_module": "@jupyter-widgets/controls",
       "_model_module_version": "1.5.0",
       "_model_name": "HTMLModel",
       "_view_count": null,
       "_view_module": "@jupyter-widgets/controls",
       "_view_module_version": "1.5.0",
       "_view_name": "HTMLView",
       "description": "",
       "description_tooltip": null,
       "layout": "IPY_MODEL_d44d0ddc4e39440cbe96ffe7afbc4f9d",
       "placeholder": "​",
       "style": "IPY_MODEL_f618f644a017468e88e84959cbce9d69",
       "value": " 96234/96234 [00:31&lt;00:00, 3208.42it/s]"
      }
     },
     "70ed93bf139f4de4913295462a35df35": {
      "model_module": "@jupyter-widgets/base",
      "model_module_version": "1.2.0",
      "model_name": "LayoutModel",
      "state": {
       "_model_module": "@jupyter-widgets/base",
       "_model_module_version": "1.2.0",
       "_model_name": "LayoutModel",
       "_view_count": null,
       "_view_module": "@jupyter-widgets/base",
       "_view_module_version": "1.2.0",
       "_view_name": "LayoutView",
       "align_content": null,
       "align_items": null,
       "align_self": null,
       "border": null,
       "bottom": null,
       "display": null,
       "flex": null,
       "flex_flow": null,
       "grid_area": null,
       "grid_auto_columns": null,
       "grid_auto_flow": null,
       "grid_auto_rows": null,
       "grid_column": null,
       "grid_gap": null,
       "grid_row": null,
       "grid_template_areas": null,
       "grid_template_columns": null,
       "grid_template_rows": null,
       "height": null,
       "justify_content": null,
       "justify_items": null,
       "left": null,
       "margin": null,
       "max_height": null,
       "max_width": null,
       "min_height": null,
       "min_width": null,
       "object_fit": null,
       "object_position": null,
       "order": null,
       "overflow": null,
       "overflow_x": null,
       "overflow_y": null,
       "padding": null,
       "right": null,
       "top": null,
       "visibility": null,
       "width": null
      }
     },
     "abae53a3bdd04a148c2d41ff32e1ab19": {
      "model_module": "@jupyter-widgets/controls",
      "model_module_version": "1.5.0",
      "model_name": "ProgressStyleModel",
      "state": {
       "_model_module": "@jupyter-widgets/controls",
       "_model_module_version": "1.5.0",
       "_model_name": "ProgressStyleModel",
       "_view_count": null,
       "_view_module": "@jupyter-widgets/base",
       "_view_module_version": "1.2.0",
       "_view_name": "StyleView",
       "bar_color": null,
       "description_width": ""
      }
     },
     "c78cd8dba24641a19bd0bf5b3f28cd25": {
      "model_module": "@jupyter-widgets/base",
      "model_module_version": "1.2.0",
      "model_name": "LayoutModel",
      "state": {
       "_model_module": "@jupyter-widgets/base",
       "_model_module_version": "1.2.0",
       "_model_name": "LayoutModel",
       "_view_count": null,
       "_view_module": "@jupyter-widgets/base",
       "_view_module_version": "1.2.0",
       "_view_name": "LayoutView",
       "align_content": null,
       "align_items": null,
       "align_self": null,
       "border": null,
       "bottom": null,
       "display": null,
       "flex": null,
       "flex_flow": null,
       "grid_area": null,
       "grid_auto_columns": null,
       "grid_auto_flow": null,
       "grid_auto_rows": null,
       "grid_column": null,
       "grid_gap": null,
       "grid_row": null,
       "grid_template_areas": null,
       "grid_template_columns": null,
       "grid_template_rows": null,
       "height": null,
       "justify_content": null,
       "justify_items": null,
       "left": null,
       "margin": null,
       "max_height": null,
       "max_width": null,
       "min_height": null,
       "min_width": null,
       "object_fit": null,
       "object_position": null,
       "order": null,
       "overflow": null,
       "overflow_x": null,
       "overflow_y": null,
       "padding": null,
       "right": null,
       "top": null,
       "visibility": null,
       "width": null
      }
     },
     "c90543a445fc4907bcdc370d9da631ab": {
      "model_module": "@jupyter-widgets/controls",
      "model_module_version": "1.5.0",
      "model_name": "DescriptionStyleModel",
      "state": {
       "_model_module": "@jupyter-widgets/controls",
       "_model_module_version": "1.5.0",
       "_model_name": "DescriptionStyleModel",
       "_view_count": null,
       "_view_module": "@jupyter-widgets/base",
       "_view_module_version": "1.2.0",
       "_view_name": "StyleView",
       "description_width": ""
      }
     },
     "c9280d72cf084aa5b8209dc4ac055d0e": {
      "model_module": "@jupyter-widgets/controls",
      "model_module_version": "1.5.0",
      "model_name": "FloatProgressModel",
      "state": {
       "_dom_classes": [],
       "_model_module": "@jupyter-widgets/controls",
       "_model_module_version": "1.5.0",
       "_model_name": "FloatProgressModel",
       "_view_count": null,
       "_view_module": "@jupyter-widgets/controls",
       "_view_module_version": "1.5.0",
       "_view_name": "ProgressView",
       "bar_style": "success",
       "description": "",
       "description_tooltip": null,
       "layout": "IPY_MODEL_38070a982553417892d3262391cfefae",
       "max": 96234,
       "min": 0,
       "orientation": "horizontal",
       "style": "IPY_MODEL_abae53a3bdd04a148c2d41ff32e1ab19",
       "value": 96234
      }
     },
     "cac6b5f349c445449014248cb4502680": {
      "model_module": "@jupyter-widgets/controls",
      "model_module_version": "1.5.0",
      "model_name": "HTMLModel",
      "state": {
       "_dom_classes": [],
       "_model_module": "@jupyter-widgets/controls",
       "_model_module_version": "1.5.0",
       "_model_name": "HTMLModel",
       "_view_count": null,
       "_view_module": "@jupyter-widgets/controls",
       "_view_module_version": "1.5.0",
       "_view_name": "HTMLView",
       "description": "",
       "description_tooltip": null,
       "layout": "IPY_MODEL_70ed93bf139f4de4913295462a35df35",
       "placeholder": "​",
       "style": "IPY_MODEL_c90543a445fc4907bcdc370d9da631ab",
       "value": "100%"
      }
     },
     "d44d0ddc4e39440cbe96ffe7afbc4f9d": {
      "model_module": "@jupyter-widgets/base",
      "model_module_version": "1.2.0",
      "model_name": "LayoutModel",
      "state": {
       "_model_module": "@jupyter-widgets/base",
       "_model_module_version": "1.2.0",
       "_model_name": "LayoutModel",
       "_view_count": null,
       "_view_module": "@jupyter-widgets/base",
       "_view_module_version": "1.2.0",
       "_view_name": "LayoutView",
       "align_content": null,
       "align_items": null,
       "align_self": null,
       "border": null,
       "bottom": null,
       "display": null,
       "flex": null,
       "flex_flow": null,
       "grid_area": null,
       "grid_auto_columns": null,
       "grid_auto_flow": null,
       "grid_auto_rows": null,
       "grid_column": null,
       "grid_gap": null,
       "grid_row": null,
       "grid_template_areas": null,
       "grid_template_columns": null,
       "grid_template_rows": null,
       "height": null,
       "justify_content": null,
       "justify_items": null,
       "left": null,
       "margin": null,
       "max_height": null,
       "max_width": null,
       "min_height": null,
       "min_width": null,
       "object_fit": null,
       "object_position": null,
       "order": null,
       "overflow": null,
       "overflow_x": null,
       "overflow_y": null,
       "padding": null,
       "right": null,
       "top": null,
       "visibility": null,
       "width": null
      }
     },
     "f618f644a017468e88e84959cbce9d69": {
      "model_module": "@jupyter-widgets/controls",
      "model_module_version": "1.5.0",
      "model_name": "DescriptionStyleModel",
      "state": {
       "_model_module": "@jupyter-widgets/controls",
       "_model_module_version": "1.5.0",
       "_model_name": "DescriptionStyleModel",
       "_view_count": null,
       "_view_module": "@jupyter-widgets/base",
       "_view_module_version": "1.2.0",
       "_view_name": "StyleView",
       "description_width": ""
      }
     }
    },
    "version_major": 2,
    "version_minor": 0
   }
  }
 },
 "nbformat": 4,
 "nbformat_minor": 5
}
