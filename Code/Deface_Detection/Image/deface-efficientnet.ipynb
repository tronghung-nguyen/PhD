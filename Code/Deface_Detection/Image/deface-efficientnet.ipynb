{
 "cells": [
  {
   "attachments": {},
   "cell_type": "markdown",
   "id": "2fd9af62",
   "metadata": {},
   "source": [
    "## Import libraries"
   ]
  },
  {
   "cell_type": "code",
   "execution_count": 1,
   "id": "ed594f6e",
   "metadata": {
    "_cell_guid": "b1076dfc-b9ad-4769-8c92-a6c4dae69d19",
    "_uuid": "8f2839f25d086af736a60e9eeb907d3b93b6e0e5",
    "execution": {
     "iopub.execute_input": "2021-09-06T14:18:56.070710Z",
     "iopub.status.busy": "2021-09-06T14:18:56.065354Z",
     "iopub.status.idle": "2021-09-06T14:19:02.393441Z",
     "shell.execute_reply": "2021-09-06T14:19:02.393993Z",
     "shell.execute_reply.started": "2021-09-06T13:44:01.647884Z"
    },
    "papermill": {
     "duration": 6.346522,
     "end_time": "2021-09-06T14:19:02.394275",
     "exception": false,
     "start_time": "2021-09-06T14:18:56.047753",
     "status": "completed"
    },
    "tags": []
   },
   "outputs": [],
   "source": [
    "import numpy as np\n",
    "import pandas as pd\n",
    "import tensorflow as tf\n",
    "from matplotlib import pyplot as plt\n",
    "from kaggle_datasets import KaggleDatasets\n",
    "from kaggle_secrets import UserSecretsClient\n",
    "from glob import glob\n",
    "from tqdm.notebook import tqdm\n",
    "from multiprocessing import cpu_count\n",
    "from joblib import Parallel, delayed\n",
    "from tensorflow.keras.models import Sequential\n",
    "from tensorflow.keras import layers as L\n",
    "from tensorflow.keras.utils import to_categorical\n",
    "from tensorflow.keras.callbacks import LearningRateScheduler, ModelCheckpoint\n",
    "from sklearn.model_selection import train_test_split\n",
    "from sklearn import metrics\n",
    "\n",
    "%matplotlib inline"
   ]
  },
  {
   "attachments": {},
   "cell_type": "markdown",
   "id": "8cb818d4",
   "metadata": {},
   "source": [
    "## use TPU"
   ]
  },
  {
   "cell_type": "code",
   "execution_count": 2,
   "id": "ed344d04",
   "metadata": {
    "execution": {
     "iopub.execute_input": "2021-09-06T14:19:02.415467Z",
     "iopub.status.busy": "2021-09-06T14:19:02.414558Z",
     "iopub.status.idle": "2021-09-06T14:19:09.062137Z",
     "shell.execute_reply": "2021-09-06T14:19:09.061192Z",
     "shell.execute_reply.started": "2021-09-06T13:44:01.662051Z"
    },
    "papermill": {
     "duration": 6.658972,
     "end_time": "2021-09-06T14:19:09.062284",
     "exception": false,
     "start_time": "2021-09-06T14:19:02.403312",
     "status": "completed"
    },
    "tags": []
   },
   "outputs": [
    {
     "name": "stdout",
     "output_type": "stream",
     "text": [
      "Running on TPU: grpc://10.0.0.2:8470\n",
      "N_JOBS: 4\n",
      "Batch size: 64\n",
      "GCS_DS_PATH: gs://kds-2aeefe0022f415bdd00f8354ec57453cf93ca4b321559e4bf690317c\n"
     ]
    }
   ],
   "source": [
    "try:\n",
    "    tpu = tf.distribute.cluster_resolver.TPUClusterResolver()\n",
    "    print('Running on TPU:', tpu.master())\n",
    "except ValueError:\n",
    "    tpu = None\n",
    "\n",
    "if tpu:\n",
    "    tf.config.experimental_connect_to_cluster(tpu)\n",
    "    tf.tpu.experimental.initialize_tpu_system(tpu)\n",
    "    strategy = tf.distribute.experimental.TPUStrategy(tpu)\n",
    "else:\n",
    "    strategy = tf.distribute.get_strategy()\n",
    "\n",
    "user_secrets = UserSecretsClient()\n",
    "user_credential = user_secrets.get_gcloud_credential()\n",
    "user_secrets.set_tensorflow_credential(user_credential)\n",
    "GCS_DS_PATH = KaggleDatasets().get_gcs_path('website-defacement')\n",
    "\n",
    "AUTO = tf.data.experimental.AUTOTUNE\n",
    "BATCH_SIZE = 8 * strategy.num_replicas_in_sync\n",
    "N_JOBS = cpu_count()\n",
    "\n",
    "IMG_SIZE = 224\n",
    "EPOCHS = 50\n",
    "\n",
    "print('N_JOBS:', N_JOBS)\n",
    "print('Batch size:', BATCH_SIZE)\n",
    "print('GCS_DS_PATH:', GCS_DS_PATH)"
   ]
  },
  {
   "attachments": {},
   "cell_type": "markdown",
   "id": "d9e04869",
   "metadata": {},
   "source": [
    "## Prepare data"
   ]
  },
  {
   "cell_type": "code",
   "execution_count": 3,
   "id": "596c6672",
   "metadata": {
    "execution": {
     "iopub.execute_input": "2021-09-06T14:19:09.090318Z",
     "iopub.status.busy": "2021-09-06T14:19:09.089687Z",
     "iopub.status.idle": "2021-09-06T14:20:02.578056Z",
     "shell.execute_reply": "2021-09-06T14:20:02.577549Z",
     "shell.execute_reply.started": "2021-09-06T13:44:08.284754Z"
    },
    "papermill": {
     "duration": 53.50634,
     "end_time": "2021-09-06T14:20:02.578214",
     "exception": false,
     "start_time": "2021-09-06T14:19:09.071874",
     "status": "completed"
    },
    "tags": []
   },
   "outputs": [
    {
     "data": {
      "application/vnd.jupyter.widget-view+json": {
       "model_id": "6b304a459a8046218d831132b05b4b54",
       "version_major": 2,
       "version_minor": 0
      },
      "text/plain": [
       "  0%|          | 0/96234 [00:00<?, ?it/s]"
      ]
     },
     "metadata": {},
     "output_type": "display_data"
    },
    {
     "name": "stdout",
     "output_type": "stream",
     "text": [
      "57740 19247 19247\n"
     ]
    }
   ],
   "source": [
    "dataset_path = '../input/website-defacement/dataset/'\n",
    "img_paths = glob(dataset_path + 'image/*/*')\n",
    "txt_paths = glob(dataset_path + 'text/*/*')\n",
    "img_names = [path.split('/')[-1][:-4] for path in img_paths]\n",
    "txt_names = [path.split('/')[-1][:-4] for path in txt_paths]\n",
    "names = list(set(img_names).intersection(txt_names))\n",
    "\n",
    "def prepare_data(name):\n",
    "    if glob(dataset_path + f'image/defaced/{name}.png'):\n",
    "        return (f'{GCS_DS_PATH}/dataset/image/defaced/{name}.png', 1)\n",
    "    else:\n",
    "        return (f'{GCS_DS_PATH}/dataset/image/benign/{name}.png', 0)\n",
    "\n",
    "output = Parallel(n_jobs=N_JOBS)(delayed(prepare_data)(name) for name in tqdm(names))\n",
    "X, y = zip(*output)\n",
    "\n",
    "X_train, X_test, y_train, y_test = train_test_split(X, y, test_size=0.2, random_state=42)\n",
    "y_train = to_categorical(y_train, num_classes=2)\n",
    "X_train, X_valid, y_train, y_valid = train_test_split(X_train, y_train, test_size=0.25, \n",
    "                                                      random_state=42)\n",
    "\n",
    "print(len(X_train), len(X_valid), len(X_test))"
   ]
  },
  {
   "attachments": {},
   "cell_type": "markdown",
   "id": "e7a04749",
   "metadata": {},
   "source": [
    "## Create dataset"
   ]
  },
  {
   "cell_type": "code",
   "execution_count": 4,
   "id": "043713b8",
   "metadata": {
    "execution": {
     "iopub.execute_input": "2021-09-06T14:20:02.622241Z",
     "iopub.status.busy": "2021-09-06T14:20:02.617559Z",
     "iopub.status.idle": "2021-09-06T14:20:03.243516Z",
     "shell.execute_reply": "2021-09-06T14:20:03.242976Z",
     "shell.execute_reply.started": "2021-09-06T13:44:09.771606Z"
    },
    "papermill": {
     "duration": 0.655299,
     "end_time": "2021-09-06T14:20:03.243671",
     "exception": false,
     "start_time": "2021-09-06T14:20:02.588372",
     "status": "completed"
    },
    "tags": []
   },
   "outputs": [],
   "source": [
    "def decode_image(filename, label=None):\n",
    "    bits = tf.io.read_file(filename)\n",
    "    image = tf.image.decode_png(bits, channels=3)\n",
    "    image = tf.cast(image, tf.float32) / 255.0\n",
    "    image = tf.image.resize(image, (IMG_SIZE, IMG_SIZE))\n",
    "    \n",
    "    if label is None:\n",
    "        return image\n",
    "    else:\n",
    "        return image, label\n",
    "\n",
    "train_dataset = (\n",
    "    tf.data.TFRecordDataset\n",
    "    .from_tensor_slices((X_train, y_train))\n",
    "    .shuffle(100000)\n",
    "    .map(decode_image, num_parallel_calls=AUTO)\n",
    "    .cache()\n",
    "    .repeat()\n",
    "    .batch(BATCH_SIZE)\n",
    "    .prefetch(AUTO)\n",
    ")\n",
    "\n",
    "test_dataset = (\n",
    "    tf.data.TFRecordDataset\n",
    "    .from_tensor_slices(X_test)\n",
    "    .map(decode_image, num_parallel_calls=AUTO)\n",
    "    .batch(BATCH_SIZE)\n",
    ")\n",
    "\n",
    "valid_dataset = (\n",
    "    tf.data.TFRecordDataset\n",
    "    .from_tensor_slices((X_valid, y_valid))\n",
    "    .map(decode_image, num_parallel_calls=AUTO)\n",
    "    .cache()\n",
    "    .batch(BATCH_SIZE)\n",
    "    .prefetch(AUTO)\n",
    ")"
   ]
  },
  {
   "attachments": {},
   "cell_type": "markdown",
   "id": "67ea8652",
   "metadata": {},
   "source": [
    "## LRFN"
   ]
  },
  {
   "cell_type": "code",
   "execution_count": 5,
   "id": "1c8b5e9e",
   "metadata": {
    "execution": {
     "iopub.execute_input": "2021-09-06T14:20:03.288934Z",
     "iopub.status.busy": "2021-09-06T14:20:03.272351Z",
     "iopub.status.idle": "2021-09-06T14:20:03.456263Z",
     "shell.execute_reply": "2021-09-06T14:20:03.455210Z",
     "shell.execute_reply.started": "2021-09-06T13:44:09.842230Z"
    },
    "papermill": {
     "duration": 0.203029,
     "end_time": "2021-09-06T14:20:03.456960",
     "exception": false,
     "start_time": "2021-09-06T14:20:03.253931",
     "status": "completed"
    },
    "tags": []
   },
   "outputs": [
    {
     "data": {
      "text/plain": [
       "[<matplotlib.lines.Line2D at 0x7faabd116fd0>]"
      ]
     },
     "execution_count": 5,
     "metadata": {},
     "output_type": "execute_result"
    },
    {
     "data": {
      "image/png": "[encoded data removed]",
      "text/plain": [
       "<Figure size 432x288 with 1 Axes>"
      ]
     },
     "metadata": {
      "needs_background": "light"
     },
     "output_type": "display_data"
    }
   ],
   "source": [
    "def lrfn(epoch=EPOCHS,\n",
    "         lr_start=1e-4,\n",
    "         lr_max=5e-5 * 8, \n",
    "         lr_min=1e-4,\n",
    "         lr_rampup_epochs=5,\n",
    "         lr_sustain_epochs=5,\n",
    "         lr_exp_decay=0.8):\n",
    "    if epoch < lr_rampup_epochs:\n",
    "        lr = (lr_max-lr_start)/lr_rampup_epochs*epoch + lr_start\n",
    "    elif epoch < lr_rampup_epochs + lr_sustain_epochs:\n",
    "        lr = lr_max\n",
    "    else:\n",
    "        lr = (lr_max-lr_min)*lr_exp_decay**(epoch-lr_rampup_epochs-lr_sustain_epochs) + lr_min\n",
    "    return lr\n",
    "\n",
    "def plot_hist(hist):\n",
    "    plt.plot(hist.history[\"accuracy\"])\n",
    "    plt.plot(hist.history[\"val_accuracy\"])\n",
    "    plt.title(\"model accuracy\")\n",
    "    plt.ylabel(\"accuracy\")\n",
    "    plt.xlabel(\"epoch\")\n",
    "    plt.legend([\"train\", \"validation\"], loc=\"upper left\")\n",
    "    plt.show()\n",
    "\n",
    "y = [lrfn(x) for x in range(EPOCHS)]\n",
    "plt.plot(y)"
   ]
  },
  {
   "attachments": {},
   "cell_type": "markdown",
   "id": "0bf85694",
   "metadata": {},
   "source": [
    "## Model"
   ]
  },
  {
   "cell_type": "code",
   "execution_count": 6,
   "id": "09d1b3f2",
   "metadata": {
    "execution": {
     "iopub.execute_input": "2021-09-06T14:20:03.503763Z",
     "iopub.status.busy": "2021-09-06T14:20:03.489434Z",
     "iopub.status.idle": "2021-09-06T14:20:26.395108Z",
     "shell.execute_reply": "2021-09-06T14:20:26.395638Z",
     "shell.execute_reply.started": "2021-09-06T13:44:10.041408Z"
    },
    "papermill": {
     "duration": 22.927452,
     "end_time": "2021-09-06T14:20:26.395817",
     "exception": false,
     "start_time": "2021-09-06T14:20:03.468365",
     "status": "completed"
    },
    "tags": []
   },
   "outputs": [
    {
     "name": "stdout",
     "output_type": "stream",
     "text": [
      "\u001b[33mWARNING: Running pip as root will break packages and permissions. You should install packages reliably by using venv: https://pip.pypa.io/warnings/venv\u001b[0m\r\n",
      "Downloading data from https://github.com/qubvel/efficientnet/releases/download/v0.0.1/efficientnet-b0_noisy-student_notop.h5\n",
      "16703488/16696600 [==============================] - 0s 0us/step\n",
      "Model: \"sequential\"\n",
      "_________________________________________________________________\n",
      "Layer (type)                 Output Shape              Param #   \n",
      "=================================================================\n",
      "efficientnet-b0 (Functional) (None, 1280)              4049564   \n",
      "_________________________________________________________________\n",
      "batch_normalization (BatchNo (None, 1280)              5120      \n",
      "_________________________________________________________________\n",
      "dense (Dense)                (None, 128)               163968    \n",
      "_________________________________________________________________\n",
      "batch_normalization_1 (Batch (None, 128)               512       \n",
      "_________________________________________________________________\n",
      "dense_1 (Dense)              (None, 2)                 258       \n",
      "=================================================================\n",
      "Total params: 4,219,422\n",
      "Trainable params: 4,174,590\n",
      "Non-trainable params: 44,832\n",
      "_________________________________________________________________\n",
      "None\n"
     ]
    }
   ],
   "source": [
    "!pip install -q efficientnet\n",
    "from efficientnet.tfkeras import EfficientNetB0\n",
    "\n",
    "with strategy.scope():\n",
    "    efn = EfficientNetB0(\n",
    "        include_top=False, \n",
    "        weights='noisy-student', \n",
    "        pooling='avg', \n",
    "        input_shape=(IMG_SIZE, IMG_SIZE, 3))\n",
    "\n",
    "    model = Sequential()\n",
    "    model.add(efn)\n",
    "    model.add(L.BatchNormalization())\n",
    "    model.add(L.Dense(128, activation='softmax'))\n",
    "    model.add(L.BatchNormalization())\n",
    "    model.add(L.Dense(2, activation='softmax'))\n",
    "    model.compile(optimizer='adam', loss='categorical_crossentropy', metrics=['accuracy'])\n",
    "    \n",
    "print(model.summary())"
   ]
  },
  {
   "attachments": {},
   "cell_type": "markdown",
   "id": "e7fccc52",
   "metadata": {},
   "source": [
    "## Train model"
   ]
  },
  {
   "cell_type": "code",
   "execution_count": 7,
   "id": "e2ebf542",
   "metadata": {
    "execution": {
     "iopub.execute_input": "2021-09-06T14:20:26.432248Z",
     "iopub.status.busy": "2021-09-06T14:20:26.431019Z",
     "iopub.status.idle": "2021-09-06T15:32:50.463068Z",
     "shell.execute_reply": "2021-09-06T15:32:50.463693Z",
     "shell.execute_reply.started": "2021-09-06T13:44:28.765118Z"
    },
    "papermill": {
     "duration": 4344.054275,
     "end_time": "2021-09-06T15:32:50.463883",
     "exception": false,
     "start_time": "2021-09-06T14:20:26.409608",
     "status": "completed"
    },
    "tags": []
   },
   "outputs": [
    {
     "name": "stdout",
     "output_type": "stream",
     "text": [
      "Epoch 1/50\n",
      "902/902 - 2440s - loss: 0.4105 - accuracy: 0.8278 - val_loss: 0.3248 - val_accuracy: 0.8728\n",
      "Epoch 2/50\n",
      "902/902 - 39s - loss: 0.3914 - accuracy: 0.8398 - val_loss: 0.2743 - val_accuracy: 0.8982\n",
      "Epoch 3/50\n",
      "902/902 - 38s - loss: 0.3296 - accuracy: 0.8745 - val_loss: 0.2569 - val_accuracy: 0.8899\n",
      "Epoch 4/50\n",
      "902/902 - 39s - loss: 0.2931 - accuracy: 0.8918 - val_loss: 0.2534 - val_accuracy: 0.8874\n",
      "Epoch 5/50\n",
      "902/902 - 39s - loss: 0.2678 - accuracy: 0.9032 - val_loss: 0.3272 - val_accuracy: 0.8792\n",
      "Epoch 6/50\n",
      "902/902 - 39s - loss: 0.2399 - accuracy: 0.9146 - val_loss: 0.1994 - val_accuracy: 0.9235\n",
      "Epoch 7/50\n",
      "902/902 - 38s - loss: 0.2161 - accuracy: 0.9248 - val_loss: 0.2397 - val_accuracy: 0.9214\n",
      "Epoch 8/50\n",
      "902/902 - 38s - loss: 0.2009 - accuracy: 0.9298 - val_loss: 0.2534 - val_accuracy: 0.9052\n",
      "Epoch 9/50\n",
      "902/902 - 38s - loss: 0.1976 - accuracy: 0.9301 - val_loss: 0.1931 - val_accuracy: 0.9271\n",
      "Epoch 10/50\n",
      "902/902 - 39s - loss: 0.1800 - accuracy: 0.9365 - val_loss: 0.1717 - val_accuracy: 0.9367\n",
      "Epoch 11/50\n",
      "902/902 - 39s - loss: 0.1719 - accuracy: 0.9396 - val_loss: 0.1767 - val_accuracy: 0.9338\n",
      "Epoch 12/50\n",
      "902/902 - 39s - loss: 0.1626 - accuracy: 0.9432 - val_loss: 0.1767 - val_accuracy: 0.9354\n",
      "Epoch 13/50\n",
      "902/902 - 38s - loss: 0.1456 - accuracy: 0.9474 - val_loss: 0.1992 - val_accuracy: 0.9261\n",
      "Epoch 14/50\n",
      "902/902 - 38s - loss: 0.1340 - accuracy: 0.9542 - val_loss: 0.2195 - val_accuracy: 0.9151\n",
      "Epoch 15/50\n",
      "902/902 - 39s - loss: 0.1212 - accuracy: 0.9572 - val_loss: 0.1785 - val_accuracy: 0.9378\n",
      "Epoch 16/50\n",
      "902/902 - 38s - loss: 0.1057 - accuracy: 0.9631 - val_loss: 0.1649 - val_accuracy: 0.9404\n",
      "Epoch 17/50\n",
      "902/902 - 38s - loss: 0.0941 - accuracy: 0.9682 - val_loss: 0.1730 - val_accuracy: 0.9403\n",
      "Epoch 18/50\n",
      "902/902 - 39s - loss: 0.0839 - accuracy: 0.9708 - val_loss: 0.1686 - val_accuracy: 0.9432\n",
      "Epoch 19/50\n",
      "902/902 - 39s - loss: 0.0798 - accuracy: 0.9729 - val_loss: 0.1950 - val_accuracy: 0.9400\n",
      "Epoch 20/50\n",
      "902/902 - 38s - loss: 0.0738 - accuracy: 0.9755 - val_loss: 0.1859 - val_accuracy: 0.9425\n",
      "Epoch 21/50\n",
      "902/902 - 39s - loss: 0.0715 - accuracy: 0.9758 - val_loss: 0.2046 - val_accuracy: 0.9426\n",
      "Epoch 22/50\n",
      "902/902 - 39s - loss: 0.0623 - accuracy: 0.9789 - val_loss: 0.2099 - val_accuracy: 0.9412\n",
      "Epoch 23/50\n",
      "902/902 - 39s - loss: 0.0593 - accuracy: 0.9801 - val_loss: 0.2118 - val_accuracy: 0.9441\n",
      "Epoch 24/50\n",
      "902/902 - 39s - loss: 0.0552 - accuracy: 0.9818 - val_loss: 0.2049 - val_accuracy: 0.9436\n",
      "Epoch 25/50\n",
      "902/902 - 39s - loss: 0.0549 - accuracy: 0.9814 - val_loss: 0.2189 - val_accuracy: 0.9435\n",
      "Epoch 26/50\n",
      "902/902 - 39s - loss: 0.0507 - accuracy: 0.9830 - val_loss: 0.2192 - val_accuracy: 0.9432\n",
      "Epoch 27/50\n",
      "902/902 - 39s - loss: 0.0493 - accuracy: 0.9838 - val_loss: 0.2301 - val_accuracy: 0.9391\n",
      "Epoch 28/50\n",
      "902/902 - 38s - loss: 0.0525 - accuracy: 0.9831 - val_loss: 0.2182 - val_accuracy: 0.9396\n",
      "Epoch 29/50\n",
      "902/902 - 39s - loss: 0.0477 - accuracy: 0.9851 - val_loss: 0.2456 - val_accuracy: 0.9339\n",
      "Epoch 30/50\n",
      "902/902 - 38s - loss: 0.0433 - accuracy: 0.9859 - val_loss: 0.3382 - val_accuracy: 0.9237\n",
      "Epoch 31/50\n",
      "902/902 - 39s - loss: 0.0476 - accuracy: 0.9851 - val_loss: 0.2240 - val_accuracy: 0.9449\n",
      "Epoch 32/50\n",
      "902/902 - 39s - loss: 0.0427 - accuracy: 0.9861 - val_loss: 0.2245 - val_accuracy: 0.9448\n",
      "Epoch 33/50\n",
      "902/902 - 38s - loss: 0.0420 - accuracy: 0.9867 - val_loss: 0.2359 - val_accuracy: 0.9448\n",
      "Epoch 34/50\n",
      "902/902 - 38s - loss: 0.0367 - accuracy: 0.9885 - val_loss: 0.2473 - val_accuracy: 0.9449\n",
      "Epoch 35/50\n",
      "902/902 - 38s - loss: 0.0379 - accuracy: 0.9882 - val_loss: 0.2520 - val_accuracy: 0.9441\n",
      "Epoch 36/50\n",
      "902/902 - 39s - loss: 0.0353 - accuracy: 0.9886 - val_loss: 0.2474 - val_accuracy: 0.9435\n",
      "Epoch 37/50\n",
      "902/902 - 39s - loss: 0.0361 - accuracy: 0.9884 - val_loss: 0.2677 - val_accuracy: 0.9433\n",
      "Epoch 38/50\n",
      "902/902 - 39s - loss: 0.0347 - accuracy: 0.9887 - val_loss: 0.2549 - val_accuracy: 0.9441\n",
      "Epoch 39/50\n",
      "902/902 - 40s - loss: 0.0353 - accuracy: 0.9889 - val_loss: 0.2650 - val_accuracy: 0.9444\n",
      "Epoch 40/50\n",
      "902/902 - 39s - loss: 0.0305 - accuracy: 0.9906 - val_loss: 0.2574 - val_accuracy: 0.9437\n",
      "Epoch 41/50\n",
      "902/902 - 39s - loss: 0.0315 - accuracy: 0.9902 - val_loss: 0.2698 - val_accuracy: 0.9446\n",
      "Epoch 42/50\n",
      "902/902 - 39s - loss: 0.0313 - accuracy: 0.9905 - val_loss: 0.2598 - val_accuracy: 0.9423\n",
      "Epoch 43/50\n",
      "902/902 - 39s - loss: 0.0310 - accuracy: 0.9900 - val_loss: 0.2708 - val_accuracy: 0.9452\n",
      "Epoch 44/50\n",
      "902/902 - 39s - loss: 0.0329 - accuracy: 0.9897 - val_loss: 0.2526 - val_accuracy: 0.9428\n",
      "Epoch 45/50\n",
      "902/902 - 39s - loss: 0.0346 - accuracy: 0.9895 - val_loss: 0.2355 - val_accuracy: 0.9441\n",
      "Epoch 46/50\n",
      "902/902 - 38s - loss: 0.0381 - accuracy: 0.9887 - val_loss: 0.2224 - val_accuracy: 0.9417\n",
      "Epoch 47/50\n",
      "902/902 - 39s - loss: 0.0318 - accuracy: 0.9906 - val_loss: 0.2585 - val_accuracy: 0.9453\n",
      "Epoch 48/50\n",
      "902/902 - 39s - loss: 0.0260 - accuracy: 0.9920 - val_loss: 0.3041 - val_accuracy: 0.9428\n",
      "Epoch 49/50\n",
      "902/902 - 38s - loss: 0.0287 - accuracy: 0.9912 - val_loss: 0.2773 - val_accuracy: 0.9438\n",
      "Epoch 50/50\n",
      "902/902 - 38s - loss: 0.0290 - accuracy: 0.9910 - val_loss: 0.2858 - val_accuracy: 0.9438\n"
     ]
    }
   ],
   "source": [
    "lrs = LearningRateScheduler(lrfn)  \n",
    "mc = ModelCheckpoint('weights.h5', save_best_only=True, save_weights_only=True)\n",
    "steps_per_epoch = len(y_train) // BATCH_SIZE\n",
    "\n",
    "hist = model.fit(train_dataset, epochs=EPOCHS, steps_per_epoch=steps_per_epoch, callbacks=[lrs, mc], \n",
    "                 validation_data=valid_dataset, verbose=2)"
   ]
  },
  {
   "cell_type": "code",
   "execution_count": 8,
   "id": "05eba3ea",
   "metadata": {
    "execution": {
     "iopub.execute_input": "2021-09-06T15:32:50.571886Z",
     "iopub.status.busy": "2021-09-06T15:32:50.570785Z",
     "iopub.status.idle": "2021-09-06T15:32:50.733128Z",
     "shell.execute_reply": "2021-09-06T15:32:50.732613Z",
     "shell.execute_reply.started": "2021-09-06T13:47:47.053502Z"
    },
    "papermill": {
     "duration": 0.225894,
     "end_time": "2021-09-06T15:32:50.733277",
     "exception": false,
     "start_time": "2021-09-06T15:32:50.507383",
     "status": "completed"
    },
    "tags": []
   },
   "outputs": [
    {
     "data": {
      "image/png": "[encoded data removed]",
      "text/plain": [
       "<Figure size 432x288 with 1 Axes>"
      ]
     },
     "metadata": {
      "needs_background": "light"
     },
     "output_type": "display_data"
    }
   ],
   "source": [
    "plot_hist(hist)"
   ]
  },
  {
   "attachments": {},
   "cell_type": "markdown",
   "id": "7f1c2fba",
   "metadata": {},
   "source": [
    "## Evaluate"
   ]
  },
  {
   "cell_type": "code",
   "execution_count": 9,
   "id": "d7a30ee7",
   "metadata": {
    "execution": {
     "iopub.execute_input": "2021-09-06T15:32:50.874104Z",
     "iopub.status.busy": "2021-09-06T15:32:50.863775Z",
     "iopub.status.idle": "2021-09-06T15:42:34.634970Z",
     "shell.execute_reply": "2021-09-06T15:42:34.635501Z",
     "shell.execute_reply.started": "2021-09-06T13:48:56.999507Z"
    },
    "papermill": {
     "duration": 583.856887,
     "end_time": "2021-09-06T15:42:34.635680",
     "exception": false,
     "start_time": "2021-09-06T15:32:50.778793",
     "status": "completed"
    },
    "tags": []
   },
   "outputs": [
    {
     "name": "stdout",
     "output_type": "stream",
     "text": [
      "              precision    recall  f1-score   support\n",
      "\n",
      "           0     0.9381    0.9645    0.9511     11421\n",
      "           1     0.9460    0.9071    0.9262      7826\n",
      "\n",
      "    accuracy                         0.9412     19247\n",
      "   macro avg     0.9421    0.9358    0.9386     19247\n",
      "weighted avg     0.9413    0.9412    0.9410     19247\n",
      "\n",
      "[[11016   405]\n",
      " [  727  7099]]\n",
      "      TPR       FPR       FNR   ROC AUC\n",
      "   0.9071    0.0355    0.0929    0.9841\n"
     ]
    }
   ],
   "source": [
    "with strategy.scope():\n",
    "    model.load_weights('weights.h5')\n",
    "\n",
    "y_prob = model.predict(test_dataset)\n",
    "y_pred = np.argmax(y_prob, axis=1)\n",
    "\n",
    "clf_report = metrics.classification_report(y_test, y_pred, digits=4)\n",
    "cnf_matrix = metrics.confusion_matrix(y_test, y_pred)\n",
    "TN, FP, FN, TP = cnf_matrix.ravel()\n",
    "TPR = TP / (TP + FN)\n",
    "FPR = FP / (FP + TN)\n",
    "FNR = FN / (FN + TP)\n",
    "fpr, tpr, _ = metrics.roc_curve(y_test, y_prob[:, 1])\n",
    "auc = metrics.roc_auc_score(y_test, y_prob[:, 1])\n",
    "other_metrics = pd.DataFrame({'TPR': '%.4f' % TPR, \n",
    "                              'FPR': '%.4f' % FPR, \n",
    "                              'FNR': '%.4f' % FNR, \n",
    "                              'ROC AUC': '%.4f' % auc}, index=[0]).to_string(col_space=9, index=False)\n",
    "print(clf_report)\n",
    "print(cnf_matrix)\n",
    "print(other_metrics)"
   ]
  }
 ],
 "metadata": {
  "kernelspec": {
   "display_name": "Python 3",
   "language": "python",
   "name": "python3"
  },
  "language_info": {
   "codemirror_mode": {
    "name": "ipython",
    "version": 3
   },
   "file_extension": ".py",
   "mimetype": "text/x-python",
   "name": "python",
   "nbconvert_exporter": "python",
   "pygments_lexer": "ipython3",
   "version": "3.7.10"
  },
  "papermill": {
   "default_parameters": {},
   "duration": 5030.136613,
   "end_time": "2021-09-06T15:42:38.178799",
   "environment_variables": {},
   "exception": null,
   "input_path": "__notebook__.ipynb",
   "output_path": "__notebook__.ipynb",
   "parameters": {},
   "start_time": "2021-09-06T14:18:48.042186",
   "version": "2.3.3"
  },
  "widgets": {
   "application/vnd.jupyter.widget-state+json": {
    "state": {
     "0a5f7d37e4e74b56a43e92a67d00ee03": {
      "model_module": "@jupyter-widgets/controls",
      "model_module_version": "1.5.0",
      "model_name": "HTMLModel",
      "state": {
       "_dom_classes": [],
       "_model_module": "@jupyter-widgets/controls",
       "_model_module_version": "1.5.0",
       "_model_name": "HTMLModel",
       "_view_count": null,
       "_view_module": "@jupyter-widgets/controls",
       "_view_module_version": "1.5.0",
       "_view_name": "HTMLView",
       "description": "",
       "description_tooltip": null,
       "layout": "IPY_MODEL_d23400395489479a89dab005437468e9",
       "placeholder": "​",
       "style": "IPY_MODEL_85079f96eb994cc1b340e7dca9a7c971",
       "value": "100%"
      }
     },
     "23befe91e42f4064a77284e4a7798999": {
      "model_module": "@jupyter-widgets/controls",
      "model_module_version": "1.5.0",
      "model_name": "HTMLModel",
      "state": {
       "_dom_classes": [],
       "_model_module": "@jupyter-widgets/controls",
       "_model_module_version": "1.5.0",
       "_model_name": "HTMLModel",
       "_view_count": null,
       "_view_module": "@jupyter-widgets/controls",
       "_view_module_version": "1.5.0",
       "_view_name": "HTMLView",
       "description": "",
       "description_tooltip": null,
       "layout": "IPY_MODEL_308488dc74e447a4b7c9ae169b63794f",
       "placeholder": "​",
       "style": "IPY_MODEL_cbc0c2254e3b4f38b8be78c6da2b1805",
       "value": " 96234/96234 [00:45&lt;00:00, 2095.30it/s]"
      }
     },
     "308488dc74e447a4b7c9ae169b63794f": {
      "model_module": "@jupyter-widgets/base",
      "model_module_version": "1.2.0",
      "model_name": "LayoutModel",
      "state": {
       "_model_module": "@jupyter-widgets/base",
       "_model_module_version": "1.2.0",
       "_model_name": "LayoutModel",
       "_view_count": null,
       "_view_module": "@jupyter-widgets/base",
       "_view_module_version": "1.2.0",
       "_view_name": "LayoutView",
       "align_content": null,
       "align_items": null,
       "align_self": null,
       "border": null,
       "bottom": null,
       "display": null,
       "flex": null,
       "flex_flow": null,
       "grid_area": null,
       "grid_auto_columns": null,
       "grid_auto_flow": null,
       "grid_auto_rows": null,
       "grid_column": null,
       "grid_gap": null,
       "grid_row": null,
       "grid_template_areas": null,
       "grid_template_columns": null,
       "grid_template_rows": null,
       "height": null,
       "justify_content": null,
       "justify_items": null,
       "left": null,
       "margin": null,
       "max_height": null,
       "max_width": null,
       "min_height": null,
       "min_width": null,
       "object_fit": null,
       "object_position": null,
       "order": null,
       "overflow": null,
       "overflow_x": null,
       "overflow_y": null,
       "padding": null,
       "right": null,
       "top": null,
       "visibility": null,
       "width": null
      }
     },
     "6b304a459a8046218d831132b05b4b54": {
      "model_module": "@jupyter-widgets/controls",
      "model_module_version": "1.5.0",
      "model_name": "HBoxModel",
      "state": {
       "_dom_classes": [],
       "_model_module": "@jupyter-widgets/controls",
       "_model_module_version": "1.5.0",
       "_model_name": "HBoxModel",
       "_view_count": null,
       "_view_module": "@jupyter-widgets/controls",
       "_view_module_version": "1.5.0",
       "_view_name": "HBoxView",
       "box_style": "",
       "children": [
        "IPY_MODEL_0a5f7d37e4e74b56a43e92a67d00ee03",
        "IPY_MODEL_ebcc74488a784922b30521ad528d8b1c",
        "IPY_MODEL_23befe91e42f4064a77284e4a7798999"
       ],
       "layout": "IPY_MODEL_cefa697ee84e44138d8144cee827c82b"
      }
     },
     "85079f96eb994cc1b340e7dca9a7c971": {
      "model_module": "@jupyter-widgets/controls",
      "model_module_version": "1.5.0",
      "model_name": "DescriptionStyleModel",
      "state": {
       "_model_module": "@jupyter-widgets/controls",
       "_model_module_version": "1.5.0",
       "_model_name": "DescriptionStyleModel",
       "_view_count": null,
       "_view_module": "@jupyter-widgets/base",
       "_view_module_version": "1.2.0",
       "_view_name": "StyleView",
       "description_width": ""
      }
     },
     "98119c7627fc4990850a96ff84bd866d": {
      "model_module": "@jupyter-widgets/base",
      "model_module_version": "1.2.0",
      "model_name": "LayoutModel",
      "state": {
       "_model_module": "@jupyter-widgets/base",
       "_model_module_version": "1.2.0",
       "_model_name": "LayoutModel",
       "_view_count": null,
       "_view_module": "@jupyter-widgets/base",
       "_view_module_version": "1.2.0",
       "_view_name": "LayoutView",
       "align_content": null,
       "align_items": null,
       "align_self": null,
       "border": null,
       "bottom": null,
       "display": null,
       "flex": null,
       "flex_flow": null,
       "grid_area": null,
       "grid_auto_columns": null,
       "grid_auto_flow": null,
       "grid_auto_rows": null,
       "grid_column": null,
       "grid_gap": null,
       "grid_row": null,
       "grid_template_areas": null,
       "grid_template_columns": null,
       "grid_template_rows": null,
       "height": null,
       "justify_content": null,
       "justify_items": null,
       "left": null,
       "margin": null,
       "max_height": null,
       "max_width": null,
       "min_height": null,
       "min_width": null,
       "object_fit": null,
       "object_position": null,
       "order": null,
       "overflow": null,
       "overflow_x": null,
       "overflow_y": null,
       "padding": null,
       "right": null,
       "top": null,
       "visibility": null,
       "width": null
      }
     },
     "cbc0c2254e3b4f38b8be78c6da2b1805": {
      "model_module": "@jupyter-widgets/controls",
      "model_module_version": "1.5.0",
      "model_name": "DescriptionStyleModel",
      "state": {
       "_model_module": "@jupyter-widgets/controls",
       "_model_module_version": "1.5.0",
       "_model_name": "DescriptionStyleModel",
       "_view_count": null,
       "_view_module": "@jupyter-widgets/base",
       "_view_module_version": "1.2.0",
       "_view_name": "StyleView",
       "description_width": ""
      }
     },
     "cefa697ee84e44138d8144cee827c82b": {
      "model_module": "@jupyter-widgets/base",
      "model_module_version": "1.2.0",
      "model_name": "LayoutModel",
      "state": {
       "_model_module": "@jupyter-widgets/base",
       "_model_module_version": "1.2.0",
       "_model_name": "LayoutModel",
       "_view_count": null,
       "_view_module": "@jupyter-widgets/base",
       "_view_module_version": "1.2.0",
       "_view_name": "LayoutView",
       "align_content": null,
       "align_items": null,
       "align_self": null,
       "border": null,
       "bottom": null,
       "display": null,
       "flex": null,
       "flex_flow": null,
       "grid_area": null,
       "grid_auto_columns": null,
       "grid_auto_flow": null,
       "grid_auto_rows": null,
       "grid_column": null,
       "grid_gap": null,
       "grid_row": null,
       "grid_template_areas": null,
       "grid_template_columns": null,
       "grid_template_rows": null,
       "height": null,
       "justify_content": null,
       "justify_items": null,
       "left": null,
       "margin": null,
       "max_height": null,
       "max_width": null,
       "min_height": null,
       "min_width": null,
       "object_fit": null,
       "object_position": null,
       "order": null,
       "overflow": null,
       "overflow_x": null,
       "overflow_y": null,
       "padding": null,
       "right": null,
       "top": null,
       "visibility": null,
       "width": null
      }
     },
     "d23400395489479a89dab005437468e9": {
      "model_module": "@jupyter-widgets/base",
      "model_module_version": "1.2.0",
      "model_name": "LayoutModel",
      "state": {
       "_model_module": "@jupyter-widgets/base",
       "_model_module_version": "1.2.0",
       "_model_name": "LayoutModel",
       "_view_count": null,
       "_view_module": "@jupyter-widgets/base",
       "_view_module_version": "1.2.0",
       "_view_name": "LayoutView",
       "align_content": null,
       "align_items": null,
       "align_self": null,
       "border": null,
       "bottom": null,
       "display": null,
       "flex": null,
       "flex_flow": null,
       "grid_area": null,
       "grid_auto_columns": null,
       "grid_auto_flow": null,
       "grid_auto_rows": null,
       "grid_column": null,
       "grid_gap": null,
       "grid_row": null,
       "grid_template_areas": null,
       "grid_template_columns": null,
       "grid_template_rows": null,
       "height": null,
       "justify_content": null,
       "justify_items": null,
       "left": null,
       "margin": null,
       "max_height": null,
       "max_width": null,
       "min_height": null,
       "min_width": null,
       "object_fit": null,
       "object_position": null,
       "order": null,
       "overflow": null,
       "overflow_x": null,
       "overflow_y": null,
       "padding": null,
       "right": null,
       "top": null,
       "visibility": null,
       "width": null
      }
     },
     "ebcc74488a784922b30521ad528d8b1c": {
      "model_module": "@jupyter-widgets/controls",
      "model_module_version": "1.5.0",
      "model_name": "FloatProgressModel",
      "state": {
       "_dom_classes": [],
       "_model_module": "@jupyter-widgets/controls",
       "_model_module_version": "1.5.0",
       "_model_name": "FloatProgressModel",
       "_view_count": null,
       "_view_module": "@jupyter-widgets/controls",
       "_view_module_version": "1.5.0",
       "_view_name": "ProgressView",
       "bar_style": "success",
       "description": "",
       "description_tooltip": null,
       "layout": "IPY_MODEL_98119c7627fc4990850a96ff84bd866d",
       "max": 96234,
       "min": 0,
       "orientation": "horizontal",
       "style": "IPY_MODEL_fd8ceb0b10854116be7dc9978d201ed1",
       "value": 96234
      }
     },
     "fd8ceb0b10854116be7dc9978d201ed1": {
      "model_module": "@jupyter-widgets/controls",
      "model_module_version": "1.5.0",
      "model_name": "ProgressStyleModel",
      "state": {
       "_model_module": "@jupyter-widgets/controls",
       "_model_module_version": "1.5.0",
       "_model_name": "ProgressStyleModel",
       "_view_count": null,
       "_view_module": "@jupyter-widgets/base",
       "_view_module_version": "1.2.0",
       "_view_name": "StyleView",
       "bar_color": null,
       "description_width": ""
      }
     }
    },
    "version_major": 2,
    "version_minor": 0
   }
  }
 },
 "nbformat": 4,
 "nbformat_minor": 5
}
