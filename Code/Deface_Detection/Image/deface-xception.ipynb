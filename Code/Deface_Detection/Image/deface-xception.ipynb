{
 "cells": [
  {
   "attachments": {},
   "cell_type": "markdown",
   "id": "61652644",
   "metadata": {},
   "source": [
    "## Import libraries"
   ]
  },
  {
   "cell_type": "code",
   "execution_count": 1,
   "id": "3666f9ae",
   "metadata": {
    "_cell_guid": "b1076dfc-b9ad-4769-8c92-a6c4dae69d19",
    "_uuid": "8f2839f25d086af736a60e9eeb907d3b93b6e0e5",
    "execution": {
     "iopub.execute_input": "2021-09-06T16:39:14.138882Z",
     "iopub.status.busy": "2021-09-06T16:39:14.138229Z",
     "iopub.status.idle": "2021-09-06T16:39:20.442422Z",
     "shell.execute_reply": "2021-09-06T16:39:20.441740Z",
     "shell.execute_reply.started": "2021-09-06T13:44:01.647884Z"
    },
    "papermill": {
     "duration": 6.330384,
     "end_time": "2021-09-06T16:39:20.442602",
     "exception": false,
     "start_time": "2021-09-06T16:39:14.112218",
     "status": "completed"
    },
    "tags": []
   },
   "outputs": [],
   "source": [
    "import numpy as np\n",
    "import pandas as pd\n",
    "import tensorflow as tf\n",
    "from matplotlib import pyplot as plt\n",
    "from kaggle_datasets import KaggleDatasets\n",
    "from kaggle_secrets import UserSecretsClient\n",
    "from glob import glob\n",
    "from tqdm.notebook import tqdm\n",
    "from multiprocessing import cpu_count\n",
    "from joblib import Parallel, delayed\n",
    "from tensorflow.keras.models import Sequential\n",
    "from tensorflow.keras import layers as L\n",
    "from tensorflow.keras.utils import to_categorical\n",
    "from tensorflow.keras.callbacks import LearningRateScheduler, ModelCheckpoint\n",
    "from sklearn.model_selection import train_test_split\n",
    "from sklearn import metrics\n",
    "\n",
    "%matplotlib inline"
   ]
  },
  {
   "attachments": {},
   "cell_type": "markdown",
   "id": "071b94fd",
   "metadata": {},
   "source": [
    "## TPU"
   ]
  },
  {
   "cell_type": "code",
   "execution_count": 2,
   "id": "9ce8896e",
   "metadata": {
    "execution": {
     "iopub.execute_input": "2021-09-06T16:39:20.475356Z",
     "iopub.status.busy": "2021-09-06T16:39:20.474612Z",
     "iopub.status.idle": "2021-09-06T16:39:26.658925Z",
     "shell.execute_reply": "2021-09-06T16:39:26.658408Z",
     "shell.execute_reply.started": "2021-09-06T13:44:01.662051Z"
    },
    "papermill": {
     "duration": 6.207408,
     "end_time": "2021-09-06T16:39:26.659098",
     "exception": false,
     "start_time": "2021-09-06T16:39:20.451690",
     "status": "completed"
    },
    "tags": []
   },
   "outputs": [
    {
     "name": "stdout",
     "output_type": "stream",
     "text": [
      "Running on TPU: grpc://10.0.0.2:8470\n",
      "N_JOBS: 4\n",
      "Batch size: 64\n",
      "GCS_DS_PATH: gs://kds-2aeefe0022f415bdd00f8354ec57453cf93ca4b321559e4bf690317c\n"
     ]
    }
   ],
   "source": [
    "try:\n",
    "    tpu = tf.distribute.cluster_resolver.TPUClusterResolver()\n",
    "    print('Running on TPU:', tpu.master())\n",
    "except ValueError:\n",
    "    tpu = None\n",
    "\n",
    "if tpu:\n",
    "    tf.config.experimental_connect_to_cluster(tpu)\n",
    "    tf.tpu.experimental.initialize_tpu_system(tpu)\n",
    "    strategy = tf.distribute.experimental.TPUStrategy(tpu)\n",
    "else:\n",
    "    strategy = tf.distribute.get_strategy()\n",
    "\n",
    "user_secrets = UserSecretsClient()\n",
    "user_credential = user_secrets.get_gcloud_credential()\n",
    "user_secrets.set_tensorflow_credential(user_credential)\n",
    "GCS_DS_PATH = KaggleDatasets().get_gcs_path('website-defacement')\n",
    "\n",
    "AUTO = tf.data.experimental.AUTOTUNE\n",
    "BATCH_SIZE = 8 * strategy.num_replicas_in_sync\n",
    "N_JOBS = cpu_count()\n",
    "\n",
    "IMG_SIZE = 224\n",
    "EPOCHS = 50\n",
    "\n",
    "print('N_JOBS:', N_JOBS)\n",
    "print('Batch size:', BATCH_SIZE)\n",
    "print('GCS_DS_PATH:', GCS_DS_PATH)"
   ]
  },
  {
   "attachments": {},
   "cell_type": "markdown",
   "id": "ab15ba17",
   "metadata": {},
   "source": [
    "## Prepare data"
   ]
  },
  {
   "cell_type": "code",
   "execution_count": 3,
   "id": "7bebf8b9",
   "metadata": {
    "execution": {
     "iopub.execute_input": "2021-09-06T16:39:26.687589Z",
     "iopub.status.busy": "2021-09-06T16:39:26.686972Z",
     "iopub.status.idle": "2021-09-06T16:40:30.864470Z",
     "shell.execute_reply": "2021-09-06T16:40:30.864946Z",
     "shell.execute_reply.started": "2021-09-06T13:44:08.284754Z"
    },
    "papermill": {
     "duration": 64.196252,
     "end_time": "2021-09-06T16:40:30.865129",
     "exception": false,
     "start_time": "2021-09-06T16:39:26.668877",
     "status": "completed"
    },
    "tags": []
   },
   "outputs": [
    {
     "data": {
      "application/vnd.jupyter.widget-view+json": {
       "model_id": "6e3b0d60d5d44c1287c50b0aba675960",
       "version_major": 2,
       "version_minor": 0
      },
      "text/plain": [
       "  0%|          | 0/96234 [00:00<?, ?it/s]"
      ]
     },
     "metadata": {},
     "output_type": "display_data"
    },
    {
     "name": "stdout",
     "output_type": "stream",
     "text": [
      "57740 19247 19247\n"
     ]
    }
   ],
   "source": [
    "dataset_path = '../input/website-defacement/dataset/'\n",
    "img_paths = glob(dataset_path + 'image/*/*')\n",
    "txt_paths = glob(dataset_path + 'text/*/*')\n",
    "img_names = [path.split('/')[-1][:-4] for path in img_paths]\n",
    "txt_names = [path.split('/')[-1][:-4] for path in txt_paths]\n",
    "names = list(set(img_names).intersection(txt_names))\n",
    "\n",
    "def prepare_data(name):\n",
    "    if glob(dataset_path + f'image/defaced/{name}.png'):\n",
    "        return (f'{GCS_DS_PATH}/dataset/image/defaced/{name}.png', 1)\n",
    "    else:\n",
    "        return (f'{GCS_DS_PATH}/dataset/image/benign/{name}.png', 0)\n",
    "\n",
    "output = Parallel(n_jobs=N_JOBS)(delayed(prepare_data)(name) for name in tqdm(names))\n",
    "X, y = zip(*output)\n",
    "\n",
    "X_train, X_test, y_train, y_test = train_test_split(X, y, test_size=0.2, random_state=42)\n",
    "y_train = to_categorical(y_train, num_classes=2)\n",
    "X_train, X_valid, y_train, y_valid = train_test_split(X_train, y_train, test_size=0.25, \n",
    "                                                      random_state=42)\n",
    "\n",
    "print(len(X_train), len(X_valid), len(X_test))"
   ]
  },
  {
   "attachments": {},
   "cell_type": "markdown",
   "id": "2662adca",
   "metadata": {},
   "source": [
    "## Dataset"
   ]
  },
  {
   "cell_type": "code",
   "execution_count": 4,
   "id": "6e413a46",
   "metadata": {
    "execution": {
     "iopub.execute_input": "2021-09-06T16:40:30.934056Z",
     "iopub.status.busy": "2021-09-06T16:40:30.929010Z",
     "iopub.status.idle": "2021-09-06T16:40:31.513605Z",
     "shell.execute_reply": "2021-09-06T16:40:31.512980Z",
     "shell.execute_reply.started": "2021-09-06T13:44:09.771606Z"
    },
    "papermill": {
     "duration": 0.638474,
     "end_time": "2021-09-06T16:40:31.513738",
     "exception": false,
     "start_time": "2021-09-06T16:40:30.875264",
     "status": "completed"
    },
    "tags": []
   },
   "outputs": [],
   "source": [
    "def decode_image(filename, label=None):\n",
    "    bits = tf.io.read_file(filename)\n",
    "    image = tf.image.decode_png(bits, channels=3)\n",
    "    image = tf.cast(image, tf.float32) / 255.0\n",
    "    image = tf.image.resize(image, (IMG_SIZE, IMG_SIZE))\n",
    "    \n",
    "    if label is None:\n",
    "        return image\n",
    "    else:\n",
    "        return image, label\n",
    "\n",
    "train_dataset = (\n",
    "    tf.data.TFRecordDataset\n",
    "    .from_tensor_slices((X_train, y_train))\n",
    "    .shuffle(100000)\n",
    "    .map(decode_image, num_parallel_calls=AUTO)\n",
    "    .cache()\n",
    "    .repeat()\n",
    "    .batch(BATCH_SIZE)\n",
    "    .prefetch(AUTO)\n",
    ")\n",
    "\n",
    "test_dataset = (\n",
    "    tf.data.TFRecordDataset\n",
    "    .from_tensor_slices(X_test)\n",
    "    .map(decode_image, num_parallel_calls=AUTO)\n",
    "    .batch(BATCH_SIZE)\n",
    ")\n",
    "\n",
    "valid_dataset = (\n",
    "    tf.data.TFRecordDataset\n",
    "    .from_tensor_slices((X_valid, y_valid))\n",
    "    .map(decode_image, num_parallel_calls=AUTO)\n",
    "    .cache()\n",
    "    .batch(BATCH_SIZE)\n",
    "    .prefetch(AUTO)\n",
    ")"
   ]
  },
  {
   "cell_type": "code",
   "execution_count": 5,
   "id": "b610a732",
   "metadata": {
    "execution": {
     "iopub.execute_input": "2021-09-06T16:40:31.557672Z",
     "iopub.status.busy": "2021-09-06T16:40:31.556862Z",
     "iopub.status.idle": "2021-09-06T16:40:31.722308Z",
     "shell.execute_reply": "2021-09-06T16:40:31.721797Z",
     "shell.execute_reply.started": "2021-09-06T13:44:09.84223Z"
    },
    "papermill": {
     "duration": 0.198698,
     "end_time": "2021-09-06T16:40:31.722450",
     "exception": false,
     "start_time": "2021-09-06T16:40:31.523752",
     "status": "completed"
    },
    "tags": []
   },
   "outputs": [
    {
     "data": {
      "text/plain": [
       "[<matplotlib.lines.Line2D at 0x7fdf56e530d0>]"
      ]
     },
     "execution_count": 5,
     "metadata": {},
     "output_type": "execute_result"
    },
    {
     "data": {
      "image/png": "[encoded data removed]",
      "text/plain": [
       "<Figure size 432x288 with 1 Axes>"
      ]
     },
     "metadata": {
      "needs_background": "light"
     },
     "output_type": "display_data"
    }
   ],
   "source": [
    "def lrfn(epoch=EPOCHS,\n",
    "         lr_start=1e-4,\n",
    "         lr_max=5e-5 * 8, \n",
    "         lr_min=1e-4,\n",
    "         lr_rampup_epochs=5,\n",
    "         lr_sustain_epochs=5,\n",
    "         lr_exp_decay=0.8):\n",
    "    if epoch < lr_rampup_epochs:\n",
    "        lr = (lr_max-lr_start)/lr_rampup_epochs*epoch + lr_start\n",
    "    elif epoch < lr_rampup_epochs + lr_sustain_epochs:\n",
    "        lr = lr_max\n",
    "    else:\n",
    "        lr = (lr_max-lr_min)*lr_exp_decay**(epoch-lr_rampup_epochs-lr_sustain_epochs) + lr_min\n",
    "    return lr\n",
    "\n",
    "def plot_hist(hist):\n",
    "    plt.plot(hist.history[\"accuracy\"])\n",
    "    plt.plot(hist.history[\"val_accuracy\"])\n",
    "    plt.title(\"model accuracy\")\n",
    "    plt.ylabel(\"accuracy\")\n",
    "    plt.xlabel(\"epoch\")\n",
    "    plt.legend([\"train\", \"validation\"], loc=\"upper left\")\n",
    "    plt.show()\n",
    "\n",
    "y = [lrfn(x) for x in range(EPOCHS)]\n",
    "plt.plot(y)"
   ]
  },
  {
   "attachments": {},
   "cell_type": "markdown",
   "id": "dedf1383",
   "metadata": {},
   "source": [
    "## Model"
   ]
  },
  {
   "cell_type": "code",
   "execution_count": 6,
   "id": "7bdf4870",
   "metadata": {
    "execution": {
     "iopub.execute_input": "2021-09-06T16:40:31.763815Z",
     "iopub.status.busy": "2021-09-06T16:40:31.762809Z",
     "iopub.status.idle": "2021-09-06T16:40:41.495134Z",
     "shell.execute_reply": "2021-09-06T16:40:41.494521Z",
     "shell.execute_reply.started": "2021-09-06T13:44:10.041408Z"
    },
    "papermill": {
     "duration": 9.761284,
     "end_time": "2021-09-06T16:40:41.495288",
     "exception": false,
     "start_time": "2021-09-06T16:40:31.734004",
     "status": "completed"
    },
    "tags": []
   },
   "outputs": [
    {
     "name": "stdout",
     "output_type": "stream",
     "text": [
      "Downloading data from https://storage.googleapis.com/tensorflow/keras-applications/xception/xception_weights_tf_dim_ordering_tf_kernels_notop.h5\n",
      "83689472/83683744 [==============================] - 1s 0us/step\n",
      "Model: \"sequential\"\n",
      "_________________________________________________________________\n",
      "Layer (type)                 Output Shape              Param #   \n",
      "=================================================================\n",
      "xception (Functional)        (None, 2048)              20861480  \n",
      "_________________________________________________________________\n",
      "batch_normalization_4 (Batch (None, 2048)              8192      \n",
      "_________________________________________________________________\n",
      "dense (Dense)                (None, 128)               262272    \n",
      "_________________________________________________________________\n",
      "batch_normalization_5 (Batch (None, 128)               512       \n",
      "_________________________________________________________________\n",
      "dense_1 (Dense)              (None, 2)                 258       \n",
      "=================================================================\n",
      "Total params: 21,132,714\n",
      "Trainable params: 21,073,834\n",
      "Non-trainable params: 58,880\n",
      "_________________________________________________________________\n",
      "None\n"
     ]
    }
   ],
   "source": [
    "from tensorflow.keras.applications import Xception\n",
    "\n",
    "with strategy.scope():\n",
    "    net = Xception(\n",
    "        include_top=False, \n",
    "        weights='imagenet', \n",
    "        pooling='avg', \n",
    "        input_shape=(IMG_SIZE, IMG_SIZE, 3))\n",
    "\n",
    "    model = Sequential()\n",
    "    model.add(net)\n",
    "    model.add(L.BatchNormalization())\n",
    "    model.add(L.Dense(128, activation='softmax'))\n",
    "    model.add(L.BatchNormalization())\n",
    "    model.add(L.Dense(2, activation='softmax'))\n",
    "    model.compile(optimizer='adam', loss='categorical_crossentropy', metrics=['accuracy'])\n",
    "    \n",
    "print(model.summary())"
   ]
  },
  {
   "attachments": {},
   "cell_type": "markdown",
   "id": "e20845d5",
   "metadata": {},
   "source": [
    "## Train model"
   ]
  },
  {
   "cell_type": "code",
   "execution_count": 7,
   "id": "85e6dd17",
   "metadata": {
    "execution": {
     "iopub.execute_input": "2021-09-06T16:40:41.533377Z",
     "iopub.status.busy": "2021-09-06T16:40:41.532488Z",
     "iopub.status.idle": "2021-09-06T17:56:24.205269Z",
     "shell.execute_reply": "2021-09-06T17:56:24.205814Z",
     "shell.execute_reply.started": "2021-09-06T13:44:28.765118Z"
    },
    "papermill": {
     "duration": 4542.695778,
     "end_time": "2021-09-06T17:56:24.206214",
     "exception": false,
     "start_time": "2021-09-06T16:40:41.510436",
     "status": "completed"
    },
    "tags": []
   },
   "outputs": [
    {
     "name": "stdout",
     "output_type": "stream",
     "text": [
      "Epoch 1/50\n",
      "902/902 - 2415s - loss: 0.3790 - accuracy: 0.8374 - val_loss: 0.5876 - val_accuracy: 0.7402\n",
      "Epoch 2/50\n",
      "902/902 - 44s - loss: 0.2911 - accuracy: 0.8892 - val_loss: 0.3615 - val_accuracy: 0.8691\n",
      "Epoch 3/50\n",
      "902/902 - 44s - loss: 0.2430 - accuracy: 0.9096 - val_loss: 1.3654 - val_accuracy: 0.7615\n",
      "Epoch 4/50\n",
      "902/902 - 43s - loss: 0.1943 - accuracy: 0.9290 - val_loss: 1.2027 - val_accuracy: 0.7889\n",
      "Epoch 5/50\n",
      "902/902 - 44s - loss: 0.1608 - accuracy: 0.9412 - val_loss: 0.4005 - val_accuracy: 0.9077\n",
      "Epoch 6/50\n",
      "902/902 - 44s - loss: 0.1517 - accuracy: 0.9440 - val_loss: 1.8528 - val_accuracy: 0.8160\n",
      "Epoch 7/50\n",
      "902/902 - 43s - loss: 0.1343 - accuracy: 0.9502 - val_loss: 0.1722 - val_accuracy: 0.9399\n",
      "Epoch 8/50\n",
      "902/902 - 43s - loss: 0.1145 - accuracy: 0.9583 - val_loss: 0.6067 - val_accuracy: 0.8891\n",
      "Epoch 9/50\n",
      "902/902 - 43s - loss: 0.1014 - accuracy: 0.9634 - val_loss: 0.2159 - val_accuracy: 0.9291\n",
      "Epoch 10/50\n",
      "902/902 - 43s - loss: 0.0848 - accuracy: 0.9686 - val_loss: 0.1957 - val_accuracy: 0.9371\n",
      "Epoch 11/50\n",
      "902/902 - 43s - loss: 0.1065 - accuracy: 0.9606 - val_loss: 0.1967 - val_accuracy: 0.9347\n",
      "Epoch 12/50\n",
      "902/902 - 43s - loss: 0.0788 - accuracy: 0.9711 - val_loss: 0.1862 - val_accuracy: 0.9384\n",
      "Epoch 13/50\n",
      "902/902 - 44s - loss: 0.0627 - accuracy: 0.9772 - val_loss: 0.1865 - val_accuracy: 0.9382\n",
      "Epoch 14/50\n",
      "902/902 - 43s - loss: 0.0495 - accuracy: 0.9817 - val_loss: 0.1876 - val_accuracy: 0.9420\n",
      "Epoch 15/50\n",
      "902/902 - 44s - loss: 0.0428 - accuracy: 0.9843 - val_loss: 0.4359 - val_accuracy: 0.9130\n",
      "Epoch 16/50\n",
      "902/902 - 43s - loss: 0.0398 - accuracy: 0.9854 - val_loss: 0.2173 - val_accuracy: 0.9377\n",
      "Epoch 17/50\n",
      "902/902 - 43s - loss: 0.0338 - accuracy: 0.9879 - val_loss: 0.3273 - val_accuracy: 0.9286\n",
      "Epoch 18/50\n",
      "902/902 - 44s - loss: 0.0308 - accuracy: 0.9889 - val_loss: 0.4880 - val_accuracy: 0.9220\n",
      "Epoch 19/50\n",
      "902/902 - 44s - loss: 0.0261 - accuracy: 0.9911 - val_loss: 0.4502 - val_accuracy: 0.9244\n",
      "Epoch 20/50\n",
      "902/902 - 43s - loss: 0.0248 - accuracy: 0.9917 - val_loss: 0.2862 - val_accuracy: 0.9321\n",
      "Epoch 21/50\n",
      "902/902 - 43s - loss: 0.0205 - accuracy: 0.9937 - val_loss: 0.2606 - val_accuracy: 0.9312\n",
      "Epoch 22/50\n",
      "902/902 - 43s - loss: 0.0198 - accuracy: 0.9934 - val_loss: 0.7175 - val_accuracy: 0.9025\n",
      "Epoch 23/50\n",
      "902/902 - 44s - loss: 0.0177 - accuracy: 0.9947 - val_loss: 0.3099 - val_accuracy: 0.9212\n",
      "Epoch 24/50\n",
      "902/902 - 44s - loss: 0.0170 - accuracy: 0.9951 - val_loss: 0.4477 - val_accuracy: 0.9172\n",
      "Epoch 25/50\n",
      "902/902 - 44s - loss: 0.0152 - accuracy: 0.9957 - val_loss: 0.3223 - val_accuracy: 0.9266\n",
      "Epoch 26/50\n",
      "902/902 - 43s - loss: 0.0158 - accuracy: 0.9954 - val_loss: 0.4394 - val_accuracy: 0.9204\n",
      "Epoch 27/50\n",
      "902/902 - 43s - loss: 0.0130 - accuracy: 0.9964 - val_loss: 0.3678 - val_accuracy: 0.9248\n",
      "Epoch 28/50\n",
      "902/902 - 44s - loss: 0.0136 - accuracy: 0.9960 - val_loss: 0.4610 - val_accuracy: 0.9172\n",
      "Epoch 29/50\n",
      "902/902 - 43s - loss: 0.0135 - accuracy: 0.9962 - val_loss: 0.2969 - val_accuracy: 0.9275\n",
      "Epoch 30/50\n",
      "902/902 - 44s - loss: 0.0139 - accuracy: 0.9956 - val_loss: 0.3077 - val_accuracy: 0.9252\n",
      "Epoch 31/50\n",
      "902/902 - 43s - loss: 0.0116 - accuracy: 0.9968 - val_loss: 0.4584 - val_accuracy: 0.9194\n",
      "Epoch 32/50\n",
      "902/902 - 43s - loss: 0.0117 - accuracy: 0.9967 - val_loss: 0.4511 - val_accuracy: 0.9257\n",
      "Epoch 33/50\n",
      "902/902 - 43s - loss: 0.0116 - accuracy: 0.9966 - val_loss: 0.3019 - val_accuracy: 0.9282\n",
      "Epoch 34/50\n",
      "902/902 - 43s - loss: 0.0126 - accuracy: 0.9962 - val_loss: 0.4481 - val_accuracy: 0.9245\n",
      "Epoch 35/50\n",
      "902/902 - 43s - loss: 0.0107 - accuracy: 0.9970 - val_loss: 0.2877 - val_accuracy: 0.9334\n",
      "Epoch 36/50\n",
      "902/902 - 43s - loss: 0.0119 - accuracy: 0.9965 - val_loss: 0.3067 - val_accuracy: 0.9287\n",
      "Epoch 37/50\n",
      "902/902 - 43s - loss: 0.0110 - accuracy: 0.9969 - val_loss: 0.3228 - val_accuracy: 0.9272\n",
      "Epoch 38/50\n",
      "902/902 - 43s - loss: 0.0115 - accuracy: 0.9964 - val_loss: 0.5281 - val_accuracy: 0.8908\n",
      "Epoch 39/50\n",
      "902/902 - 43s - loss: 0.0113 - accuracy: 0.9967 - val_loss: 0.3383 - val_accuracy: 0.9215\n",
      "Epoch 40/50\n",
      "902/902 - 43s - loss: 0.0106 - accuracy: 0.9969 - val_loss: 0.3879 - val_accuracy: 0.9237\n",
      "Epoch 41/50\n",
      "902/902 - 43s - loss: 0.0098 - accuracy: 0.9971 - val_loss: 0.3294 - val_accuracy: 0.9219\n",
      "Epoch 42/50\n",
      "902/902 - 43s - loss: 0.0104 - accuracy: 0.9969 - val_loss: 0.4165 - val_accuracy: 0.9218\n",
      "Epoch 43/50\n",
      "902/902 - 43s - loss: 0.0100 - accuracy: 0.9970 - val_loss: 0.3456 - val_accuracy: 0.9275\n",
      "Epoch 44/50\n",
      "902/902 - 44s - loss: 0.0109 - accuracy: 0.9969 - val_loss: 0.3752 - val_accuracy: 0.9244\n",
      "Epoch 45/50\n",
      "902/902 - 43s - loss: 0.0102 - accuracy: 0.9969 - val_loss: 0.3600 - val_accuracy: 0.9239\n",
      "Epoch 46/50\n",
      "902/902 - 43s - loss: 0.0095 - accuracy: 0.9972 - val_loss: 0.3857 - val_accuracy: 0.9271\n",
      "Epoch 47/50\n",
      "902/902 - 44s - loss: 0.0092 - accuracy: 0.9974 - val_loss: 0.3678 - val_accuracy: 0.9237\n",
      "Epoch 48/50\n",
      "902/902 - 43s - loss: 0.0115 - accuracy: 0.9967 - val_loss: 0.6973 - val_accuracy: 0.9062\n",
      "Epoch 49/50\n",
      "902/902 - 43s - loss: 0.0097 - accuracy: 0.9970 - val_loss: 0.3968 - val_accuracy: 0.9271\n",
      "Epoch 50/50\n",
      "902/902 - 43s - loss: 0.0090 - accuracy: 0.9973 - val_loss: 0.4714 - val_accuracy: 0.9315\n"
     ]
    }
   ],
   "source": [
    "lrs = LearningRateScheduler(lrfn)  \n",
    "mc = ModelCheckpoint('weights.h5', save_best_only=True, save_weights_only=True)\n",
    "steps_per_epoch = len(y_train) // BATCH_SIZE\n",
    "\n",
    "hist = model.fit(train_dataset, epochs=EPOCHS, steps_per_epoch=steps_per_epoch, callbacks=[lrs, mc], \n",
    "                 validation_data=valid_dataset, verbose=2)"
   ]
  },
  {
   "cell_type": "code",
   "execution_count": 8,
   "id": "12da1780",
   "metadata": {
    "execution": {
     "iopub.execute_input": "2021-09-06T17:56:24.321071Z",
     "iopub.status.busy": "2021-09-06T17:56:24.318908Z",
     "iopub.status.idle": "2021-09-06T17:56:24.467410Z",
     "shell.execute_reply": "2021-09-06T17:56:24.466759Z",
     "shell.execute_reply.started": "2021-09-06T13:47:47.053502Z"
    },
    "papermill": {
     "duration": 0.215933,
     "end_time": "2021-09-06T17:56:24.467545",
     "exception": false,
     "start_time": "2021-09-06T17:56:24.251612",
     "status": "completed"
    },
    "tags": []
   },
   "outputs": [
    {
     "data": {
      "image/png": "[encoded data removed]",
      "text/plain": [
       "<Figure size 432x288 with 1 Axes>"
      ]
     },
     "metadata": {
      "needs_background": "light"
     },
     "output_type": "display_data"
    }
   ],
   "source": [
    "plot_hist(hist)"
   ]
  },
  {
   "attachments": {},
   "cell_type": "markdown",
   "id": "eb509849",
   "metadata": {},
   "source": [
    "## Evaluate"
   ]
  },
  {
   "cell_type": "code",
   "execution_count": 9,
   "id": "1e492a1e",
   "metadata": {
    "execution": {
     "iopub.execute_input": "2021-09-06T17:56:24.600121Z",
     "iopub.status.busy": "2021-09-06T17:56:24.584490Z",
     "iopub.status.idle": "2021-09-06T18:06:24.849237Z",
     "shell.execute_reply": "2021-09-06T18:06:24.849744Z",
     "shell.execute_reply.started": "2021-09-06T13:48:56.999507Z"
    },
    "papermill": {
     "duration": 600.336302,
     "end_time": "2021-09-06T18:06:24.849955",
     "exception": false,
     "start_time": "2021-09-06T17:56:24.513653",
     "status": "completed"
    },
    "tags": []
   },
   "outputs": [
    {
     "name": "stdout",
     "output_type": "stream",
     "text": [
      "              precision    recall  f1-score   support\n",
      "\n",
      "           0     0.9404    0.9595    0.9499     11371\n",
      "           1     0.9398    0.9121    0.9258      7876\n",
      "\n",
      "    accuracy                         0.9401     19247\n",
      "   macro avg     0.9401    0.9358    0.9378     19247\n",
      "weighted avg     0.9401    0.9401    0.9400     19247\n",
      "\n",
      "[[10911   460]\n",
      " [  692  7184]]\n",
      "      TPR       FPR       FNR   ROC AUC\n",
      "   0.9121    0.0405    0.0879    0.9835\n"
     ]
    }
   ],
   "source": [
    "with strategy.scope():\n",
    "    model.load_weights('weights.h5')\n",
    "\n",
    "y_prob = model.predict(test_dataset)\n",
    "y_pred = np.argmax(y_prob, axis=1)\n",
    "\n",
    "clf_report = metrics.classification_report(y_test, y_pred, digits=4)\n",
    "cnf_matrix = metrics.confusion_matrix(y_test, y_pred)\n",
    "TN, FP, FN, TP = cnf_matrix.ravel()\n",
    "TPR = TP / (TP + FN)\n",
    "FPR = FP / (FP + TN)\n",
    "FNR = FN / (FN + TP)\n",
    "fpr, tpr, _ = metrics.roc_curve(y_test, y_prob[:, 1])\n",
    "auc = metrics.roc_auc_score(y_test, y_prob[:, 1])\n",
    "other_metrics = pd.DataFrame({'TPR': '%.4f' % TPR, \n",
    "                              'FPR': '%.4f' % FPR, \n",
    "                              'FNR': '%.4f' % FNR, \n",
    "                              'ROC AUC': '%.4f' % auc}, index=[0]).to_string(col_space=9, index=False)\n",
    "print(clf_report)\n",
    "print(cnf_matrix)\n",
    "print(other_metrics)"
   ]
  }
 ],
 "metadata": {
  "kernelspec": {
   "display_name": "Python 3",
   "language": "python",
   "name": "python3"
  },
  "language_info": {
   "codemirror_mode": {
    "name": "ipython",
    "version": 3
   },
   "file_extension": ".py",
   "mimetype": "text/x-python",
   "name": "python",
   "nbconvert_exporter": "python",
   "pygments_lexer": "ipython3",
   "version": "3.7.10"
  },
  "papermill": {
   "default_parameters": {},
   "duration": 5242.252552,
   "end_time": "2021-09-06T18:06:28.484834",
   "environment_variables": {},
   "exception": null,
   "input_path": "__notebook__.ipynb",
   "output_path": "__notebook__.ipynb",
   "parameters": {},
   "start_time": "2021-09-06T16:39:06.232282",
   "version": "2.3.3"
  },
  "widgets": {
   "application/vnd.jupyter.widget-state+json": {
    "state": {
     "0ab285fdde5543a2925196dea27b956a": {
      "model_module": "@jupyter-widgets/controls",
      "model_module_version": "1.5.0",
      "model_name": "HTMLModel",
      "state": {
       "_dom_classes": [],
       "_model_module": "@jupyter-widgets/controls",
       "_model_module_version": "1.5.0",
       "_model_name": "HTMLModel",
       "_view_count": null,
       "_view_module": "@jupyter-widgets/controls",
       "_view_module_version": "1.5.0",
       "_view_name": "HTMLView",
       "description": "",
       "description_tooltip": null,
       "layout": "IPY_MODEL_b61df28e35bd42409b16915bd42d910b",
       "placeholder": "​",
       "style": "IPY_MODEL_8811d3fc52944202bf4106ddcafff27e",
       "value": " 96234/96234 [00:52&lt;00:00, 1927.93it/s]"
      }
     },
     "34f15debbc9a45beb1a342610e133ce9": {
      "model_module": "@jupyter-widgets/controls",
      "model_module_version": "1.5.0",
      "model_name": "ProgressStyleModel",
      "state": {
       "_model_module": "@jupyter-widgets/controls",
       "_model_module_version": "1.5.0",
       "_model_name": "ProgressStyleModel",
       "_view_count": null,
       "_view_module": "@jupyter-widgets/base",
       "_view_module_version": "1.2.0",
       "_view_name": "StyleView",
       "bar_color": null,
       "description_width": ""
      }
     },
     "39d6be1e349b4f9092f05e050e8364b7": {
      "model_module": "@jupyter-widgets/controls",
      "model_module_version": "1.5.0",
      "model_name": "FloatProgressModel",
      "state": {
       "_dom_classes": [],
       "_model_module": "@jupyter-widgets/controls",
       "_model_module_version": "1.5.0",
       "_model_name": "FloatProgressModel",
       "_view_count": null,
       "_view_module": "@jupyter-widgets/controls",
       "_view_module_version": "1.5.0",
       "_view_name": "ProgressView",
       "bar_style": "success",
       "description": "",
       "description_tooltip": null,
       "layout": "IPY_MODEL_a9370a40175241e2beffe2e02221b17b",
       "max": 96234,
       "min": 0,
       "orientation": "horizontal",
       "style": "IPY_MODEL_34f15debbc9a45beb1a342610e133ce9",
       "value": 96234
      }
     },
     "57d2f300ea10416d85b30ba2306342eb": {
      "model_module": "@jupyter-widgets/controls",
      "model_module_version": "1.5.0",
      "model_name": "DescriptionStyleModel",
      "state": {
       "_model_module": "@jupyter-widgets/controls",
       "_model_module_version": "1.5.0",
       "_model_name": "DescriptionStyleModel",
       "_view_count": null,
       "_view_module": "@jupyter-widgets/base",
       "_view_module_version": "1.2.0",
       "_view_name": "StyleView",
       "description_width": ""
      }
     },
     "6e3b0d60d5d44c1287c50b0aba675960": {
      "model_module": "@jupyter-widgets/controls",
      "model_module_version": "1.5.0",
      "model_name": "HBoxModel",
      "state": {
       "_dom_classes": [],
       "_model_module": "@jupyter-widgets/controls",
       "_model_module_version": "1.5.0",
       "_model_name": "HBoxModel",
       "_view_count": null,
       "_view_module": "@jupyter-widgets/controls",
       "_view_module_version": "1.5.0",
       "_view_name": "HBoxView",
       "box_style": "",
       "children": [
        "IPY_MODEL_882eed168dab4167b2571575ca15177d",
        "IPY_MODEL_39d6be1e349b4f9092f05e050e8364b7",
        "IPY_MODEL_0ab285fdde5543a2925196dea27b956a"
       ],
       "layout": "IPY_MODEL_a73a8504d6204a3da0beb59ece0c73fb"
      }
     },
     "8811d3fc52944202bf4106ddcafff27e": {
      "model_module": "@jupyter-widgets/controls",
      "model_module_version": "1.5.0",
      "model_name": "DescriptionStyleModel",
      "state": {
       "_model_module": "@jupyter-widgets/controls",
       "_model_module_version": "1.5.0",
       "_model_name": "DescriptionStyleModel",
       "_view_count": null,
       "_view_module": "@jupyter-widgets/base",
       "_view_module_version": "1.2.0",
       "_view_name": "StyleView",
       "description_width": ""
      }
     },
     "882eed168dab4167b2571575ca15177d": {
      "model_module": "@jupyter-widgets/controls",
      "model_module_version": "1.5.0",
      "model_name": "HTMLModel",
      "state": {
       "_dom_classes": [],
       "_model_module": "@jupyter-widgets/controls",
       "_model_module_version": "1.5.0",
       "_model_name": "HTMLModel",
       "_view_count": null,
       "_view_module": "@jupyter-widgets/controls",
       "_view_module_version": "1.5.0",
       "_view_name": "HTMLView",
       "description": "",
       "description_tooltip": null,
       "layout": "IPY_MODEL_d74b8b119d28461b8d3b5451dc7a7a17",
       "placeholder": "​",
       "style": "IPY_MODEL_57d2f300ea10416d85b30ba2306342eb",
       "value": "100%"
      }
     },
     "a73a8504d6204a3da0beb59ece0c73fb": {
      "model_module": "@jupyter-widgets/base",
      "model_module_version": "1.2.0",
      "model_name": "LayoutModel",
      "state": {
       "_model_module": "@jupyter-widgets/base",
       "_model_module_version": "1.2.0",
       "_model_name": "LayoutModel",
       "_view_count": null,
       "_view_module": "@jupyter-widgets/base",
       "_view_module_version": "1.2.0",
       "_view_name": "LayoutView",
       "align_content": null,
       "align_items": null,
       "align_self": null,
       "border": null,
       "bottom": null,
       "display": null,
       "flex": null,
       "flex_flow": null,
       "grid_area": null,
       "grid_auto_columns": null,
       "grid_auto_flow": null,
       "grid_auto_rows": null,
       "grid_column": null,
       "grid_gap": null,
       "grid_row": null,
       "grid_template_areas": null,
       "grid_template_columns": null,
       "grid_template_rows": null,
       "height": null,
       "justify_content": null,
       "justify_items": null,
       "left": null,
       "margin": null,
       "max_height": null,
       "max_width": null,
       "min_height": null,
       "min_width": null,
       "object_fit": null,
       "object_position": null,
       "order": null,
       "overflow": null,
       "overflow_x": null,
       "overflow_y": null,
       "padding": null,
       "right": null,
       "top": null,
       "visibility": null,
       "width": null
      }
     },
     "a9370a40175241e2beffe2e02221b17b": {
      "model_module": "@jupyter-widgets/base",
      "model_module_version": "1.2.0",
      "model_name": "LayoutModel",
      "state": {
       "_model_module": "@jupyter-widgets/base",
       "_model_module_version": "1.2.0",
       "_model_name": "LayoutModel",
       "_view_count": null,
       "_view_module": "@jupyter-widgets/base",
       "_view_module_version": "1.2.0",
       "_view_name": "LayoutView",
       "align_content": null,
       "align_items": null,
       "align_self": null,
       "border": null,
       "bottom": null,
       "display": null,
       "flex": null,
       "flex_flow": null,
       "grid_area": null,
       "grid_auto_columns": null,
       "grid_auto_flow": null,
       "grid_auto_rows": null,
       "grid_column": null,
       "grid_gap": null,
       "grid_row": null,
       "grid_template_areas": null,
       "grid_template_columns": null,
       "grid_template_rows": null,
       "height": null,
       "justify_content": null,
       "justify_items": null,
       "left": null,
       "margin": null,
       "max_height": null,
       "max_width": null,
       "min_height": null,
       "min_width": null,
       "object_fit": null,
       "object_position": null,
       "order": null,
       "overflow": null,
       "overflow_x": null,
       "overflow_y": null,
       "padding": null,
       "right": null,
       "top": null,
       "visibility": null,
       "width": null
      }
     },
     "b61df28e35bd42409b16915bd42d910b": {
      "model_module": "@jupyter-widgets/base",
      "model_module_version": "1.2.0",
      "model_name": "LayoutModel",
      "state": {
       "_model_module": "@jupyter-widgets/base",
       "_model_module_version": "1.2.0",
       "_model_name": "LayoutModel",
       "_view_count": null,
       "_view_module": "@jupyter-widgets/base",
       "_view_module_version": "1.2.0",
       "_view_name": "LayoutView",
       "align_content": null,
       "align_items": null,
       "align_self": null,
       "border": null,
       "bottom": null,
       "display": null,
       "flex": null,
       "flex_flow": null,
       "grid_area": null,
       "grid_auto_columns": null,
       "grid_auto_flow": null,
       "grid_auto_rows": null,
       "grid_column": null,
       "grid_gap": null,
       "grid_row": null,
       "grid_template_areas": null,
       "grid_template_columns": null,
       "grid_template_rows": null,
       "height": null,
       "justify_content": null,
       "justify_items": null,
       "left": null,
       "margin": null,
       "max_height": null,
       "max_width": null,
       "min_height": null,
       "min_width": null,
       "object_fit": null,
       "object_position": null,
       "order": null,
       "overflow": null,
       "overflow_x": null,
       "overflow_y": null,
       "padding": null,
       "right": null,
       "top": null,
       "visibility": null,
       "width": null
      }
     },
     "d74b8b119d28461b8d3b5451dc7a7a17": {
      "model_module": "@jupyter-widgets/base",
      "model_module_version": "1.2.0",
      "model_name": "LayoutModel",
      "state": {
       "_model_module": "@jupyter-widgets/base",
       "_model_module_version": "1.2.0",
       "_model_name": "LayoutModel",
       "_view_count": null,
       "_view_module": "@jupyter-widgets/base",
       "_view_module_version": "1.2.0",
       "_view_name": "LayoutView",
       "align_content": null,
       "align_items": null,
       "align_self": null,
       "border": null,
       "bottom": null,
       "display": null,
       "flex": null,
       "flex_flow": null,
       "grid_area": null,
       "grid_auto_columns": null,
       "grid_auto_flow": null,
       "grid_auto_rows": null,
       "grid_column": null,
       "grid_gap": null,
       "grid_row": null,
       "grid_template_areas": null,
       "grid_template_columns": null,
       "grid_template_rows": null,
       "height": null,
       "justify_content": null,
       "justify_items": null,
       "left": null,
       "margin": null,
       "max_height": null,
       "max_width": null,
       "min_height": null,
       "min_width": null,
       "object_fit": null,
       "object_position": null,
       "order": null,
       "overflow": null,
       "overflow_x": null,
       "overflow_y": null,
       "padding": null,
       "right": null,
       "top": null,
       "visibility": null,
       "width": null
      }
     }
    },
    "version_major": 2,
    "version_minor": 0
   }
  }
 },
 "nbformat": 4,
 "nbformat_minor": 5
}
