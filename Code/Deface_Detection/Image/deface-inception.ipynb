{
 "cells": [
  {
   "attachments": {},
   "cell_type": "markdown",
   "id": "263a1396",
   "metadata": {},
   "source": [
    "## Import libraries"
   ]
  },
  {
   "cell_type": "code",
   "execution_count": 1,
   "id": "9984a176",
   "metadata": {
    "_cell_guid": "b1076dfc-b9ad-4769-8c92-a6c4dae69d19",
    "_uuid": "8f2839f25d086af736a60e9eeb907d3b93b6e0e5",
    "execution": {
     "iopub.execute_input": "2021-09-07T02:25:15.578240Z",
     "iopub.status.busy": "2021-09-07T02:25:15.577579Z",
     "iopub.status.idle": "2021-09-07T02:25:22.640652Z",
     "shell.execute_reply": "2021-09-07T02:25:22.641158Z",
     "shell.execute_reply.started": "2021-09-06T13:44:01.647884Z"
    },
    "papermill": {
     "duration": 7.092404,
     "end_time": "2021-09-07T02:25:22.641527",
     "exception": false,
     "start_time": "2021-09-07T02:25:15.549123",
     "status": "completed"
    },
    "tags": []
   },
   "outputs": [],
   "source": [
    "import numpy as np\n",
    "import pandas as pd\n",
    "import tensorflow as tf\n",
    "from matplotlib import pyplot as plt\n",
    "from kaggle_datasets import KaggleDatasets\n",
    "from kaggle_secrets import UserSecretsClient\n",
    "from glob import glob\n",
    "from tqdm.notebook import tqdm\n",
    "from multiprocessing import cpu_count\n",
    "from joblib import Parallel, delayed\n",
    "from tensorflow.keras.models import Sequential\n",
    "from tensorflow.keras import layers as L\n",
    "from tensorflow.keras.utils import to_categorical\n",
    "from tensorflow.keras.callbacks import LearningRateScheduler, ModelCheckpoint\n",
    "from sklearn.model_selection import train_test_split\n",
    "from sklearn import metrics\n",
    "\n",
    "%matplotlib inline"
   ]
  },
  {
   "attachments": {},
   "cell_type": "markdown",
   "id": "2e1c7b36",
   "metadata": {},
   "source": [
    "## TPU"
   ]
  },
  {
   "cell_type": "code",
   "execution_count": 2,
   "id": "ca3eb2ad",
   "metadata": {
    "execution": {
     "iopub.execute_input": "2021-09-07T02:25:22.665314Z",
     "iopub.status.busy": "2021-09-07T02:25:22.664326Z",
     "iopub.status.idle": "2021-09-07T02:25:29.060006Z",
     "shell.execute_reply": "2021-09-07T02:25:29.059000Z",
     "shell.execute_reply.started": "2021-09-06T13:44:01.662051Z"
    },
    "papermill": {
     "duration": 6.407666,
     "end_time": "2021-09-07T02:25:29.060268",
     "exception": false,
     "start_time": "2021-09-07T02:25:22.652602",
     "status": "completed"
    },
    "tags": []
   },
   "outputs": [
    {
     "name": "stdout",
     "output_type": "stream",
     "text": [
      "Running on TPU: grpc://10.0.0.2:8470\n",
      "N_JOBS: 4\n",
      "Batch size: 64\n",
      "GCS_DS_PATH: gs://kds-2aeefe0022f415bdd00f8354ec57453cf93ca4b321559e4bf690317c\n"
     ]
    }
   ],
   "source": [
    "try:\n",
    "    tpu = tf.distribute.cluster_resolver.TPUClusterResolver()\n",
    "    print('Running on TPU:', tpu.master())\n",
    "except ValueError:\n",
    "    tpu = None\n",
    "\n",
    "if tpu:\n",
    "    tf.config.experimental_connect_to_cluster(tpu)\n",
    "    tf.tpu.experimental.initialize_tpu_system(tpu)\n",
    "    strategy = tf.distribute.experimental.TPUStrategy(tpu)\n",
    "else:\n",
    "    strategy = tf.distribute.get_strategy()\n",
    "\n",
    "user_secrets = UserSecretsClient()\n",
    "user_credential = user_secrets.get_gcloud_credential()\n",
    "user_secrets.set_tensorflow_credential(user_credential)\n",
    "GCS_DS_PATH = KaggleDatasets().get_gcs_path('website-defacement')\n",
    "\n",
    "AUTO = tf.data.experimental.AUTOTUNE\n",
    "BATCH_SIZE = 8 * strategy.num_replicas_in_sync\n",
    "N_JOBS = cpu_count()\n",
    "\n",
    "IMG_SIZE = 224\n",
    "EPOCHS = 50\n",
    "\n",
    "print('N_JOBS:', N_JOBS)\n",
    "print('Batch size:', BATCH_SIZE)\n",
    "print('GCS_DS_PATH:', GCS_DS_PATH)"
   ]
  },
  {
   "attachments": {},
   "cell_type": "markdown",
   "id": "3dd6cadd",
   "metadata": {},
   "source": [
    "## Prepare data"
   ]
  },
  {
   "cell_type": "code",
   "execution_count": 3,
   "id": "8a02f5a1",
   "metadata": {
    "execution": {
     "iopub.execute_input": "2021-09-07T02:25:29.089734Z",
     "iopub.status.busy": "2021-09-07T02:25:29.089043Z",
     "iopub.status.idle": "2021-09-07T02:26:21.877924Z",
     "shell.execute_reply": "2021-09-07T02:26:21.878422Z",
     "shell.execute_reply.started": "2021-09-06T13:44:08.284754Z"
    },
    "papermill": {
     "duration": 52.807784,
     "end_time": "2021-09-07T02:26:21.878633",
     "exception": false,
     "start_time": "2021-09-07T02:25:29.070849",
     "status": "completed"
    },
    "tags": []
   },
   "outputs": [
    {
     "data": {
      "application/vnd.jupyter.widget-view+json": {
       "model_id": "b441bddbfcbc4ceb893bad2c33bd3e78",
       "version_major": 2,
       "version_minor": 0
      },
      "text/plain": [
       "  0%|          | 0/96234 [00:00<?, ?it/s]"
      ]
     },
     "metadata": {},
     "output_type": "display_data"
    },
    {
     "name": "stdout",
     "output_type": "stream",
     "text": [
      "57740 19247 19247\n"
     ]
    }
   ],
   "source": [
    "dataset_path = '../input/website-defacement/dataset/'\n",
    "img_paths = glob(dataset_path + 'image/*/*')\n",
    "txt_paths = glob(dataset_path + 'text/*/*')\n",
    "img_names = [path.split('/')[-1][:-4] for path in img_paths]\n",
    "txt_names = [path.split('/')[-1][:-4] for path in txt_paths]\n",
    "names = list(set(img_names).intersection(txt_names))\n",
    "\n",
    "def prepare_data(name):\n",
    "    if glob(dataset_path + f'image/defaced/{name}.png'):\n",
    "        return (f'{GCS_DS_PATH}/dataset/image/defaced/{name}.png', 1)\n",
    "    else:\n",
    "        return (f'{GCS_DS_PATH}/dataset/image/benign/{name}.png', 0)\n",
    "\n",
    "output = Parallel(n_jobs=N_JOBS)(delayed(prepare_data)(name) for name in tqdm(names))\n",
    "X, y = zip(*output)\n",
    "\n",
    "X_train, X_test, y_train, y_test = train_test_split(X, y, test_size=0.2, random_state=42)\n",
    "y_train = to_categorical(y_train, num_classes=2)\n",
    "X_train, X_valid, y_train, y_valid = train_test_split(X_train, y_train, test_size=0.25, \n",
    "                                                      random_state=42)\n",
    "\n",
    "print(len(X_train), len(X_valid), len(X_test))"
   ]
  },
  {
   "attachments": {},
   "cell_type": "markdown",
   "id": "b2ac8f71",
   "metadata": {},
   "source": [
    "## Dataset"
   ]
  },
  {
   "cell_type": "code",
   "execution_count": 4,
   "id": "40fbd14d",
   "metadata": {
    "execution": {
     "iopub.execute_input": "2021-09-07T02:26:21.916649Z",
     "iopub.status.busy": "2021-09-07T02:26:21.911519Z",
     "iopub.status.idle": "2021-09-07T02:26:22.529312Z",
     "shell.execute_reply": "2021-09-07T02:26:22.529797Z",
     "shell.execute_reply.started": "2021-09-06T13:44:09.771606Z"
    },
    "papermill": {
     "duration": 0.640982,
     "end_time": "2021-09-07T02:26:22.529978",
     "exception": false,
     "start_time": "2021-09-07T02:26:21.888996",
     "status": "completed"
    },
    "tags": []
   },
   "outputs": [],
   "source": [
    "def decode_image(filename, label=None):\n",
    "    bits = tf.io.read_file(filename)\n",
    "    image = tf.image.decode_png(bits, channels=3)\n",
    "    image = tf.cast(image, tf.float32) / 255.0\n",
    "    image = tf.image.resize(image, (IMG_SIZE, IMG_SIZE))\n",
    "    \n",
    "    if label is None:\n",
    "        return image\n",
    "    else:\n",
    "        return image, label\n",
    "\n",
    "train_dataset = (\n",
    "    tf.data.TFRecordDataset\n",
    "    .from_tensor_slices((X_train, y_train))\n",
    "    .shuffle(100000)\n",
    "    .map(decode_image, num_parallel_calls=AUTO)\n",
    "    .cache()\n",
    "    .repeat()\n",
    "    .batch(BATCH_SIZE)\n",
    "    .prefetch(AUTO)\n",
    ")\n",
    "\n",
    "test_dataset = (\n",
    "    tf.data.TFRecordDataset\n",
    "    .from_tensor_slices(X_test)\n",
    "    .map(decode_image, num_parallel_calls=AUTO)\n",
    "    .batch(BATCH_SIZE)\n",
    ")\n",
    "\n",
    "valid_dataset = (\n",
    "    tf.data.TFRecordDataset\n",
    "    .from_tensor_slices((X_valid, y_valid))\n",
    "    .map(decode_image, num_parallel_calls=AUTO)\n",
    "    .cache()\n",
    "    .batch(BATCH_SIZE)\n",
    "    .prefetch(AUTO)\n",
    ")"
   ]
  },
  {
   "cell_type": "code",
   "execution_count": 5,
   "id": "6f8bb86c",
   "metadata": {
    "execution": {
     "iopub.execute_input": "2021-09-07T02:26:22.575974Z",
     "iopub.status.busy": "2021-09-07T02:26:22.575182Z",
     "iopub.status.idle": "2021-09-07T02:26:22.754054Z",
     "shell.execute_reply": "2021-09-07T02:26:22.753528Z",
     "shell.execute_reply.started": "2021-09-06T13:44:09.84223Z"
    },
    "papermill": {
     "duration": 0.213802,
     "end_time": "2021-09-07T02:26:22.754195",
     "exception": false,
     "start_time": "2021-09-07T02:26:22.540393",
     "status": "completed"
    },
    "tags": []
   },
   "outputs": [
    {
     "data": {
      "text/plain": [
       "[<matplotlib.lines.Line2D at 0x7f2484a7ca90>]"
      ]
     },
     "execution_count": 5,
     "metadata": {},
     "output_type": "execute_result"
    },
    {
     "data": {
      "image/png": "[encoded data removed]",
      "text/plain": [
       "<Figure size 432x288 with 1 Axes>"
      ]
     },
     "metadata": {
      "needs_background": "light"
     },
     "output_type": "display_data"
    }
   ],
   "source": [
    "def lrfn(epoch=EPOCHS,\n",
    "         lr_start=1e-4,\n",
    "         lr_max=5e-5 * 8, \n",
    "         lr_min=1e-4,\n",
    "         lr_rampup_epochs=5,\n",
    "         lr_sustain_epochs=5,\n",
    "         lr_exp_decay=0.8):\n",
    "    if epoch < lr_rampup_epochs:\n",
    "        lr = (lr_max-lr_start)/lr_rampup_epochs*epoch + lr_start\n",
    "    elif epoch < lr_rampup_epochs + lr_sustain_epochs:\n",
    "        lr = lr_max\n",
    "    else:\n",
    "        lr = (lr_max-lr_min)*lr_exp_decay**(epoch-lr_rampup_epochs-lr_sustain_epochs) + lr_min\n",
    "    return lr\n",
    "\n",
    "def plot_hist(hist):\n",
    "    plt.plot(hist.history[\"accuracy\"])\n",
    "    plt.plot(hist.history[\"val_accuracy\"])\n",
    "    plt.title(\"model accuracy\")\n",
    "    plt.ylabel(\"accuracy\")\n",
    "    plt.xlabel(\"epoch\")\n",
    "    plt.legend([\"train\", \"validation\"], loc=\"upper left\")\n",
    "    plt.show()\n",
    "\n",
    "y = [lrfn(x) for x in range(EPOCHS)]\n",
    "plt.plot(y)"
   ]
  },
  {
   "attachments": {},
   "cell_type": "markdown",
   "id": "9a7dc909",
   "metadata": {},
   "source": [
    "## Model"
   ]
  },
  {
   "cell_type": "code",
   "execution_count": 6,
   "id": "a0dd2a58",
   "metadata": {
    "execution": {
     "iopub.execute_input": "2021-09-07T02:26:22.789596Z",
     "iopub.status.busy": "2021-09-07T02:26:22.788810Z",
     "iopub.status.idle": "2021-09-07T02:26:40.516166Z",
     "shell.execute_reply": "2021-09-07T02:26:40.515593Z",
     "shell.execute_reply.started": "2021-09-06T13:44:10.041408Z"
    },
    "papermill": {
     "duration": 17.750398,
     "end_time": "2021-09-07T02:26:40.516309",
     "exception": false,
     "start_time": "2021-09-07T02:26:22.765911",
     "status": "completed"
    },
    "tags": []
   },
   "outputs": [
    {
     "name": "stdout",
     "output_type": "stream",
     "text": [
      "Downloading data from https://storage.googleapis.com/tensorflow/keras-applications/inception_v3/inception_v3_weights_tf_dim_ordering_tf_kernels_notop.h5\n",
      "87916544/87910968 [==============================] - 1s 0us/step\n",
      "Model: \"sequential\"\n",
      "_________________________________________________________________\n",
      "Layer (type)                 Output Shape              Param #   \n",
      "=================================================================\n",
      "inception_v3 (Functional)    (None, 2048)              21802784  \n",
      "_________________________________________________________________\n",
      "batch_normalization_94 (Batc (None, 2048)              8192      \n",
      "_________________________________________________________________\n",
      "dense (Dense)                (None, 128)               262272    \n",
      "_________________________________________________________________\n",
      "batch_normalization_95 (Batc (None, 128)               512       \n",
      "_________________________________________________________________\n",
      "dense_1 (Dense)              (None, 2)                 258       \n",
      "=================================================================\n",
      "Total params: 22,074,018\n",
      "Trainable params: 22,035,234\n",
      "Non-trainable params: 38,784\n",
      "_________________________________________________________________\n",
      "None\n"
     ]
    }
   ],
   "source": [
    "from tensorflow.keras.applications import InceptionV3\n",
    "\n",
    "with strategy.scope():\n",
    "    net = InceptionV3(\n",
    "        include_top=False, \n",
    "        weights='imagenet', \n",
    "        pooling='avg', \n",
    "        input_shape=(IMG_SIZE, IMG_SIZE, 3))\n",
    "\n",
    "    model = Sequential()\n",
    "    model.add(net)\n",
    "    model.add(L.BatchNormalization())\n",
    "    model.add(L.Dense(128, activation='softmax'))\n",
    "    model.add(L.BatchNormalization())\n",
    "    model.add(L.Dense(2, activation='softmax'))\n",
    "    model.compile(optimizer='adam', loss='categorical_crossentropy', metrics=['accuracy'])\n",
    "    \n",
    "print(model.summary())"
   ]
  },
  {
   "attachments": {},
   "cell_type": "markdown",
   "id": "9a727c21",
   "metadata": {},
   "source": [
    "## Train model"
   ]
  },
  {
   "cell_type": "code",
   "execution_count": 7,
   "id": "46bae3de",
   "metadata": {
    "execution": {
     "iopub.execute_input": "2021-09-07T02:26:40.558076Z",
     "iopub.status.busy": "2021-09-07T02:26:40.557345Z",
     "iopub.status.idle": "2021-09-07T03:53:15.852994Z",
     "shell.execute_reply": "2021-09-07T03:53:15.853526Z",
     "shell.execute_reply.started": "2021-09-06T13:44:28.765118Z"
    },
    "papermill": {
     "duration": 5195.321091,
     "end_time": "2021-09-07T03:53:15.853780",
     "exception": false,
     "start_time": "2021-09-07T02:26:40.532689",
     "status": "completed"
    },
    "tags": []
   },
   "outputs": [
    {
     "name": "stdout",
     "output_type": "stream",
     "text": [
      "Epoch 1/50\n",
      "902/902 - 2603s - loss: 0.5397 - accuracy: 0.7371 - val_loss: 0.5290 - val_accuracy: 0.7441\n",
      "Epoch 2/50\n",
      "902/902 - 53s - loss: 0.4740 - accuracy: 0.7833 - val_loss: 0.6213 - val_accuracy: 0.5907\n",
      "Epoch 3/50\n",
      "902/902 - 54s - loss: 0.4246 - accuracy: 0.8177 - val_loss: 0.4828 - val_accuracy: 0.8328\n",
      "Epoch 4/50\n",
      "902/902 - 52s - loss: 0.3749 - accuracy: 0.8476 - val_loss: 0.3825 - val_accuracy: 0.8508\n",
      "Epoch 5/50\n",
      "902/902 - 52s - loss: 0.3378 - accuracy: 0.8670 - val_loss: 0.3616 - val_accuracy: 0.8538\n",
      "Epoch 6/50\n",
      "902/902 - 53s - loss: 0.3206 - accuracy: 0.8752 - val_loss: 0.3013 - val_accuracy: 0.8764\n",
      "Epoch 7/50\n",
      "902/902 - 53s - loss: 0.3012 - accuracy: 0.8830 - val_loss: 0.3236 - val_accuracy: 0.8738\n",
      "Epoch 8/50\n",
      "902/902 - 53s - loss: 0.3183 - accuracy: 0.8739 - val_loss: 0.2908 - val_accuracy: 0.8873\n",
      "Epoch 9/50\n",
      "902/902 - 52s - loss: 0.3089 - accuracy: 0.8777 - val_loss: 0.2997 - val_accuracy: 0.8792\n",
      "Epoch 10/50\n",
      "902/902 - 53s - loss: 0.3140 - accuracy: 0.8770 - val_loss: 0.3450 - val_accuracy: 0.8479\n",
      "Epoch 11/50\n",
      "902/902 - 53s - loss: 0.3104 - accuracy: 0.8776 - val_loss: 0.3798 - val_accuracy: 0.8663\n",
      "Epoch 12/50\n",
      "902/902 - 52s - loss: 0.2846 - accuracy: 0.8889 - val_loss: 0.5774 - val_accuracy: 0.6946\n",
      "Epoch 13/50\n",
      "902/902 - 52s - loss: 0.3054 - accuracy: 0.8798 - val_loss: 0.2557 - val_accuracy: 0.8985\n",
      "Epoch 14/50\n",
      "902/902 - 52s - loss: 0.2683 - accuracy: 0.8925 - val_loss: 0.4039 - val_accuracy: 0.8110\n",
      "Epoch 15/50\n",
      "902/902 - 53s - loss: 0.2658 - accuracy: 0.8950 - val_loss: 0.2852 - val_accuracy: 0.8724\n",
      "Epoch 16/50\n",
      "902/902 - 53s - loss: 0.2441 - accuracy: 0.9044 - val_loss: 0.3072 - val_accuracy: 0.8560\n",
      "Epoch 17/50\n",
      "902/902 - 52s - loss: 0.2293 - accuracy: 0.9088 - val_loss: 0.3460 - val_accuracy: 0.8269\n",
      "Epoch 18/50\n",
      "902/902 - 52s - loss: 0.2283 - accuracy: 0.9098 - val_loss: 0.2921 - val_accuracy: 0.8714\n",
      "Epoch 19/50\n",
      "902/902 - 52s - loss: 0.2107 - accuracy: 0.9171 - val_loss: 0.3099 - val_accuracy: 0.8644\n",
      "Epoch 20/50\n",
      "902/902 - 53s - loss: 0.2017 - accuracy: 0.9212 - val_loss: 0.2671 - val_accuracy: 0.8994\n",
      "Epoch 21/50\n",
      "902/902 - 53s - loss: 0.1945 - accuracy: 0.9232 - val_loss: 0.2979 - val_accuracy: 0.8856\n",
      "Epoch 22/50\n",
      "902/902 - 52s - loss: 0.1829 - accuracy: 0.9286 - val_loss: 0.2869 - val_accuracy: 0.8962\n",
      "Epoch 23/50\n",
      "902/902 - 53s - loss: 0.1641 - accuracy: 0.9364 - val_loss: 0.3052 - val_accuracy: 0.8942\n",
      "Epoch 24/50\n",
      "902/902 - 53s - loss: 0.1531 - accuracy: 0.9412 - val_loss: 0.2776 - val_accuracy: 0.8988\n",
      "Epoch 25/50\n",
      "902/902 - 52s - loss: 0.1437 - accuracy: 0.9445 - val_loss: 0.3223 - val_accuracy: 0.8891\n",
      "Epoch 26/50\n",
      "902/902 - 52s - loss: 0.1445 - accuracy: 0.9441 - val_loss: 0.3204 - val_accuracy: 0.8775\n",
      "Epoch 27/50\n",
      "902/902 - 52s - loss: 0.1229 - accuracy: 0.9518 - val_loss: 0.3428 - val_accuracy: 0.8846\n",
      "Epoch 28/50\n",
      "902/902 - 53s - loss: 0.1134 - accuracy: 0.9573 - val_loss: 0.8712 - val_accuracy: 0.7679\n",
      "Epoch 29/50\n",
      "902/902 - 52s - loss: 0.1056 - accuracy: 0.9604 - val_loss: 0.8462 - val_accuracy: 0.7810\n",
      "Epoch 30/50\n",
      "902/902 - 53s - loss: 0.0985 - accuracy: 0.9627 - val_loss: 0.3411 - val_accuracy: 0.8914\n",
      "Epoch 31/50\n",
      "902/902 - 53s - loss: 0.0922 - accuracy: 0.9644 - val_loss: 0.4019 - val_accuracy: 0.8900\n",
      "Epoch 32/50\n",
      "902/902 - 53s - loss: 0.0851 - accuracy: 0.9681 - val_loss: 0.4116 - val_accuracy: 0.8675\n",
      "Epoch 33/50\n",
      "902/902 - 53s - loss: 0.0781 - accuracy: 0.9707 - val_loss: 0.4399 - val_accuracy: 0.8832\n",
      "Epoch 34/50\n",
      "902/902 - 53s - loss: 0.0708 - accuracy: 0.9737 - val_loss: 0.4260 - val_accuracy: 0.8824\n",
      "Epoch 35/50\n",
      "902/902 - 53s - loss: 0.0685 - accuracy: 0.9746 - val_loss: 0.5536 - val_accuracy: 0.8229\n",
      "Epoch 36/50\n",
      "902/902 - 53s - loss: 0.0707 - accuracy: 0.9728 - val_loss: 0.5078 - val_accuracy: 0.7616\n",
      "Epoch 37/50\n",
      "902/902 - 53s - loss: 0.0605 - accuracy: 0.9786 - val_loss: 0.4805 - val_accuracy: 0.7914\n",
      "Epoch 38/50\n",
      "902/902 - 53s - loss: 0.0544 - accuracy: 0.9800 - val_loss: 0.5314 - val_accuracy: 0.8094\n",
      "Epoch 39/50\n",
      "902/902 - 53s - loss: 0.0480 - accuracy: 0.9831 - val_loss: 0.9878 - val_accuracy: 0.7492\n",
      "Epoch 40/50\n",
      "902/902 - 52s - loss: 0.0485 - accuracy: 0.9823 - val_loss: 0.4416 - val_accuracy: 0.8936\n",
      "Epoch 41/50\n",
      "902/902 - 52s - loss: 0.0409 - accuracy: 0.9858 - val_loss: 0.7103 - val_accuracy: 0.8643\n",
      "Epoch 42/50\n",
      "902/902 - 52s - loss: 0.0481 - accuracy: 0.9821 - val_loss: 0.6457 - val_accuracy: 0.8628\n",
      "Epoch 43/50\n",
      "902/902 - 53s - loss: 0.0445 - accuracy: 0.9846 - val_loss: 0.6760 - val_accuracy: 0.8276\n",
      "Epoch 44/50\n",
      "902/902 - 52s - loss: 0.0388 - accuracy: 0.9865 - val_loss: 0.4428 - val_accuracy: 0.8902\n",
      "Epoch 45/50\n",
      "902/902 - 52s - loss: 0.0418 - accuracy: 0.9849 - val_loss: 0.4820 - val_accuracy: 0.8897\n",
      "Epoch 46/50\n",
      "902/902 - 52s - loss: 0.0551 - accuracy: 0.9794 - val_loss: 0.3622 - val_accuracy: 0.8944\n",
      "Epoch 47/50\n",
      "902/902 - 53s - loss: 0.0482 - accuracy: 0.9825 - val_loss: 0.4021 - val_accuracy: 0.8969\n",
      "Epoch 48/50\n",
      "902/902 - 53s - loss: 0.0493 - accuracy: 0.9822 - val_loss: 0.4650 - val_accuracy: 0.8900\n",
      "Epoch 49/50\n",
      "902/902 - 52s - loss: 0.0368 - accuracy: 0.9875 - val_loss: 0.4896 - val_accuracy: 0.8947\n",
      "Epoch 50/50\n",
      "902/902 - 53s - loss: 0.0324 - accuracy: 0.9889 - val_loss: 1.1498 - val_accuracy: 0.7788\n"
     ]
    }
   ],
   "source": [
    "lrs = LearningRateScheduler(lrfn)  \n",
    "mc = ModelCheckpoint('weights.h5', save_best_only=True, save_weights_only=True)\n",
    "steps_per_epoch = len(y_train) // BATCH_SIZE\n",
    "\n",
    "hist = model.fit(train_dataset, epochs=EPOCHS, steps_per_epoch=steps_per_epoch, callbacks=[lrs, mc], \n",
    "                 validation_data=valid_dataset, verbose=2)"
   ]
  },
  {
   "cell_type": "code",
   "execution_count": 8,
   "id": "8e5d55dd",
   "metadata": {
    "execution": {
     "iopub.execute_input": "2021-09-07T03:53:15.977232Z",
     "iopub.status.busy": "2021-09-07T03:53:15.958953Z",
     "iopub.status.idle": "2021-09-07T03:53:16.125895Z",
     "shell.execute_reply": "2021-09-07T03:53:16.125386Z",
     "shell.execute_reply.started": "2021-09-06T13:47:47.053502Z"
    },
    "papermill": {
     "duration": 0.227091,
     "end_time": "2021-09-07T03:53:16.126040",
     "exception": false,
     "start_time": "2021-09-07T03:53:15.898949",
     "status": "completed"
    },
    "tags": []
   },
   "outputs": [
    {
     "data": {
      "image/png": "[encoded data removed]",
      "text/plain": [
       "<Figure size 432x288 with 1 Axes>"
      ]
     },
     "metadata": {
      "needs_background": "light"
     },
     "output_type": "display_data"
    }
   ],
   "source": [
    "plot_hist(hist)"
   ]
  },
  {
   "attachments": {},
   "cell_type": "markdown",
   "id": "f9619d2f",
   "metadata": {},
   "source": [
    "## Evaluate"
   ]
  },
  {
   "cell_type": "code",
   "execution_count": 9,
   "id": "1697e144",
   "metadata": {
    "execution": {
     "iopub.execute_input": "2021-09-07T03:53:16.262854Z",
     "iopub.status.busy": "2021-09-07T03:53:16.257840Z",
     "iopub.status.idle": "2021-09-07T04:03:06.327793Z",
     "shell.execute_reply": "2021-09-07T04:03:06.328317Z",
     "shell.execute_reply.started": "2021-09-06T13:48:56.999507Z"
    },
    "papermill": {
     "duration": 590.155884,
     "end_time": "2021-09-07T04:03:06.328512",
     "exception": false,
     "start_time": "2021-09-07T03:53:16.172628",
     "status": "completed"
    },
    "tags": []
   },
   "outputs": [
    {
     "name": "stdout",
     "output_type": "stream",
     "text": [
      "              precision    recall  f1-score   support\n",
      "\n",
      "           0     0.9024    0.9331    0.9175     11572\n",
      "           1     0.8937    0.8478    0.8702      7675\n",
      "\n",
      "    accuracy                         0.8991     19247\n",
      "   macro avg     0.8980    0.8905    0.8938     19247\n",
      "weighted avg     0.8989    0.8991    0.8986     19247\n",
      "\n",
      "[[10798   774]\n",
      " [ 1168  6507]]\n",
      "      TPR       FPR       FNR   ROC AUC\n",
      "   0.8478    0.0669    0.1522    0.9577\n"
     ]
    }
   ],
   "source": [
    "with strategy.scope():\n",
    "    model.load_weights('weights.h5')\n",
    "\n",
    "y_prob = model.predict(test_dataset)\n",
    "y_pred = np.argmax(y_prob, axis=1)\n",
    "\n",
    "clf_report = metrics.classification_report(y_test, y_pred, digits=4)\n",
    "cnf_matrix = metrics.confusion_matrix(y_test, y_pred)\n",
    "TN, FP, FN, TP = cnf_matrix.ravel()\n",
    "TPR = TP / (TP + FN)\n",
    "FPR = FP / (FP + TN)\n",
    "FNR = FN / (FN + TP)\n",
    "fpr, tpr, _ = metrics.roc_curve(y_test, y_prob[:, 1])\n",
    "auc = metrics.roc_auc_score(y_test, y_prob[:, 1])\n",
    "other_metrics = pd.DataFrame({'TPR': '%.4f' % TPR, \n",
    "                              'FPR': '%.4f' % FPR, \n",
    "                              'FNR': '%.4f' % FNR, \n",
    "                              'ROC AUC': '%.4f' % auc}, index=[0]).to_string(col_space=9, index=False)\n",
    "print(clf_report)\n",
    "print(cnf_matrix)\n",
    "print(other_metrics)"
   ]
  }
 ],
 "metadata": {
  "kernelspec": {
   "display_name": "Python 3",
   "language": "python",
   "name": "python3"
  },
  "language_info": {
   "codemirror_mode": {
    "name": "ipython",
    "version": 3
   },
   "file_extension": ".py",
   "mimetype": "text/x-python",
   "name": "python",
   "nbconvert_exporter": "python",
   "pygments_lexer": "ipython3",
   "version": "3.7.10"
  },
  "papermill": {
   "default_parameters": {},
   "duration": 5882.530539,
   "end_time": "2021-09-07T04:03:09.736831",
   "environment_variables": {},
   "exception": null,
   "input_path": "__notebook__.ipynb",
   "output_path": "__notebook__.ipynb",
   "parameters": {},
   "start_time": "2021-09-07T02:25:07.206292",
   "version": "2.3.3"
  },
  "widgets": {
   "application/vnd.jupyter.widget-state+json": {
    "state": {
     "131f7923e20d4c2da18194975d9547c1": {
      "model_module": "@jupyter-widgets/controls",
      "model_module_version": "1.5.0",
      "model_name": "DescriptionStyleModel",
      "state": {
       "_model_module": "@jupyter-widgets/controls",
       "_model_module_version": "1.5.0",
       "_model_name": "DescriptionStyleModel",
       "_view_count": null,
       "_view_module": "@jupyter-widgets/base",
       "_view_module_version": "1.2.0",
       "_view_name": "StyleView",
       "description_width": ""
      }
     },
     "38f4a9709a6e428fb42431eba29e5836": {
      "model_module": "@jupyter-widgets/controls",
      "model_module_version": "1.5.0",
      "model_name": "FloatProgressModel",
      "state": {
       "_dom_classes": [],
       "_model_module": "@jupyter-widgets/controls",
       "_model_module_version": "1.5.0",
       "_model_name": "FloatProgressModel",
       "_view_count": null,
       "_view_module": "@jupyter-widgets/controls",
       "_view_module_version": "1.5.0",
       "_view_name": "ProgressView",
       "bar_style": "success",
       "description": "",
       "description_tooltip": null,
       "layout": "IPY_MODEL_d9636528a3b34ac285f43c849e692013",
       "max": 96234,
       "min": 0,
       "orientation": "horizontal",
       "style": "IPY_MODEL_3a52e379d1ee471c88947e79d829da03",
       "value": 96234
      }
     },
     "3a52e379d1ee471c88947e79d829da03": {
      "model_module": "@jupyter-widgets/controls",
      "model_module_version": "1.5.0",
      "model_name": "ProgressStyleModel",
      "state": {
       "_model_module": "@jupyter-widgets/controls",
       "_model_module_version": "1.5.0",
       "_model_name": "ProgressStyleModel",
       "_view_count": null,
       "_view_module": "@jupyter-widgets/base",
       "_view_module_version": "1.2.0",
       "_view_name": "StyleView",
       "bar_color": null,
       "description_width": ""
      }
     },
     "50cb373f693f4e448473c1ee21c72d31": {
      "model_module": "@jupyter-widgets/controls",
      "model_module_version": "1.5.0",
      "model_name": "HTMLModel",
      "state": {
       "_dom_classes": [],
       "_model_module": "@jupyter-widgets/controls",
       "_model_module_version": "1.5.0",
       "_model_name": "HTMLModel",
       "_view_count": null,
       "_view_module": "@jupyter-widgets/controls",
       "_view_module_version": "1.5.0",
       "_view_name": "HTMLView",
       "description": "",
       "description_tooltip": null,
       "layout": "IPY_MODEL_d038383a69244025b30d753622764378",
       "placeholder": "​",
       "style": "IPY_MODEL_903996343a0643cca116ab6d98e41821",
       "value": " 96234/96234 [00:44&lt;00:00, 2103.93it/s]"
      }
     },
     "6e9b371698524dc8b5f0d57c5c5bf327": {
      "model_module": "@jupyter-widgets/base",
      "model_module_version": "1.2.0",
      "model_name": "LayoutModel",
      "state": {
       "_model_module": "@jupyter-widgets/base",
       "_model_module_version": "1.2.0",
       "_model_name": "LayoutModel",
       "_view_count": null,
       "_view_module": "@jupyter-widgets/base",
       "_view_module_version": "1.2.0",
       "_view_name": "LayoutView",
       "align_content": null,
       "align_items": null,
       "align_self": null,
       "border": null,
       "bottom": null,
       "display": null,
       "flex": null,
       "flex_flow": null,
       "grid_area": null,
       "grid_auto_columns": null,
       "grid_auto_flow": null,
       "grid_auto_rows": null,
       "grid_column": null,
       "grid_gap": null,
       "grid_row": null,
       "grid_template_areas": null,
       "grid_template_columns": null,
       "grid_template_rows": null,
       "height": null,
       "justify_content": null,
       "justify_items": null,
       "left": null,
       "margin": null,
       "max_height": null,
       "max_width": null,
       "min_height": null,
       "min_width": null,
       "object_fit": null,
       "object_position": null,
       "order": null,
       "overflow": null,
       "overflow_x": null,
       "overflow_y": null,
       "padding": null,
       "right": null,
       "top": null,
       "visibility": null,
       "width": null
      }
     },
     "903996343a0643cca116ab6d98e41821": {
      "model_module": "@jupyter-widgets/controls",
      "model_module_version": "1.5.0",
      "model_name": "DescriptionStyleModel",
      "state": {
       "_model_module": "@jupyter-widgets/controls",
       "_model_module_version": "1.5.0",
       "_model_name": "DescriptionStyleModel",
       "_view_count": null,
       "_view_module": "@jupyter-widgets/base",
       "_view_module_version": "1.2.0",
       "_view_name": "StyleView",
       "description_width": ""
      }
     },
     "a6b36ba385344593bb2f1aebadafbdde": {
      "model_module": "@jupyter-widgets/controls",
      "model_module_version": "1.5.0",
      "model_name": "HTMLModel",
      "state": {
       "_dom_classes": [],
       "_model_module": "@jupyter-widgets/controls",
       "_model_module_version": "1.5.0",
       "_model_name": "HTMLModel",
       "_view_count": null,
       "_view_module": "@jupyter-widgets/controls",
       "_view_module_version": "1.5.0",
       "_view_name": "HTMLView",
       "description": "",
       "description_tooltip": null,
       "layout": "IPY_MODEL_6e9b371698524dc8b5f0d57c5c5bf327",
       "placeholder": "​",
       "style": "IPY_MODEL_131f7923e20d4c2da18194975d9547c1",
       "value": "100%"
      }
     },
     "a959f64399c248acb0bc5f4f738835aa": {
      "model_module": "@jupyter-widgets/base",
      "model_module_version": "1.2.0",
      "model_name": "LayoutModel",
      "state": {
       "_model_module": "@jupyter-widgets/base",
       "_model_module_version": "1.2.0",
       "_model_name": "LayoutModel",
       "_view_count": null,
       "_view_module": "@jupyter-widgets/base",
       "_view_module_version": "1.2.0",
       "_view_name": "LayoutView",
       "align_content": null,
       "align_items": null,
       "align_self": null,
       "border": null,
       "bottom": null,
       "display": null,
       "flex": null,
       "flex_flow": null,
       "grid_area": null,
       "grid_auto_columns": null,
       "grid_auto_flow": null,
       "grid_auto_rows": null,
       "grid_column": null,
       "grid_gap": null,
       "grid_row": null,
       "grid_template_areas": null,
       "grid_template_columns": null,
       "grid_template_rows": null,
       "height": null,
       "justify_content": null,
       "justify_items": null,
       "left": null,
       "margin": null,
       "max_height": null,
       "max_width": null,
       "min_height": null,
       "min_width": null,
       "object_fit": null,
       "object_position": null,
       "order": null,
       "overflow": null,
       "overflow_x": null,
       "overflow_y": null,
       "padding": null,
       "right": null,
       "top": null,
       "visibility": null,
       "width": null
      }
     },
     "b441bddbfcbc4ceb893bad2c33bd3e78": {
      "model_module": "@jupyter-widgets/controls",
      "model_module_version": "1.5.0",
      "model_name": "HBoxModel",
      "state": {
       "_dom_classes": [],
       "_model_module": "@jupyter-widgets/controls",
       "_model_module_version": "1.5.0",
       "_model_name": "HBoxModel",
       "_view_count": null,
       "_view_module": "@jupyter-widgets/controls",
       "_view_module_version": "1.5.0",
       "_view_name": "HBoxView",
       "box_style": "",
       "children": [
        "IPY_MODEL_a6b36ba385344593bb2f1aebadafbdde",
        "IPY_MODEL_38f4a9709a6e428fb42431eba29e5836",
        "IPY_MODEL_50cb373f693f4e448473c1ee21c72d31"
       ],
       "layout": "IPY_MODEL_a959f64399c248acb0bc5f4f738835aa"
      }
     },
     "d038383a69244025b30d753622764378": {
      "model_module": "@jupyter-widgets/base",
      "model_module_version": "1.2.0",
      "model_name": "LayoutModel",
      "state": {
       "_model_module": "@jupyter-widgets/base",
       "_model_module_version": "1.2.0",
       "_model_name": "LayoutModel",
       "_view_count": null,
       "_view_module": "@jupyter-widgets/base",
       "_view_module_version": "1.2.0",
       "_view_name": "LayoutView",
       "align_content": null,
       "align_items": null,
       "align_self": null,
       "border": null,
       "bottom": null,
       "display": null,
       "flex": null,
       "flex_flow": null,
       "grid_area": null,
       "grid_auto_columns": null,
       "grid_auto_flow": null,
       "grid_auto_rows": null,
       "grid_column": null,
       "grid_gap": null,
       "grid_row": null,
       "grid_template_areas": null,
       "grid_template_columns": null,
       "grid_template_rows": null,
       "height": null,
       "justify_content": null,
       "justify_items": null,
       "left": null,
       "margin": null,
       "max_height": null,
       "max_width": null,
       "min_height": null,
       "min_width": null,
       "object_fit": null,
       "object_position": null,
       "order": null,
       "overflow": null,
       "overflow_x": null,
       "overflow_y": null,
       "padding": null,
       "right": null,
       "top": null,
       "visibility": null,
       "width": null
      }
     },
     "d9636528a3b34ac285f43c849e692013": {
      "model_module": "@jupyter-widgets/base",
      "model_module_version": "1.2.0",
      "model_name": "LayoutModel",
      "state": {
       "_model_module": "@jupyter-widgets/base",
       "_model_module_version": "1.2.0",
       "_model_name": "LayoutModel",
       "_view_count": null,
       "_view_module": "@jupyter-widgets/base",
       "_view_module_version": "1.2.0",
       "_view_name": "LayoutView",
       "align_content": null,
       "align_items": null,
       "align_self": null,
       "border": null,
       "bottom": null,
       "display": null,
       "flex": null,
       "flex_flow": null,
       "grid_area": null,
       "grid_auto_columns": null,
       "grid_auto_flow": null,
       "grid_auto_rows": null,
       "grid_column": null,
       "grid_gap": null,
       "grid_row": null,
       "grid_template_areas": null,
       "grid_template_columns": null,
       "grid_template_rows": null,
       "height": null,
       "justify_content": null,
       "justify_items": null,
       "left": null,
       "margin": null,
       "max_height": null,
       "max_width": null,
       "min_height": null,
       "min_width": null,
       "object_fit": null,
       "object_position": null,
       "order": null,
       "overflow": null,
       "overflow_x": null,
       "overflow_y": null,
       "padding": null,
       "right": null,
       "top": null,
       "visibility": null,
       "width": null
      }
     }
    },
    "version_major": 2,
    "version_minor": 0
   }
  }
 },
 "nbformat": 4,
 "nbformat_minor": 5
}
