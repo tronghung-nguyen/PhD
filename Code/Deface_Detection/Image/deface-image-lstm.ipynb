{
 "cells": [
  {
   "attachments": {},
   "cell_type": "markdown",
   "id": "749b8cfe",
   "metadata": {},
   "source": [
    "## Import libraries"
   ]
  },
  {
   "cell_type": "code",
   "execution_count": 1,
   "id": "880aa9f5",
   "metadata": {
    "_cell_guid": "b1076dfc-b9ad-4769-8c92-a6c4dae69d19",
    "_uuid": "8f2839f25d086af736a60e9eeb907d3b93b6e0e5",
    "execution": {
     "iopub.execute_input": "2021-09-07T07:51:54.215586Z",
     "iopub.status.busy": "2021-09-07T07:51:54.213865Z",
     "iopub.status.idle": "2021-09-07T07:52:00.120299Z",
     "shell.execute_reply": "2021-09-07T07:52:00.119503Z",
     "shell.execute_reply.started": "2021-09-06T13:44:01.647884Z"
    },
    "papermill": {
     "duration": 5.920516,
     "end_time": "2021-09-07T07:52:00.120465",
     "exception": false,
     "start_time": "2021-09-07T07:51:54.199949",
     "status": "completed"
    },
    "tags": []
   },
   "outputs": [],
   "source": [
    "import numpy as np\n",
    "import pandas as pd\n",
    "import tensorflow as tf\n",
    "from matplotlib import pyplot as plt\n",
    "from kaggle_datasets import KaggleDatasets\n",
    "from kaggle_secrets import UserSecretsClient\n",
    "from glob import glob\n",
    "from tqdm.notebook import tqdm\n",
    "from multiprocessing import cpu_count\n",
    "from joblib import Parallel, delayed\n",
    "from tensorflow.keras.models import Sequential\n",
    "from tensorflow.keras import layers as L\n",
    "from tensorflow.keras.utils import to_categorical\n",
    "from tensorflow.keras.callbacks import LearningRateScheduler, ModelCheckpoint\n",
    "from sklearn.model_selection import train_test_split\n",
    "from sklearn import metrics\n",
    "\n",
    "%matplotlib inline"
   ]
  },
  {
   "attachments": {},
   "cell_type": "markdown",
   "id": "9582092b",
   "metadata": {},
   "source": [
    "## TPU"
   ]
  },
  {
   "cell_type": "code",
   "execution_count": 2,
   "id": "21e988e2",
   "metadata": {
    "execution": {
     "iopub.execute_input": "2021-09-07T07:52:00.154418Z",
     "iopub.status.busy": "2021-09-07T07:52:00.153703Z",
     "iopub.status.idle": "2021-09-07T07:52:06.755079Z",
     "shell.execute_reply": "2021-09-07T07:52:06.755541Z",
     "shell.execute_reply.started": "2021-09-06T13:44:01.662051Z"
    },
    "papermill": {
     "duration": 6.62419,
     "end_time": "2021-09-07T07:52:06.755721",
     "exception": false,
     "start_time": "2021-09-07T07:52:00.131531",
     "status": "completed"
    },
    "tags": []
   },
   "outputs": [
    {
     "name": "stdout",
     "output_type": "stream",
     "text": [
      "Running on TPU: grpc://10.0.0.2:8470\n",
      "N_JOBS: 4\n",
      "Batch size: 64\n",
      "GCS_DS_PATH: gs://kds-2aeefe0022f415bdd00f8354ec57453cf93ca4b321559e4bf690317c\n"
     ]
    }
   ],
   "source": [
    "try:\n",
    "    tpu = tf.distribute.cluster_resolver.TPUClusterResolver()\n",
    "    print('Running on TPU:', tpu.master())\n",
    "except ValueError:\n",
    "    tpu = None\n",
    "\n",
    "if tpu:\n",
    "    tf.config.experimental_connect_to_cluster(tpu)\n",
    "    tf.tpu.experimental.initialize_tpu_system(tpu)\n",
    "    strategy = tf.distribute.experimental.TPUStrategy(tpu)\n",
    "else:\n",
    "    strategy = tf.distribute.get_strategy()\n",
    "\n",
    "user_secrets = UserSecretsClient()\n",
    "user_credential = user_secrets.get_gcloud_credential()\n",
    "user_secrets.set_tensorflow_credential(user_credential)\n",
    "GCS_DS_PATH = KaggleDatasets().get_gcs_path('website-defacement')\n",
    "\n",
    "AUTO = tf.data.experimental.AUTOTUNE\n",
    "BATCH_SIZE = 8 * strategy.num_replicas_in_sync\n",
    "N_JOBS = cpu_count()\n",
    "\n",
    "IMG_SIZE = 224\n",
    "EPOCHS = 50\n",
    "\n",
    "print('N_JOBS:', N_JOBS)\n",
    "print('Batch size:', BATCH_SIZE)\n",
    "print('GCS_DS_PATH:', GCS_DS_PATH)"
   ]
  },
  {
   "attachments": {},
   "cell_type": "markdown",
   "id": "2f08785c",
   "metadata": {},
   "source": [
    "## Prepare data"
   ]
  },
  {
   "cell_type": "code",
   "execution_count": 3,
   "id": "1cb67a52",
   "metadata": {
    "execution": {
     "iopub.execute_input": "2021-09-07T07:52:06.782719Z",
     "iopub.status.busy": "2021-09-07T07:52:06.782147Z",
     "iopub.status.idle": "2021-09-07T07:53:08.332627Z",
     "shell.execute_reply": "2021-09-07T07:53:08.332126Z",
     "shell.execute_reply.started": "2021-09-06T13:44:08.284754Z"
    },
    "papermill": {
     "duration": 61.567567,
     "end_time": "2021-09-07T07:53:08.332777",
     "exception": false,
     "start_time": "2021-09-07T07:52:06.765210",
     "status": "completed"
    },
    "tags": []
   },
   "outputs": [
    {
     "data": {
      "application/vnd.jupyter.widget-view+json": {
       "model_id": "6dd543fd986447cb944842bffb373a1e",
       "version_major": 2,
       "version_minor": 0
      },
      "text/plain": [
       "  0%|          | 0/96234 [00:00<?, ?it/s]"
      ]
     },
     "metadata": {},
     "output_type": "display_data"
    },
    {
     "name": "stdout",
     "output_type": "stream",
     "text": [
      "57740 19247 19247\n"
     ]
    }
   ],
   "source": [
    "dataset_path = '../input/website-defacement/dataset/'\n",
    "img_paths = glob(dataset_path + 'image/*/*')\n",
    "txt_paths = glob(dataset_path + 'text/*/*')\n",
    "img_names = [path.split('/')[-1][:-4] for path in img_paths]\n",
    "txt_names = [path.split('/')[-1][:-4] for path in txt_paths]\n",
    "names = list(set(img_names).intersection(txt_names))\n",
    "\n",
    "def prepare_data(name):\n",
    "    if glob(dataset_path + f'image/defaced/{name}.png'):\n",
    "        return (f'{GCS_DS_PATH}/dataset/image/defaced/{name}.png', 1)\n",
    "    else:\n",
    "        return (f'{GCS_DS_PATH}/dataset/image/benign/{name}.png', 0)\n",
    "\n",
    "output = Parallel(n_jobs=N_JOBS)(delayed(prepare_data)(name) for name in tqdm(names))\n",
    "X, y = zip(*output)\n",
    "\n",
    "X_train, X_test, y_train, y_test = train_test_split(X, y, test_size=0.2, random_state=42)\n",
    "y_train = to_categorical(y_train, num_classes=2)\n",
    "X_train, X_valid, y_train, y_valid = train_test_split(X_train, y_train, test_size=0.25, \n",
    "                                                      random_state=42)\n",
    "\n",
    "print(len(X_train), len(X_valid), len(X_test))"
   ]
  },
  {
   "attachments": {},
   "cell_type": "markdown",
   "id": "d29e76f3",
   "metadata": {},
   "source": [
    "## Dataset"
   ]
  },
  {
   "cell_type": "code",
   "execution_count": 4,
   "id": "ba1aefc8",
   "metadata": {
    "execution": {
     "iopub.execute_input": "2021-09-07T07:53:08.354869Z",
     "iopub.status.busy": "2021-09-07T07:53:08.354257Z",
     "iopub.status.idle": "2021-09-07T07:53:08.961609Z",
     "shell.execute_reply": "2021-09-07T07:53:08.961126Z",
     "shell.execute_reply.started": "2021-09-06T13:44:09.771606Z"
    },
    "papermill": {
     "duration": 0.619325,
     "end_time": "2021-09-07T07:53:08.961741",
     "exception": false,
     "start_time": "2021-09-07T07:53:08.342416",
     "status": "completed"
    },
    "tags": []
   },
   "outputs": [],
   "source": [
    "def decode_image(filename, label=None):\n",
    "    bits = tf.io.read_file(filename)\n",
    "    image = tf.image.decode_png(bits, channels=1)\n",
    "    image = tf.cast(image, tf.float32) / 255.0\n",
    "    image = tf.image.resize(image, (IMG_SIZE, IMG_SIZE))\n",
    "    image = tf.reshape(image, (IMG_SIZE, IMG_SIZE))\n",
    "    \n",
    "    if label is None:\n",
    "        return image\n",
    "    else:\n",
    "        return image, label\n",
    "\n",
    "train_dataset = (\n",
    "    tf.data.TFRecordDataset\n",
    "    .from_tensor_slices((X_train, y_train))\n",
    "    .shuffle(100000)\n",
    "    .map(decode_image, num_parallel_calls=AUTO)\n",
    "    .cache()\n",
    "    .repeat()\n",
    "    .batch(BATCH_SIZE)\n",
    "    .prefetch(AUTO)\n",
    ")\n",
    "\n",
    "test_dataset = (\n",
    "    tf.data.TFRecordDataset\n",
    "    .from_tensor_slices(X_test)\n",
    "    .map(decode_image, num_parallel_calls=AUTO)\n",
    "    .batch(BATCH_SIZE)\n",
    ")\n",
    "\n",
    "valid_dataset = (\n",
    "    tf.data.TFRecordDataset\n",
    "    .from_tensor_slices((X_valid, y_valid))\n",
    "    .map(decode_image, num_parallel_calls=AUTO)\n",
    "    .cache()\n",
    "    .batch(BATCH_SIZE)\n",
    "    .prefetch(AUTO)\n",
    ")"
   ]
  },
  {
   "cell_type": "code",
   "execution_count": 5,
   "id": "672c778a",
   "metadata": {
    "execution": {
     "iopub.execute_input": "2021-09-07T07:53:09.003951Z",
     "iopub.status.busy": "2021-09-07T07:53:09.003205Z",
     "iopub.status.idle": "2021-09-07T07:53:09.163289Z",
     "shell.execute_reply": "2021-09-07T07:53:09.162743Z",
     "shell.execute_reply.started": "2021-09-06T13:44:09.84223Z"
    },
    "papermill": {
     "duration": 0.192087,
     "end_time": "2021-09-07T07:53:09.163443",
     "exception": false,
     "start_time": "2021-09-07T07:53:08.971356",
     "status": "completed"
    },
    "tags": []
   },
   "outputs": [
    {
     "data": {
      "text/plain": [
       "[<matplotlib.lines.Line2D at 0x7f5989ad58d0>]"
      ]
     },
     "execution_count": 5,
     "metadata": {},
     "output_type": "execute_result"
    },
    {
     "data": {
      "image/png": "[encoded data removed]",
      "text/plain": [
       "<Figure size 432x288 with 1 Axes>"
      ]
     },
     "metadata": {
      "needs_background": "light"
     },
     "output_type": "display_data"
    }
   ],
   "source": [
    "def lrfn(epoch=EPOCHS,\n",
    "         lr_start=1e-4,\n",
    "         lr_max=5e-5 * 8, \n",
    "         lr_min=1e-4,\n",
    "         lr_rampup_epochs=5,\n",
    "         lr_sustain_epochs=5,\n",
    "         lr_exp_decay=0.8):\n",
    "    if epoch < lr_rampup_epochs:\n",
    "        lr = (lr_max-lr_start)/lr_rampup_epochs*epoch + lr_start\n",
    "    elif epoch < lr_rampup_epochs + lr_sustain_epochs:\n",
    "        lr = lr_max\n",
    "    else:\n",
    "        lr = (lr_max-lr_min)*lr_exp_decay**(epoch-lr_rampup_epochs-lr_sustain_epochs) + lr_min\n",
    "    return lr\n",
    "\n",
    "def plot_hist(hist):\n",
    "    plt.plot(hist.history[\"accuracy\"])\n",
    "    plt.plot(hist.history[\"val_accuracy\"])\n",
    "    plt.title(\"model accuracy\")\n",
    "    plt.ylabel(\"accuracy\")\n",
    "    plt.xlabel(\"epoch\")\n",
    "    plt.legend([\"train\", \"validation\"], loc=\"upper left\")\n",
    "    plt.show()\n",
    "\n",
    "y = [lrfn(x) for x in range(EPOCHS)]\n",
    "plt.plot(y)"
   ]
  },
  {
   "attachments": {},
   "cell_type": "markdown",
   "id": "69a80699",
   "metadata": {},
   "source": [
    "## Model"
   ]
  },
  {
   "cell_type": "code",
   "execution_count": 6,
   "id": "9a32ffb7",
   "metadata": {
    "execution": {
     "iopub.execute_input": "2021-09-07T07:53:09.192607Z",
     "iopub.status.busy": "2021-09-07T07:53:09.192035Z",
     "iopub.status.idle": "2021-09-07T07:53:10.691060Z",
     "shell.execute_reply": "2021-09-07T07:53:10.691547Z",
     "shell.execute_reply.started": "2021-09-06T13:44:10.041408Z"
    },
    "papermill": {
     "duration": 1.517814,
     "end_time": "2021-09-07T07:53:10.691711",
     "exception": false,
     "start_time": "2021-09-07T07:53:09.173897",
     "status": "completed"
    },
    "tags": []
   },
   "outputs": [
    {
     "name": "stdout",
     "output_type": "stream",
     "text": [
      "Model: \"sequential\"\n",
      "_________________________________________________________________\n",
      "Layer (type)                 Output Shape              Param #   \n",
      "=================================================================\n",
      "bidirectional (Bidirectional (None, 224, 128)          147968    \n",
      "_________________________________________________________________\n",
      "bidirectional_1 (Bidirection (None, 224, 128)          98816     \n",
      "_________________________________________________________________\n",
      "bidirectional_2 (Bidirection (None, 128)               98816     \n",
      "_________________________________________________________________\n",
      "dense (Dense)                (None, 16)                2064      \n",
      "_________________________________________________________________\n",
      "batch_normalization (BatchNo (None, 16)                64        \n",
      "_________________________________________________________________\n",
      "dense_1 (Dense)              (None, 2)                 34        \n",
      "=================================================================\n",
      "Total params: 347,762\n",
      "Trainable params: 347,730\n",
      "Non-trainable params: 32\n",
      "_________________________________________________________________\n",
      "None\n"
     ]
    }
   ],
   "source": [
    "with strategy.scope():\n",
    "    model = Sequential()\n",
    "    model.add(L.Bidirectional(L.LSTM(units=64, return_sequences=True, dropout=0.2, \n",
    "                                     recurrent_dropout=0.2), input_shape=(IMG_SIZE, IMG_SIZE)))\n",
    "    model.add(L.Bidirectional(L.LSTM(units=64, return_sequences=True, dropout=0.2, \n",
    "                                     recurrent_dropout=0.2)))\n",
    "    model.add(L.Bidirectional(L.LSTM(units=64, dropout=0.2, recurrent_dropout=0.2)))\n",
    "    model.add(L.Dense(16, activation='softmax'))\n",
    "    model.add(L.BatchNormalization())\n",
    "    model.add(L.Dense(2, activation='softmax'))\n",
    "    model.compile(optimizer='adam', loss='categorical_crossentropy', metrics=['accuracy'])\n",
    "    \n",
    "print(model.summary())"
   ]
  },
  {
   "attachments": {},
   "cell_type": "markdown",
   "id": "86d48461",
   "metadata": {},
   "source": [
    "## Train model"
   ]
  },
  {
   "cell_type": "code",
   "execution_count": 7,
   "id": "b2df3656",
   "metadata": {
    "execution": {
     "iopub.execute_input": "2021-09-07T07:53:10.720406Z",
     "iopub.status.busy": "2021-09-07T07:53:10.719693Z",
     "iopub.status.idle": "2021-09-07T09:16:25.050744Z",
     "shell.execute_reply": "2021-09-07T09:16:25.051277Z",
     "shell.execute_reply.started": "2021-09-06T13:44:28.765118Z"
    },
    "papermill": {
     "duration": 4994.348566,
     "end_time": "2021-09-07T09:16:25.051447",
     "exception": false,
     "start_time": "2021-09-07T07:53:10.702881",
     "status": "completed"
    },
    "tags": []
   },
   "outputs": [
    {
     "name": "stdout",
     "output_type": "stream",
     "text": [
      "Epoch 1/50\n",
      "902/902 - 2460s - loss: 0.5188 - accuracy: 0.7599 - val_loss: 0.5751 - val_accuracy: 0.5720\n",
      "Epoch 2/50\n",
      "902/902 - 52s - loss: 0.4847 - accuracy: 0.7634 - val_loss: 0.4204 - val_accuracy: 0.7991\n",
      "Epoch 3/50\n",
      "902/902 - 52s - loss: 0.4499 - accuracy: 0.7794 - val_loss: 0.3994 - val_accuracy: 0.8239\n",
      "Epoch 4/50\n",
      "902/902 - 51s - loss: 0.4238 - accuracy: 0.8060 - val_loss: 0.3988 - val_accuracy: 0.8158\n",
      "Epoch 5/50\n",
      "902/902 - 52s - loss: 0.4068 - accuracy: 0.8180 - val_loss: 0.3805 - val_accuracy: 0.8246\n",
      "Epoch 6/50\n",
      "902/902 - 51s - loss: 0.3922 - accuracy: 0.8292 - val_loss: 0.3743 - val_accuracy: 0.8224\n",
      "Epoch 7/50\n",
      "902/902 - 52s - loss: 0.3828 - accuracy: 0.8336 - val_loss: 0.3640 - val_accuracy: 0.8153\n",
      "Epoch 8/50\n",
      "902/902 - 52s - loss: 0.3715 - accuracy: 0.8395 - val_loss: 0.3340 - val_accuracy: 0.8617\n",
      "Epoch 9/50\n",
      "902/902 - 52s - loss: 0.3637 - accuracy: 0.8433 - val_loss: 0.3499 - val_accuracy: 0.8402\n",
      "Epoch 10/50\n",
      "902/902 - 52s - loss: 0.3577 - accuracy: 0.8467 - val_loss: 0.3281 - val_accuracy: 0.8651\n",
      "Epoch 11/50\n",
      "902/902 - 52s - loss: 0.3521 - accuracy: 0.8485 - val_loss: 0.3228 - val_accuracy: 0.8697\n",
      "Epoch 12/50\n",
      "902/902 - 52s - loss: 0.3443 - accuracy: 0.8538 - val_loss: 0.3237 - val_accuracy: 0.8710\n",
      "Epoch 13/50\n",
      "902/902 - 52s - loss: 0.3369 - accuracy: 0.8568 - val_loss: 0.3188 - val_accuracy: 0.8522\n",
      "Epoch 14/50\n",
      "902/902 - 52s - loss: 0.3302 - accuracy: 0.8597 - val_loss: 0.2956 - val_accuracy: 0.8775\n",
      "Epoch 15/50\n",
      "902/902 - 52s - loss: 0.3242 - accuracy: 0.8645 - val_loss: 0.2917 - val_accuracy: 0.8803\n",
      "Epoch 16/50\n",
      "902/902 - 51s - loss: 0.3202 - accuracy: 0.8644 - val_loss: 0.2894 - val_accuracy: 0.8816\n",
      "Epoch 17/50\n",
      "902/902 - 52s - loss: 0.3171 - accuracy: 0.8662 - val_loss: 0.2905 - val_accuracy: 0.8817\n",
      "Epoch 18/50\n",
      "902/902 - 52s - loss: 0.3121 - accuracy: 0.8690 - val_loss: 0.2902 - val_accuracy: 0.8804\n",
      "Epoch 19/50\n",
      "902/902 - 51s - loss: 0.3076 - accuracy: 0.8713 - val_loss: 0.2867 - val_accuracy: 0.8804\n",
      "Epoch 20/50\n",
      "902/902 - 52s - loss: 0.3046 - accuracy: 0.8722 - val_loss: 0.2854 - val_accuracy: 0.8835\n",
      "Epoch 21/50\n",
      "902/902 - 52s - loss: 0.3027 - accuracy: 0.8736 - val_loss: 0.2816 - val_accuracy: 0.8830\n",
      "Epoch 22/50\n",
      "902/902 - 52s - loss: 0.2993 - accuracy: 0.8747 - val_loss: 0.2854 - val_accuracy: 0.8844\n",
      "Epoch 23/50\n",
      "902/902 - 52s - loss: 0.2961 - accuracy: 0.8766 - val_loss: 0.2807 - val_accuracy: 0.8845\n",
      "Epoch 24/50\n",
      "902/902 - 52s - loss: 0.2942 - accuracy: 0.8779 - val_loss: 0.2787 - val_accuracy: 0.8863\n",
      "Epoch 25/50\n",
      "902/902 - 52s - loss: 0.2914 - accuracy: 0.8800 - val_loss: 0.2810 - val_accuracy: 0.8839\n",
      "Epoch 26/50\n",
      "902/902 - 52s - loss: 0.2923 - accuracy: 0.8784 - val_loss: 0.2769 - val_accuracy: 0.8882\n",
      "Epoch 27/50\n",
      "902/902 - 52s - loss: 0.2896 - accuracy: 0.8807 - val_loss: 0.2871 - val_accuracy: 0.8831\n",
      "Epoch 28/50\n",
      "902/902 - 52s - loss: 0.2879 - accuracy: 0.8798 - val_loss: 0.2758 - val_accuracy: 0.8861\n",
      "Epoch 29/50\n",
      "902/902 - 52s - loss: 0.2861 - accuracy: 0.8807 - val_loss: 0.2808 - val_accuracy: 0.8851\n",
      "Epoch 30/50\n",
      "902/902 - 51s - loss: 0.2848 - accuracy: 0.8830 - val_loss: 0.2749 - val_accuracy: 0.8878\n",
      "Epoch 31/50\n",
      "902/902 - 52s - loss: 0.2836 - accuracy: 0.8824 - val_loss: 0.2828 - val_accuracy: 0.8825\n",
      "Epoch 32/50\n",
      "902/902 - 51s - loss: 0.2816 - accuracy: 0.8832 - val_loss: 0.2772 - val_accuracy: 0.8858\n",
      "Epoch 33/50\n",
      "902/902 - 51s - loss: 0.2805 - accuracy: 0.8847 - val_loss: 0.2798 - val_accuracy: 0.8876\n",
      "Epoch 34/50\n",
      "902/902 - 52s - loss: 0.2796 - accuracy: 0.8841 - val_loss: 0.2843 - val_accuracy: 0.8835\n",
      "Epoch 35/50\n",
      "902/902 - 52s - loss: 0.2778 - accuracy: 0.8858 - val_loss: 0.2741 - val_accuracy: 0.8875\n",
      "Epoch 36/50\n",
      "902/902 - 52s - loss: 0.2762 - accuracy: 0.8858 - val_loss: 0.2775 - val_accuracy: 0.8854\n",
      "Epoch 37/50\n",
      "902/902 - 52s - loss: 0.2759 - accuracy: 0.8869 - val_loss: 0.2808 - val_accuracy: 0.8870\n",
      "Epoch 38/50\n",
      "902/902 - 52s - loss: 0.2750 - accuracy: 0.8876 - val_loss: 0.2752 - val_accuracy: 0.8875\n",
      "Epoch 39/50\n",
      "902/902 - 51s - loss: 0.2729 - accuracy: 0.8872 - val_loss: 0.2769 - val_accuracy: 0.8888\n",
      "Epoch 40/50\n",
      "902/902 - 52s - loss: 0.2741 - accuracy: 0.8866 - val_loss: 0.2752 - val_accuracy: 0.8869\n",
      "Epoch 41/50\n",
      "902/902 - 52s - loss: 0.2709 - accuracy: 0.8888 - val_loss: 0.2733 - val_accuracy: 0.8899\n",
      "Epoch 42/50\n",
      "902/902 - 52s - loss: 0.2712 - accuracy: 0.8888 - val_loss: 0.2769 - val_accuracy: 0.8896\n",
      "Epoch 43/50\n",
      "902/902 - 52s - loss: 0.2696 - accuracy: 0.8882 - val_loss: 0.2696 - val_accuracy: 0.8921\n",
      "Epoch 44/50\n",
      "902/902 - 52s - loss: 0.2687 - accuracy: 0.8906 - val_loss: 0.2761 - val_accuracy: 0.8861\n",
      "Epoch 45/50\n",
      "902/902 - 52s - loss: 0.2662 - accuracy: 0.8901 - val_loss: 0.2756 - val_accuracy: 0.8891\n",
      "Epoch 46/50\n",
      "902/902 - 52s - loss: 0.2659 - accuracy: 0.8909 - val_loss: 0.2788 - val_accuracy: 0.8892\n",
      "Epoch 47/50\n",
      "902/902 - 52s - loss: 0.2657 - accuracy: 0.8909 - val_loss: 0.2741 - val_accuracy: 0.8895\n",
      "Epoch 48/50\n",
      "902/902 - 52s - loss: 0.2647 - accuracy: 0.8912 - val_loss: 0.2701 - val_accuracy: 0.8917\n",
      "Epoch 49/50\n",
      "902/902 - 52s - loss: 0.2639 - accuracy: 0.8914 - val_loss: 0.2720 - val_accuracy: 0.8910\n",
      "Epoch 50/50\n",
      "902/902 - 52s - loss: 0.2627 - accuracy: 0.8931 - val_loss: 0.2739 - val_accuracy: 0.8919\n"
     ]
    }
   ],
   "source": [
    "lrs = LearningRateScheduler(lrfn)  \n",
    "mc = ModelCheckpoint('weights.h5', save_best_only=True, save_weights_only=True)\n",
    "steps_per_epoch = len(y_train) // BATCH_SIZE\n",
    "\n",
    "hist = model.fit(train_dataset, epochs=EPOCHS, steps_per_epoch=steps_per_epoch, callbacks=[lrs, mc], \n",
    "                 validation_data=valid_dataset, verbose=2)"
   ]
  },
  {
   "cell_type": "code",
   "execution_count": 8,
   "id": "b6d248ca",
   "metadata": {
    "execution": {
     "iopub.execute_input": "2021-09-07T09:16:25.162777Z",
     "iopub.status.busy": "2021-09-07T09:16:25.158304Z",
     "iopub.status.idle": "2021-09-07T09:16:25.287458Z",
     "shell.execute_reply": "2021-09-07T09:16:25.286879Z",
     "shell.execute_reply.started": "2021-09-06T13:47:47.053502Z"
    },
    "papermill": {
     "duration": 0.195678,
     "end_time": "2021-09-07T09:16:25.287589",
     "exception": false,
     "start_time": "2021-09-07T09:16:25.091911",
     "status": "completed"
    },
    "tags": []
   },
   "outputs": [
    {
     "data": {
      "image/png": "[encoded data removed]",
      "text/plain": [
       "<Figure size 432x288 with 1 Axes>"
      ]
     },
     "metadata": {
      "needs_background": "light"
     },
     "output_type": "display_data"
    }
   ],
   "source": [
    "plot_hist(hist)"
   ]
  },
  {
   "attachments": {},
   "cell_type": "markdown",
   "id": "c67a3b8a",
   "metadata": {},
   "source": [
    "## Evaluate"
   ]
  },
  {
   "cell_type": "code",
   "execution_count": 9,
   "id": "9e8ba21b",
   "metadata": {
    "execution": {
     "iopub.execute_input": "2021-09-07T09:16:25.395064Z",
     "iopub.status.busy": "2021-09-07T09:16:25.394308Z",
     "iopub.status.idle": "2021-09-07T09:25:28.513530Z",
     "shell.execute_reply": "2021-09-07T09:25:28.514071Z",
     "shell.execute_reply.started": "2021-09-06T13:48:56.999507Z"
    },
    "papermill": {
     "duration": 543.184264,
     "end_time": "2021-09-07T09:25:28.514245",
     "exception": false,
     "start_time": "2021-09-07T09:16:25.329981",
     "status": "completed"
    },
    "tags": []
   },
   "outputs": [
    {
     "name": "stdout",
     "output_type": "stream",
     "text": [
      "              precision    recall  f1-score   support\n",
      "\n",
      "           0     0.9012    0.9187    0.9099     11446\n",
      "           1     0.8773    0.8522    0.8646      7801\n",
      "\n",
      "    accuracy                         0.8918     19247\n",
      "   macro avg     0.8892    0.8855    0.8872     19247\n",
      "weighted avg     0.8915    0.8918    0.8915     19247\n",
      "\n",
      "[[10516   930]\n",
      " [ 1153  6648]]\n",
      "      TPR       FPR       FNR   ROC AUC\n",
      "   0.8522    0.0813    0.1478    0.9555\n"
     ]
    }
   ],
   "source": [
    "with strategy.scope():\n",
    "    model.load_weights('weights.h5')\n",
    "\n",
    "y_prob = model.predict(test_dataset)\n",
    "y_pred = np.argmax(y_prob, axis=1)\n",
    "\n",
    "clf_report = metrics.classification_report(y_test, y_pred, digits=4)\n",
    "cnf_matrix = metrics.confusion_matrix(y_test, y_pred)\n",
    "TN, FP, FN, TP = cnf_matrix.ravel()\n",
    "TPR = TP / (TP + FN)\n",
    "FPR = FP / (FP + TN)\n",
    "FNR = FN / (FN + TP)\n",
    "fpr, tpr, _ = metrics.roc_curve(y_test, y_prob[:, 1])\n",
    "auc = metrics.roc_auc_score(y_test, y_prob[:, 1])\n",
    "other_metrics = pd.DataFrame({'TPR': '%.4f' % TPR, \n",
    "                              'FPR': '%.4f' % FPR, \n",
    "                              'FNR': '%.4f' % FNR, \n",
    "                              'ROC AUC': '%.4f' % auc}, index=[0]).to_string(col_space=9, index=False)\n",
    "print(clf_report)\n",
    "print(cnf_matrix)\n",
    "print(other_metrics)"
   ]
  }
 ],
 "metadata": {
  "kernelspec": {
   "display_name": "Python 3",
   "language": "python",
   "name": "python3"
  },
  "language_info": {
   "codemirror_mode": {
    "name": "ipython",
    "version": 3
   },
   "file_extension": ".py",
   "mimetype": "text/x-python",
   "name": "python",
   "nbconvert_exporter": "python",
   "pygments_lexer": "ipython3",
   "version": "3.7.10"
  },
  "papermill": {
   "default_parameters": {},
   "duration": 5624.274924,
   "end_time": "2021-09-07T09:25:31.034207",
   "environment_variables": {},
   "exception": null,
   "input_path": "__notebook__.ipynb",
   "output_path": "__notebook__.ipynb",
   "parameters": {},
   "start_time": "2021-09-07T07:51:46.759283",
   "version": "2.3.3"
  },
  "widgets": {
   "application/vnd.jupyter.widget-state+json": {
    "state": {
     "035dcb57836b45e68d2f17a6a73a21d9": {
      "model_module": "@jupyter-widgets/controls",
      "model_module_version": "1.5.0",
      "model_name": "HTMLModel",
      "state": {
       "_dom_classes": [],
       "_model_module": "@jupyter-widgets/controls",
       "_model_module_version": "1.5.0",
       "_model_name": "HTMLModel",
       "_view_count": null,
       "_view_module": "@jupyter-widgets/controls",
       "_view_module_version": "1.5.0",
       "_view_name": "HTMLView",
       "description": "",
       "description_tooltip": null,
       "layout": "IPY_MODEL_4c29adc71781413d8ee2452994ea6d2c",
       "placeholder": "​",
       "style": "IPY_MODEL_7600ba0ecb3349b89d1d04cfa1ab819a",
       "value": "100%"
      }
     },
     "17f028e2bb74402d89d3b73d9ba1cf3a": {
      "model_module": "@jupyter-widgets/base",
      "model_module_version": "1.2.0",
      "model_name": "LayoutModel",
      "state": {
       "_model_module": "@jupyter-widgets/base",
       "_model_module_version": "1.2.0",
       "_model_name": "LayoutModel",
       "_view_count": null,
       "_view_module": "@jupyter-widgets/base",
       "_view_module_version": "1.2.0",
       "_view_name": "LayoutView",
       "align_content": null,
       "align_items": null,
       "align_self": null,
       "border": null,
       "bottom": null,
       "display": null,
       "flex": null,
       "flex_flow": null,
       "grid_area": null,
       "grid_auto_columns": null,
       "grid_auto_flow": null,
       "grid_auto_rows": null,
       "grid_column": null,
       "grid_gap": null,
       "grid_row": null,
       "grid_template_areas": null,
       "grid_template_columns": null,
       "grid_template_rows": null,
       "height": null,
       "justify_content": null,
       "justify_items": null,
       "left": null,
       "margin": null,
       "max_height": null,
       "max_width": null,
       "min_height": null,
       "min_width": null,
       "object_fit": null,
       "object_position": null,
       "order": null,
       "overflow": null,
       "overflow_x": null,
       "overflow_y": null,
       "padding": null,
       "right": null,
       "top": null,
       "visibility": null,
       "width": null
      }
     },
     "18c51e67a4e64130b12c770efd635616": {
      "model_module": "@jupyter-widgets/base",
      "model_module_version": "1.2.0",
      "model_name": "LayoutModel",
      "state": {
       "_model_module": "@jupyter-widgets/base",
       "_model_module_version": "1.2.0",
       "_model_name": "LayoutModel",
       "_view_count": null,
       "_view_module": "@jupyter-widgets/base",
       "_view_module_version": "1.2.0",
       "_view_name": "LayoutView",
       "align_content": null,
       "align_items": null,
       "align_self": null,
       "border": null,
       "bottom": null,
       "display": null,
       "flex": null,
       "flex_flow": null,
       "grid_area": null,
       "grid_auto_columns": null,
       "grid_auto_flow": null,
       "grid_auto_rows": null,
       "grid_column": null,
       "grid_gap": null,
       "grid_row": null,
       "grid_template_areas": null,
       "grid_template_columns": null,
       "grid_template_rows": null,
       "height": null,
       "justify_content": null,
       "justify_items": null,
       "left": null,
       "margin": null,
       "max_height": null,
       "max_width": null,
       "min_height": null,
       "min_width": null,
       "object_fit": null,
       "object_position": null,
       "order": null,
       "overflow": null,
       "overflow_x": null,
       "overflow_y": null,
       "padding": null,
       "right": null,
       "top": null,
       "visibility": null,
       "width": null
      }
     },
     "1f4f639a9b934bd8aeb29ed9f58baa0d": {
      "model_module": "@jupyter-widgets/controls",
      "model_module_version": "1.5.0",
      "model_name": "FloatProgressModel",
      "state": {
       "_dom_classes": [],
       "_model_module": "@jupyter-widgets/controls",
       "_model_module_version": "1.5.0",
       "_model_name": "FloatProgressModel",
       "_view_count": null,
       "_view_module": "@jupyter-widgets/controls",
       "_view_module_version": "1.5.0",
       "_view_name": "ProgressView",
       "bar_style": "success",
       "description": "",
       "description_tooltip": null,
       "layout": "IPY_MODEL_6bfca5c2d791473b85501c8e6e1ca717",
       "max": 96234,
       "min": 0,
       "orientation": "horizontal",
       "style": "IPY_MODEL_2f410f1ac57e4db598e6111ece852897",
       "value": 96234
      }
     },
     "2f410f1ac57e4db598e6111ece852897": {
      "model_module": "@jupyter-widgets/controls",
      "model_module_version": "1.5.0",
      "model_name": "ProgressStyleModel",
      "state": {
       "_model_module": "@jupyter-widgets/controls",
       "_model_module_version": "1.5.0",
       "_model_name": "ProgressStyleModel",
       "_view_count": null,
       "_view_module": "@jupyter-widgets/base",
       "_view_module_version": "1.2.0",
       "_view_name": "StyleView",
       "bar_color": null,
       "description_width": ""
      }
     },
     "4c29adc71781413d8ee2452994ea6d2c": {
      "model_module": "@jupyter-widgets/base",
      "model_module_version": "1.2.0",
      "model_name": "LayoutModel",
      "state": {
       "_model_module": "@jupyter-widgets/base",
       "_model_module_version": "1.2.0",
       "_model_name": "LayoutModel",
       "_view_count": null,
       "_view_module": "@jupyter-widgets/base",
       "_view_module_version": "1.2.0",
       "_view_name": "LayoutView",
       "align_content": null,
       "align_items": null,
       "align_self": null,
       "border": null,
       "bottom": null,
       "display": null,
       "flex": null,
       "flex_flow": null,
       "grid_area": null,
       "grid_auto_columns": null,
       "grid_auto_flow": null,
       "grid_auto_rows": null,
       "grid_column": null,
       "grid_gap": null,
       "grid_row": null,
       "grid_template_areas": null,
       "grid_template_columns": null,
       "grid_template_rows": null,
       "height": null,
       "justify_content": null,
       "justify_items": null,
       "left": null,
       "margin": null,
       "max_height": null,
       "max_width": null,
       "min_height": null,
       "min_width": null,
       "object_fit": null,
       "object_position": null,
       "order": null,
       "overflow": null,
       "overflow_x": null,
       "overflow_y": null,
       "padding": null,
       "right": null,
       "top": null,
       "visibility": null,
       "width": null
      }
     },
     "5bcb5603bfdd47f98e1d627d0831acc5": {
      "model_module": "@jupyter-widgets/controls",
      "model_module_version": "1.5.0",
      "model_name": "HTMLModel",
      "state": {
       "_dom_classes": [],
       "_model_module": "@jupyter-widgets/controls",
       "_model_module_version": "1.5.0",
       "_model_name": "HTMLModel",
       "_view_count": null,
       "_view_module": "@jupyter-widgets/controls",
       "_view_module_version": "1.5.0",
       "_view_name": "HTMLView",
       "description": "",
       "description_tooltip": null,
       "layout": "IPY_MODEL_18c51e67a4e64130b12c770efd635616",
       "placeholder": "​",
       "style": "IPY_MODEL_7f41dca47dae46ba9a16049b6634d128",
       "value": " 96234/96234 [00:52&lt;00:00, 1846.60it/s]"
      }
     },
     "6bfca5c2d791473b85501c8e6e1ca717": {
      "model_module": "@jupyter-widgets/base",
      "model_module_version": "1.2.0",
      "model_name": "LayoutModel",
      "state": {
       "_model_module": "@jupyter-widgets/base",
       "_model_module_version": "1.2.0",
       "_model_name": "LayoutModel",
       "_view_count": null,
       "_view_module": "@jupyter-widgets/base",
       "_view_module_version": "1.2.0",
       "_view_name": "LayoutView",
       "align_content": null,
       "align_items": null,
       "align_self": null,
       "border": null,
       "bottom": null,
       "display": null,
       "flex": null,
       "flex_flow": null,
       "grid_area": null,
       "grid_auto_columns": null,
       "grid_auto_flow": null,
       "grid_auto_rows": null,
       "grid_column": null,
       "grid_gap": null,
       "grid_row": null,
       "grid_template_areas": null,
       "grid_template_columns": null,
       "grid_template_rows": null,
       "height": null,
       "justify_content": null,
       "justify_items": null,
       "left": null,
       "margin": null,
       "max_height": null,
       "max_width": null,
       "min_height": null,
       "min_width": null,
       "object_fit": null,
       "object_position": null,
       "order": null,
       "overflow": null,
       "overflow_x": null,
       "overflow_y": null,
       "padding": null,
       "right": null,
       "top": null,
       "visibility": null,
       "width": null
      }
     },
     "6dd543fd986447cb944842bffb373a1e": {
      "model_module": "@jupyter-widgets/controls",
      "model_module_version": "1.5.0",
      "model_name": "HBoxModel",
      "state": {
       "_dom_classes": [],
       "_model_module": "@jupyter-widgets/controls",
       "_model_module_version": "1.5.0",
       "_model_name": "HBoxModel",
       "_view_count": null,
       "_view_module": "@jupyter-widgets/controls",
       "_view_module_version": "1.5.0",
       "_view_name": "HBoxView",
       "box_style": "",
       "children": [
        "IPY_MODEL_035dcb57836b45e68d2f17a6a73a21d9",
        "IPY_MODEL_1f4f639a9b934bd8aeb29ed9f58baa0d",
        "IPY_MODEL_5bcb5603bfdd47f98e1d627d0831acc5"
       ],
       "layout": "IPY_MODEL_17f028e2bb74402d89d3b73d9ba1cf3a"
      }
     },
     "7600ba0ecb3349b89d1d04cfa1ab819a": {
      "model_module": "@jupyter-widgets/controls",
      "model_module_version": "1.5.0",
      "model_name": "DescriptionStyleModel",
      "state": {
       "_model_module": "@jupyter-widgets/controls",
       "_model_module_version": "1.5.0",
       "_model_name": "DescriptionStyleModel",
       "_view_count": null,
       "_view_module": "@jupyter-widgets/base",
       "_view_module_version": "1.2.0",
       "_view_name": "StyleView",
       "description_width": ""
      }
     },
     "7f41dca47dae46ba9a16049b6634d128": {
      "model_module": "@jupyter-widgets/controls",
      "model_module_version": "1.5.0",
      "model_name": "DescriptionStyleModel",
      "state": {
       "_model_module": "@jupyter-widgets/controls",
       "_model_module_version": "1.5.0",
       "_model_name": "DescriptionStyleModel",
       "_view_count": null,
       "_view_module": "@jupyter-widgets/base",
       "_view_module_version": "1.2.0",
       "_view_name": "StyleView",
       "description_width": ""
      }
     }
    },
    "version_major": 2,
    "version_minor": 0
   }
  }
 },
 "nbformat": 4,
 "nbformat_minor": 5
}
