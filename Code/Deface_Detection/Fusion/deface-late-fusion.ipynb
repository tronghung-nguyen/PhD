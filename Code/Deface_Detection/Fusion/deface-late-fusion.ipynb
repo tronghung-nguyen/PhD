{
 "cells": [
  {
   "attachments": {},
   "cell_type": "markdown",
   "id": "afeb7f38",
   "metadata": {},
   "source": [
    "## Import libraries"
   ]
  },
  {
   "cell_type": "code",
   "execution_count": 1,
   "id": "646abc0c",
   "metadata": {
    "_cell_guid": "b1076dfc-b9ad-4769-8c92-a6c4dae69d19",
    "_uuid": "8f2839f25d086af736a60e9eeb907d3b93b6e0e5",
    "execution": {
     "iopub.execute_input": "2021-09-19T02:12:15.670334Z",
     "iopub.status.busy": "2021-09-19T02:12:15.669619Z",
     "iopub.status.idle": "2021-09-19T02:12:21.829943Z",
     "shell.execute_reply": "2021-09-19T02:12:21.829217Z",
     "shell.execute_reply.started": "2021-09-18T12:02:57.043917Z"
    },
    "papermill": {
     "duration": 6.20404,
     "end_time": "2021-09-19T02:12:21.830110",
     "exception": false,
     "start_time": "2021-09-19T02:12:15.626070",
     "status": "completed"
    },
    "tags": []
   },
   "outputs": [
    {
     "name": "stderr",
     "output_type": "stream",
     "text": [
      "2021-09-19 02:12:16.341385: W tensorflow/stream_executor/platform/default/dso_loader.cc:60] Could not load dynamic library 'libcudart.so.11.0'; dlerror: libcudart.so.11.0: cannot open shared object file: No such file or directory; LD_LIBRARY_PATH: /opt/conda/lib\n",
      "2021-09-19 02:12:16.341491: I tensorflow/stream_executor/cuda/cudart_stub.cc:29] Ignore above cudart dlerror if you do not have a GPU set up on your machine.\n"
     ]
    }
   ],
   "source": [
    "import numpy as np\n",
    "import pandas as pd\n",
    "import tensorflow as tf\n",
    "from matplotlib import pyplot as plt\n",
    "from kaggle_datasets import KaggleDatasets\n",
    "from kaggle_secrets import UserSecretsClient\n",
    "from glob import glob\n",
    "from tqdm.notebook import tqdm\n",
    "from multiprocessing import cpu_count\n",
    "from joblib import Parallel, delayed\n",
    "from tensorflow.keras.models import Sequential\n",
    "from tensorflow.keras import layers as L\n",
    "from tensorflow.keras.utils import to_categorical\n",
    "from tensorflow.keras.callbacks import LearningRateScheduler, ModelCheckpoint\n",
    "from sklearn.model_selection import train_test_split\n",
    "from sklearn import metrics\n",
    "\n",
    "%matplotlib inline"
   ]
  },
  {
   "attachments": {},
   "cell_type": "markdown",
   "id": "59337fec",
   "metadata": {},
   "source": [
    "## Use TPU"
   ]
  },
  {
   "cell_type": "code",
   "execution_count": 2,
   "id": "013e6315",
   "metadata": {
    "execution": {
     "iopub.execute_input": "2021-09-19T02:12:21.902423Z",
     "iopub.status.busy": "2021-09-19T02:12:21.901397Z",
     "iopub.status.idle": "2021-09-19T02:12:28.759730Z",
     "shell.execute_reply": "2021-09-19T02:12:28.759169Z",
     "shell.execute_reply.started": "2021-09-18T12:02:57.084566Z"
    },
    "papermill": {
     "duration": 6.90145,
     "end_time": "2021-09-19T02:12:28.759866",
     "exception": false,
     "start_time": "2021-09-19T02:12:21.858416",
     "status": "completed"
    },
    "tags": []
   },
   "outputs": [
    {
     "name": "stdout",
     "output_type": "stream",
     "text": [
      "Running on TPU: grpc://10.0.0.2:8470\n"
     ]
    },
    {
     "name": "stderr",
     "output_type": "stream",
     "text": [
      "2021-09-19 02:12:21.896573: I tensorflow/compiler/jit/xla_cpu_device.cc:41] Not creating XLA devices, tf_xla_enable_xla_devices not set\n",
      "2021-09-19 02:12:21.899346: W tensorflow/stream_executor/platform/default/dso_loader.cc:60] Could not load dynamic library 'libcuda.so.1'; dlerror: libcuda.so.1: cannot open shared object file: No such file or directory; LD_LIBRARY_PATH: /opt/conda/lib\n",
      "2021-09-19 02:12:21.899381: W tensorflow/stream_executor/cuda/cuda_driver.cc:326] failed call to cuInit: UNKNOWN ERROR (303)\n",
      "2021-09-19 02:12:21.899406: I tensorflow/stream_executor/cuda/cuda_diagnostics.cc:156] kernel driver does not appear to be running on this host (5d23bf15f635): /proc/driver/nvidia/version does not exist\n",
      "2021-09-19 02:12:21.903004: I tensorflow/core/platform/cpu_feature_guard.cc:142] This TensorFlow binary is optimized with oneAPI Deep Neural Network Library (oneDNN) to use the following CPU instructions in performance-critical operations:  AVX2 FMA\n",
      "To enable them in other operations, rebuild TensorFlow with the appropriate compiler flags.\n",
      "2021-09-19 02:12:21.904900: I tensorflow/compiler/jit/xla_gpu_device.cc:99] Not creating XLA devices, tf_xla_enable_xla_devices not set\n",
      "2021-09-19 02:12:21.934806: I tensorflow/core/distributed_runtime/rpc/grpc_channel.cc:301] Initialize GrpcChannelCache for job worker -> {0 -> 10.0.0.2:8470}\n",
      "2021-09-19 02:12:21.934860: I tensorflow/core/distributed_runtime/rpc/grpc_channel.cc:301] Initialize GrpcChannelCache for job localhost -> {0 -> localhost:30019}\n",
      "2021-09-19 02:12:21.962581: I tensorflow/core/distributed_runtime/rpc/grpc_channel.cc:301] Initialize GrpcChannelCache for job worker -> {0 -> 10.0.0.2:8470}\n",
      "2021-09-19 02:12:21.962634: I tensorflow/core/distributed_runtime/rpc/grpc_channel.cc:301] Initialize GrpcChannelCache for job localhost -> {0 -> localhost:30019}\n",
      "2021-09-19 02:12:21.963807: I tensorflow/core/distributed_runtime/rpc/grpc_server_lib.cc:411] Started server with target: grpc://localhost:30019\n"
     ]
    },
    {
     "name": "stdout",
     "output_type": "stream",
     "text": [
      "N_JOBS: 4\n",
      "Batch size: 64\n",
      "GCS_DS_PATH: gs://kds-804df690eaa8afa72125e4d8ad5ff9997248d3a0aded04e1c44fb7f5\n"
     ]
    }
   ],
   "source": [
    "try:\n",
    "    tpu = tf.distribute.cluster_resolver.TPUClusterResolver()\n",
    "    print('Running on TPU:', tpu.master())\n",
    "except ValueError:\n",
    "    tpu = None\n",
    "\n",
    "if tpu:\n",
    "    tf.config.experimental_connect_to_cluster(tpu)\n",
    "    tf.tpu.experimental.initialize_tpu_system(tpu)\n",
    "    strategy = tf.distribute.experimental.TPUStrategy(tpu)\n",
    "else:\n",
    "    strategy = tf.distribute.get_strategy()\n",
    "\n",
    "user_secrets = UserSecretsClient()\n",
    "user_credential = user_secrets.get_gcloud_credential()\n",
    "user_secrets.set_tensorflow_credential(user_credential)\n",
    "GCS_DS_PATH = KaggleDatasets().get_gcs_path('website-defacement')\n",
    "\n",
    "AUTO = tf.data.experimental.AUTOTUNE\n",
    "BATCH_SIZE = 8 * strategy.num_replicas_in_sync\n",
    "N_JOBS = cpu_count()\n",
    "\n",
    "IMG_SIZE = 224\n",
    "EPOCHS = 50\n",
    "\n",
    "print('N_JOBS:', N_JOBS)\n",
    "print('Batch size:', BATCH_SIZE)\n",
    "print('GCS_DS_PATH:', GCS_DS_PATH)"
   ]
  },
  {
   "attachments": {},
   "cell_type": "markdown",
   "id": "ef177782",
   "metadata": {},
   "source": [
    "## List path of dataset"
   ]
  },
  {
   "cell_type": "code",
   "execution_count": 3,
   "id": "5c91babf",
   "metadata": {
    "execution": {
     "iopub.execute_input": "2021-09-19T02:12:28.822111Z",
     "iopub.status.busy": "2021-09-19T02:12:28.821425Z",
     "iopub.status.idle": "2021-09-19T02:12:38.724502Z",
     "shell.execute_reply": "2021-09-19T02:12:38.723891Z",
     "shell.execute_reply.started": "2021-09-18T12:03:03.257708Z"
    },
    "papermill": {
     "duration": 9.936833,
     "end_time": "2021-09-19T02:12:38.724638",
     "exception": false,
     "start_time": "2021-09-19T02:12:28.787805",
     "status": "completed"
    },
    "tags": []
   },
   "outputs": [],
   "source": [
    "dataset_path = '../input/website-defacement/dataset/'\n",
    "img_paths = glob(dataset_path + 'image/*/*')\n",
    "txt_paths = glob(dataset_path + 'text/*/*')\n",
    "img_names = [path.split('/')[-1][:-4] for path in img_paths]\n",
    "txt_names = [path.split('/')[-1][:-4] for path in txt_paths]\n",
    "names = list(set(img_names).intersection(txt_names))"
   ]
  },
  {
   "attachments": {},
   "cell_type": "markdown",
   "id": "8317dc04",
   "metadata": {
    "papermill": {
     "duration": 0.027379,
     "end_time": "2021-09-19T02:12:38.781516",
     "exception": false,
     "start_time": "2021-09-19T02:12:38.754137",
     "status": "completed"
    },
    "tags": []
   },
   "source": [
    "# Text-based Detection"
   ]
  },
  {
   "attachments": {},
   "cell_type": "markdown",
   "id": "a27a6f0d",
   "metadata": {},
   "source": [
    "## Prepare data"
   ]
  },
  {
   "cell_type": "code",
   "execution_count": 4,
   "id": "000fcb7c",
   "metadata": {
    "execution": {
     "iopub.execute_input": "2021-09-19T02:12:38.845818Z",
     "iopub.status.busy": "2021-09-19T02:12:38.845045Z",
     "iopub.status.idle": "2021-09-19T02:17:07.060893Z",
     "shell.execute_reply": "2021-09-19T02:17:07.060357Z",
     "shell.execute_reply.started": "2021-09-18T12:03:04.388653Z"
    },
    "papermill": {
     "duration": 268.251667,
     "end_time": "2021-09-19T02:17:07.061066",
     "exception": false,
     "start_time": "2021-09-19T02:12:38.809399",
     "status": "completed"
    },
    "tags": []
   },
   "outputs": [
    {
     "data": {
      "application/vnd.jupyter.widget-view+json": {
       "model_id": "af500235630a44e19bfb449990e877d7",
       "version_major": 2,
       "version_minor": 0
      },
      "text/plain": [
       "  0%|          | 0/96234 [00:00<?, ?it/s]"
      ]
     },
     "metadata": {},
     "output_type": "display_data"
    },
    {
     "name": "stdout",
     "output_type": "stream",
     "text": [
      "57740 19247 19247\n"
     ]
    }
   ],
   "source": [
    "def prepare_data(name):\n",
    "    if glob(dataset_path + f'text/defaced/{name}.txt'):\n",
    "        path = dataset_path + f'text/defaced/{name}.txt'\n",
    "        label = 1\n",
    "    else:\n",
    "        path = dataset_path + f'text/benign/{name}.txt'\n",
    "        label = 0\n",
    "    with open(path, 'r') as f:\n",
    "        text = f.read()\n",
    "    return (text, label)\n",
    "\n",
    "output = Parallel(n_jobs=N_JOBS)(delayed(prepare_data)(name) for name in tqdm(names))\n",
    "X, y = zip(*output)\n",
    "\n",
    "X_train, X_test, y_train, y_test = train_test_split(X, y, test_size=0.2, random_state=42)\n",
    "y_train = to_categorical(y_train, num_classes=2)\n",
    "X_train, X_valid, y_train, y_valid = train_test_split(X_train, y_train, test_size=0.25, \n",
    "                                                      random_state=42)\n",
    "\n",
    "print(len(X_train), len(X_valid), len(X_test))"
   ]
  },
  {
   "attachments": {},
   "cell_type": "markdown",
   "id": "3e0f453d",
   "metadata": {},
   "source": [
    "## Tokenizer"
   ]
  },
  {
   "cell_type": "code",
   "execution_count": 5,
   "id": "d52f3962",
   "metadata": {
    "execution": {
     "iopub.execute_input": "2021-09-19T02:17:07.122641Z",
     "iopub.status.busy": "2021-09-19T02:17:07.122022Z",
     "iopub.status.idle": "2021-09-19T02:18:21.875457Z",
     "shell.execute_reply": "2021-09-19T02:18:21.876032Z",
     "shell.execute_reply.started": "2021-09-18T12:03:06.897166Z"
    },
    "papermill": {
     "duration": 74.785649,
     "end_time": "2021-09-19T02:18:21.876235",
     "exception": false,
     "start_time": "2021-09-19T02:17:07.090586",
     "status": "completed"
    },
    "tags": []
   },
   "outputs": [],
   "source": [
    "from tensorflow.keras.preprocessing.text import Tokenizer\n",
    "from tensorflow.keras.preprocessing.sequence import pad_sequences\n",
    "\n",
    "tokenizer = Tokenizer(filters='')\n",
    "tokenizer.fit_on_texts(X_train)\n",
    "\n",
    "MAXLEN = 128\n",
    "\n",
    "X_train = tokenizer.texts_to_sequences(X_train)\n",
    "X_train = pad_sequences(X_train, maxlen=MAXLEN)\n",
    "y_train = np.array(y_train)\n",
    "\n",
    "X_valid = tokenizer.texts_to_sequences(X_valid)\n",
    "X_valid = pad_sequences(X_valid, maxlen=MAXLEN)\n",
    "y_valid = np.array(y_valid)\n",
    "\n",
    "X_test = tokenizer.texts_to_sequences(X_test)\n",
    "X_test = pad_sequences(X_test, maxlen=MAXLEN)\n",
    "y_test = np.array(y_test)"
   ]
  },
  {
   "attachments": {},
   "cell_type": "markdown",
   "id": "9001f6e8",
   "metadata": {},
   "source": [
    "## Create dataset"
   ]
  },
  {
   "cell_type": "code",
   "execution_count": 6,
   "id": "b532db60",
   "metadata": {
    "execution": {
     "iopub.execute_input": "2021-09-19T02:18:21.937557Z",
     "iopub.status.busy": "2021-09-19T02:18:21.936952Z",
     "iopub.status.idle": "2021-09-19T02:18:22.084905Z",
     "shell.execute_reply": "2021-09-19T02:18:22.084358Z",
     "shell.execute_reply.started": "2021-09-18T12:03:07.85317Z"
    },
    "papermill": {
     "duration": 0.179548,
     "end_time": "2021-09-19T02:18:22.085075",
     "exception": false,
     "start_time": "2021-09-19T02:18:21.905527",
     "status": "completed"
    },
    "tags": []
   },
   "outputs": [],
   "source": [
    "train_dataset = (\n",
    "    tf.data.TFRecordDataset\n",
    "    .from_tensor_slices((X_train, y_train))\n",
    "    .shuffle(100000)\n",
    "    .cache()\n",
    "    .repeat()\n",
    "    .batch(BATCH_SIZE)\n",
    "    .prefetch(AUTO)\n",
    ")\n",
    "\n",
    "test_dataset = (\n",
    "    tf.data.TFRecordDataset\n",
    "    .from_tensor_slices(X_test)\n",
    "    .batch(BATCH_SIZE)\n",
    ")\n",
    "\n",
    "valid_dataset = (\n",
    "    tf.data.TFRecordDataset\n",
    "    .from_tensor_slices((X_valid, y_valid))\n",
    "    .cache()\n",
    "    .batch(BATCH_SIZE)\n",
    "    .prefetch(AUTO)\n",
    ")"
   ]
  },
  {
   "attachments": {},
   "cell_type": "markdown",
   "id": "6842c9c3",
   "metadata": {},
   "source": [
    "## Learning rate, Plot history of model"
   ]
  },
  {
   "cell_type": "code",
   "execution_count": 7,
   "id": "f72d4f65",
   "metadata": {
    "execution": {
     "iopub.execute_input": "2021-09-19T02:18:22.169401Z",
     "iopub.status.busy": "2021-09-19T02:18:22.147900Z",
     "iopub.status.idle": "2021-09-19T02:18:22.395212Z",
     "shell.execute_reply": "2021-09-19T02:18:22.394710Z",
     "shell.execute_reply.started": "2021-09-18T12:03:07.880848Z"
    },
    "papermill": {
     "duration": 0.280365,
     "end_time": "2021-09-19T02:18:22.395360",
     "exception": false,
     "start_time": "2021-09-19T02:18:22.114995",
     "status": "completed"
    },
    "tags": []
   },
   "outputs": [
    {
     "data": {
      "text/plain": [
       "[<matplotlib.lines.Line2D at 0x7f39b053f590>]"
      ]
     },
     "execution_count": 7,
     "metadata": {},
     "output_type": "execute_result"
    },
    {
     "data": {
      "image/png": "[encoded data removed]",
      "text/plain": [
       "<Figure size 432x288 with 1 Axes>"
      ]
     },
     "metadata": {
      "needs_background": "light"
     },
     "output_type": "display_data"
    }
   ],
   "source": [
    "def lrfn(epoch=EPOCHS,\n",
    "         lr_start=1e-4,\n",
    "         lr_max=5e-5 * 8, \n",
    "         lr_min=1e-4,\n",
    "         lr_rampup_epochs=5,\n",
    "         lr_sustain_epochs=5,\n",
    "         lr_exp_decay=0.8):\n",
    "    if epoch < lr_rampup_epochs:\n",
    "        lr = (lr_max-lr_start)/lr_rampup_epochs*epoch + lr_start\n",
    "    elif epoch < lr_rampup_epochs + lr_sustain_epochs:\n",
    "        lr = lr_max\n",
    "    else:\n",
    "        lr = (lr_max-lr_min)*lr_exp_decay**(epoch-lr_rampup_epochs-lr_sustain_epochs) + lr_min\n",
    "    return lr\n",
    "\n",
    "def plot_hist(hist):\n",
    "    plt.plot(hist.history[\"accuracy\"])\n",
    "    plt.plot(hist.history[\"val_accuracy\"])\n",
    "    plt.title(\"model accuracy\")\n",
    "    plt.ylabel(\"accuracy\")\n",
    "    plt.xlabel(\"epoch\")\n",
    "    plt.legend([\"train\", \"validation\"], loc=\"upper left\")\n",
    "    plt.show()\n",
    "\n",
    "y = [lrfn(x) for x in range(EPOCHS)]\n",
    "plt.plot(y)"
   ]
  },
  {
   "attachments": {},
   "cell_type": "markdown",
   "id": "22828e9d",
   "metadata": {},
   "source": [
    "## Create model"
   ]
  },
  {
   "cell_type": "code",
   "execution_count": 8,
   "id": "61971043",
   "metadata": {
    "execution": {
     "iopub.execute_input": "2021-09-19T02:18:22.462823Z",
     "iopub.status.busy": "2021-09-19T02:18:22.462167Z",
     "iopub.status.idle": "2021-09-19T02:18:24.779398Z",
     "shell.execute_reply": "2021-09-19T02:18:24.779846Z",
     "shell.execute_reply.started": "2021-09-18T12:03:08.125302Z"
    },
    "papermill": {
     "duration": 2.354937,
     "end_time": "2021-09-19T02:18:24.780040",
     "exception": false,
     "start_time": "2021-09-19T02:18:22.425103",
     "status": "completed"
    },
    "tags": []
   },
   "outputs": [
    {
     "name": "stdout",
     "output_type": "stream",
     "text": [
      "Model: \"sequential\"\n",
      "_________________________________________________________________\n",
      "Layer (type)                 Output Shape              Param #   \n",
      "=================================================================\n",
      "embedding (Embedding)        (None, 128, 64)           178523328 \n",
      "_________________________________________________________________\n",
      "conv1d (Conv1D)              (None, 124, 64)           20544     \n",
      "_________________________________________________________________\n",
      "global_max_pooling1d (Global (None, 64)                0         \n",
      "_________________________________________________________________\n",
      "dense (Dense)                (None, 2)                 130       \n",
      "=================================================================\n",
      "Total params: 178,544,002\n",
      "Trainable params: 178,544,002\n",
      "Non-trainable params: 0\n",
      "_________________________________________________________________\n",
      "None\n"
     ]
    }
   ],
   "source": [
    "vocab_size = len(tokenizer.word_index) + 1\n",
    "\n",
    "with strategy.scope():\n",
    "    model = Sequential()\n",
    "    model.add(L.Embedding(input_dim=vocab_size,\n",
    "                          output_dim=64, \n",
    "                          input_length=X_train.shape[1]))\n",
    "    model.add(L.Conv1D(64, 5))\n",
    "    model.add(L.GlobalMaxPooling1D())\n",
    "    model.add(L.Dense(2, activation='softmax'))\n",
    "    model.compile(loss='categorical_crossentropy', optimizer='adam', metrics=['accuracy'])\n",
    "    \n",
    "print(model.summary())"
   ]
  },
  {
   "attachments": {},
   "cell_type": "markdown",
   "id": "70962f18",
   "metadata": {},
   "source": [
    "## Train model"
   ]
  },
  {
   "cell_type": "code",
   "execution_count": 9,
   "id": "3c1b3940",
   "metadata": {
    "execution": {
     "iopub.execute_input": "2021-09-19T02:18:24.843999Z",
     "iopub.status.busy": "2021-09-19T02:18:24.843362Z",
     "iopub.status.idle": "2021-09-19T02:45:01.504839Z",
     "shell.execute_reply": "2021-09-19T02:45:01.505458Z",
     "shell.execute_reply.started": "2021-09-18T12:03:08.749384Z"
    },
    "papermill": {
     "duration": 1596.695444,
     "end_time": "2021-09-19T02:45:01.505835",
     "exception": false,
     "start_time": "2021-09-19T02:18:24.810391",
     "status": "completed"
    },
    "tags": []
   },
   "outputs": [
    {
     "name": "stdout",
     "output_type": "stream",
     "text": [
      "Epoch 1/50\n"
     ]
    },
    {
     "name": "stderr",
     "output_type": "stream",
     "text": [
      "/opt/conda/lib/python3.7/site-packages/tensorflow/python/framework/indexed_slices.py:430: UserWarning: Converting sparse IndexedSlices to a dense Tensor with 178523328 elements. This may consume a large amount of memory.\n",
      "  num_elements)\n"
     ]
    },
    {
     "name": "stdout",
     "output_type": "stream",
     "text": [
      "902/902 - 39s - loss: 0.1571 - accuracy: 0.9322 - val_loss: 0.0835 - val_accuracy: 0.9671\n",
      "Epoch 2/50\n",
      "902/902 - 32s - loss: 0.0198 - accuracy: 0.9940 - val_loss: 0.0924 - val_accuracy: 0.9695\n",
      "Epoch 3/50\n",
      "902/902 - 32s - loss: 0.0035 - accuracy: 0.9992 - val_loss: 0.0979 - val_accuracy: 0.9699\n",
      "Epoch 4/50\n",
      "902/902 - 32s - loss: 0.0021 - accuracy: 0.9993 - val_loss: 0.0987 - val_accuracy: 0.9701\n",
      "Epoch 5/50\n",
      "902/902 - 32s - loss: 0.0016 - accuracy: 0.9994 - val_loss: 0.1006 - val_accuracy: 0.9692\n",
      "Epoch 6/50\n",
      "902/902 - 32s - loss: 0.0015 - accuracy: 0.9995 - val_loss: 0.1014 - val_accuracy: 0.9690\n",
      "Epoch 7/50\n",
      "902/902 - 32s - loss: 0.0015 - accuracy: 0.9995 - val_loss: 0.1024 - val_accuracy: 0.9688\n",
      "Epoch 8/50\n",
      "902/902 - 32s - loss: 0.0015 - accuracy: 0.9995 - val_loss: 0.1032 - val_accuracy: 0.9687\n",
      "Epoch 9/50\n",
      "902/902 - 32s - loss: 0.0014 - accuracy: 0.9995 - val_loss: 0.1038 - val_accuracy: 0.9684\n",
      "Epoch 10/50\n",
      "902/902 - 32s - loss: 0.0014 - accuracy: 0.9995 - val_loss: 0.1042 - val_accuracy: 0.9684\n",
      "Epoch 11/50\n",
      "902/902 - 32s - loss: 0.0014 - accuracy: 0.9995 - val_loss: 0.1047 - val_accuracy: 0.9679\n",
      "Epoch 12/50\n",
      "902/902 - 32s - loss: 0.0013 - accuracy: 0.9995 - val_loss: 0.1060 - val_accuracy: 0.9681\n",
      "Epoch 13/50\n",
      "902/902 - 32s - loss: 0.0012 - accuracy: 0.9996 - val_loss: 0.1074 - val_accuracy: 0.9680\n",
      "Epoch 14/50\n",
      "902/902 - 32s - loss: 0.0012 - accuracy: 0.9996 - val_loss: 0.1089 - val_accuracy: 0.9680\n",
      "Epoch 15/50\n",
      "902/902 - 32s - loss: 0.0011 - accuracy: 0.9996 - val_loss: 0.1105 - val_accuracy: 0.9679\n",
      "Epoch 16/50\n",
      "902/902 - 32s - loss: 0.0011 - accuracy: 0.9995 - val_loss: 0.1122 - val_accuracy: 0.9677\n",
      "Epoch 17/50\n",
      "902/902 - 32s - loss: 0.0011 - accuracy: 0.9995 - val_loss: 0.1137 - val_accuracy: 0.9675\n",
      "Epoch 18/50\n",
      "902/902 - 32s - loss: 0.0010 - accuracy: 0.9996 - val_loss: 0.1153 - val_accuracy: 0.9673\n",
      "Epoch 19/50\n",
      "902/902 - 32s - loss: 0.0010 - accuracy: 0.9996 - val_loss: 0.1168 - val_accuracy: 0.9670\n",
      "Epoch 20/50\n",
      "902/902 - 32s - loss: 0.0010 - accuracy: 0.9996 - val_loss: 0.1182 - val_accuracy: 0.9671\n",
      "Epoch 21/50\n",
      "902/902 - 32s - loss: 9.9602e-04 - accuracy: 0.9996 - val_loss: 0.1196 - val_accuracy: 0.9669\n",
      "Epoch 22/50\n",
      "902/902 - 32s - loss: 9.8742e-04 - accuracy: 0.9996 - val_loss: 0.1209 - val_accuracy: 0.9669\n",
      "Epoch 23/50\n",
      "902/902 - 32s - loss: 9.8149e-04 - accuracy: 0.9996 - val_loss: 0.1220 - val_accuracy: 0.9670\n",
      "Epoch 24/50\n",
      "902/902 - 32s - loss: 9.7588e-04 - accuracy: 0.9996 - val_loss: 0.1230 - val_accuracy: 0.9668\n",
      "Epoch 25/50\n",
      "902/902 - 32s - loss: 9.7010e-04 - accuracy: 0.9996 - val_loss: 0.1240 - val_accuracy: 0.9664\n",
      "Epoch 26/50\n",
      "902/902 - 32s - loss: 9.6663e-04 - accuracy: 0.9996 - val_loss: 0.1249 - val_accuracy: 0.9663\n",
      "Epoch 27/50\n",
      "902/902 - 32s - loss: 9.6344e-04 - accuracy: 0.9996 - val_loss: 0.1257 - val_accuracy: 0.9661\n",
      "Epoch 28/50\n",
      "902/902 - 32s - loss: 9.6040e-04 - accuracy: 0.9996 - val_loss: 0.1264 - val_accuracy: 0.9661\n",
      "Epoch 29/50\n",
      "902/902 - 32s - loss: 9.5840e-04 - accuracy: 0.9996 - val_loss: 0.1270 - val_accuracy: 0.9661\n",
      "Epoch 30/50\n",
      "902/902 - 32s - loss: 9.5614e-04 - accuracy: 0.9996 - val_loss: 0.1276 - val_accuracy: 0.9661\n",
      "Epoch 31/50\n",
      "902/902 - 32s - loss: 9.5503e-04 - accuracy: 0.9996 - val_loss: 0.1282 - val_accuracy: 0.9661\n",
      "Epoch 32/50\n",
      "902/902 - 32s - loss: 9.5309e-04 - accuracy: 0.9996 - val_loss: 0.1288 - val_accuracy: 0.9661\n",
      "Epoch 33/50\n",
      "902/902 - 32s - loss: 9.5194e-04 - accuracy: 0.9996 - val_loss: 0.1292 - val_accuracy: 0.9660\n",
      "Epoch 34/50\n",
      "902/902 - 32s - loss: 9.5144e-04 - accuracy: 0.9996 - val_loss: 0.1297 - val_accuracy: 0.9658\n",
      "Epoch 35/50\n",
      "902/902 - 32s - loss: 9.4920e-04 - accuracy: 0.9996 - val_loss: 0.1300 - val_accuracy: 0.9658\n",
      "Epoch 36/50\n",
      "902/902 - 32s - loss: 9.4867e-04 - accuracy: 0.9996 - val_loss: 0.1305 - val_accuracy: 0.9657\n",
      "Epoch 37/50\n",
      "902/902 - 32s - loss: 9.4788e-04 - accuracy: 0.9996 - val_loss: 0.1308 - val_accuracy: 0.9657\n",
      "Epoch 38/50\n",
      "902/902 - 32s - loss: 9.4728e-04 - accuracy: 0.9996 - val_loss: 0.1312 - val_accuracy: 0.9657\n",
      "Epoch 39/50\n",
      "902/902 - 32s - loss: 9.4704e-04 - accuracy: 0.9996 - val_loss: 0.1315 - val_accuracy: 0.9658\n",
      "Epoch 40/50\n",
      "902/902 - 32s - loss: 9.4650e-04 - accuracy: 0.9996 - val_loss: 0.1318 - val_accuracy: 0.9659\n",
      "Epoch 41/50\n",
      "902/902 - 32s - loss: 9.4507e-04 - accuracy: 0.9996 - val_loss: 0.1321 - val_accuracy: 0.9659\n",
      "Epoch 42/50\n",
      "902/902 - 32s - loss: 9.4541e-04 - accuracy: 0.9996 - val_loss: 0.1323 - val_accuracy: 0.9658\n",
      "Epoch 43/50\n",
      "902/902 - 32s - loss: 9.4333e-04 - accuracy: 0.9996 - val_loss: 0.1326 - val_accuracy: 0.9658\n",
      "Epoch 44/50\n",
      "902/902 - 32s - loss: 9.4322e-04 - accuracy: 0.9996 - val_loss: 0.1329 - val_accuracy: 0.9658\n",
      "Epoch 45/50\n",
      "902/902 - 32s - loss: 9.4273e-04 - accuracy: 0.9996 - val_loss: 0.1331 - val_accuracy: 0.9658\n",
      "Epoch 46/50\n",
      "902/902 - 32s - loss: 9.4159e-04 - accuracy: 0.9996 - val_loss: 0.1333 - val_accuracy: 0.9659\n",
      "Epoch 47/50\n",
      "902/902 - 32s - loss: 9.4110e-04 - accuracy: 0.9996 - val_loss: 0.1335 - val_accuracy: 0.9659\n",
      "Epoch 48/50\n",
      "902/902 - 32s - loss: 9.4071e-04 - accuracy: 0.9996 - val_loss: 0.1338 - val_accuracy: 0.9659\n",
      "Epoch 49/50\n",
      "902/902 - 32s - loss: 9.4031e-04 - accuracy: 0.9996 - val_loss: 0.1340 - val_accuracy: 0.9659\n",
      "Epoch 50/50\n",
      "902/902 - 32s - loss: 9.4031e-04 - accuracy: 0.9996 - val_loss: 0.1341 - val_accuracy: 0.9659\n"
     ]
    }
   ],
   "source": [
    "lrs = LearningRateScheduler(lrfn)  \n",
    "mc = ModelCheckpoint('text-gru.h5', save_best_only=True, save_weights_only=True)\n",
    "steps_per_epoch = len(y_train) // BATCH_SIZE\n",
    "\n",
    "hist = model.fit(train_dataset, epochs=EPOCHS, steps_per_epoch=steps_per_epoch, callbacks=[lrs, mc], \n",
    "                 validation_data=valid_dataset, verbose=2)"
   ]
  },
  {
   "attachments": {},
   "cell_type": "markdown",
   "id": "72917d94",
   "metadata": {},
   "source": [
    "## Plot history"
   ]
  },
  {
   "cell_type": "code",
   "execution_count": 10,
   "id": "2f9abe68",
   "metadata": {
    "execution": {
     "iopub.execute_input": "2021-09-19T02:45:01.669066Z",
     "iopub.status.busy": "2021-09-19T02:45:01.635894Z",
     "iopub.status.idle": "2021-09-19T02:45:01.810948Z",
     "shell.execute_reply": "2021-09-19T02:45:01.810262Z",
     "shell.execute_reply.started": "2021-09-18T12:04:13.153701Z"
    },
    "papermill": {
     "duration": 0.245458,
     "end_time": "2021-09-19T02:45:01.811095",
     "exception": false,
     "start_time": "2021-09-19T02:45:01.565637",
     "status": "completed"
    },
    "tags": []
   },
   "outputs": [
    {
     "data": {
      "image/png": "[encoded data removed]",
      "text/plain": [
       "<Figure size 432x288 with 1 Axes>"
      ]
     },
     "metadata": {
      "needs_background": "light"
     },
     "output_type": "display_data"
    }
   ],
   "source": [
    "plot_hist(hist)"
   ]
  },
  {
   "attachments": {},
   "cell_type": "markdown",
   "id": "5378183c",
   "metadata": {},
   "source": [
    "## Evaluate"
   ]
  },
  {
   "cell_type": "code",
   "execution_count": 11,
   "id": "bef7ce57",
   "metadata": {
    "execution": {
     "iopub.execute_input": "2021-09-19T02:45:03.555475Z",
     "iopub.status.busy": "2021-09-19T02:45:01.936437Z",
     "iopub.status.idle": "2021-09-19T02:45:32.782302Z",
     "shell.execute_reply": "2021-09-19T02:45:32.781664Z",
     "shell.execute_reply.started": "2021-09-18T12:04:13.323473Z"
    },
    "papermill": {
     "duration": 30.910123,
     "end_time": "2021-09-19T02:45:32.782444",
     "exception": false,
     "start_time": "2021-09-19T02:45:01.872321",
     "status": "completed"
    },
    "tags": []
   },
   "outputs": [
    {
     "name": "stdout",
     "output_type": "stream",
     "text": [
      "301/301 [==============================] - 5s 10ms/step\n",
      "              precision    recall  f1-score   support\n",
      "\n",
      "           0     0.9674    0.9797    0.9735     11446\n",
      "           1     0.9697    0.9515    0.9605      7801\n",
      "\n",
      "    accuracy                         0.9683     19247\n",
      "   macro avg     0.9685    0.9656    0.9670     19247\n",
      "weighted avg     0.9683    0.9683    0.9683     19247\n",
      "\n",
      "[[11214   232]\n",
      " [  378  7423]]\n",
      "      TPR       FPR       FNR   ROC AUC\n",
      "   0.9515    0.0203    0.0485    0.9941\n"
     ]
    }
   ],
   "source": [
    "with strategy.scope():\n",
    "    model.load_weights('text-gru.h5')\n",
    "\n",
    "y_prob_txt = model.predict(test_dataset, verbose=1)\n",
    "y_pred = np.argmax(y_prob_txt, axis=1)\n",
    "\n",
    "clf_report = metrics.classification_report(y_test, y_pred, digits=4)\n",
    "cnf_matrix = metrics.confusion_matrix(y_test, y_pred)\n",
    "TN, FP, FN, TP = cnf_matrix.ravel()\n",
    "TPR = TP / (TP + FN)\n",
    "FPR = FP / (FP + TN)\n",
    "FNR = FN / (FN + TP)\n",
    "fpr, tpr, _ = metrics.roc_curve(y_test, y_prob_txt[:, 1])\n",
    "auc = metrics.roc_auc_score(y_test, y_prob_txt[:, 1])\n",
    "other_metrics = pd.DataFrame({'TPR': '%.4f' % TPR, \n",
    "                              'FPR': '%.4f' % FPR, \n",
    "                              'FNR': '%.4f' % FNR, \n",
    "                              'ROC AUC': '%.4f' % auc}, index=[0]).to_string(col_space=9, index=False)\n",
    "print(clf_report)\n",
    "print(cnf_matrix)\n",
    "print(other_metrics)"
   ]
  },
  {
   "attachments": {},
   "cell_type": "markdown",
   "id": "26b7f8f8",
   "metadata": {
    "papermill": {
     "duration": 0.074663,
     "end_time": "2021-09-19T02:45:32.931964",
     "exception": false,
     "start_time": "2021-09-19T02:45:32.857301",
     "status": "completed"
    },
    "tags": []
   },
   "source": [
    "# Fusion with Image-based Detection"
   ]
  },
  {
   "attachments": {},
   "cell_type": "markdown",
   "id": "28aae20e",
   "metadata": {},
   "source": [
    "## Prepare image data"
   ]
  },
  {
   "cell_type": "code",
   "execution_count": 12,
   "id": "1403f0a1",
   "metadata": {
    "execution": {
     "iopub.execute_input": "2021-09-19T02:45:33.117961Z",
     "iopub.status.busy": "2021-09-19T02:45:33.117144Z",
     "iopub.status.idle": "2021-09-19T02:46:31.575089Z",
     "shell.execute_reply": "2021-09-19T02:46:31.574527Z",
     "shell.execute_reply.started": "2021-09-18T12:04:15.901141Z"
    },
    "papermill": {
     "duration": 58.567109,
     "end_time": "2021-09-19T02:46:31.575240",
     "exception": false,
     "start_time": "2021-09-19T02:45:33.008131",
     "status": "completed"
    },
    "tags": []
   },
   "outputs": [
    {
     "data": {
      "application/vnd.jupyter.widget-view+json": {
       "model_id": "27d8e67fc3254e33889a6fb8f626a841",
       "version_major": 2,
       "version_minor": 0
      },
      "text/plain": [
       "  0%|          | 0/96234 [00:00<?, ?it/s]"
      ]
     },
     "metadata": {},
     "output_type": "display_data"
    },
    {
     "name": "stdout",
     "output_type": "stream",
     "text": [
      "57740 19247 19247\n",
      "True\n"
     ]
    }
   ],
   "source": [
    "def prepare_data(name):\n",
    "    if glob(dataset_path + f'image/defaced/{name}.png'):\n",
    "        return (f'{GCS_DS_PATH}/dataset/image/defaced/{name}.png', 1)\n",
    "    else:\n",
    "        return (f'{GCS_DS_PATH}/dataset/image/benign/{name}.png', 0)\n",
    "\n",
    "output = Parallel(n_jobs=N_JOBS)(delayed(prepare_data)(name) for name in tqdm(names))\n",
    "X, y = zip(*output)\n",
    "\n",
    "X_train, X_test, y_train, y_test_ = train_test_split(X, y, test_size=0.2, random_state=42)\n",
    "y_train = to_categorical(y_train, num_classes=2)\n",
    "X_train, X_valid, y_train, y_valid = train_test_split(X_train, y_train, test_size=0.25, \n",
    "                                                      random_state=42)\n",
    "\n",
    "print(len(X_train), len(X_valid), len(X_test))\n",
    "print((y_test == y_test_).all())"
   ]
  },
  {
   "cell_type": "code",
   "execution_count": 13,
   "id": "c6ce8498",
   "metadata": {
    "execution": {
     "iopub.execute_input": "2021-09-19T02:46:31.729158Z",
     "iopub.status.busy": "2021-09-19T02:46:31.728477Z",
     "iopub.status.idle": "2021-09-19T02:46:31.951397Z",
     "shell.execute_reply": "2021-09-19T02:46:31.951943Z",
     "shell.execute_reply.started": "2021-09-18T12:04:16.917056Z"
    },
    "papermill": {
     "duration": 0.301671,
     "end_time": "2021-09-19T02:46:31.952165",
     "exception": false,
     "start_time": "2021-09-19T02:46:31.650494",
     "status": "completed"
    },
    "tags": []
   },
   "outputs": [],
   "source": [
    "def decode_image(filename, label=None):\n",
    "    bits = tf.io.read_file(filename)\n",
    "    image = tf.image.decode_png(bits, channels=3)\n",
    "    image = tf.cast(image, tf.float32) / 255.0\n",
    "    image = tf.image.resize(image, (IMG_SIZE, IMG_SIZE))\n",
    "    \n",
    "    if label is None:\n",
    "        return image\n",
    "    else:\n",
    "        return image, label\n",
    "\n",
    "test_dataset = (\n",
    "    tf.data.TFRecordDataset\n",
    "    .from_tensor_slices(X_test)\n",
    "    .map(decode_image, num_parallel_calls=AUTO)\n",
    "    .batch(BATCH_SIZE)\n",
    ")"
   ]
  },
  {
   "attachments": {},
   "cell_type": "markdown",
   "id": "16c2b61c",
   "metadata": {
    "papermill": {
     "duration": 0.074924,
     "end_time": "2021-09-19T02:46:32.104778",
     "exception": false,
     "start_time": "2021-09-19T02:46:32.029854",
     "status": "completed"
    },
    "tags": []
   },
   "source": [
    "## EfficientNet"
   ]
  },
  {
   "attachments": {},
   "cell_type": "markdown",
   "id": "d38b9e28",
   "metadata": {},
   "source": [
    "## Load model"
   ]
  },
  {
   "cell_type": "code",
   "execution_count": 14,
   "id": "4a61d321",
   "metadata": {
    "execution": {
     "iopub.execute_input": "2021-09-19T02:46:32.260990Z",
     "iopub.status.busy": "2021-09-19T02:46:32.260323Z",
     "iopub.status.idle": "2021-09-19T02:46:59.776241Z",
     "shell.execute_reply": "2021-09-19T02:46:59.775521Z",
     "shell.execute_reply.started": "2021-09-18T12:04:17.031653Z"
    },
    "papermill": {
     "duration": 27.595799,
     "end_time": "2021-09-19T02:46:59.776385",
     "exception": false,
     "start_time": "2021-09-19T02:46:32.180586",
     "status": "completed"
    },
    "tags": []
   },
   "outputs": [
    {
     "name": "stdout",
     "output_type": "stream",
     "text": [
      "\u001b[33mWARNING: Running pip as the 'root' user can result in broken permissions and conflicting behaviour with the system package manager. It is recommended to use a virtual environment instead: https://pip.pypa.io/warnings/venv\u001b[0m\r\n",
      "Downloading data from https://github.com/qubvel/efficientnet/releases/download/v0.0.1/efficientnet-b0_noisy-student_notop.h5\n",
      "16703488/16696600 [==============================] - 0s 0us/step\n"
     ]
    }
   ],
   "source": [
    "!pip install -q efficientnet\n",
    "from efficientnet.tfkeras import EfficientNetB0\n",
    "\n",
    "with strategy.scope():\n",
    "    efn = EfficientNetB0(\n",
    "        include_top=False, \n",
    "        weights='noisy-student', \n",
    "        pooling='avg', \n",
    "        input_shape=(IMG_SIZE, IMG_SIZE, 3))\n",
    "\n",
    "    model = Sequential()\n",
    "    model.add(efn)\n",
    "    model.add(L.BatchNormalization())\n",
    "    model.add(L.Dense(128, activation='softmax'))\n",
    "    model.add(L.BatchNormalization())\n",
    "    model.add(L.Dense(2, activation='softmax'))\n",
    "    model.compile(optimizer='adam', loss='categorical_crossentropy', metrics=['accuracy'])\n",
    "    model.load_weights('../input/deface-efficientnet/weights.h5')"
   ]
  },
  {
   "attachments": {},
   "cell_type": "markdown",
   "id": "f8dcb110",
   "metadata": {},
   "source": [
    "## Evaluate image only model"
   ]
  },
  {
   "cell_type": "code",
   "execution_count": 15,
   "id": "7885a6bb",
   "metadata": {
    "execution": {
     "iopub.execute_input": "2021-09-19T02:46:59.937251Z",
     "iopub.status.busy": "2021-09-19T02:46:59.936547Z",
     "iopub.status.idle": "2021-09-19T02:57:09.447418Z",
     "shell.execute_reply": "2021-09-19T02:57:09.446782Z",
     "shell.execute_reply.started": "2021-09-18T12:04:44.186953Z"
    },
    "papermill": {
     "duration": 609.593046,
     "end_time": "2021-09-19T02:57:09.447584",
     "exception": false,
     "start_time": "2021-09-19T02:46:59.854538",
     "status": "completed"
    },
    "tags": []
   },
   "outputs": [
    {
     "name": "stdout",
     "output_type": "stream",
     "text": [
      "301/301 [==============================] - 609s 2s/step\n",
      "              precision    recall  f1-score   support\n",
      "\n",
      "           0     0.9509    0.9753    0.9630     11446\n",
      "           1     0.9623    0.9262    0.9439      7801\n",
      "\n",
      "    accuracy                         0.9554     19247\n",
      "   macro avg     0.9566    0.9507    0.9534     19247\n",
      "weighted avg     0.9555    0.9554    0.9552     19247\n",
      "\n",
      "[[11163   283]\n",
      " [  576  7225]]\n",
      "      TPR       FPR       FNR   ROC AUC\n",
      "   0.9262    0.0247    0.0738    0.9902\n"
     ]
    }
   ],
   "source": [
    "y_prob_img = model.predict(test_dataset, verbose=1)\n",
    "y_pred = np.argmax(y_prob_img, axis=1)\n",
    "\n",
    "clf_report = metrics.classification_report(y_test, y_pred, digits=4)\n",
    "cnf_matrix = metrics.confusion_matrix(y_test, y_pred)\n",
    "TN, FP, FN, TP = cnf_matrix.ravel()\n",
    "TPR = TP / (TP + FN)\n",
    "FPR = FP / (FP + TN)\n",
    "FNR = FN / (FN + TP)\n",
    "fpr, tpr, _ = metrics.roc_curve(y_test, y_prob_img[:, 1])\n",
    "auc = metrics.roc_auc_score(y_test, y_prob_img[:, 1])\n",
    "other_metrics = pd.DataFrame({'TPR': '%.4f' % TPR, \n",
    "                              'FPR': '%.4f' % FPR, \n",
    "                              'FNR': '%.4f' % FNR, \n",
    "                              'ROC AUC': '%.4f' % auc}, index=[0]).to_string(col_space=9, index=False)\n",
    "print(clf_report)\n",
    "print(cnf_matrix)\n",
    "print(other_metrics)"
   ]
  },
  {
   "attachments": {},
   "cell_type": "markdown",
   "id": "37b52f92",
   "metadata": {
    "papermill": {
     "duration": 0.167673,
     "end_time": "2021-09-19T02:57:09.782695",
     "exception": false,
     "start_time": "2021-09-19T02:57:09.615022",
     "status": "completed"
    },
    "tags": []
   },
   "source": [
    "## Fusion"
   ]
  },
  {
   "cell_type": "code",
   "execution_count": 16,
   "id": "40f4b420",
   "metadata": {
    "execution": {
     "iopub.execute_input": "2021-09-19T02:57:10.130471Z",
     "iopub.status.busy": "2021-09-19T02:57:10.129791Z",
     "iopub.status.idle": "2021-09-19T02:57:10.208043Z",
     "shell.execute_reply": "2021-09-19T02:57:10.207504Z",
     "shell.execute_reply.started": "2021-09-18T12:04:59.856478Z"
    },
    "papermill": {
     "duration": 0.25913,
     "end_time": "2021-09-19T02:57:10.208194",
     "exception": false,
     "start_time": "2021-09-19T02:57:09.949064",
     "status": "completed"
    },
    "tags": []
   },
   "outputs": [
    {
     "name": "stdout",
     "output_type": "stream",
     "text": [
      "              precision    recall  f1-score   support\n",
      "\n",
      "           0     0.9804    0.9900    0.9852     11446\n",
      "           1     0.9852    0.9710    0.9781      7801\n",
      "\n",
      "    accuracy                         0.9823     19247\n",
      "   macro avg     0.9828    0.9805    0.9816     19247\n",
      "weighted avg     0.9824    0.9823    0.9823     19247\n",
      "\n",
      "[[11332   114]\n",
      " [  226  7575]]\n",
      "      TPR       FPR       FNR   ROC AUC\n",
      "   0.9710    0.0100    0.0290    0.9977\n"
     ]
    }
   ],
   "source": [
    "y_prob = (y_prob_img + y_prob_txt) / 2\n",
    "y_pred = np.argmax(y_prob, axis=1)\n",
    "\n",
    "clf_report = metrics.classification_report(y_test, y_pred, digits=4)\n",
    "cnf_matrix = metrics.confusion_matrix(y_test, y_pred)\n",
    "TN, FP, FN, TP = cnf_matrix.ravel()\n",
    "TPR = TP / (TP + FN)\n",
    "FPR = FP / (FP + TN)\n",
    "FNR = FN / (FN + TP)\n",
    "fpr, tpr, _ = metrics.roc_curve(y_test, y_prob[:, 1])\n",
    "auc = metrics.roc_auc_score(y_test, y_prob[:, 1])\n",
    "other_metrics = pd.DataFrame({'TPR': '%.4f' % TPR, \n",
    "                              'FPR': '%.4f' % FPR, \n",
    "                              'FNR': '%.4f' % FNR, \n",
    "                              'ROC AUC': '%.4f' % auc}, index=[0]).to_string(col_space=9, index=False)\n",
    "print(clf_report)\n",
    "print(cnf_matrix)\n",
    "print(other_metrics)"
   ]
  },
  {
   "attachments": {},
   "cell_type": "markdown",
   "id": "6e376969",
   "metadata": {
    "papermill": {
     "duration": 0.172428,
     "end_time": "2021-09-19T02:57:10.550172",
     "exception": false,
     "start_time": "2021-09-19T02:57:10.377744",
     "status": "completed"
    },
    "tags": []
   },
   "source": [
    "## Xception"
   ]
  },
  {
   "attachments": {},
   "cell_type": "markdown",
   "id": "35496960",
   "metadata": {},
   "source": [
    "## Load model"
   ]
  },
  {
   "cell_type": "code",
   "execution_count": 17,
   "id": "9efe56d7",
   "metadata": {
    "execution": {
     "iopub.execute_input": "2021-09-19T02:57:10.906886Z",
     "iopub.status.busy": "2021-09-19T02:57:10.906217Z",
     "iopub.status.idle": "2021-09-19T02:57:26.689107Z",
     "shell.execute_reply": "2021-09-19T02:57:26.688093Z",
     "shell.execute_reply.started": "2021-09-18T12:04:59.878252Z"
    },
    "papermill": {
     "duration": 15.97098,
     "end_time": "2021-09-19T02:57:26.689264",
     "exception": false,
     "start_time": "2021-09-19T02:57:10.718284",
     "status": "completed"
    },
    "tags": []
   },
   "outputs": [
    {
     "name": "stdout",
     "output_type": "stream",
     "text": [
      "Downloading data from https://storage.googleapis.com/tensorflow/keras-applications/xception/xception_weights_tf_dim_ordering_tf_kernels_notop.h5\n",
      "83689472/83683744 [==============================] - 1s 0us/step\n"
     ]
    }
   ],
   "source": [
    "from tensorflow.keras.applications import Xception\n",
    "\n",
    "with strategy.scope():\n",
    "    net = Xception(\n",
    "        include_top=False, \n",
    "        weights='imagenet', \n",
    "        pooling='avg', \n",
    "        input_shape=(IMG_SIZE, IMG_SIZE, 3))\n",
    "\n",
    "    model = Sequential()\n",
    "    model.add(net)\n",
    "    model.add(L.BatchNormalization())\n",
    "    model.add(L.Dense(128, activation='softmax'))\n",
    "    model.add(L.BatchNormalization())\n",
    "    model.add(L.Dense(2, activation='softmax'))\n",
    "    model.compile(optimizer='adam', loss='categorical_crossentropy', metrics=['accuracy'])\n",
    "    model.load_weights('../input/deface-xception/weights.h5')"
   ]
  },
  {
   "attachments": {},
   "cell_type": "markdown",
   "id": "a20e0d0b",
   "metadata": {},
   "source": [
    "## Evaluate image only model"
   ]
  },
  {
   "cell_type": "code",
   "execution_count": 18,
   "id": "0bb12343",
   "metadata": {
    "execution": {
     "iopub.execute_input": "2021-09-19T02:57:27.101956Z",
     "iopub.status.busy": "2021-09-19T02:57:27.100948Z",
     "iopub.status.idle": "2021-09-19T03:05:29.405822Z",
     "shell.execute_reply": "2021-09-19T03:05:29.405306Z",
     "shell.execute_reply.started": "2021-09-18T12:05:14.587301Z"
    },
    "papermill": {
     "duration": 482.509743,
     "end_time": "2021-09-19T03:05:29.406000",
     "exception": false,
     "start_time": "2021-09-19T02:57:26.896257",
     "status": "completed"
    },
    "tags": []
   },
   "outputs": [
    {
     "name": "stdout",
     "output_type": "stream",
     "text": [
      "301/301 [==============================] - 482s 2s/step\n",
      "              precision    recall  f1-score   support\n",
      "\n",
      "           0     0.9532    0.9696    0.9613     11446\n",
      "           1     0.9542    0.9301    0.9420      7801\n",
      "\n",
      "    accuracy                         0.9536     19247\n",
      "   macro avg     0.9537    0.9499    0.9517     19247\n",
      "weighted avg     0.9536    0.9536    0.9535     19247\n",
      "\n",
      "[[11098   348]\n",
      " [  545  7256]]\n",
      "      TPR       FPR       FNR   ROC AUC\n",
      "   0.9301    0.0304    0.0699    0.9889\n"
     ]
    }
   ],
   "source": [
    "y_prob_img = model.predict(test_dataset, verbose=1)\n",
    "y_pred = np.argmax(y_prob_img, axis=1)\n",
    "\n",
    "clf_report = metrics.classification_report(y_test, y_pred, digits=4)\n",
    "cnf_matrix = metrics.confusion_matrix(y_test, y_pred)\n",
    "TN, FP, FN, TP = cnf_matrix.ravel()\n",
    "TPR = TP / (TP + FN)\n",
    "FPR = FP / (FP + TN)\n",
    "FNR = FN / (FN + TP)\n",
    "fpr, tpr, _ = metrics.roc_curve(y_test, y_prob_img[:, 1])\n",
    "auc = metrics.roc_auc_score(y_test, y_prob_img[:, 1])\n",
    "other_metrics = pd.DataFrame({'TPR': '%.4f' % TPR, \n",
    "                              'FPR': '%.4f' % FPR, \n",
    "                              'FNR': '%.4f' % FNR, \n",
    "                              'ROC AUC': '%.4f' % auc}, index=[0]).to_string(col_space=9, index=False)\n",
    "print(clf_report)\n",
    "print(cnf_matrix)\n",
    "print(other_metrics)"
   ]
  },
  {
   "attachments": {},
   "cell_type": "markdown",
   "id": "19abdcfa",
   "metadata": {
    "papermill": {
     "duration": 0.260723,
     "end_time": "2021-09-19T03:05:29.929681",
     "exception": false,
     "start_time": "2021-09-19T03:05:29.668958",
     "status": "completed"
    },
    "tags": []
   },
   "source": [
    "## Fusion"
   ]
  },
  {
   "cell_type": "code",
   "execution_count": 19,
   "id": "29199764",
   "metadata": {
    "execution": {
     "iopub.execute_input": "2021-09-19T03:05:30.463633Z",
     "iopub.status.busy": "2021-09-19T03:05:30.462856Z",
     "iopub.status.idle": "2021-09-19T03:05:30.543982Z",
     "shell.execute_reply": "2021-09-19T03:05:30.543396Z",
     "shell.execute_reply.started": "2021-09-18T12:05:26.454674Z"
    },
    "papermill": {
     "duration": 0.351884,
     "end_time": "2021-09-19T03:05:30.544124",
     "exception": false,
     "start_time": "2021-09-19T03:05:30.192240",
     "status": "completed"
    },
    "tags": []
   },
   "outputs": [
    {
     "name": "stdout",
     "output_type": "stream",
     "text": [
      "              precision    recall  f1-score   support\n",
      "\n",
      "           0     0.9768    0.9873    0.9821     11446\n",
      "           1     0.9811    0.9656    0.9733      7801\n",
      "\n",
      "    accuracy                         0.9785     19247\n",
      "   macro avg     0.9790    0.9765    0.9777     19247\n",
      "weighted avg     0.9786    0.9785    0.9785     19247\n",
      "\n",
      "[[11301   145]\n",
      " [  268  7533]]\n",
      "      TPR       FPR       FNR   ROC AUC\n",
      "   0.9656    0.0127    0.0344    0.9974\n"
     ]
    }
   ],
   "source": [
    "y_prob = (y_prob_img + y_prob_txt) / 2\n",
    "y_pred = np.argmax(y_prob, axis=1)\n",
    "\n",
    "clf_report = metrics.classification_report(y_test, y_pred, digits=4)\n",
    "cnf_matrix = metrics.confusion_matrix(y_test, y_pred)\n",
    "TN, FP, FN, TP = cnf_matrix.ravel()\n",
    "TPR = TP / (TP + FN)\n",
    "FPR = FP / (FP + TN)\n",
    "FNR = FN / (FN + TP)\n",
    "fpr, tpr, _ = metrics.roc_curve(y_test, y_prob[:, 1])\n",
    "auc = metrics.roc_auc_score(y_test, y_prob[:, 1])\n",
    "other_metrics = pd.DataFrame({'TPR': '%.4f' % TPR, \n",
    "                              'FPR': '%.4f' % FPR, \n",
    "                              'FNR': '%.4f' % FNR, \n",
    "                              'ROC AUC': '%.4f' % auc}, index=[0]).to_string(col_space=9, index=False)\n",
    "print(clf_report)\n",
    "print(cnf_matrix)\n",
    "print(other_metrics)"
   ]
  },
  {
   "attachments": {},
   "cell_type": "markdown",
   "id": "608a8fff",
   "metadata": {
    "papermill": {
     "duration": 0.263222,
     "end_time": "2021-09-19T03:05:31.069293",
     "exception": false,
     "start_time": "2021-09-19T03:05:30.806071",
     "status": "completed"
    },
    "tags": []
   },
   "source": [
    "## Inception"
   ]
  },
  {
   "attachments": {},
   "cell_type": "markdown",
   "id": "2acbb7ff",
   "metadata": {},
   "source": [
    "## Load model"
   ]
  },
  {
   "cell_type": "code",
   "execution_count": 20,
   "id": "b8b5918f",
   "metadata": {
    "execution": {
     "iopub.execute_input": "2021-09-19T03:05:31.611029Z",
     "iopub.status.busy": "2021-09-19T03:05:31.608552Z",
     "iopub.status.idle": "2021-09-19T03:05:57.886663Z",
     "shell.execute_reply": "2021-09-19T03:05:57.887310Z",
     "shell.execute_reply.started": "2021-09-18T12:05:26.478228Z"
    },
    "papermill": {
     "duration": 26.556286,
     "end_time": "2021-09-19T03:05:57.887550",
     "exception": false,
     "start_time": "2021-09-19T03:05:31.331264",
     "status": "completed"
    },
    "tags": []
   },
   "outputs": [
    {
     "name": "stdout",
     "output_type": "stream",
     "text": [
      "Downloading data from https://storage.googleapis.com/tensorflow/keras-applications/inception_v3/inception_v3_weights_tf_dim_ordering_tf_kernels_notop.h5\n",
      "87916544/87910968 [==============================] - 1s 0us/step\n"
     ]
    }
   ],
   "source": [
    "from tensorflow.keras.applications import InceptionV3\n",
    "\n",
    "with strategy.scope():\n",
    "    net = InceptionV3(\n",
    "        include_top=False, \n",
    "        weights='imagenet', \n",
    "        pooling='avg', \n",
    "        input_shape=(IMG_SIZE, IMG_SIZE, 3))\n",
    "\n",
    "    model = Sequential()\n",
    "    model.add(net)\n",
    "    model.add(L.BatchNormalization())\n",
    "    model.add(L.Dense(128, activation='softmax'))\n",
    "    model.add(L.BatchNormalization())\n",
    "    model.add(L.Dense(2, activation='softmax'))\n",
    "    model.compile(optimizer='adam', loss='categorical_crossentropy', metrics=['accuracy'])\n",
    "    model.load_weights('../input/deface-inception/weights.h5')"
   ]
  },
  {
   "attachments": {},
   "cell_type": "markdown",
   "id": "6b74a4c4",
   "metadata": {},
   "source": [
    "## Evaluate image only model"
   ]
  },
  {
   "cell_type": "code",
   "execution_count": 21,
   "id": "14e700c8",
   "metadata": {
    "execution": {
     "iopub.execute_input": "2021-09-19T03:05:58.436522Z",
     "iopub.status.busy": "2021-09-19T03:05:58.435397Z",
     "iopub.status.idle": "2021-09-19T03:13:52.937658Z",
     "shell.execute_reply": "2021-09-19T03:13:52.938186Z",
     "shell.execute_reply.started": "2021-09-18T12:05:50.867722Z"
    },
    "papermill": {
     "duration": 474.782341,
     "end_time": "2021-09-19T03:13:52.938378",
     "exception": false,
     "start_time": "2021-09-19T03:05:58.156037",
     "status": "completed"
    },
    "tags": []
   },
   "outputs": [
    {
     "name": "stdout",
     "output_type": "stream",
     "text": [
      "301/301 [==============================] - 474s 2s/step\n",
      "              precision    recall  f1-score   support\n",
      "\n",
      "           0     0.9051    0.9391    0.9218     11446\n",
      "           1     0.9054    0.8555    0.8798      7801\n",
      "\n",
      "    accuracy                         0.9052     19247\n",
      "   macro avg     0.9053    0.8973    0.9008     19247\n",
      "weighted avg     0.9052    0.9052    0.9048     19247\n",
      "\n",
      "[[10749   697]\n",
      " [ 1127  6674]]\n",
      "      TPR       FPR       FNR   ROC AUC\n",
      "   0.8555    0.0609    0.1445    0.9632\n"
     ]
    }
   ],
   "source": [
    "y_prob_img = model.predict(test_dataset, verbose=1)\n",
    "y_pred = np.argmax(y_prob_img, axis=1)\n",
    "\n",
    "clf_report = metrics.classification_report(y_test, y_pred, digits=4)\n",
    "cnf_matrix = metrics.confusion_matrix(y_test, y_pred)\n",
    "TN, FP, FN, TP = cnf_matrix.ravel()\n",
    "TPR = TP / (TP + FN)\n",
    "FPR = FP / (FP + TN)\n",
    "FNR = FN / (FN + TP)\n",
    "fpr, tpr, _ = metrics.roc_curve(y_test, y_prob_img[:, 1])\n",
    "auc = metrics.roc_auc_score(y_test, y_prob_img[:, 1])\n",
    "other_metrics = pd.DataFrame({'TPR': '%.4f' % TPR, \n",
    "                              'FPR': '%.4f' % FPR, \n",
    "                              'FNR': '%.4f' % FNR, \n",
    "                              'ROC AUC': '%.4f' % auc}, index=[0]).to_string(col_space=9, index=False)\n",
    "print(clf_report)\n",
    "print(cnf_matrix)\n",
    "print(other_metrics)"
   ]
  },
  {
   "attachments": {},
   "cell_type": "markdown",
   "id": "5c424729",
   "metadata": {
    "papermill": {
     "duration": 0.359229,
     "end_time": "2021-09-19T03:13:53.658391",
     "exception": false,
     "start_time": "2021-09-19T03:13:53.299162",
     "status": "completed"
    },
    "tags": []
   },
   "source": [
    "## Fusion"
   ]
  },
  {
   "cell_type": "code",
   "execution_count": 22,
   "id": "582003c1",
   "metadata": {
    "execution": {
     "iopub.execute_input": "2021-09-19T03:13:54.379519Z",
     "iopub.status.busy": "2021-09-19T03:13:54.378773Z",
     "iopub.status.idle": "2021-09-19T03:13:54.466382Z",
     "shell.execute_reply": "2021-09-19T03:13:54.465723Z",
     "shell.execute_reply.started": "2021-09-18T12:06:06.663083Z"
    },
    "papermill": {
     "duration": 0.451253,
     "end_time": "2021-09-19T03:13:54.466524",
     "exception": false,
     "start_time": "2021-09-19T03:13:54.015271",
     "status": "completed"
    },
    "tags": []
   },
   "outputs": [
    {
     "name": "stdout",
     "output_type": "stream",
     "text": [
      "              precision    recall  f1-score   support\n",
      "\n",
      "           0     0.9709    0.9854    0.9781     11446\n",
      "           1     0.9781    0.9567    0.9673      7801\n",
      "\n",
      "    accuracy                         0.9738     19247\n",
      "   macro avg     0.9745    0.9710    0.9727     19247\n",
      "weighted avg     0.9738    0.9738    0.9737     19247\n",
      "\n",
      "[[11279   167]\n",
      " [  338  7463]]\n"
     ]
    }
   ],
   "source": [
    "y_prob = (y_prob_img + y_prob_txt) / 2\n",
    "y_pred = np.argmax(y_prob, axis=1)\n",
    "\n",
    "clf_report = metrics.classification_report(y_test, y_pred, digits=4)\n",
    "cnf_matrix = metrics.confusion_matrix(y_test, y_pred)\n",
    "TN, FP, FN, TP = cnf_matrix.ravel()\n",
    "TPR = TP / (TP + FN)\n",
    "FPR = FP / (FP + TN)\n",
    "FNR = FN / (FN + TP)\n",
    "fpr, tpr, _ = metrics.roc_curve(y_test, y_prob[:, 1])\n",
    "auc = metrics.roc_auc_score(y_test, y_prob[:, 1])\n",
    "other_metrics = pd.DataFrame({'TPR': '%.4f' % TPR, \n",
    "                              'FPR': '%.4f' % FPR, \n",
    "                              'FNR': '%.4f' % FNR, \n",
    "                              'ROC AUC': '%.4f' % auc}, index=[0]).to_string(col_space=9, index=False)\n",
    "print(clf_report)\n",
    "print(cnf_matrix)"
   ]
  },
  {
   "attachments": {},
   "cell_type": "markdown",
   "id": "8bf0cd4f",
   "metadata": {
    "papermill": {
     "duration": 0.364112,
     "end_time": "2021-09-19T03:13:55.195257",
     "exception": false,
     "start_time": "2021-09-19T03:13:54.831145",
     "status": "completed"
    },
    "tags": []
   },
   "source": [
    "## Image-LSTM"
   ]
  },
  {
   "attachments": {},
   "cell_type": "markdown",
   "id": "0fd75aa5",
   "metadata": {},
   "source": [
    "## Load model"
   ]
  },
  {
   "cell_type": "code",
   "execution_count": 23,
   "id": "de23095b",
   "metadata": {
    "execution": {
     "iopub.execute_input": "2021-09-19T03:13:55.941133Z",
     "iopub.status.busy": "2021-09-19T03:13:55.935906Z",
     "iopub.status.idle": "2021-09-19T03:13:56.165029Z",
     "shell.execute_reply": "2021-09-19T03:13:56.165516Z",
     "shell.execute_reply.started": "2021-09-18T12:06:06.685343Z"
    },
    "papermill": {
     "duration": 0.605423,
     "end_time": "2021-09-19T03:13:56.165707",
     "exception": false,
     "start_time": "2021-09-19T03:13:55.560284",
     "status": "completed"
    },
    "tags": []
   },
   "outputs": [],
   "source": [
    "def decode_image(filename, label=None):\n",
    "    bits = tf.io.read_file(filename)\n",
    "    image = tf.image.decode_png(bits, channels=1)\n",
    "    image = tf.cast(image, tf.float32) / 255.0\n",
    "    image = tf.image.resize(image, (IMG_SIZE, IMG_SIZE))\n",
    "    image = tf.reshape(image, (IMG_SIZE, IMG_SIZE))\n",
    "    \n",
    "    if label is None:\n",
    "        return image\n",
    "    else:\n",
    "        return image, label\n",
    "\n",
    "test_dataset = (\n",
    "    tf.data.TFRecordDataset\n",
    "    .from_tensor_slices(X_test)\n",
    "    .map(decode_image, num_parallel_calls=AUTO)\n",
    "    .batch(BATCH_SIZE)\n",
    ")"
   ]
  },
  {
   "cell_type": "code",
   "execution_count": 24,
   "id": "86978730",
   "metadata": {
    "execution": {
     "iopub.execute_input": "2021-09-19T03:13:56.913807Z",
     "iopub.status.busy": "2021-09-19T03:13:56.912583Z",
     "iopub.status.idle": "2021-09-19T03:13:58.802837Z",
     "shell.execute_reply": "2021-09-19T03:13:58.803376Z",
     "shell.execute_reply.started": "2021-09-18T12:06:06.816181Z"
    },
    "papermill": {
     "duration": 2.269285,
     "end_time": "2021-09-19T03:13:58.803566",
     "exception": false,
     "start_time": "2021-09-19T03:13:56.534281",
     "status": "completed"
    },
    "tags": []
   },
   "outputs": [],
   "source": [
    "with strategy.scope():\n",
    "    model = Sequential()\n",
    "    model.add(L.Bidirectional(L.LSTM(units=64, return_sequences=True, dropout=0.2, \n",
    "                                     recurrent_dropout=0.2), input_shape=(IMG_SIZE, IMG_SIZE)))\n",
    "    model.add(L.Bidirectional(L.LSTM(units=64, return_sequences=True, dropout=0.2, \n",
    "                                     recurrent_dropout=0.2)))\n",
    "    model.add(L.Bidirectional(L.LSTM(units=64, dropout=0.2, recurrent_dropout=0.2)))\n",
    "    model.add(L.Dense(16, activation='softmax'))\n",
    "    model.add(L.BatchNormalization())\n",
    "    model.add(L.Dense(2, activation='softmax'))\n",
    "    model.compile(optimizer='adam', loss='categorical_crossentropy', metrics=['accuracy'])\n",
    "    model.load_weights('../input/deface-image-lstm/weights.h5')"
   ]
  },
  {
   "attachments": {},
   "cell_type": "markdown",
   "id": "faf418ff",
   "metadata": {},
   "source": [
    "## Evaluate image only model"
   ]
  },
  {
   "cell_type": "code",
   "execution_count": 25,
   "id": "374a5f06",
   "metadata": {
    "execution": {
     "iopub.execute_input": "2021-09-19T03:13:59.579663Z",
     "iopub.status.busy": "2021-09-19T03:13:59.578668Z",
     "iopub.status.idle": "2021-09-19T03:21:52.033965Z",
     "shell.execute_reply": "2021-09-19T03:21:52.033270Z",
     "shell.execute_reply.started": "2021-09-18T12:06:08.451093Z"
    },
    "papermill": {
     "duration": 472.857644,
     "end_time": "2021-09-19T03:21:52.034189",
     "exception": false,
     "start_time": "2021-09-19T03:13:59.176545",
     "status": "completed"
    },
    "tags": []
   },
   "outputs": [
    {
     "name": "stdout",
     "output_type": "stream",
     "text": [
      "301/301 [==============================] - 472s 2s/step\n",
      "              precision    recall  f1-score   support\n",
      "\n",
      "           0     0.9102    0.9257    0.9179     11446\n",
      "           1     0.8881    0.8660    0.8769      7801\n",
      "\n",
      "    accuracy                         0.9015     19247\n",
      "   macro avg     0.8992    0.8958    0.8974     19247\n",
      "weighted avg     0.9013    0.9015    0.9013     19247\n",
      "\n",
      "[[10595   851]\n",
      " [ 1045  6756]]\n",
      "      TPR       FPR       FNR   ROC AUC\n",
      "   0.8660    0.0743    0.1340    0.9635\n"
     ]
    }
   ],
   "source": [
    "y_prob_img = model.predict(test_dataset, verbose=1)\n",
    "y_pred = np.argmax(y_prob_img, axis=1)\n",
    "\n",
    "clf_report = metrics.classification_report(y_test, y_pred, digits=4)\n",
    "cnf_matrix = metrics.confusion_matrix(y_test, y_pred)\n",
    "TN, FP, FN, TP = cnf_matrix.ravel()\n",
    "TPR = TP / (TP + FN)\n",
    "FPR = FP / (FP + TN)\n",
    "FNR = FN / (FN + TP)\n",
    "fpr, tpr, _ = metrics.roc_curve(y_test, y_prob_img[:, 1])\n",
    "auc = metrics.roc_auc_score(y_test, y_prob_img[:, 1])\n",
    "other_metrics = pd.DataFrame({'TPR': '%.4f' % TPR, \n",
    "                              'FPR': '%.4f' % FPR, \n",
    "                              'FNR': '%.4f' % FNR, \n",
    "                              'ROC AUC': '%.4f' % auc}, index=[0]).to_string(col_space=9, index=False)\n",
    "print(clf_report)\n",
    "print(cnf_matrix)\n",
    "print(other_metrics)"
   ]
  },
  {
   "attachments": {},
   "cell_type": "markdown",
   "id": "92c75e7d",
   "metadata": {
    "papermill": {
     "duration": 0.447111,
     "end_time": "2021-09-19T03:21:52.930389",
     "exception": false,
     "start_time": "2021-09-19T03:21:52.483278",
     "status": "completed"
    },
    "tags": []
   },
   "source": [
    "## Fusion"
   ]
  },
  {
   "cell_type": "code",
   "execution_count": 26,
   "id": "62260c85",
   "metadata": {
    "execution": {
     "iopub.execute_input": "2021-09-19T03:21:53.836820Z",
     "iopub.status.busy": "2021-09-19T03:21:53.836137Z",
     "iopub.status.idle": "2021-09-19T03:21:53.914406Z",
     "shell.execute_reply": "2021-09-19T03:21:53.914899Z",
     "shell.execute_reply.started": "2021-09-18T12:06:16.583036Z"
    },
    "papermill": {
     "duration": 0.537296,
     "end_time": "2021-09-19T03:21:53.915103",
     "exception": false,
     "start_time": "2021-09-19T03:21:53.377807",
     "status": "completed"
    },
    "tags": []
   },
   "outputs": [
    {
     "name": "stdout",
     "output_type": "stream",
     "text": [
      "              precision    recall  f1-score   support\n",
      "\n",
      "           0     0.9716    0.9834    0.9775     11446\n",
      "           1     0.9752    0.9578    0.9664      7801\n",
      "\n",
      "    accuracy                         0.9730     19247\n",
      "   macro avg     0.9734    0.9706    0.9720     19247\n",
      "weighted avg     0.9731    0.9730    0.9730     19247\n",
      "\n",
      "[[11256   190]\n",
      " [  329  7472]]\n"
     ]
    }
   ],
   "source": [
    "y_prob = (y_prob_img + y_prob_txt) / 2\n",
    "y_pred = np.argmax(y_prob, axis=1)\n",
    "\n",
    "clf_report = metrics.classification_report(y_test, y_pred, digits=4)\n",
    "cnf_matrix = metrics.confusion_matrix(y_test, y_pred)\n",
    "TN, FP, FN, TP = cnf_matrix.ravel()\n",
    "TPR = TP / (TP + FN)\n",
    "FPR = FP / (FP + TN)\n",
    "FNR = FN / (FN + TP)\n",
    "fpr, tpr, _ = metrics.roc_curve(y_test, y_prob[:, 1])\n",
    "auc = metrics.roc_auc_score(y_test, y_prob[:, 1])\n",
    "other_metrics = pd.DataFrame({'TPR': '%.4f' % TPR, \n",
    "                              'FPR': '%.4f' % FPR, \n",
    "                              'FNR': '%.4f' % FNR, \n",
    "                              'ROC AUC': '%.4f' % auc}, index=[0]).to_string(col_space=9, index=False)\n",
    "print(clf_report)\n",
    "print(cnf_matrix)"
   ]
  }
 ],
 "metadata": {
  "kernelspec": {
   "display_name": "Python 3",
   "language": "python",
   "name": "python3"
  },
  "language_info": {
   "codemirror_mode": {
    "name": "ipython",
    "version": 3
   },
   "file_extension": ".py",
   "mimetype": "text/x-python",
   "name": "python",
   "nbconvert_exporter": "python",
   "pygments_lexer": "ipython3",
   "version": "3.7.10"
  },
  "papermill": {
   "default_parameters": {},
   "duration": 4190.169518,
   "end_time": "2021-09-19T03:21:57.875999",
   "environment_variables": {},
   "exception": null,
   "input_path": "__notebook__.ipynb",
   "output_path": "__notebook__.ipynb",
   "parameters": {},
   "start_time": "2021-09-19T02:12:07.706481",
   "version": "2.3.3"
  },
  "widgets": {
   "application/vnd.jupyter.widget-state+json": {
    "state": {
     "08121b8c67d9424889a4c2ff81f7f2aa": {
      "model_module": "@jupyter-widgets/controls",
      "model_module_version": "1.5.0",
      "model_name": "DescriptionStyleModel",
      "state": {
       "_model_module": "@jupyter-widgets/controls",
       "_model_module_version": "1.5.0",
       "_model_name": "DescriptionStyleModel",
       "_view_count": null,
       "_view_module": "@jupyter-widgets/base",
       "_view_module_version": "1.2.0",
       "_view_name": "StyleView",
       "description_width": ""
      }
     },
     "2451bed888c440248c09a97841d0bae7": {
      "model_module": "@jupyter-widgets/controls",
      "model_module_version": "1.5.0",
      "model_name": "HTMLModel",
      "state": {
       "_dom_classes": [],
       "_model_module": "@jupyter-widgets/controls",
       "_model_module_version": "1.5.0",
       "_model_name": "HTMLModel",
       "_view_count": null,
       "_view_module": "@jupyter-widgets/controls",
       "_view_module_version": "1.5.0",
       "_view_name": "HTMLView",
       "description": "",
       "description_tooltip": null,
       "layout": "IPY_MODEL_42fbad01e1cd4fb3959d0bc4b1af66da",
       "placeholder": "​",
       "style": "IPY_MODEL_08121b8c67d9424889a4c2ff81f7f2aa",
       "value": " 96234/96234 [04:27&lt;00:00, 385.83it/s]"
      }
     },
     "247f0c385d364f3aba1737a6c816708e": {
      "model_module": "@jupyter-widgets/controls",
      "model_module_version": "1.5.0",
      "model_name": "ProgressStyleModel",
      "state": {
       "_model_module": "@jupyter-widgets/controls",
       "_model_module_version": "1.5.0",
       "_model_name": "ProgressStyleModel",
       "_view_count": null,
       "_view_module": "@jupyter-widgets/base",
       "_view_module_version": "1.2.0",
       "_view_name": "StyleView",
       "bar_color": null,
       "description_width": ""
      }
     },
     "27d8e67fc3254e33889a6fb8f626a841": {
      "model_module": "@jupyter-widgets/controls",
      "model_module_version": "1.5.0",
      "model_name": "HBoxModel",
      "state": {
       "_dom_classes": [],
       "_model_module": "@jupyter-widgets/controls",
       "_model_module_version": "1.5.0",
       "_model_name": "HBoxModel",
       "_view_count": null,
       "_view_module": "@jupyter-widgets/controls",
       "_view_module_version": "1.5.0",
       "_view_name": "HBoxView",
       "box_style": "",
       "children": [
        "IPY_MODEL_d9186fee5f70458ea79826a739c329a9",
        "IPY_MODEL_97f8f03ab5554807990b95aabaee75fe",
        "IPY_MODEL_9c6fbcf35c3b4ffba824b8547f102548"
       ],
       "layout": "IPY_MODEL_97dbbcae3b5a420ebd15a391a348fbbc"
      }
     },
     "39fa741daa3d42aebf674b7b05331266": {
      "model_module": "@jupyter-widgets/base",
      "model_module_version": "1.2.0",
      "model_name": "LayoutModel",
      "state": {
       "_model_module": "@jupyter-widgets/base",
       "_model_module_version": "1.2.0",
       "_model_name": "LayoutModel",
       "_view_count": null,
       "_view_module": "@jupyter-widgets/base",
       "_view_module_version": "1.2.0",
       "_view_name": "LayoutView",
       "align_content": null,
       "align_items": null,
       "align_self": null,
       "border": null,
       "bottom": null,
       "display": null,
       "flex": null,
       "flex_flow": null,
       "grid_area": null,
       "grid_auto_columns": null,
       "grid_auto_flow": null,
       "grid_auto_rows": null,
       "grid_column": null,
       "grid_gap": null,
       "grid_row": null,
       "grid_template_areas": null,
       "grid_template_columns": null,
       "grid_template_rows": null,
       "height": null,
       "justify_content": null,
       "justify_items": null,
       "left": null,
       "margin": null,
       "max_height": null,
       "max_width": null,
       "min_height": null,
       "min_width": null,
       "object_fit": null,
       "object_position": null,
       "order": null,
       "overflow": null,
       "overflow_x": null,
       "overflow_y": null,
       "padding": null,
       "right": null,
       "top": null,
       "visibility": null,
       "width": null
      }
     },
     "42fbad01e1cd4fb3959d0bc4b1af66da": {
      "model_module": "@jupyter-widgets/base",
      "model_module_version": "1.2.0",
      "model_name": "LayoutModel",
      "state": {
       "_model_module": "@jupyter-widgets/base",
       "_model_module_version": "1.2.0",
       "_model_name": "LayoutModel",
       "_view_count": null,
       "_view_module": "@jupyter-widgets/base",
       "_view_module_version": "1.2.0",
       "_view_name": "LayoutView",
       "align_content": null,
       "align_items": null,
       "align_self": null,
       "border": null,
       "bottom": null,
       "display": null,
       "flex": null,
       "flex_flow": null,
       "grid_area": null,
       "grid_auto_columns": null,
       "grid_auto_flow": null,
       "grid_auto_rows": null,
       "grid_column": null,
       "grid_gap": null,
       "grid_row": null,
       "grid_template_areas": null,
       "grid_template_columns": null,
       "grid_template_rows": null,
       "height": null,
       "justify_content": null,
       "justify_items": null,
       "left": null,
       "margin": null,
       "max_height": null,
       "max_width": null,
       "min_height": null,
       "min_width": null,
       "object_fit": null,
       "object_position": null,
       "order": null,
       "overflow": null,
       "overflow_x": null,
       "overflow_y": null,
       "padding": null,
       "right": null,
       "top": null,
       "visibility": null,
       "width": null
      }
     },
     "4d082c92003641d9a2bd8f620b25f03a": {
      "model_module": "@jupyter-widgets/base",
      "model_module_version": "1.2.0",
      "model_name": "LayoutModel",
      "state": {
       "_model_module": "@jupyter-widgets/base",
       "_model_module_version": "1.2.0",
       "_model_name": "LayoutModel",
       "_view_count": null,
       "_view_module": "@jupyter-widgets/base",
       "_view_module_version": "1.2.0",
       "_view_name": "LayoutView",
       "align_content": null,
       "align_items": null,
       "align_self": null,
       "border": null,
       "bottom": null,
       "display": null,
       "flex": null,
       "flex_flow": null,
       "grid_area": null,
       "grid_auto_columns": null,
       "grid_auto_flow": null,
       "grid_auto_rows": null,
       "grid_column": null,
       "grid_gap": null,
       "grid_row": null,
       "grid_template_areas": null,
       "grid_template_columns": null,
       "grid_template_rows": null,
       "height": null,
       "justify_content": null,
       "justify_items": null,
       "left": null,
       "margin": null,
       "max_height": null,
       "max_width": null,
       "min_height": null,
       "min_width": null,
       "object_fit": null,
       "object_position": null,
       "order": null,
       "overflow": null,
       "overflow_x": null,
       "overflow_y": null,
       "padding": null,
       "right": null,
       "top": null,
       "visibility": null,
       "width": null
      }
     },
     "59c200b404b34c6db4b0af3d5e51f514": {
      "model_module": "@jupyter-widgets/controls",
      "model_module_version": "1.5.0",
      "model_name": "HTMLModel",
      "state": {
       "_dom_classes": [],
       "_model_module": "@jupyter-widgets/controls",
       "_model_module_version": "1.5.0",
       "_model_name": "HTMLModel",
       "_view_count": null,
       "_view_module": "@jupyter-widgets/controls",
       "_view_module_version": "1.5.0",
       "_view_name": "HTMLView",
       "description": "",
       "description_tooltip": null,
       "layout": "IPY_MODEL_da541ef8323049ce9bb2b70fb1293540",
       "placeholder": "​",
       "style": "IPY_MODEL_6fab00b23f5e45c8bac63349f173971e",
       "value": "100%"
      }
     },
     "641da1e5d0a04348aa8f911267253987": {
      "model_module": "@jupyter-widgets/controls",
      "model_module_version": "1.5.0",
      "model_name": "FloatProgressModel",
      "state": {
       "_dom_classes": [],
       "_model_module": "@jupyter-widgets/controls",
       "_model_module_version": "1.5.0",
       "_model_name": "FloatProgressModel",
       "_view_count": null,
       "_view_module": "@jupyter-widgets/controls",
       "_view_module_version": "1.5.0",
       "_view_name": "ProgressView",
       "bar_style": "success",
       "description": "",
       "description_tooltip": null,
       "layout": "IPY_MODEL_da8b6149a706441d9b64232e1a8ce0c9",
       "max": 96234,
       "min": 0,
       "orientation": "horizontal",
       "style": "IPY_MODEL_247f0c385d364f3aba1737a6c816708e",
       "value": 96234
      }
     },
     "6fab00b23f5e45c8bac63349f173971e": {
      "model_module": "@jupyter-widgets/controls",
      "model_module_version": "1.5.0",
      "model_name": "DescriptionStyleModel",
      "state": {
       "_model_module": "@jupyter-widgets/controls",
       "_model_module_version": "1.5.0",
       "_model_name": "DescriptionStyleModel",
       "_view_count": null,
       "_view_module": "@jupyter-widgets/base",
       "_view_module_version": "1.2.0",
       "_view_name": "StyleView",
       "description_width": ""
      }
     },
     "97dbbcae3b5a420ebd15a391a348fbbc": {
      "model_module": "@jupyter-widgets/base",
      "model_module_version": "1.2.0",
      "model_name": "LayoutModel",
      "state": {
       "_model_module": "@jupyter-widgets/base",
       "_model_module_version": "1.2.0",
       "_model_name": "LayoutModel",
       "_view_count": null,
       "_view_module": "@jupyter-widgets/base",
       "_view_module_version": "1.2.0",
       "_view_name": "LayoutView",
       "align_content": null,
       "align_items": null,
       "align_self": null,
       "border": null,
       "bottom": null,
       "display": null,
       "flex": null,
       "flex_flow": null,
       "grid_area": null,
       "grid_auto_columns": null,
       "grid_auto_flow": null,
       "grid_auto_rows": null,
       "grid_column": null,
       "grid_gap": null,
       "grid_row": null,
       "grid_template_areas": null,
       "grid_template_columns": null,
       "grid_template_rows": null,
       "height": null,
       "justify_content": null,
       "justify_items": null,
       "left": null,
       "margin": null,
       "max_height": null,
       "max_width": null,
       "min_height": null,
       "min_width": null,
       "object_fit": null,
       "object_position": null,
       "order": null,
       "overflow": null,
       "overflow_x": null,
       "overflow_y": null,
       "padding": null,
       "right": null,
       "top": null,
       "visibility": null,
       "width": null
      }
     },
     "97f8f03ab5554807990b95aabaee75fe": {
      "model_module": "@jupyter-widgets/controls",
      "model_module_version": "1.5.0",
      "model_name": "FloatProgressModel",
      "state": {
       "_dom_classes": [],
       "_model_module": "@jupyter-widgets/controls",
       "_model_module_version": "1.5.0",
       "_model_name": "FloatProgressModel",
       "_view_count": null,
       "_view_module": "@jupyter-widgets/controls",
       "_view_module_version": "1.5.0",
       "_view_name": "ProgressView",
       "bar_style": "success",
       "description": "",
       "description_tooltip": null,
       "layout": "IPY_MODEL_f217b9cdd644454eb9cac68fdf9f5a6f",
       "max": 96234,
       "min": 0,
       "orientation": "horizontal",
       "style": "IPY_MODEL_9926c0b8a68d44ba9a079fe2e007ed12",
       "value": 96234
      }
     },
     "9926c0b8a68d44ba9a079fe2e007ed12": {
      "model_module": "@jupyter-widgets/controls",
      "model_module_version": "1.5.0",
      "model_name": "ProgressStyleModel",
      "state": {
       "_model_module": "@jupyter-widgets/controls",
       "_model_module_version": "1.5.0",
       "_model_name": "ProgressStyleModel",
       "_view_count": null,
       "_view_module": "@jupyter-widgets/base",
       "_view_module_version": "1.2.0",
       "_view_name": "StyleView",
       "bar_color": null,
       "description_width": ""
      }
     },
     "9c6fbcf35c3b4ffba824b8547f102548": {
      "model_module": "@jupyter-widgets/controls",
      "model_module_version": "1.5.0",
      "model_name": "HTMLModel",
      "state": {
       "_dom_classes": [],
       "_model_module": "@jupyter-widgets/controls",
       "_model_module_version": "1.5.0",
       "_model_name": "HTMLModel",
       "_view_count": null,
       "_view_module": "@jupyter-widgets/controls",
       "_view_module_version": "1.5.0",
       "_view_name": "HTMLView",
       "description": "",
       "description_tooltip": null,
       "layout": "IPY_MODEL_f1124a8ac91e468fb52f7809b25d9dd2",
       "placeholder": "​",
       "style": "IPY_MODEL_cbb089da8a6c48a39ba798e55c714ce1",
       "value": " 96234/96234 [00:57&lt;00:00, 1759.32it/s]"
      }
     },
     "af500235630a44e19bfb449990e877d7": {
      "model_module": "@jupyter-widgets/controls",
      "model_module_version": "1.5.0",
      "model_name": "HBoxModel",
      "state": {
       "_dom_classes": [],
       "_model_module": "@jupyter-widgets/controls",
       "_model_module_version": "1.5.0",
       "_model_name": "HBoxModel",
       "_view_count": null,
       "_view_module": "@jupyter-widgets/controls",
       "_view_module_version": "1.5.0",
       "_view_name": "HBoxView",
       "box_style": "",
       "children": [
        "IPY_MODEL_59c200b404b34c6db4b0af3d5e51f514",
        "IPY_MODEL_641da1e5d0a04348aa8f911267253987",
        "IPY_MODEL_2451bed888c440248c09a97841d0bae7"
       ],
       "layout": "IPY_MODEL_39fa741daa3d42aebf674b7b05331266"
      }
     },
     "cbb089da8a6c48a39ba798e55c714ce1": {
      "model_module": "@jupyter-widgets/controls",
      "model_module_version": "1.5.0",
      "model_name": "DescriptionStyleModel",
      "state": {
       "_model_module": "@jupyter-widgets/controls",
       "_model_module_version": "1.5.0",
       "_model_name": "DescriptionStyleModel",
       "_view_count": null,
       "_view_module": "@jupyter-widgets/base",
       "_view_module_version": "1.2.0",
       "_view_name": "StyleView",
       "description_width": ""
      }
     },
     "d2c0377ca1ce494fb7f231d8e37fa83c": {
      "model_module": "@jupyter-widgets/controls",
      "model_module_version": "1.5.0",
      "model_name": "DescriptionStyleModel",
      "state": {
       "_model_module": "@jupyter-widgets/controls",
       "_model_module_version": "1.5.0",
       "_model_name": "DescriptionStyleModel",
       "_view_count": null,
       "_view_module": "@jupyter-widgets/base",
       "_view_module_version": "1.2.0",
       "_view_name": "StyleView",
       "description_width": ""
      }
     },
     "d9186fee5f70458ea79826a739c329a9": {
      "model_module": "@jupyter-widgets/controls",
      "model_module_version": "1.5.0",
      "model_name": "HTMLModel",
      "state": {
       "_dom_classes": [],
       "_model_module": "@jupyter-widgets/controls",
       "_model_module_version": "1.5.0",
       "_model_name": "HTMLModel",
       "_view_count": null,
       "_view_module": "@jupyter-widgets/controls",
       "_view_module_version": "1.5.0",
       "_view_name": "HTMLView",
       "description": "",
       "description_tooltip": null,
       "layout": "IPY_MODEL_4d082c92003641d9a2bd8f620b25f03a",
       "placeholder": "​",
       "style": "IPY_MODEL_d2c0377ca1ce494fb7f231d8e37fa83c",
       "value": "100%"
      }
     },
     "da541ef8323049ce9bb2b70fb1293540": {
      "model_module": "@jupyter-widgets/base",
      "model_module_version": "1.2.0",
      "model_name": "LayoutModel",
      "state": {
       "_model_module": "@jupyter-widgets/base",
       "_model_module_version": "1.2.0",
       "_model_name": "LayoutModel",
       "_view_count": null,
       "_view_module": "@jupyter-widgets/base",
       "_view_module_version": "1.2.0",
       "_view_name": "LayoutView",
       "align_content": null,
       "align_items": null,
       "align_self": null,
       "border": null,
       "bottom": null,
       "display": null,
       "flex": null,
       "flex_flow": null,
       "grid_area": null,
       "grid_auto_columns": null,
       "grid_auto_flow": null,
       "grid_auto_rows": null,
       "grid_column": null,
       "grid_gap": null,
       "grid_row": null,
       "grid_template_areas": null,
       "grid_template_columns": null,
       "grid_template_rows": null,
       "height": null,
       "justify_content": null,
       "justify_items": null,
       "left": null,
       "margin": null,
       "max_height": null,
       "max_width": null,
       "min_height": null,
       "min_width": null,
       "object_fit": null,
       "object_position": null,
       "order": null,
       "overflow": null,
       "overflow_x": null,
       "overflow_y": null,
       "padding": null,
       "right": null,
       "top": null,
       "visibility": null,
       "width": null
      }
     },
     "da8b6149a706441d9b64232e1a8ce0c9": {
      "model_module": "@jupyter-widgets/base",
      "model_module_version": "1.2.0",
      "model_name": "LayoutModel",
      "state": {
       "_model_module": "@jupyter-widgets/base",
       "_model_module_version": "1.2.0",
       "_model_name": "LayoutModel",
       "_view_count": null,
       "_view_module": "@jupyter-widgets/base",
       "_view_module_version": "1.2.0",
       "_view_name": "LayoutView",
       "align_content": null,
       "align_items": null,
       "align_self": null,
       "border": null,
       "bottom": null,
       "display": null,
       "flex": null,
       "flex_flow": null,
       "grid_area": null,
       "grid_auto_columns": null,
       "grid_auto_flow": null,
       "grid_auto_rows": null,
       "grid_column": null,
       "grid_gap": null,
       "grid_row": null,
       "grid_template_areas": null,
       "grid_template_columns": null,
       "grid_template_rows": null,
       "height": null,
       "justify_content": null,
       "justify_items": null,
       "left": null,
       "margin": null,
       "max_height": null,
       "max_width": null,
       "min_height": null,
       "min_width": null,
       "object_fit": null,
       "object_position": null,
       "order": null,
       "overflow": null,
       "overflow_x": null,
       "overflow_y": null,
       "padding": null,
       "right": null,
       "top": null,
       "visibility": null,
       "width": null
      }
     },
     "f1124a8ac91e468fb52f7809b25d9dd2": {
      "model_module": "@jupyter-widgets/base",
      "model_module_version": "1.2.0",
      "model_name": "LayoutModel",
      "state": {
       "_model_module": "@jupyter-widgets/base",
       "_model_module_version": "1.2.0",
       "_model_name": "LayoutModel",
       "_view_count": null,
       "_view_module": "@jupyter-widgets/base",
       "_view_module_version": "1.2.0",
       "_view_name": "LayoutView",
       "align_content": null,
       "align_items": null,
       "align_self": null,
       "border": null,
       "bottom": null,
       "display": null,
       "flex": null,
       "flex_flow": null,
       "grid_area": null,
       "grid_auto_columns": null,
       "grid_auto_flow": null,
       "grid_auto_rows": null,
       "grid_column": null,
       "grid_gap": null,
       "grid_row": null,
       "grid_template_areas": null,
       "grid_template_columns": null,
       "grid_template_rows": null,
       "height": null,
       "justify_content": null,
       "justify_items": null,
       "left": null,
       "margin": null,
       "max_height": null,
       "max_width": null,
       "min_height": null,
       "min_width": null,
       "object_fit": null,
       "object_position": null,
       "order": null,
       "overflow": null,
       "overflow_x": null,
       "overflow_y": null,
       "padding": null,
       "right": null,
       "top": null,
       "visibility": null,
       "width": null
      }
     },
     "f217b9cdd644454eb9cac68fdf9f5a6f": {
      "model_module": "@jupyter-widgets/base",
      "model_module_version": "1.2.0",
      "model_name": "LayoutModel",
      "state": {
       "_model_module": "@jupyter-widgets/base",
       "_model_module_version": "1.2.0",
       "_model_name": "LayoutModel",
       "_view_count": null,
       "_view_module": "@jupyter-widgets/base",
       "_view_module_version": "1.2.0",
       "_view_name": "LayoutView",
       "align_content": null,
       "align_items": null,
       "align_self": null,
       "border": null,
       "bottom": null,
       "display": null,
       "flex": null,
       "flex_flow": null,
       "grid_area": null,
       "grid_auto_columns": null,
       "grid_auto_flow": null,
       "grid_auto_rows": null,
       "grid_column": null,
       "grid_gap": null,
       "grid_row": null,
       "grid_template_areas": null,
       "grid_template_columns": null,
       "grid_template_rows": null,
       "height": null,
       "justify_content": null,
       "justify_items": null,
       "left": null,
       "margin": null,
       "max_height": null,
       "max_width": null,
       "min_height": null,
       "min_width": null,
       "object_fit": null,
       "object_position": null,
       "order": null,
       "overflow": null,
       "overflow_x": null,
       "overflow_y": null,
       "padding": null,
       "right": null,
       "top": null,
       "visibility": null,
       "width": null
      }
     }
    },
    "version_major": 2,
    "version_minor": 0
   }
  }
 },
 "nbformat": 4,
 "nbformat_minor": 5
}
