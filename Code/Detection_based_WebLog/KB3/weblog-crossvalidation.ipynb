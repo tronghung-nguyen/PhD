{
 "cells": [
  {
   "attachments": {},
   "cell_type": "markdown",
   "id": "ac213d50",
   "metadata": {},
   "source": [
    "## Import libraries"
   ]
  },
  {
   "cell_type": "code",
   "execution_count": 1,
   "id": "ca8d9134",
   "metadata": {
    "execution": {
     "iopub.execute_input": "2023-11-14T06:19:32.307761Z",
     "iopub.status.busy": "2023-11-14T06:19:32.306786Z",
     "iopub.status.idle": "2023-11-14T06:19:33.695336Z",
     "shell.execute_reply": "2023-11-14T06:19:33.694570Z"
    },
    "papermill": {
     "duration": 1.409055,
     "end_time": "2023-11-14T06:19:33.697701",
     "exception": false,
     "start_time": "2023-11-14T06:19:32.288646",
     "status": "completed"
    },
    "tags": []
   },
   "outputs": [],
   "source": [
    "import pandas as pd\n",
    "import numpy as np\n",
    "from sklearn.feature_extraction.text import TfidfVectorizer\n",
    "from sklearn.ensemble import RandomForestClassifier\n",
    "from sklearn.tree import DecisionTreeClassifier\n",
    "from sklearn.pipeline import Pipeline\n",
    "from sklearn.metrics import accuracy_score, precision_score, recall_score, f1_score\n",
    "from sklearn.model_selection import train_test_split\n",
    "from sklearn.decomposition import PCA, TruncatedSVD\n",
    "\n",
    "from sklearn.preprocessing import LabelBinarizer\n",
    "from sklearn import metrics\n",
    "from sklearn.svm import SVC\n",
    "from sklearn.naive_bayes import MultinomialNB, GaussianNB\n",
    "from sklearn.preprocessing import MaxAbsScaler, MinMaxScaler, StandardScaler\n",
    "\n",
    "from scipy.sparse import issparse\n",
    "import time"
   ]
  },
  {
   "cell_type": "code",
   "execution_count": 2,
   "id": "4196d4f8",
   "metadata": {
    "execution": {
     "iopub.execute_input": "2023-11-14T06:19:33.731869Z",
     "iopub.status.busy": "2023-11-14T06:19:33.731192Z",
     "iopub.status.idle": "2023-11-14T06:19:33.818998Z",
     "shell.execute_reply": "2023-11-14T06:19:33.818116Z"
    },
    "papermill": {
     "duration": 0.107387,
     "end_time": "2023-11-14T06:19:33.821449",
     "exception": false,
     "start_time": "2023-11-14T06:19:33.714062",
     "status": "completed"
    },
    "tags": []
   },
   "outputs": [
    {
     "data": {
      "text/html": [
       "<div>\n",
       "<style scoped>\n",
       "    .dataframe tbody tr th:only-of-type {\n",
       "        vertical-align: middle;\n",
       "    }\n",
       "\n",
       "    .dataframe tbody tr th {\n",
       "        vertical-align: top;\n",
       "    }\n",
       "\n",
       "    .dataframe thead th {\n",
       "        text-align: right;\n",
       "    }\n",
       "</style>\n",
       "<table border=\"1\" class=\"dataframe\">\n",
       "  <thead>\n",
       "    <tr style=\"text-align: right;\">\n",
       "      <th></th>\n",
       "      <th>payload</th>\n",
       "      <th>length</th>\n",
       "      <th>attack_type</th>\n",
       "      <th>label</th>\n",
       "    </tr>\n",
       "  </thead>\n",
       "  <tbody>\n",
       "    <tr>\n",
       "      <th>0</th>\n",
       "      <td>c/ caridad s/n</td>\n",
       "      <td>14</td>\n",
       "      <td>norm</td>\n",
       "      <td>norm</td>\n",
       "    </tr>\n",
       "    <tr>\n",
       "      <th>1</th>\n",
       "      <td>campello, el</td>\n",
       "      <td>12</td>\n",
       "      <td>norm</td>\n",
       "      <td>norm</td>\n",
       "    </tr>\n",
       "    <tr>\n",
       "      <th>2</th>\n",
       "      <td>40184</td>\n",
       "      <td>5</td>\n",
       "      <td>norm</td>\n",
       "      <td>norm</td>\n",
       "    </tr>\n",
       "    <tr>\n",
       "      <th>3</th>\n",
       "      <td>1442431887503330</td>\n",
       "      <td>16</td>\n",
       "      <td>norm</td>\n",
       "      <td>norm</td>\n",
       "    </tr>\n",
       "    <tr>\n",
       "      <th>4</th>\n",
       "      <td>nue37</td>\n",
       "      <td>5</td>\n",
       "      <td>norm</td>\n",
       "      <td>norm</td>\n",
       "    </tr>\n",
       "  </tbody>\n",
       "</table>\n",
       "</div>"
      ],
      "text/plain": [
       "            payload  length attack_type label\n",
       "0    c/ caridad s/n      14        norm  norm\n",
       "1      campello, el      12        norm  norm\n",
       "2             40184       5        norm  norm\n",
       "3  1442431887503330      16        norm  norm\n",
       "4             nue37       5        norm  norm"
      ]
     },
     "execution_count": 2,
     "metadata": {},
     "output_type": "execute_result"
    }
   ],
   "source": [
    "data = pd.read_csv(\"/kaggle/input/httpparamsdataset/HttpParamsDataset-master/payload_full.csv\")\n",
    "data.head()"
   ]
  },
  {
   "cell_type": "code",
   "execution_count": 3,
   "id": "9da1d8c0",
   "metadata": {
    "execution": {
     "iopub.execute_input": "2023-11-14T06:19:33.855337Z",
     "iopub.status.busy": "2023-11-14T06:19:33.855046Z",
     "iopub.status.idle": "2023-11-14T06:19:33.859386Z",
     "shell.execute_reply": "2023-11-14T06:19:33.858566Z"
    },
    "papermill": {
     "duration": 0.02333,
     "end_time": "2023-11-14T06:19:33.861275",
     "exception": false,
     "start_time": "2023-11-14T06:19:33.837945",
     "status": "completed"
    },
    "tags": []
   },
   "outputs": [],
   "source": [
    "train_data = data[\"payload\"].values\n",
    "label_data = data[\"label\"].values"
   ]
  },
  {
   "attachments": {},
   "cell_type": "markdown",
   "id": "73247c90",
   "metadata": {
    "papermill": {
     "duration": 0.015964,
     "end_time": "2023-11-14T06:19:33.893439",
     "exception": false,
     "start_time": "2023-11-14T06:19:33.877475",
     "status": "completed"
    },
    "tags": []
   },
   "source": [
    "## train_test_split"
   ]
  },
  {
   "cell_type": "code",
   "execution_count": 4,
   "id": "6de6e901",
   "metadata": {
    "execution": {
     "iopub.execute_input": "2023-11-14T06:19:33.927839Z",
     "iopub.status.busy": "2023-11-14T06:19:33.927515Z",
     "iopub.status.idle": "2023-11-14T06:19:33.936912Z",
     "shell.execute_reply": "2023-11-14T06:19:33.936060Z"
    },
    "papermill": {
     "duration": 0.02853,
     "end_time": "2023-11-14T06:19:33.938873",
     "exception": false,
     "start_time": "2023-11-14T06:19:33.910343",
     "status": "completed"
    },
    "tags": []
   },
   "outputs": [],
   "source": [
    "train_data, train_cross, label_train, label_cross = train_test_split(train_data,label_data, \n",
    "                                                                     test_size=0.2, random_state = 42)"
   ]
  },
  {
   "attachments": {},
   "cell_type": "markdown",
   "id": "78512598",
   "metadata": {
    "papermill": {
     "duration": 0.016064,
     "end_time": "2023-11-14T06:19:33.971564",
     "exception": false,
     "start_time": "2023-11-14T06:19:33.955500",
     "status": "completed"
    },
    "tags": []
   },
   "source": [
    "## Cross Validation"
   ]
  },
  {
   "cell_type": "code",
   "execution_count": 5,
   "id": "af0653f5",
   "metadata": {
    "execution": {
     "iopub.execute_input": "2023-11-14T06:19:34.005583Z",
     "iopub.status.busy": "2023-11-14T06:19:34.004975Z",
     "iopub.status.idle": "2023-11-14T06:19:34.023561Z",
     "shell.execute_reply": "2023-11-14T06:19:34.022900Z"
    },
    "papermill": {
     "duration": 0.037814,
     "end_time": "2023-11-14T06:19:34.025534",
     "exception": false,
     "start_time": "2023-11-14T06:19:33.987720",
     "status": "completed"
    },
    "tags": []
   },
   "outputs": [],
   "source": [
    "from sklearn.model_selection import StratifiedKFold\n",
    "from sklearn.metrics import confusion_matrix\n",
    "\n",
    "n_folds = 10\n",
    "\n",
    "kf = StratifiedKFold(n_splits=n_folds)\n",
    "\n",
    "train_data_k_fold = []\n",
    "for train_index, test_index in kf.split(train_cross, label_cross):\n",
    "    X_train, X_test = train_cross[train_index], train_cross[test_index]\n",
    "    y_train, y_test = label_cross[train_index], label_cross[test_index]\n",
    "    train_data_k_fold.append((X_train, y_train, X_test, y_test))"
   ]
  },
  {
   "attachments": {},
   "cell_type": "markdown",
   "id": "62512ef1",
   "metadata": {
    "papermill": {
     "duration": 0.01726,
     "end_time": "2023-11-14T06:25:30.264869",
     "exception": false,
     "start_time": "2023-11-14T06:25:30.247609",
     "status": "completed"
    },
    "tags": []
   },
   "source": [
    "# 3-gram"
   ]
  },
  {
   "attachments": {},
   "cell_type": "markdown",
   "id": "5b1f6d65",
   "metadata": {
    "papermill": {
     "duration": 0.017804,
     "end_time": "2023-11-14T06:29:28.533268",
     "exception": false,
     "start_time": "2023-11-14T06:29:28.515464",
     "status": "completed"
    },
    "tags": []
   },
   "source": [
    "## Decision Tree"
   ]
  },
  {
   "attachments": {},
   "cell_type": "markdown",
   "id": "9aa01fe6",
   "metadata": {
    "papermill": {
     "duration": 0.017479,
     "end_time": "2023-11-14T06:29:28.568511",
     "exception": false,
     "start_time": "2023-11-14T06:29:28.551032",
     "status": "completed"
    },
    "tags": []
   },
   "source": [
    "## PCA"
   ]
  },
  {
   "cell_type": "code",
   "execution_count": 21,
   "id": "52910efe",
   "metadata": {
    "execution": {
     "iopub.execute_input": "2023-11-14T06:29:28.605463Z",
     "iopub.status.busy": "2023-11-14T06:29:28.604702Z",
     "iopub.status.idle": "2023-11-14T06:30:12.135485Z",
     "shell.execute_reply": "2023-11-14T06:30:12.134530Z"
    },
    "papermill": {
     "duration": 43.570091,
     "end_time": "2023-11-14T06:30:12.156233",
     "exception": false,
     "start_time": "2023-11-14T06:29:28.586142",
     "status": "completed"
    },
    "tags": []
   },
   "outputs": [
    {
     "name": "stdout",
     "output_type": "stream",
     "text": [
      "Thời gian chạy:  43.52415919303894\n"
     ]
    }
   ],
   "source": [
    "start_time = time.time()\n",
    "vectorizer = TfidfVectorizer(min_df=0.0, analyzer=\"char\", sublinear_tf=True, ngram_range=(3, 3), max_features=8000)\n",
    "tfidf_matrix = vectorizer.fit_transform(train_data)\n",
    "# pca\n",
    "pca = PCA(n_components=256)\n",
    "reduced_data = pca.fit_transform(tfidf_matrix.toarray())\n",
    "\n",
    "# decision tree\n",
    "dt_classifier = DecisionTreeClassifier()\n",
    "dt_classifier.fit(reduced_data, label_train)\n",
    "print(\"Thời gian chạy: \", time.time()-start_time)"
   ]
  },
  {
   "cell_type": "code",
   "execution_count": 22,
   "id": "9afe63d9",
   "metadata": {
    "execution": {
     "iopub.execute_input": "2023-11-14T06:30:12.193885Z",
     "iopub.status.busy": "2023-11-14T06:30:12.192858Z",
     "iopub.status.idle": "2023-11-14T06:31:44.745911Z",
     "shell.execute_reply": "2023-11-14T06:31:44.744684Z"
    },
    "papermill": {
     "duration": 92.614341,
     "end_time": "2023-11-14T06:31:44.788445",
     "exception": false,
     "start_time": "2023-11-14T06:30:12.174104",
     "status": "completed"
    },
    "tags": []
   },
   "outputs": [
    {
     "name": "stdout",
     "output_type": "stream",
     "text": [
      "Thời gian chạy: --- 938.1354036331177 giây ---\n",
      "Average TP: [230.2 379.1]\n",
      "Average FP: [8.4 3.7]\n",
      "Average FN: [3.7 8.4]\n",
      "Average TN: [379.1 230.2]\n"
     ]
    }
   ],
   "source": [
    "total_TP = 0\n",
    "total_FP = 0\n",
    "total_FN = 0\n",
    "total_TN = 0\n",
    "time_exe = 0\n",
    "for X_train, y_train, X_test, y_test in train_data_k_fold:\n",
    "    # tf-idf\n",
    "    tfidf_matrix = vectorizer.fit_transform(X_train)\n",
    "    \n",
    "    # pca\n",
    "    reduced_data = pca.fit_transform(tfidf_matrix.toarray())\n",
    "    \n",
    "    \n",
    "    # decision tree\n",
    "    dt_classifier.fit(reduced_data, y_train)\n",
    "    \n",
    "    tfidf_test = vectorizer.transform(X_test)\n",
    "    reduced_test  = pca.transform(tfidf_test.toarray())\n",
    "    y_pred = dt_classifier.predict(reduced_test)\n",
    "    time_exe += (time.time() - start_time)\n",
    "    # calculate confusion matrix\n",
    "    cm = confusion_matrix(y_test, y_pred)\n",
    "\n",
    "    TP = cm.diagonal()\n",
    "    FP = cm.sum(axis=0) - TP\n",
    "    FN = cm.sum(axis=1) - TP\n",
    "    TN = cm.sum() - (TP + FP + FN)\n",
    "\n",
    "    total_TP += TP\n",
    "    total_FP += FP\n",
    "    total_FN += FN\n",
    "    total_TN += TN\n",
    "print(\"Thời gian chạy: --- %s giây ---\" % time_exe )\n",
    "average_TP = total_TP / n_folds\n",
    "average_FP = total_FP / n_folds\n",
    "average_FN = total_FN / n_folds\n",
    "average_TN = total_TN / n_folds\n",
    "\n",
    "print(\"Average TP:\", average_TP)\n",
    "print(\"Average FP:\", average_FP)\n",
    "print(\"Average FN:\", average_FN)\n",
    "print(\"Average TN:\", average_TN)"
   ]
  },
  {
   "cell_type": "code",
   "execution_count": 23,
   "id": "e5ec479a",
   "metadata": {
    "execution": {
     "iopub.execute_input": "2023-11-14T06:31:44.866817Z",
     "iopub.status.busy": "2023-11-14T06:31:44.866512Z",
     "iopub.status.idle": "2023-11-14T06:31:44.878400Z",
     "shell.execute_reply": "2023-11-14T06:31:44.877398Z"
    },
    "papermill": {
     "duration": 0.053143,
     "end_time": "2023-11-14T06:31:44.880219",
     "exception": false,
     "start_time": "2023-11-14T06:31:44.827076",
     "status": "completed"
    },
    "tags": []
   },
   "outputs": [
    {
     "name": "stdout",
     "output_type": "stream",
     "text": [
      "[[230.2, 8.4], [3.7, 379.1]]\n",
      "      TPR       FPR       FNR       ACC Precision    Recall  F1_score\n",
      "   0.9842    0.0217    0.0158    0.9805    0.9648    0.9842    0.9744\n"
     ]
    }
   ],
   "source": [
    "TP = average_TP[0]\n",
    "FP = average_FP[0]\n",
    "FN = average_FN[0]\n",
    "TN = average_TN[0]\n",
    "\n",
    "precision = TP / (TP + FP)\n",
    "recall = TP / (TP + FN)\n",
    "f1_score = 2 * (precision * recall) / (precision + recall)\n",
    "\n",
    "\n",
    "\n",
    "cnf_matrix = [[TP,FP],[FN,TN]]\n",
    "TPR = TP / (TP + FN)\n",
    "FPR = FP / (FP + TN)\n",
    "FNR = FN / (FN + TP)\n",
    "ACC = (TP+TN)/(TP+FP+TN+FN)\n",
    "other_metrics = pd.DataFrame({'TPR': '%.4f' % TPR, \n",
    "                              'FPR': '%.4f' % FPR, \n",
    "                              'FNR': '%.4f' % FNR,\n",
    "                              'ACC': '%.4f' % ACC,\n",
    "                             'Precision':'%.4f' % precision,\n",
    "                             'Recall':'%.4f' % recall,\n",
    "                             'F1_score':'%.4f' % f1_score,}, index=[0]).to_string(col_space=9, index=False)\n",
    "# print(clf_report)\n",
    "print(cnf_matrix)\n",
    "print(other_metrics)"
   ]
  },
  {
   "attachments": {},
   "cell_type": "markdown",
   "id": "6b2ce9f6",
   "metadata": {
    "papermill": {
     "duration": 0.017906,
     "end_time": "2023-11-14T06:31:44.916118",
     "exception": false,
     "start_time": "2023-11-14T06:31:44.898212",
     "status": "completed"
    },
    "tags": []
   },
   "source": [
    "## SVM"
   ]
  },
  {
   "attachments": {},
   "cell_type": "markdown",
   "id": "55b73104",
   "metadata": {
    "papermill": {
     "duration": 0.017656,
     "end_time": "2023-11-14T06:31:44.951575",
     "exception": false,
     "start_time": "2023-11-14T06:31:44.933919",
     "status": "completed"
    },
    "tags": []
   },
   "source": [
    "## PCA"
   ]
  },
  {
   "cell_type": "code",
   "execution_count": 24,
   "id": "794e398c",
   "metadata": {
    "execution": {
     "iopub.execute_input": "2023-11-14T06:31:44.989913Z",
     "iopub.status.busy": "2023-11-14T06:31:44.989570Z",
     "iopub.status.idle": "2023-11-14T06:32:19.108323Z",
     "shell.execute_reply": "2023-11-14T06:32:19.107308Z"
    },
    "papermill": {
     "duration": 34.15789,
     "end_time": "2023-11-14T06:32:19.128254",
     "exception": false,
     "start_time": "2023-11-14T06:31:44.970364",
     "status": "completed"
    },
    "tags": []
   },
   "outputs": [
    {
     "name": "stdout",
     "output_type": "stream",
     "text": [
      "Thời gian chạy:  34.11277723312378\n"
     ]
    }
   ],
   "source": [
    "start_time = time.time()\n",
    "vectorizer = TfidfVectorizer(min_df=0.0, analyzer=\"char\", sublinear_tf=True, ngram_range=(3, 3), max_features=8000)\n",
    "tfidf_matrix = vectorizer.fit_transform(train_data)\n",
    "# pca\n",
    "pca = PCA(n_components=256)\n",
    "reduced_data = pca.fit_transform(tfidf_matrix.toarray())\n",
    "\n",
    "# svm\n",
    "svm_classifier = SVC()\n",
    "svm_classifier.fit(reduced_data, label_train)\n",
    "print(\"Thời gian chạy: \", time.time()-start_time)"
   ]
  },
  {
   "cell_type": "code",
   "execution_count": 25,
   "id": "feff2256",
   "metadata": {
    "execution": {
     "iopub.execute_input": "2023-11-14T06:32:19.166170Z",
     "iopub.status.busy": "2023-11-14T06:32:19.165456Z",
     "iopub.status.idle": "2023-11-14T06:33:42.305495Z",
     "shell.execute_reply": "2023-11-14T06:33:42.304448Z"
    },
    "papermill": {
     "duration": 83.179671,
     "end_time": "2023-11-14T06:33:42.325965",
     "exception": false,
     "start_time": "2023-11-14T06:32:19.146294",
     "status": "completed"
    },
    "tags": []
   },
   "outputs": [
    {
     "name": "stdout",
     "output_type": "stream",
     "text": [
      "Thời gian chạy: --- 3.1471409797668457 giây ---\n",
      "Average TP: [230.4 387.2]\n",
      "Average FP: [0.3 3.5]\n",
      "Average FN: [3.5 0.3]\n",
      "Average TN: [387.2 230.4]\n"
     ]
    }
   ],
   "source": [
    "total_TP = 0\n",
    "total_FP = 0\n",
    "total_FN = 0\n",
    "total_TN = 0\n",
    "time_exe = 0\n",
    "for X_train, y_train, X_test, y_test in train_data_k_fold:\n",
    "    # tf-idf\n",
    "    tfidf_matrix = vectorizer.fit_transform(X_train)\n",
    "    \n",
    "    # pca\n",
    "    reduced_data = pca.fit_transform(tfidf_matrix.toarray())\n",
    "    \n",
    "    \n",
    "    # svm\n",
    "    svm_classifier.fit(reduced_data, y_train)\n",
    "    start_time = time.time()\n",
    "    tfidf_test = vectorizer.transform(X_test)\n",
    "    reduced_test  = pca.transform(tfidf_test.toarray())\n",
    "    y_pred = svm_classifier.predict(reduced_test)\n",
    "    time_exe += (time.time() - start_time)\n",
    "    \n",
    "    # calculate confusion matrix\n",
    "    cm = confusion_matrix(y_test, y_pred)\n",
    "\n",
    "    TP = cm.diagonal()\n",
    "    FP = cm.sum(axis=0) - TP\n",
    "    FN = cm.sum(axis=1) - TP\n",
    "    TN = cm.sum() - (TP + FP + FN)\n",
    "\n",
    "    total_TP += TP\n",
    "    total_FP += FP\n",
    "    total_FN += FN\n",
    "    total_TN += TN\n",
    "print(\"Thời gian chạy: --- %s giây ---\" % time_exe )\n",
    "average_TP = total_TP / n_folds\n",
    "average_FP = total_FP / n_folds\n",
    "average_FN = total_FN / n_folds\n",
    "average_TN = total_TN / n_folds\n",
    "\n",
    "print(\"Average TP:\", average_TP)\n",
    "print(\"Average FP:\", average_FP)\n",
    "print(\"Average FN:\", average_FN)\n",
    "print(\"Average TN:\", average_TN)"
   ]
  },
  {
   "cell_type": "code",
   "execution_count": 2,
   "id": "fb51354b",
   "metadata": {
    "execution": {
     "iopub.execute_input": "2023-11-14T06:33:42.363906Z",
     "iopub.status.busy": "2023-11-14T06:33:42.363564Z",
     "iopub.status.idle": "2023-11-14T06:33:42.375186Z",
     "shell.execute_reply": "2023-11-14T06:33:42.374366Z"
    },
    "papermill": {
     "duration": 0.032933,
     "end_time": "2023-11-14T06:33:42.377181",
     "exception": false,
     "start_time": "2023-11-14T06:33:42.344248",
     "status": "completed"
    },
    "tags": []
   },
   "outputs": [
    {
     "name": "stdout",
     "output_type": "stream",
     "text": [
      "[[230.4, 0.3], [3.5, 387.2]]\n",
      "      TPR       FPR       FNR       ACC Precision    Recall  F1_score\n",
      "   0.9850    0.0008    0.0150    0.9909    0.9987    0.9850    0.9918\n"
     ]
    }
   ],
   "source": [
    "TP = average_TP[0]\n",
    "FP = average_FP[0]\n",
    "FN = average_FN[0]\n",
    "TN = average_TN[0]\n",
    "\n",
    "precision = TP / (TP + FP)\n",
    "recall = TP / (TP + FN)\n",
    "f1_score = 2 * (precision * recall) / (precision + recall)\n",
    "\n",
    "cnf_matrix = [[TP,FP],[FN,TN]]\n",
    "TPR = TP / (TP + FN)\n",
    "FPR = FP / (FP + TN)\n",
    "FNR = FN / (FN + TP)\n",
    "ACC = (TP+TN)/(TP+FP+TN+FN)\n",
    "other_metrics = pd.DataFrame({'TPR': '%.4f' % TPR, \n",
    "                              'FPR': '%.4f' % FPR, \n",
    "                              'FNR': '%.4f' % FNR,\n",
    "                              'ACC': '%.4f' % ACC,\n",
    "                             'Precision':'%.4f' % precision,\n",
    "                             'Recall':'%.4f' % recall,\n",
    "                             'F1_score':'%.4f' % f1_score,}, index=[0]).to_string(col_space=9, index=False)\n",
    "# print(clf_report)\n",
    "print(cnf_matrix)\n",
    "print(other_metrics)"
   ]
  },
  {
   "attachments": {},
   "cell_type": "markdown",
   "id": "1a6b254e",
   "metadata": {
    "papermill": {
     "duration": 0.01805,
     "end_time": "2023-11-14T06:33:42.413500",
     "exception": false,
     "start_time": "2023-11-14T06:33:42.395450",
     "status": "completed"
    },
    "tags": []
   },
   "source": [
    "## Naive Bayes"
   ]
  },
  {
   "attachments": {},
   "cell_type": "markdown",
   "id": "ad369dbf",
   "metadata": {
    "papermill": {
     "duration": 0.01809,
     "end_time": "2023-11-14T06:33:42.449769",
     "exception": false,
     "start_time": "2023-11-14T06:33:42.431679",
     "status": "completed"
    },
    "tags": []
   },
   "source": [
    "## PCA"
   ]
  },
  {
   "cell_type": "code",
   "execution_count": 27,
   "id": "988a651b",
   "metadata": {
    "execution": {
     "iopub.execute_input": "2023-11-14T06:33:42.488236Z",
     "iopub.status.busy": "2023-11-14T06:33:42.487338Z",
     "iopub.status.idle": "2023-11-14T06:34:07.088433Z",
     "shell.execute_reply": "2023-11-14T06:34:07.087160Z"
    },
    "papermill": {
     "duration": 24.622254,
     "end_time": "2023-11-14T06:34:07.090497",
     "exception": false,
     "start_time": "2023-11-14T06:33:42.468243",
     "status": "completed"
    },
    "tags": []
   },
   "outputs": [
    {
     "name": "stdout",
     "output_type": "stream",
     "text": [
      "Thời gian chạy:  24.594082832336426\n"
     ]
    }
   ],
   "source": [
    "start_time = time.time()\n",
    "vectorizer = TfidfVectorizer(min_df=0.0, analyzer=\"char\", sublinear_tf=True, ngram_range=(3, 3), max_features=8000)\n",
    "tfidf_matrix = vectorizer.fit_transform(train_data)\n",
    "# pca\n",
    "pca = PCA(n_components=256)\n",
    "reduced_data = pca.fit_transform(tfidf_matrix.toarray())\n",
    "\n",
    "# gaussian naive bayes\n",
    "nb_classifier = GaussianNB()\n",
    "nb_classifier.fit(reduced_data, label_train)\n",
    "print(\"Thời gian chạy: \", time.time()-start_time)"
   ]
  },
  {
   "cell_type": "code",
   "execution_count": 28,
   "id": "5ba5180a",
   "metadata": {
    "execution": {
     "iopub.execute_input": "2023-11-14T06:34:07.130613Z",
     "iopub.status.busy": "2023-11-14T06:34:07.130108Z",
     "iopub.status.idle": "2023-11-14T06:35:21.100277Z",
     "shell.execute_reply": "2023-11-14T06:35:21.098848Z"
    },
    "papermill": {
     "duration": 74.024808,
     "end_time": "2023-11-14T06:35:21.135215",
     "exception": false,
     "start_time": "2023-11-14T06:34:07.110407",
     "status": "completed"
    },
    "tags": []
   },
   "outputs": [
    {
     "name": "stdout",
     "output_type": "stream",
     "text": [
      "Thời gian chạy: --- 0.9354598522186279 giây ---\n",
      "Average TP: [225.5 361. ]\n",
      "Average FP: [26.5  8.4]\n",
      "Average FN: [ 8.4 26.5]\n",
      "Average TN: [361.  225.5]\n"
     ]
    }
   ],
   "source": [
    "total_TP = 0\n",
    "total_FP = 0\n",
    "total_FN = 0\n",
    "total_TN = 0\n",
    "time_exe = 0\n",
    "for X_train, y_train, X_test, y_test in train_data_k_fold:\n",
    "    # tf-idf\n",
    "    tfidf_matrix = vectorizer.fit_transform(X_train)\n",
    "    \n",
    "    # pca\n",
    "    reduced_data = pca.fit_transform(tfidf_matrix.toarray())\n",
    "    \n",
    "    \n",
    "    # gaussian naive bayes\n",
    "    nb_classifier.fit(reduced_data, y_train)\n",
    "    \n",
    "    start_time = time.time()\n",
    "    tfidf_test = vectorizer.transform(X_test)\n",
    "    reduced_test  = pca.transform(tfidf_test.toarray())\n",
    "    y_pred = nb_classifier.predict(reduced_test)\n",
    "    time_exe += (time.time() - start_time)\n",
    "    \n",
    "    # calculate confusion matrix\n",
    "    cm = confusion_matrix(y_test, y_pred)\n",
    "\n",
    "    TP = cm.diagonal()\n",
    "    FP = cm.sum(axis=0) - TP\n",
    "    FN = cm.sum(axis=1) - TP\n",
    "    TN = cm.sum() - (TP + FP + FN)\n",
    "\n",
    "    total_TP += TP\n",
    "    total_FP += FP\n",
    "    total_FN += FN\n",
    "    total_TN += TN\n",
    "print(\"Thời gian chạy: --- %s giây ---\" % time_exe )\n",
    "average_TP = total_TP / n_folds\n",
    "average_FP = total_FP / n_folds\n",
    "average_FN = total_FN / n_folds\n",
    "average_TN = total_TN / n_folds\n",
    "\n",
    "print(\"Average TP:\", average_TP)\n",
    "print(\"Average FP:\", average_FP)\n",
    "print(\"Average FN:\", average_FN)\n",
    "print(\"Average TN:\", average_TN)"
   ]
  },
  {
   "cell_type": "code",
   "execution_count": 29,
   "id": "74482593",
   "metadata": {
    "execution": {
     "iopub.execute_input": "2023-11-14T06:35:21.212160Z",
     "iopub.status.busy": "2023-11-14T06:35:21.211824Z",
     "iopub.status.idle": "2023-11-14T06:35:21.223570Z",
     "shell.execute_reply": "2023-11-14T06:35:21.222691Z"
    },
    "papermill": {
     "duration": 0.050873,
     "end_time": "2023-11-14T06:35:21.225411",
     "exception": false,
     "start_time": "2023-11-14T06:35:21.174538",
     "status": "completed"
    },
    "tags": []
   },
   "outputs": [
    {
     "name": "stdout",
     "output_type": "stream",
     "text": [
      "[[225.5, 26.5], [8.4, 361.0]]\n",
      "      TPR       FPR       FNR       ACC Precision    Recall  F1_score\n",
      "   0.9641    0.0684    0.0359    0.9438    0.8948    0.9641    0.9282\n"
     ]
    }
   ],
   "source": [
    "TP = average_TP[0]\n",
    "FP = average_FP[0]\n",
    "FN = average_FN[0]\n",
    "TN = average_TN[0]\n",
    "\n",
    "precision = TP / (TP + FP)\n",
    "recall = TP / (TP + FN)\n",
    "f1_score = 2 * (precision * recall) / (precision + recall)\n",
    "\n",
    "\n",
    "\n",
    "cnf_matrix = [[TP,FP],[FN,TN]]\n",
    "TPR = TP / (TP + FN)\n",
    "FPR = FP / (FP + TN)\n",
    "FNR = FN / (FN + TP)\n",
    "ACC = (TP+TN)/(TP+FP+TN+FN)\n",
    "other_metrics = pd.DataFrame({'TPR': '%.4f' % TPR, \n",
    "                              'FPR': '%.4f' % FPR, \n",
    "                              'FNR': '%.4f' % FNR,\n",
    "                              'ACC': '%.4f' % ACC,\n",
    "                             'Precision':'%.4f' % precision,\n",
    "                             'Recall':'%.4f' % recall,\n",
    "                             'F1_score':'%.4f' % f1_score,}, index=[0]).to_string(col_space=9, index=False)\n",
    "# print(clf_report)\n",
    "print(cnf_matrix)\n",
    "print(other_metrics)"
   ]
  },
  {
   "attachments": {},
   "cell_type": "markdown",
   "id": "11f66cbf",
   "metadata": {
    "papermill": {
     "duration": 0.018354,
     "end_time": "2023-11-14T06:35:21.262307",
     "exception": false,
     "start_time": "2023-11-14T06:35:21.243953",
     "status": "completed"
    },
    "tags": []
   },
   "source": [
    "# 4-gram"
   ]
  },
  {
   "attachments": {},
   "cell_type": "markdown",
   "id": "f77c26d6",
   "metadata": {
    "papermill": {
     "duration": 0.018295,
     "end_time": "2023-11-14T06:35:21.298940",
     "exception": false,
     "start_time": "2023-11-14T06:35:21.280645",
     "status": "completed"
    },
    "tags": []
   },
   "source": [
    "## RF"
   ]
  },
  {
   "cell_type": "code",
   "execution_count": 30,
   "id": "296b013c",
   "metadata": {
    "execution": {
     "iopub.execute_input": "2023-11-14T06:35:21.337225Z",
     "iopub.status.busy": "2023-11-14T06:35:21.336916Z",
     "iopub.status.idle": "2023-11-14T06:36:18.870626Z",
     "shell.execute_reply": "2023-11-14T06:36:18.869711Z"
    },
    "papermill": {
     "duration": 57.574098,
     "end_time": "2023-11-14T06:36:18.891509",
     "exception": false,
     "start_time": "2023-11-14T06:35:21.317411",
     "status": "completed"
    },
    "tags": []
   },
   "outputs": [
    {
     "name": "stdout",
     "output_type": "stream",
     "text": [
      "Thời gian chạy:  57.52792978286743\n"
     ]
    }
   ],
   "source": [
    "start_time = time.time()\n",
    "vectorizer = TfidfVectorizer(min_df=0.0, analyzer=\"char\", sublinear_tf=True, ngram_range=(4, 4), max_features=8000)\n",
    "tfidf_matrix = vectorizer.fit_transform(train_data)\n",
    "# pca\n",
    "pca = PCA(n_components=256)\n",
    "reduced_data = pca.fit_transform(tfidf_matrix.toarray())\n",
    "\n",
    "# random forest\n",
    "rf_classifier = RandomForestClassifier()\n",
    "rf_classifier.fit(reduced_data, label_train)\n",
    "print(\"Thời gian chạy: \", time.time()-start_time)"
   ]
  },
  {
   "cell_type": "code",
   "execution_count": 31,
   "id": "d61ab9f4",
   "metadata": {
    "execution": {
     "iopub.execute_input": "2023-11-14T06:36:18.930606Z",
     "iopub.status.busy": "2023-11-14T06:36:18.930284Z",
     "iopub.status.idle": "2023-11-14T06:38:32.490081Z",
     "shell.execute_reply": "2023-11-14T06:38:32.488854Z"
    },
    "papermill": {
     "duration": 133.624021,
     "end_time": "2023-11-14T06:38:32.534472",
     "exception": false,
     "start_time": "2023-11-14T06:36:18.910451",
     "status": "completed"
    },
    "tags": []
   },
   "outputs": [
    {
     "name": "stdout",
     "output_type": "stream",
     "text": [
      "Thời gian chạy: --- 1.2068507671356201 giây ---\n",
      "Average TP: [231.5 383.8]\n",
      "Average FP: [3.7 2.4]\n",
      "Average FN: [2.4 3.7]\n",
      "Average TN: [383.8 231.5]\n"
     ]
    }
   ],
   "source": [
    "total_TP = 0\n",
    "total_FP = 0\n",
    "total_FN = 0\n",
    "total_TN = 0\n",
    "time_exe = 0\n",
    "for X_train, y_train, X_test, y_test in train_data_k_fold:\n",
    "    # tf-idf\n",
    "    tfidf_matrix = vectorizer.fit_transform(X_train)\n",
    "    \n",
    "    # pca\n",
    "    reduced_data = pca.fit_transform(tfidf_matrix.toarray())\n",
    "    \n",
    "    \n",
    "    # random forest\n",
    "    rf_classifier.fit(reduced_data, y_train)\n",
    "    \n",
    "    start_time = time.time()\n",
    "    tfidf_test = vectorizer.transform(X_test)\n",
    "    reduced_test  = pca.transform(tfidf_test.toarray())\n",
    "    y_pred = rf_classifier.predict(reduced_test)\n",
    "    time_exe += (time.time() - start_time)\n",
    "    \n",
    "    # calculate confusion matrix\n",
    "    cm = confusion_matrix(y_test, y_pred)\n",
    "\n",
    "    TP = cm.diagonal()\n",
    "    FP = cm.sum(axis=0) - TP\n",
    "    FN = cm.sum(axis=1) - TP\n",
    "    TN = cm.sum() - (TP + FP + FN)\n",
    "\n",
    "    total_TP += TP\n",
    "    total_FP += FP\n",
    "    total_FN += FN\n",
    "    total_TN += TN\n",
    "print(\"Thời gian chạy: --- %s giây ---\" % time_exe )\n",
    "average_TP = total_TP / n_folds\n",
    "average_FP = total_FP / n_folds\n",
    "average_FN = total_FN / n_folds\n",
    "average_TN = total_TN / n_folds\n",
    "\n",
    "print(\"Average TP:\", average_TP)\n",
    "print(\"Average FP:\", average_FP)\n",
    "print(\"Average FN:\", average_FN)\n",
    "print(\"Average TN:\", average_TN)"
   ]
  },
  {
   "cell_type": "code",
   "execution_count": 32,
   "id": "34a6904a",
   "metadata": {
    "execution": {
     "iopub.execute_input": "2023-11-14T06:38:32.593970Z",
     "iopub.status.busy": "2023-11-14T06:38:32.593656Z",
     "iopub.status.idle": "2023-11-14T06:38:32.605586Z",
     "shell.execute_reply": "2023-11-14T06:38:32.604749Z"
    },
    "papermill": {
     "duration": 0.03337,
     "end_time": "2023-11-14T06:38:32.607396",
     "exception": false,
     "start_time": "2023-11-14T06:38:32.574026",
     "status": "completed"
    },
    "tags": []
   },
   "outputs": [
    {
     "name": "stdout",
     "output_type": "stream",
     "text": [
      "[[231.5, 3.7], [2.4, 383.8]]\n",
      "      TPR       FPR       FNR       ACC Precision    Recall  F1_score\n",
      "   0.9897    0.0095    0.0103    0.9902    0.9843    0.9897    0.9870\n"
     ]
    }
   ],
   "source": [
    "TP = average_TP[0]\n",
    "FP = average_FP[0]\n",
    "FN = average_FN[0]\n",
    "TN = average_TN[0]\n",
    "\n",
    "precision = TP / (TP + FP)\n",
    "recall = TP / (TP + FN)\n",
    "f1_score = 2 * (precision * recall) / (precision + recall)\n",
    "\n",
    "\n",
    "\n",
    "cnf_matrix = [[TP,FP],[FN,TN]]\n",
    "TPR = TP / (TP + FN)\n",
    "FPR = FP / (FP + TN)\n",
    "FNR = FN / (FN + TP)\n",
    "ACC = (TP+TN)/(TP+FP+TN+FN)\n",
    "other_metrics = pd.DataFrame({'TPR': '%.4f' % TPR, \n",
    "                              'FPR': '%.4f' % FPR, \n",
    "                              'FNR': '%.4f' % FNR,\n",
    "                              'ACC': '%.4f' % ACC,\n",
    "                             'Precision':'%.4f' % precision,\n",
    "                             'Recall':'%.4f' % recall,\n",
    "                             'F1_score':'%.4f' % f1_score,}, index=[0]).to_string(col_space=9, index=False)\n",
    "# print(clf_report)\n",
    "print(cnf_matrix)\n",
    "print(other_metrics)"
   ]
  },
  {
   "attachments": {},
   "cell_type": "markdown",
   "id": "3fb71931",
   "metadata": {
    "papermill": {
     "duration": 0.01897,
     "end_time": "2023-11-14T06:38:32.645214",
     "exception": false,
     "start_time": "2023-11-14T06:38:32.626244",
     "status": "completed"
    },
    "tags": []
   },
   "source": [
    "## DT"
   ]
  },
  {
   "cell_type": "code",
   "execution_count": 33,
   "id": "74ca1d93",
   "metadata": {
    "execution": {
     "iopub.execute_input": "2023-11-14T06:38:32.684940Z",
     "iopub.status.busy": "2023-11-14T06:38:32.684261Z",
     "iopub.status.idle": "2023-11-14T06:39:08.538598Z",
     "shell.execute_reply": "2023-11-14T06:39:08.537466Z"
    },
    "papermill": {
     "duration": 35.896217,
     "end_time": "2023-11-14T06:39:08.560426",
     "exception": false,
     "start_time": "2023-11-14T06:38:32.664209",
     "status": "completed"
    },
    "tags": []
   },
   "outputs": [
    {
     "name": "stdout",
     "output_type": "stream",
     "text": [
      "Thời gian chạy:  35.84761190414429\n"
     ]
    }
   ],
   "source": [
    "start_time = time.time()\n",
    "vectorizer = TfidfVectorizer(min_df=0.0, analyzer=\"char\", sublinear_tf=True, ngram_range=(4, 4), max_features=8000)\n",
    "tfidf_matrix = vectorizer.fit_transform(train_data)\n",
    "# pca\n",
    "pca = PCA(n_components=256)\n",
    "reduced_data = pca.fit_transform(tfidf_matrix.toarray())\n",
    "\n",
    "# decision tree\n",
    "dt_classifier = DecisionTreeClassifier()\n",
    "dt_classifier.fit(reduced_data, label_train)\n",
    "print(\"Thời gian chạy: \", time.time()-start_time)"
   ]
  },
  {
   "cell_type": "code",
   "execution_count": 34,
   "id": "ba72efd4",
   "metadata": {
    "execution": {
     "iopub.execute_input": "2023-11-14T06:39:08.601905Z",
     "iopub.status.busy": "2023-11-14T06:39:08.601581Z",
     "iopub.status.idle": "2023-11-14T06:40:37.451279Z",
     "shell.execute_reply": "2023-11-14T06:40:37.449844Z"
    },
    "papermill": {
     "duration": 88.90798,
     "end_time": "2023-11-14T06:40:37.488494",
     "exception": false,
     "start_time": "2023-11-14T06:39:08.580514",
     "status": "completed"
    },
    "tags": []
   },
   "outputs": [
    {
     "name": "stdout",
     "output_type": "stream",
     "text": [
      "Thời gian chạy: --- 851.6556220054626 giây ---\n",
      "Average TP: [230.3 381.6]\n",
      "Average FP: [5.9 3.6]\n",
      "Average FN: [3.6 5.9]\n",
      "Average TN: [381.6 230.3]\n"
     ]
    }
   ],
   "source": [
    "total_TP = 0\n",
    "total_FP = 0\n",
    "total_FN = 0\n",
    "total_TN = 0\n",
    "time_exe = 0\n",
    "for X_train, y_train, X_test, y_test in train_data_k_fold:\n",
    "    # tf-idf\n",
    "    tfidf_matrix = vectorizer.fit_transform(X_train)\n",
    "    \n",
    "    # pca\n",
    "    reduced_data = pca.fit_transform(tfidf_matrix.toarray())\n",
    "    \n",
    "    \n",
    "    # decision tree\n",
    "    dt_classifier.fit(reduced_data, y_train)\n",
    "    \n",
    "    tfidf_test = vectorizer.transform(X_test)\n",
    "    reduced_test  = pca.transform(tfidf_test.toarray())\n",
    "    y_pred = dt_classifier.predict(reduced_test)\n",
    "    time_exe += (time.time() - start_time)\n",
    "    # calculate confusion matrix\n",
    "    cm = confusion_matrix(y_test, y_pred)\n",
    "\n",
    "    TP = cm.diagonal()\n",
    "    FP = cm.sum(axis=0) - TP\n",
    "    FN = cm.sum(axis=1) - TP\n",
    "    TN = cm.sum() - (TP + FP + FN)\n",
    "\n",
    "    total_TP += TP\n",
    "    total_FP += FP\n",
    "    total_FN += FN\n",
    "    total_TN += TN\n",
    "print(\"Thời gian chạy: --- %s giây ---\" % time_exe )\n",
    "average_TP = total_TP / n_folds\n",
    "average_FP = total_FP / n_folds\n",
    "average_FN = total_FN / n_folds\n",
    "average_TN = total_TN / n_folds\n",
    "\n",
    "print(\"Average TP:\", average_TP)\n",
    "print(\"Average FP:\", average_FP)\n",
    "print(\"Average FN:\", average_FN)\n",
    "print(\"Average TN:\", average_TN)"
   ]
  },
  {
   "cell_type": "code",
   "execution_count": 35,
   "id": "e5dfab81",
   "metadata": {
    "execution": {
     "iopub.execute_input": "2023-11-14T06:40:37.566107Z",
     "iopub.status.busy": "2023-11-14T06:40:37.565785Z",
     "iopub.status.idle": "2023-11-14T06:40:37.577004Z",
     "shell.execute_reply": "2023-11-14T06:40:37.576244Z"
    },
    "papermill": {
     "duration": 0.049206,
     "end_time": "2023-11-14T06:40:37.578817",
     "exception": false,
     "start_time": "2023-11-14T06:40:37.529611",
     "status": "completed"
    },
    "tags": []
   },
   "outputs": [
    {
     "name": "stdout",
     "output_type": "stream",
     "text": [
      "[[230.3, 5.9], [3.6, 381.6]]\n",
      "      TPR       FPR       FNR       ACC Precision    Recall  F1_score\n",
      "   0.9846    0.0152    0.0154    0.9847    0.9750    0.9846    0.9798\n"
     ]
    }
   ],
   "source": [
    "TP = average_TP[0]\n",
    "FP = average_FP[0]\n",
    "FN = average_FN[0]\n",
    "TN = average_TN[0]\n",
    "\n",
    "precision = TP / (TP + FP)\n",
    "recall = TP / (TP + FN)\n",
    "f1_score = 2 * (precision * recall) / (precision + recall)\n",
    "\n",
    "\n",
    "\n",
    "cnf_matrix = [[TP,FP],[FN,TN]]\n",
    "TPR = TP / (TP + FN)\n",
    "FPR = FP / (FP + TN)\n",
    "FNR = FN / (FN + TP)\n",
    "ACC = (TP+TN)/(TP+FP+TN+FN)\n",
    "other_metrics = pd.DataFrame({'TPR': '%.4f' % TPR, \n",
    "                              'FPR': '%.4f' % FPR, \n",
    "                              'FNR': '%.4f' % FNR,\n",
    "                              'ACC': '%.4f' % ACC,\n",
    "                             'Precision':'%.4f' % precision,\n",
    "                             'Recall':'%.4f' % recall,\n",
    "                             'F1_score':'%.4f' % f1_score,}, index=[0]).to_string(col_space=9, index=False)\n",
    "# print(clf_report)\n",
    "print(cnf_matrix)\n",
    "print(other_metrics)"
   ]
  },
  {
   "attachments": {},
   "cell_type": "markdown",
   "id": "bf25fb2e",
   "metadata": {
    "papermill": {
     "duration": 0.019143,
     "end_time": "2023-11-14T06:40:37.617237",
     "exception": false,
     "start_time": "2023-11-14T06:40:37.598094",
     "status": "completed"
    },
    "tags": []
   },
   "source": [
    "## SVM"
   ]
  },
  {
   "cell_type": "code",
   "execution_count": 36,
   "id": "3935a8fb",
   "metadata": {
    "execution": {
     "iopub.execute_input": "2023-11-14T06:40:37.657291Z",
     "iopub.status.busy": "2023-11-14T06:40:37.656672Z",
     "iopub.status.idle": "2023-11-14T06:41:14.832433Z",
     "shell.execute_reply": "2023-11-14T06:41:14.831364Z"
    },
    "papermill": {
     "duration": 37.218304,
     "end_time": "2023-11-14T06:41:14.854775",
     "exception": false,
     "start_time": "2023-11-14T06:40:37.636471",
     "status": "completed"
    },
    "tags": []
   },
   "outputs": [
    {
     "name": "stdout",
     "output_type": "stream",
     "text": [
      "Thời gian chạy:  37.169310331344604\n"
     ]
    }
   ],
   "source": [
    "start_time = time.time()\n",
    "vectorizer = TfidfVectorizer(min_df=0.0, analyzer=\"char\", sublinear_tf=True, ngram_range=(4, 4), max_features=8000)\n",
    "tfidf_matrix = vectorizer.fit_transform(train_data)\n",
    "# pca\n",
    "pca = PCA(n_components=256)\n",
    "reduced_data = pca.fit_transform(tfidf_matrix.toarray())\n",
    "\n",
    "# svm\n",
    "svm_classifier = SVC()\n",
    "svm_classifier.fit(reduced_data, label_train)\n",
    "print(\"Thời gian chạy: \", time.time()-start_time)"
   ]
  },
  {
   "cell_type": "code",
   "execution_count": 37,
   "id": "83b39e45",
   "metadata": {
    "execution": {
     "iopub.execute_input": "2023-11-14T06:41:14.895852Z",
     "iopub.status.busy": "2023-11-14T06:41:14.895547Z",
     "iopub.status.idle": "2023-11-14T06:42:39.650131Z",
     "shell.execute_reply": "2023-11-14T06:42:39.649101Z"
    },
    "papermill": {
     "duration": 84.799643,
     "end_time": "2023-11-14T06:42:39.674568",
     "exception": false,
     "start_time": "2023-11-14T06:41:14.874925",
     "status": "completed"
    },
    "tags": []
   },
   "outputs": [
    {
     "name": "stdout",
     "output_type": "stream",
     "text": [
      "Thời gian chạy: --- 3.188843250274658 giây ---\n",
      "Average TP: [231.5 386.9]\n",
      "Average FP: [0.6 2.4]\n",
      "Average FN: [2.4 0.6]\n",
      "Average TN: [386.9 231.5]\n"
     ]
    }
   ],
   "source": [
    "total_TP = 0\n",
    "total_FP = 0\n",
    "total_FN = 0\n",
    "total_TN = 0\n",
    "time_exe = 0\n",
    "for X_train, y_train, X_test, y_test in train_data_k_fold:\n",
    "    # tf-idf\n",
    "    tfidf_matrix = vectorizer.fit_transform(X_train)\n",
    "    \n",
    "    # pca\n",
    "    reduced_data = pca.fit_transform(tfidf_matrix.toarray())\n",
    "    \n",
    "    \n",
    "    # svm\n",
    "    svm_classifier.fit(reduced_data, y_train)\n",
    "    start_time = time.time()\n",
    "    tfidf_test = vectorizer.transform(X_test)\n",
    "    reduced_test  = pca.transform(tfidf_test.toarray())\n",
    "    y_pred = svm_classifier.predict(reduced_test)\n",
    "    time_exe += (time.time() - start_time)\n",
    "    \n",
    "    # calculate confusion matrix\n",
    "    cm = confusion_matrix(y_test, y_pred)\n",
    "\n",
    "    TP = cm.diagonal()\n",
    "    FP = cm.sum(axis=0) - TP\n",
    "    FN = cm.sum(axis=1) - TP\n",
    "    TN = cm.sum() - (TP + FP + FN)\n",
    "\n",
    "    total_TP += TP\n",
    "    total_FP += FP\n",
    "    total_FN += FN\n",
    "    total_TN += TN\n",
    "print(\"Thời gian chạy: --- %s giây ---\" % time_exe )\n",
    "average_TP = total_TP / n_folds\n",
    "average_FP = total_FP / n_folds\n",
    "average_FN = total_FN / n_folds\n",
    "average_TN = total_TN / n_folds\n",
    "\n",
    "print(\"Average TP:\", average_TP)\n",
    "print(\"Average FP:\", average_FP)\n",
    "print(\"Average FN:\", average_FN)\n",
    "print(\"Average TN:\", average_TN)"
   ]
  },
  {
   "cell_type": "code",
   "execution_count": 38,
   "id": "1c92bfde",
   "metadata": {
    "execution": {
     "iopub.execute_input": "2023-11-14T06:42:39.728606Z",
     "iopub.status.busy": "2023-11-14T06:42:39.728224Z",
     "iopub.status.idle": "2023-11-14T06:42:39.740011Z",
     "shell.execute_reply": "2023-11-14T06:42:39.739101Z"
    },
    "papermill": {
     "duration": 0.041086,
     "end_time": "2023-11-14T06:42:39.741955",
     "exception": false,
     "start_time": "2023-11-14T06:42:39.700869",
     "status": "completed"
    },
    "tags": []
   },
   "outputs": [
    {
     "name": "stdout",
     "output_type": "stream",
     "text": [
      "[[231.5, 0.6], [2.4, 386.9]]\n",
      "      TPR       FPR       FNR       ACC Precision    Recall  F1_score\n",
      "   0.9897    0.0015    0.0103    0.9952    0.9974    0.9897    0.9936\n"
     ]
    }
   ],
   "source": [
    "TP = average_TP[0]\n",
    "FP = average_FP[0]\n",
    "FN = average_FN[0]\n",
    "TN = average_TN[0]\n",
    "\n",
    "precision = TP / (TP + FP)\n",
    "recall = TP / (TP + FN)\n",
    "f1_score = 2 * (precision * recall) / (precision + recall)\n",
    "\n",
    "\n",
    "\n",
    "cnf_matrix = [[TP,FP],[FN,TN]]\n",
    "TPR = TP / (TP + FN)\n",
    "FPR = FP / (FP + TN)\n",
    "FNR = FN / (FN + TP)\n",
    "ACC = (TP+TN)/(TP+FP+TN+FN)\n",
    "other_metrics = pd.DataFrame({'TPR': '%.4f' % TPR, \n",
    "                              'FPR': '%.4f' % FPR, \n",
    "                              'FNR': '%.4f' % FNR,\n",
    "                              'ACC': '%.4f' % ACC,\n",
    "                             'Precision':'%.4f' % precision,\n",
    "                             'Recall':'%.4f' % recall,\n",
    "                             'F1_score':'%.4f' % f1_score,}, index=[0]).to_string(col_space=9, index=False)\n",
    "# print(clf_report)\n",
    "print(cnf_matrix)\n",
    "print(other_metrics)"
   ]
  },
  {
   "attachments": {},
   "cell_type": "markdown",
   "id": "39b3f0c4",
   "metadata": {
    "papermill": {
     "duration": 0.020013,
     "end_time": "2023-11-14T06:42:39.782159",
     "exception": false,
     "start_time": "2023-11-14T06:42:39.762146",
     "status": "completed"
    },
    "tags": []
   },
   "source": [
    "## NB"
   ]
  },
  {
   "cell_type": "code",
   "execution_count": 39,
   "id": "3a9898b6",
   "metadata": {
    "execution": {
     "iopub.execute_input": "2023-11-14T06:42:39.822945Z",
     "iopub.status.busy": "2023-11-14T06:42:39.822337Z",
     "iopub.status.idle": "2023-11-14T06:43:04.869078Z",
     "shell.execute_reply": "2023-11-14T06:43:04.867838Z"
    },
    "papermill": {
     "duration": 25.069316,
     "end_time": "2023-11-14T06:43:04.871158",
     "exception": false,
     "start_time": "2023-11-14T06:42:39.801842",
     "status": "completed"
    },
    "tags": []
   },
   "outputs": [
    {
     "name": "stdout",
     "output_type": "stream",
     "text": [
      "Thời gian chạy:  25.03987407684326\n"
     ]
    }
   ],
   "source": [
    "start_time = time.time()\n",
    "vectorizer = TfidfVectorizer(min_df=0.0, analyzer=\"char\", sublinear_tf=True, ngram_range=(4, 4), max_features=8000)\n",
    "tfidf_matrix = vectorizer.fit_transform(train_data)\n",
    "# pca\n",
    "pca = PCA(n_components=256)\n",
    "reduced_data = pca.fit_transform(tfidf_matrix.toarray())\n",
    "\n",
    "# gaussian naive bayes\n",
    "nb_classifier = GaussianNB()\n",
    "nb_classifier.fit(reduced_data, label_train)\n",
    "print(\"Thời gian chạy: \", time.time()-start_time)"
   ]
  },
  {
   "cell_type": "code",
   "execution_count": 40,
   "id": "8787c9c7",
   "metadata": {
    "execution": {
     "iopub.execute_input": "2023-11-14T06:43:04.916663Z",
     "iopub.status.busy": "2023-11-14T06:43:04.916331Z",
     "iopub.status.idle": "2023-11-14T06:44:19.403417Z",
     "shell.execute_reply": "2023-11-14T06:44:19.401872Z"
    },
    "papermill": {
     "duration": 74.548752,
     "end_time": "2023-11-14T06:44:19.442171",
     "exception": false,
     "start_time": "2023-11-14T06:43:04.893419",
     "status": "completed"
    },
    "tags": []
   },
   "outputs": [
    {
     "name": "stdout",
     "output_type": "stream",
     "text": [
      "Thời gian chạy: --- 0.8918499946594238 giây ---\n",
      "Average TP: [231.5 370.4]\n",
      "Average FP: [17.1  2.4]\n",
      "Average FN: [ 2.4 17.1]\n",
      "Average TN: [370.4 231.5]\n"
     ]
    }
   ],
   "source": [
    "total_TP = 0\n",
    "total_FP = 0\n",
    "total_FN = 0\n",
    "total_TN = 0\n",
    "time_exe = 0\n",
    "for X_train, y_train, X_test, y_test in train_data_k_fold:\n",
    "    # tf-idf\n",
    "    tfidf_matrix = vectorizer.fit_transform(X_train)\n",
    "    \n",
    "    # pca\n",
    "    reduced_data = pca.fit_transform(tfidf_matrix.toarray())\n",
    "    \n",
    "    \n",
    "    # gaussian naive bayes\n",
    "    nb_classifier.fit(reduced_data, y_train)\n",
    "    \n",
    "    start_time = time.time()\n",
    "    tfidf_test = vectorizer.transform(X_test)\n",
    "    reduced_test  = pca.transform(tfidf_test.toarray())\n",
    "    y_pred = nb_classifier.predict(reduced_test)\n",
    "    time_exe += (time.time() - start_time)\n",
    "    \n",
    "    # calculate confusion matrix\n",
    "    cm = confusion_matrix(y_test, y_pred)\n",
    "\n",
    "    TP = cm.diagonal()\n",
    "    FP = cm.sum(axis=0) - TP\n",
    "    FN = cm.sum(axis=1) - TP\n",
    "    TN = cm.sum() - (TP + FP + FN)\n",
    "\n",
    "    total_TP += TP\n",
    "    total_FP += FP\n",
    "    total_FN += FN\n",
    "    total_TN += TN\n",
    "print(\"Thời gian chạy: --- %s giây ---\" % time_exe )\n",
    "average_TP = total_TP / n_folds\n",
    "average_FP = total_FP / n_folds\n",
    "average_FN = total_FN / n_folds\n",
    "average_TN = total_TN / n_folds\n",
    "\n",
    "print(\"Average TP:\", average_TP)\n",
    "print(\"Average FP:\", average_FP)\n",
    "print(\"Average FN:\", average_FN)\n",
    "print(\"Average TN:\", average_TN)"
   ]
  },
  {
   "cell_type": "code",
   "execution_count": 41,
   "id": "aad53e78",
   "metadata": {
    "execution": {
     "iopub.execute_input": "2023-11-14T06:44:19.519832Z",
     "iopub.status.busy": "2023-11-14T06:44:19.519488Z",
     "iopub.status.idle": "2023-11-14T06:44:19.531246Z",
     "shell.execute_reply": "2023-11-14T06:44:19.530270Z"
    },
    "papermill": {
     "duration": 0.047807,
     "end_time": "2023-11-14T06:44:19.533133",
     "exception": false,
     "start_time": "2023-11-14T06:44:19.485326",
     "status": "completed"
    },
    "tags": []
   },
   "outputs": [
    {
     "name": "stdout",
     "output_type": "stream",
     "text": [
      "[[231.5, 17.1], [2.4, 370.4]]\n",
      "      TPR       FPR       FNR       ACC Precision    Recall  F1_score\n",
      "   0.9897    0.0441    0.0103    0.9686    0.9312    0.9897    0.9596\n"
     ]
    }
   ],
   "source": [
    "TP = average_TP[0]\n",
    "FP = average_FP[0]\n",
    "FN = average_FN[0]\n",
    "TN = average_TN[0]\n",
    "\n",
    "precision = TP / (TP + FP)\n",
    "recall = TP / (TP + FN)\n",
    "f1_score = 2 * (precision * recall) / (precision + recall)\n",
    "\n",
    "\n",
    "\n",
    "cnf_matrix = [[TP,FP],[FN,TN]]\n",
    "TPR = TP / (TP + FN)\n",
    "FPR = FP / (FP + TN)\n",
    "FNR = FN / (FN + TP)\n",
    "ACC = (TP+TN)/(TP+FP+TN+FN)\n",
    "other_metrics = pd.DataFrame({'TPR': '%.4f' % TPR, \n",
    "                              'FPR': '%.4f' % FPR, \n",
    "                              'FNR': '%.4f' % FNR,\n",
    "                              'ACC': '%.4f' % ACC,\n",
    "                             'Precision':'%.4f' % precision,\n",
    "                             'Recall':'%.4f' % recall,\n",
    "                             'F1_score':'%.4f' % f1_score,}, index=[0]).to_string(col_space=9, index=False)\n",
    "# print(clf_report)\n",
    "print(cnf_matrix)\n",
    "print(other_metrics)"
   ]
  },
  {
   "attachments": {},
   "cell_type": "markdown",
   "id": "ea6800c5",
   "metadata": {
    "papermill": {
     "duration": 0.023337,
     "end_time": "2023-11-14T06:44:19.576521",
     "exception": false,
     "start_time": "2023-11-14T06:44:19.553184",
     "status": "completed"
    },
    "tags": []
   },
   "source": [
    "# 5-gram"
   ]
  },
  {
   "attachments": {},
   "cell_type": "markdown",
   "id": "30a53fef",
   "metadata": {
    "papermill": {
     "duration": 0.020592,
     "end_time": "2023-11-14T06:44:19.624840",
     "exception": false,
     "start_time": "2023-11-14T06:44:19.604248",
     "status": "completed"
    },
    "tags": []
   },
   "source": [
    "## RF"
   ]
  },
  {
   "cell_type": "code",
   "execution_count": 42,
   "id": "6e903f3e",
   "metadata": {
    "execution": {
     "iopub.execute_input": "2023-11-14T06:44:19.669906Z",
     "iopub.status.busy": "2023-11-14T06:44:19.669450Z",
     "iopub.status.idle": "2023-11-14T06:45:04.455810Z",
     "shell.execute_reply": "2023-11-14T06:45:04.454853Z"
    },
    "papermill": {
     "duration": 44.832458,
     "end_time": "2023-11-14T06:45:04.477347",
     "exception": false,
     "start_time": "2023-11-14T06:44:19.644889",
     "status": "completed"
    },
    "tags": []
   },
   "outputs": [
    {
     "name": "stdout",
     "output_type": "stream",
     "text": [
      "Thời gian chạy:  44.77918601036072\n"
     ]
    }
   ],
   "source": [
    "start_time = time.time()\n",
    "vectorizer = TfidfVectorizer(min_df=0.0, analyzer=\"char\", sublinear_tf=True, ngram_range=(5, 5), max_features=8000)\n",
    "tfidf_matrix = vectorizer.fit_transform(train_data)\n",
    "# pca\n",
    "pca = PCA(n_components=256)\n",
    "reduced_data = pca.fit_transform(tfidf_matrix.toarray())\n",
    "\n",
    "# random forest\n",
    "rf_classifier = RandomForestClassifier()\n",
    "rf_classifier.fit(reduced_data, label_train)\n",
    "print(\"Thời gian chạy: \", time.time()-start_time)"
   ]
  },
  {
   "cell_type": "code",
   "execution_count": 43,
   "id": "b98ea82b",
   "metadata": {
    "execution": {
     "iopub.execute_input": "2023-11-14T06:45:04.519617Z",
     "iopub.status.busy": "2023-11-14T06:45:04.518673Z",
     "iopub.status.idle": "2023-11-14T06:46:57.831323Z",
     "shell.execute_reply": "2023-11-14T06:46:57.830351Z"
    },
    "papermill": {
     "duration": 113.385845,
     "end_time": "2023-11-14T06:46:57.883387",
     "exception": false,
     "start_time": "2023-11-14T06:45:04.497542",
     "status": "completed"
    },
    "tags": []
   },
   "outputs": [
    {
     "name": "stdout",
     "output_type": "stream",
     "text": [
      "Thời gian chạy: --- 1.2234625816345215 giây ---\n",
      "Average TP: [232.  383.9]\n",
      "Average FP: [3.6 1.9]\n",
      "Average FN: [1.9 3.6]\n",
      "Average TN: [383.9 232. ]\n"
     ]
    }
   ],
   "source": [
    "total_TP = 0\n",
    "total_FP = 0\n",
    "total_FN = 0\n",
    "total_TN = 0\n",
    "time_exe = 0\n",
    "for X_train, y_train, X_test, y_test in train_data_k_fold:\n",
    "    # tf-idf\n",
    "    tfidf_matrix = vectorizer.fit_transform(X_train)\n",
    "    \n",
    "    # pca\n",
    "    reduced_data = pca.fit_transform(tfidf_matrix.toarray())\n",
    "    \n",
    "    \n",
    "    # random forest\n",
    "    rf_classifier.fit(reduced_data, y_train)\n",
    "    \n",
    "    start_time = time.time()\n",
    "    tfidf_test = vectorizer.transform(X_test)\n",
    "    reduced_test  = pca.transform(tfidf_test.toarray())\n",
    "    y_pred = rf_classifier.predict(reduced_test)\n",
    "    time_exe += (time.time() - start_time)\n",
    "    \n",
    "    # calculate confusion matrix\n",
    "    cm = confusion_matrix(y_test, y_pred)\n",
    "\n",
    "    TP = cm.diagonal()\n",
    "    FP = cm.sum(axis=0) - TP\n",
    "    FN = cm.sum(axis=1) - TP\n",
    "    TN = cm.sum() - (TP + FP + FN)\n",
    "\n",
    "    total_TP += TP\n",
    "    total_FP += FP\n",
    "    total_FN += FN\n",
    "    total_TN += TN\n",
    "print(\"Thời gian chạy: --- %s giây ---\" % time_exe )\n",
    "average_TP = total_TP / n_folds\n",
    "average_FP = total_FP / n_folds\n",
    "average_FN = total_FN / n_folds\n",
    "average_TN = total_TN / n_folds\n",
    "\n",
    "print(\"Average TP:\", average_TP)\n",
    "print(\"Average FP:\", average_FP)\n",
    "print(\"Average FN:\", average_FN)\n",
    "print(\"Average TN:\", average_TN)"
   ]
  },
  {
   "cell_type": "code",
   "execution_count": 44,
   "id": "30074deb",
   "metadata": {
    "execution": {
     "iopub.execute_input": "2023-11-14T06:46:57.941938Z",
     "iopub.status.busy": "2023-11-14T06:46:57.941203Z",
     "iopub.status.idle": "2023-11-14T06:46:57.953208Z",
     "shell.execute_reply": "2023-11-14T06:46:57.952315Z"
    },
    "papermill": {
     "duration": 0.035923,
     "end_time": "2023-11-14T06:46:57.955354",
     "exception": false,
     "start_time": "2023-11-14T06:46:57.919431",
     "status": "completed"
    },
    "tags": []
   },
   "outputs": [
    {
     "name": "stdout",
     "output_type": "stream",
     "text": [
      "[[232.0, 3.6], [1.9, 383.9]]\n",
      "      TPR       FPR       FNR       ACC Precision    Recall  F1_score\n",
      "   0.9919    0.0093    0.0081    0.9911    0.9847    0.9919    0.9883\n"
     ]
    }
   ],
   "source": [
    "TP = average_TP[0]\n",
    "FP = average_FP[0]\n",
    "FN = average_FN[0]\n",
    "TN = average_TN[0]\n",
    "\n",
    "precision = TP / (TP + FP)\n",
    "recall = TP / (TP + FN)\n",
    "f1_score = 2 * (precision * recall) / (precision + recall)\n",
    "\n",
    "\n",
    "\n",
    "cnf_matrix = [[TP,FP],[FN,TN]]\n",
    "TPR = TP / (TP + FN)\n",
    "FPR = FP / (FP + TN)\n",
    "FNR = FN / (FN + TP)\n",
    "ACC = (TP+TN)/(TP+FP+TN+FN)\n",
    "other_metrics = pd.DataFrame({'TPR': '%.4f' % TPR, \n",
    "                              'FPR': '%.4f' % FPR, \n",
    "                              'FNR': '%.4f' % FNR,\n",
    "                              'ACC': '%.4f' % ACC,\n",
    "                             'Precision':'%.4f' % precision,\n",
    "                             'Recall':'%.4f' % recall,\n",
    "                             'F1_score':'%.4f' % f1_score,}, index=[0]).to_string(col_space=9, index=False)\n",
    "# print(clf_report)\n",
    "print(cnf_matrix)\n",
    "print(other_metrics)"
   ]
  },
  {
   "attachments": {},
   "cell_type": "markdown",
   "id": "59bbecf8",
   "metadata": {
    "papermill": {
     "duration": 0.020486,
     "end_time": "2023-11-14T06:46:57.996415",
     "exception": false,
     "start_time": "2023-11-14T06:46:57.975929",
     "status": "completed"
    },
    "tags": []
   },
   "source": [
    "## DT"
   ]
  },
  {
   "cell_type": "code",
   "execution_count": 45,
   "id": "836f8be3",
   "metadata": {
    "execution": {
     "iopub.execute_input": "2023-11-14T06:46:58.038926Z",
     "iopub.status.busy": "2023-11-14T06:46:58.038356Z",
     "iopub.status.idle": "2023-11-14T06:47:29.366165Z",
     "shell.execute_reply": "2023-11-14T06:47:29.365222Z"
    },
    "papermill": {
     "duration": 31.371915,
     "end_time": "2023-11-14T06:47:29.388644",
     "exception": false,
     "start_time": "2023-11-14T06:46:58.016729",
     "status": "completed"
    },
    "tags": []
   },
   "outputs": [
    {
     "name": "stdout",
     "output_type": "stream",
     "text": [
      "Thời gian chạy:  31.321612119674683\n"
     ]
    }
   ],
   "source": [
    "start_time = time.time()\n",
    "vectorizer = TfidfVectorizer(min_df=0.0, analyzer=\"char\", sublinear_tf=True, ngram_range=(5, 5), max_features=8000)\n",
    "tfidf_matrix = vectorizer.fit_transform(train_data)\n",
    "# pca\n",
    "pca = PCA(n_components=256)\n",
    "reduced_data = pca.fit_transform(tfidf_matrix.toarray())\n",
    "\n",
    "# decision tree\n",
    "dt_classifier = DecisionTreeClassifier()\n",
    "dt_classifier.fit(reduced_data, label_train)\n",
    "print(\"Thời gian chạy: \", time.time()-start_time)"
   ]
  },
  {
   "cell_type": "code",
   "execution_count": 46,
   "id": "29428ab3",
   "metadata": {
    "execution": {
     "iopub.execute_input": "2023-11-14T06:47:29.431235Z",
     "iopub.status.busy": "2023-11-14T06:47:29.430637Z",
     "iopub.status.idle": "2023-11-14T06:48:53.293341Z",
     "shell.execute_reply": "2023-11-14T06:48:53.291869Z"
    },
    "papermill": {
     "duration": 83.924421,
     "end_time": "2023-11-14T06:48:53.333634",
     "exception": false,
     "start_time": "2023-11-14T06:47:29.409213",
     "status": "completed"
    },
    "tags": []
   },
   "outputs": [
    {
     "name": "stdout",
     "output_type": "stream",
     "text": [
      "Thời gian chạy: --- 775.3720941543579 giây ---\n",
      "Average TP: [231.7 383.4]\n",
      "Average FP: [4.1 2.2]\n",
      "Average FN: [2.2 4.1]\n",
      "Average TN: [383.4 231.7]\n"
     ]
    }
   ],
   "source": [
    "total_TP = 0\n",
    "total_FP = 0\n",
    "total_FN = 0\n",
    "total_TN = 0\n",
    "time_exe = 0\n",
    "for X_train, y_train, X_test, y_test in train_data_k_fold:\n",
    "    # tf-idf\n",
    "    tfidf_matrix = vectorizer.fit_transform(X_train)\n",
    "    \n",
    "    # pca\n",
    "    reduced_data = pca.fit_transform(tfidf_matrix.toarray())\n",
    "    \n",
    "    \n",
    "    # decision tree\n",
    "    dt_classifier.fit(reduced_data, y_train)\n",
    "    \n",
    "    tfidf_test = vectorizer.transform(X_test)\n",
    "    reduced_test  = pca.transform(tfidf_test.toarray())\n",
    "    y_pred = dt_classifier.predict(reduced_test)\n",
    "    time_exe += (time.time() - start_time)\n",
    "    # calculate confusion matrix\n",
    "    cm = confusion_matrix(y_test, y_pred)\n",
    "\n",
    "    TP = cm.diagonal()\n",
    "    FP = cm.sum(axis=0) - TP\n",
    "    FN = cm.sum(axis=1) - TP\n",
    "    TN = cm.sum() - (TP + FP + FN)\n",
    "\n",
    "    total_TP += TP\n",
    "    total_FP += FP\n",
    "    total_FN += FN\n",
    "    total_TN += TN\n",
    "print(\"Thời gian chạy: --- %s giây ---\" % time_exe )\n",
    "average_TP = total_TP / n_folds\n",
    "average_FP = total_FP / n_folds\n",
    "average_FN = total_FN / n_folds\n",
    "average_TN = total_TN / n_folds\n",
    "\n",
    "print(\"Average TP:\", average_TP)\n",
    "print(\"Average FP:\", average_FP)\n",
    "print(\"Average FN:\", average_FN)\n",
    "print(\"Average TN:\", average_TN)"
   ]
  },
  {
   "cell_type": "code",
   "execution_count": 47,
   "id": "9aa4a2d0",
   "metadata": {
    "execution": {
     "iopub.execute_input": "2023-11-14T06:48:53.412843Z",
     "iopub.status.busy": "2023-11-14T06:48:53.412282Z",
     "iopub.status.idle": "2023-11-14T06:48:53.423604Z",
     "shell.execute_reply": "2023-11-14T06:48:53.422768Z"
    },
    "papermill": {
     "duration": 0.046939,
     "end_time": "2023-11-14T06:48:53.425653",
     "exception": false,
     "start_time": "2023-11-14T06:48:53.378714",
     "status": "completed"
    },
    "tags": []
   },
   "outputs": [
    {
     "name": "stdout",
     "output_type": "stream",
     "text": [
      "[[231.7, 4.1], [2.2, 383.4]]\n",
      "      TPR       FPR       FNR       ACC Precision    Recall  F1_score\n",
      "   0.9906    0.0106    0.0094    0.9899    0.9826    0.9906    0.9866\n"
     ]
    }
   ],
   "source": [
    "TP = average_TP[0]\n",
    "FP = average_FP[0]\n",
    "FN = average_FN[0]\n",
    "TN = average_TN[0]\n",
    "\n",
    "precision = TP / (TP + FP)\n",
    "recall = TP / (TP + FN)\n",
    "f1_score = 2 * (precision * recall) / (precision + recall)\n",
    "\n",
    "\n",
    "\n",
    "cnf_matrix = [[TP,FP],[FN,TN]]\n",
    "TPR = TP / (TP + FN)\n",
    "FPR = FP / (FP + TN)\n",
    "FNR = FN / (FN + TP)\n",
    "ACC = (TP+TN)/(TP+FP+TN+FN)\n",
    "other_metrics = pd.DataFrame({'TPR': '%.4f' % TPR, \n",
    "                              'FPR': '%.4f' % FPR, \n",
    "                              'FNR': '%.4f' % FNR,\n",
    "                              'ACC': '%.4f' % ACC,\n",
    "                             'Precision':'%.4f' % precision,\n",
    "                             'Recall':'%.4f' % recall,\n",
    "                             'F1_score':'%.4f' % f1_score,}, index=[0]).to_string(col_space=9, index=False)\n",
    "# print(clf_report)\n",
    "print(cnf_matrix)\n",
    "print(other_metrics)"
   ]
  },
  {
   "attachments": {},
   "cell_type": "markdown",
   "id": "b207f098",
   "metadata": {
    "papermill": {
     "duration": 0.020656,
     "end_time": "2023-11-14T06:48:53.467095",
     "exception": false,
     "start_time": "2023-11-14T06:48:53.446439",
     "status": "completed"
    },
    "tags": []
   },
   "source": [
    "## SVM"
   ]
  },
  {
   "cell_type": "code",
   "execution_count": 48,
   "id": "56dc00b2",
   "metadata": {
    "execution": {
     "iopub.execute_input": "2023-11-14T06:48:53.510471Z",
     "iopub.status.busy": "2023-11-14T06:48:53.509780Z",
     "iopub.status.idle": "2023-11-14T06:49:31.843907Z",
     "shell.execute_reply": "2023-11-14T06:49:31.842905Z"
    },
    "papermill": {
     "duration": 38.379141,
     "end_time": "2023-11-14T06:49:31.866964",
     "exception": false,
     "start_time": "2023-11-14T06:48:53.487823",
     "status": "completed"
    },
    "tags": []
   },
   "outputs": [
    {
     "name": "stdout",
     "output_type": "stream",
     "text": [
      "Thời gian chạy:  38.32723689079285\n"
     ]
    }
   ],
   "source": [
    "start_time = time.time()\n",
    "vectorizer = TfidfVectorizer(min_df=0.0, analyzer=\"char\", sublinear_tf=True, ngram_range=(5, 5), max_features=8000)\n",
    "tfidf_matrix = vectorizer.fit_transform(train_data)\n",
    "# pca\n",
    "pca = PCA(n_components=256)\n",
    "reduced_data = pca.fit_transform(tfidf_matrix.toarray())\n",
    "\n",
    "# svm\n",
    "svm_classifier = SVC()\n",
    "svm_classifier.fit(reduced_data, label_train)\n",
    "print(\"Thời gian chạy: \", time.time()-start_time)"
   ]
  },
  {
   "cell_type": "code",
   "execution_count": 49,
   "id": "fed6fdde",
   "metadata": {
    "execution": {
     "iopub.execute_input": "2023-11-14T06:49:31.911128Z",
     "iopub.status.busy": "2023-11-14T06:49:31.910787Z",
     "iopub.status.idle": "2023-11-14T06:50:57.629084Z",
     "shell.execute_reply": "2023-11-14T06:50:57.628165Z"
    },
    "papermill": {
     "duration": 85.767668,
     "end_time": "2023-11-14T06:50:57.656170",
     "exception": false,
     "start_time": "2023-11-14T06:49:31.888502",
     "status": "completed"
    },
    "tags": []
   },
   "outputs": [
    {
     "name": "stdout",
     "output_type": "stream",
     "text": [
      "Thời gian chạy: --- 3.2942147254943848 giây ---\n",
      "Average TP: [230.7 387.4]\n",
      "Average FP: [0.1 3.2]\n",
      "Average FN: [3.2 0.1]\n",
      "Average TN: [387.4 230.7]\n"
     ]
    }
   ],
   "source": [
    "total_TP = 0\n",
    "total_FP = 0\n",
    "total_FN = 0\n",
    "total_TN = 0\n",
    "time_exe = 0\n",
    "for X_train, y_train, X_test, y_test in train_data_k_fold:\n",
    "    # tf-idf\n",
    "    tfidf_matrix = vectorizer.fit_transform(X_train)\n",
    "    \n",
    "    # pca\n",
    "    reduced_data = pca.fit_transform(tfidf_matrix.toarray())\n",
    "    \n",
    "    \n",
    "    # svm\n",
    "    svm_classifier.fit(reduced_data, y_train)\n",
    "    start_time = time.time()\n",
    "    tfidf_test = vectorizer.transform(X_test)\n",
    "    reduced_test  = pca.transform(tfidf_test.toarray())\n",
    "    y_pred = svm_classifier.predict(reduced_test)\n",
    "    time_exe += (time.time() - start_time)\n",
    "    \n",
    "    # calculate confusion matrix\n",
    "    cm = confusion_matrix(y_test, y_pred)\n",
    "\n",
    "    TP = cm.diagonal()\n",
    "    FP = cm.sum(axis=0) - TP\n",
    "    FN = cm.sum(axis=1) - TP\n",
    "    TN = cm.sum() - (TP + FP + FN)\n",
    "\n",
    "    total_TP += TP\n",
    "    total_FP += FP\n",
    "    total_FN += FN\n",
    "    total_TN += TN\n",
    "print(\"Thời gian chạy: --- %s giây ---\" % time_exe )\n",
    "average_TP = total_TP / n_folds\n",
    "average_FP = total_FP / n_folds\n",
    "average_FN = total_FN / n_folds\n",
    "average_TN = total_TN / n_folds\n",
    "\n",
    "print(\"Average TP:\", average_TP)\n",
    "print(\"Average FP:\", average_FP)\n",
    "print(\"Average FN:\", average_FN)\n",
    "print(\"Average TN:\", average_TN)"
   ]
  },
  {
   "cell_type": "code",
   "execution_count": 50,
   "id": "5b4a6002",
   "metadata": {
    "execution": {
     "iopub.execute_input": "2023-11-14T06:50:57.701053Z",
     "iopub.status.busy": "2023-11-14T06:50:57.700296Z",
     "iopub.status.idle": "2023-11-14T06:50:57.714668Z",
     "shell.execute_reply": "2023-11-14T06:50:57.713834Z"
    },
    "papermill": {
     "duration": 0.039783,
     "end_time": "2023-11-14T06:50:57.717323",
     "exception": false,
     "start_time": "2023-11-14T06:50:57.677540",
     "status": "completed"
    },
    "tags": []
   },
   "outputs": [
    {
     "name": "stdout",
     "output_type": "stream",
     "text": [
      "[[230.7, 0.1], [3.2, 387.4]]\n",
      "      TPR       FPR       FNR       ACC Precision    Recall  F1_score\n",
      "   0.9863    0.0003    0.0137    0.9947    0.9996    0.9863    0.9929\n"
     ]
    }
   ],
   "source": [
    "TP = average_TP[0]\n",
    "FP = average_FP[0]\n",
    "FN = average_FN[0]\n",
    "TN = average_TN[0]\n",
    "\n",
    "precision = TP / (TP + FP)\n",
    "recall = TP / (TP + FN)\n",
    "f1_score = 2 * (precision * recall) / (precision + recall)\n",
    "\n",
    "\n",
    "\n",
    "cnf_matrix = [[TP,FP],[FN,TN]]\n",
    "TPR = TP / (TP + FN)\n",
    "FPR = FP / (FP + TN)\n",
    "FNR = FN / (FN + TP)\n",
    "ACC = (TP+TN)/(TP+FP+TN+FN)\n",
    "other_metrics = pd.DataFrame({'TPR': '%.4f' % TPR, \n",
    "                              'FPR': '%.4f' % FPR, \n",
    "                              'FNR': '%.4f' % FNR,\n",
    "                              'ACC': '%.4f' % ACC,\n",
    "                             'Precision':'%.4f' % precision,\n",
    "                             'Recall':'%.4f' % recall,\n",
    "                             'F1_score':'%.4f' % f1_score,}, index=[0]).to_string(col_space=9, index=False)\n",
    "# print(clf_report)\n",
    "print(cnf_matrix)\n",
    "print(other_metrics)"
   ]
  },
  {
   "attachments": {},
   "cell_type": "markdown",
   "id": "19e9344a",
   "metadata": {
    "papermill": {
     "duration": 0.021187,
     "end_time": "2023-11-14T06:50:57.763200",
     "exception": false,
     "start_time": "2023-11-14T06:50:57.742013",
     "status": "completed"
    },
    "tags": []
   },
   "source": [
    "## NB"
   ]
  },
  {
   "cell_type": "code",
   "execution_count": 51,
   "id": "e910d3e1",
   "metadata": {
    "execution": {
     "iopub.execute_input": "2023-11-14T06:50:57.808343Z",
     "iopub.status.busy": "2023-11-14T06:50:57.807514Z",
     "iopub.status.idle": "2023-11-14T06:51:21.848632Z",
     "shell.execute_reply": "2023-11-14T06:51:21.847612Z"
    },
    "papermill": {
     "duration": 24.065996,
     "end_time": "2023-11-14T06:51:21.850668",
     "exception": false,
     "start_time": "2023-11-14T06:50:57.784672",
     "status": "completed"
    },
    "tags": []
   },
   "outputs": [
    {
     "name": "stdout",
     "output_type": "stream",
     "text": [
      "Thời gian chạy:  24.033484935760498\n"
     ]
    }
   ],
   "source": [
    "start_time = time.time()\n",
    "vectorizer = TfidfVectorizer(min_df=0.0, analyzer=\"char\", sublinear_tf=True, ngram_range=(5, 5), max_features=8000)\n",
    "tfidf_matrix = vectorizer.fit_transform(train_data)\n",
    "# pca\n",
    "pca = PCA(n_components=256)\n",
    "reduced_data = pca.fit_transform(tfidf_matrix.toarray())\n",
    "\n",
    "# gaussian naive bayes\n",
    "nb_classifier = GaussianNB()\n",
    "nb_classifier.fit(reduced_data, label_train)\n",
    "print(\"Thời gian chạy: \", time.time()-start_time)"
   ]
  },
  {
   "cell_type": "code",
   "execution_count": 52,
   "id": "42ade9b9",
   "metadata": {
    "execution": {
     "iopub.execute_input": "2023-11-14T06:51:21.895552Z",
     "iopub.status.busy": "2023-11-14T06:51:21.895222Z",
     "iopub.status.idle": "2023-11-14T06:52:38.379584Z",
     "shell.execute_reply": "2023-11-14T06:52:38.378585Z"
    },
    "papermill": {
     "duration": 76.56057,
     "end_time": "2023-11-14T06:52:38.433177",
     "exception": false,
     "start_time": "2023-11-14T06:51:21.872607",
     "status": "completed"
    },
    "tags": []
   },
   "outputs": [
    {
     "name": "stdout",
     "output_type": "stream",
     "text": [
      "Thời gian chạy: --- 0.9929909706115723 giây ---\n",
      "Average TP: [231.4 381.3]\n",
      "Average FP: [6.2 2.5]\n",
      "Average FN: [2.5 6.2]\n",
      "Average TN: [381.3 231.4]\n"
     ]
    }
   ],
   "source": [
    "total_TP = 0\n",
    "total_FP = 0\n",
    "total_FN = 0\n",
    "total_TN = 0\n",
    "time_exe = 0\n",
    "for X_train, y_train, X_test, y_test in train_data_k_fold:\n",
    "    # tf-idf\n",
    "    tfidf_matrix = vectorizer.fit_transform(X_train)\n",
    "    \n",
    "    # pca\n",
    "    reduced_data = pca.fit_transform(tfidf_matrix.toarray())\n",
    "    \n",
    "    \n",
    "    # gaussian naive bayes\n",
    "    nb_classifier.fit(reduced_data, y_train)\n",
    "    \n",
    "    start_time = time.time()\n",
    "    tfidf_test = vectorizer.transform(X_test)\n",
    "    reduced_test  = pca.transform(tfidf_test.toarray())\n",
    "    y_pred = nb_classifier.predict(reduced_test)\n",
    "    time_exe += (time.time() - start_time)\n",
    "    \n",
    "    # calculate confusion matrix\n",
    "    cm = confusion_matrix(y_test, y_pred)\n",
    "\n",
    "    TP = cm.diagonal()\n",
    "    FP = cm.sum(axis=0) - TP\n",
    "    FN = cm.sum(axis=1) - TP\n",
    "    TN = cm.sum() - (TP + FP + FN)\n",
    "\n",
    "    total_TP += TP\n",
    "    total_FP += FP\n",
    "    total_FN += FN\n",
    "    total_TN += TN\n",
    "print(\"Thời gian chạy: --- %s giây ---\" % time_exe )\n",
    "average_TP = total_TP / n_folds\n",
    "average_FP = total_FP / n_folds\n",
    "average_FN = total_FN / n_folds\n",
    "average_TN = total_TN / n_folds\n",
    "\n",
    "print(\"Average TP:\", average_TP)\n",
    "print(\"Average FP:\", average_FP)\n",
    "print(\"Average FN:\", average_FN)\n",
    "print(\"Average TN:\", average_TN)"
   ]
  },
  {
   "cell_type": "code",
   "execution_count": 53,
   "id": "4c860cb0",
   "metadata": {
    "execution": {
     "iopub.execute_input": "2023-11-14T06:52:38.513642Z",
     "iopub.status.busy": "2023-11-14T06:52:38.513338Z",
     "iopub.status.idle": "2023-11-14T06:52:38.524687Z",
     "shell.execute_reply": "2023-11-14T06:52:38.523844Z"
    },
    "papermill": {
     "duration": 0.044588,
     "end_time": "2023-11-14T06:52:38.526733",
     "exception": false,
     "start_time": "2023-11-14T06:52:38.482145",
     "status": "completed"
    },
    "tags": []
   },
   "outputs": [
    {
     "name": "stdout",
     "output_type": "stream",
     "text": [
      "[[231.4, 6.2], [2.5, 381.3]]\n",
      "      TPR       FPR       FNR       ACC Precision    Recall  F1_score\n",
      "   0.9893    0.0160    0.0107    0.9860    0.9739    0.9893    0.9815\n"
     ]
    }
   ],
   "source": [
    "TP = average_TP[0]\n",
    "FP = average_FP[0]\n",
    "FN = average_FN[0]\n",
    "TN = average_TN[0]\n",
    "\n",
    "precision = TP / (TP + FP)\n",
    "recall = TP / (TP + FN)\n",
    "f1_score = 2 * (precision * recall) / (precision + recall)\n",
    "\n",
    "\n",
    "\n",
    "cnf_matrix = [[TP,FP],[FN,TN]]\n",
    "TPR = TP / (TP + FN)\n",
    "FPR = FP / (FP + TN)\n",
    "FNR = FN / (FN + TP)\n",
    "ACC = (TP+TN)/(TP+FP+TN+FN)\n",
    "other_metrics = pd.DataFrame({'TPR': '%.4f' % TPR, \n",
    "                              'FPR': '%.4f' % FPR, \n",
    "                              'FNR': '%.4f' % FNR,\n",
    "                              'ACC': '%.4f' % ACC,\n",
    "                             'Precision':'%.4f' % precision,\n",
    "                             'Recall':'%.4f' % recall,\n",
    "                             'F1_score':'%.4f' % f1_score,}, index=[0]).to_string(col_space=9, index=False)\n",
    "# print(clf_report)\n",
    "print(cnf_matrix)\n",
    "print(other_metrics)"
   ]
  }
 ],
 "metadata": {
  "kernelspec": {
   "display_name": "Python 3",
   "language": "python",
   "name": "python3"
  },
  "language_info": {
   "codemirror_mode": {
    "name": "ipython",
    "version": 3
   },
   "file_extension": ".py",
   "mimetype": "text/x-python",
   "name": "python",
   "nbconvert_exporter": "python",
   "pygments_lexer": "ipython3",
   "version": "3.11.5"
  },
  "papermill": {
   "default_parameters": {},
   "duration": 1997.595832,
   "end_time": "2023-11-14T06:52:39.371783",
   "environment_variables": {},
   "exception": null,
   "input_path": "__notebook__.ipynb",
   "output_path": "__notebook__.ipynb",
   "parameters": {},
   "start_time": "2023-11-14T06:19:21.775951",
   "version": "2.4.0"
  }
 },
 "nbformat": 4,
 "nbformat_minor": 5
}
