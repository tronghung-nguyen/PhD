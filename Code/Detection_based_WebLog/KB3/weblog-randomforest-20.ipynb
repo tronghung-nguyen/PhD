{
 "cells": [
  {
   "attachments": {},
   "cell_type": "markdown",
   "id": "b9197433",
   "metadata": {},
   "source": [
    "## Import libraries"
   ]
  },
  {
   "cell_type": "code",
   "execution_count": 1,
   "id": "f963dd29",
   "metadata": {
    "_cell_guid": "b1076dfc-b9ad-4769-8c92-a6c4dae69d19",
    "_uuid": "8f2839f25d086af736a60e9eeb907d3b93b6e0e5",
    "execution": {
     "iopub.execute_input": "2023-11-22T13:38:18.976865Z",
     "iopub.status.busy": "2023-11-22T13:38:18.975993Z",
     "iopub.status.idle": "2023-11-22T13:38:20.431797Z",
     "shell.execute_reply": "2023-11-22T13:38:20.431011Z"
    },
    "papermill": {
     "duration": 1.472052,
     "end_time": "2023-11-22T13:38:20.434182",
     "exception": false,
     "start_time": "2023-11-22T13:38:18.962130",
     "status": "completed"
    },
    "tags": []
   },
   "outputs": [],
   "source": [
    "import pandas as pd\n",
    "import numpy as np\n",
    "from sklearn.feature_extraction.text import TfidfVectorizer\n",
    "from sklearn.ensemble import RandomForestClassifier\n",
    "from sklearn.tree import DecisionTreeClassifier\n",
    "from sklearn.pipeline import Pipeline\n",
    "from sklearn.metrics import accuracy_score, precision_score, recall_score, f1_score\n",
    "from sklearn.model_selection import train_test_split\n",
    "from sklearn.decomposition import PCA, TruncatedSVD\n",
    "\n",
    "from sklearn.preprocessing import LabelBinarizer\n",
    "from sklearn import metrics\n",
    "from sklearn.svm import SVC\n",
    "from sklearn.naive_bayes import MultinomialNB, GaussianNB\n",
    "from sklearn.preprocessing import MaxAbsScaler, MinMaxScaler, StandardScaler\n",
    "\n",
    "import time\n",
    "from scipy.sparse import issparse"
   ]
  },
  {
   "cell_type": "code",
   "execution_count": 2,
   "id": "59dcfead",
   "metadata": {
    "execution": {
     "iopub.execute_input": "2023-11-22T13:38:20.452511Z",
     "iopub.status.busy": "2023-11-22T13:38:20.452147Z",
     "iopub.status.idle": "2023-11-22T13:38:20.554912Z",
     "shell.execute_reply": "2023-11-22T13:38:20.553925Z"
    },
    "papermill": {
     "duration": 0.114217,
     "end_time": "2023-11-22T13:38:20.557134",
     "exception": false,
     "start_time": "2023-11-22T13:38:20.442917",
     "status": "completed"
    },
    "tags": []
   },
   "outputs": [
    {
     "data": {
      "text/html": [
       "<div>\n",
       "<style scoped>\n",
       "    .dataframe tbody tr th:only-of-type {\n",
       "        vertical-align: middle;\n",
       "    }\n",
       "\n",
       "    .dataframe tbody tr th {\n",
       "        vertical-align: top;\n",
       "    }\n",
       "\n",
       "    .dataframe thead th {\n",
       "        text-align: right;\n",
       "    }\n",
       "</style>\n",
       "<table border=\"1\" class=\"dataframe\">\n",
       "  <thead>\n",
       "    <tr style=\"text-align: right;\">\n",
       "      <th></th>\n",
       "      <th>payload</th>\n",
       "      <th>length</th>\n",
       "      <th>attack_type</th>\n",
       "      <th>label</th>\n",
       "    </tr>\n",
       "  </thead>\n",
       "  <tbody>\n",
       "    <tr>\n",
       "      <th>0</th>\n",
       "      <td>c/ caridad s/n</td>\n",
       "      <td>14</td>\n",
       "      <td>norm</td>\n",
       "      <td>norm</td>\n",
       "    </tr>\n",
       "    <tr>\n",
       "      <th>1</th>\n",
       "      <td>campello, el</td>\n",
       "      <td>12</td>\n",
       "      <td>norm</td>\n",
       "      <td>norm</td>\n",
       "    </tr>\n",
       "    <tr>\n",
       "      <th>2</th>\n",
       "      <td>40184</td>\n",
       "      <td>5</td>\n",
       "      <td>norm</td>\n",
       "      <td>norm</td>\n",
       "    </tr>\n",
       "    <tr>\n",
       "      <th>3</th>\n",
       "      <td>1442431887503330</td>\n",
       "      <td>16</td>\n",
       "      <td>norm</td>\n",
       "      <td>norm</td>\n",
       "    </tr>\n",
       "    <tr>\n",
       "      <th>4</th>\n",
       "      <td>nue37</td>\n",
       "      <td>5</td>\n",
       "      <td>norm</td>\n",
       "      <td>norm</td>\n",
       "    </tr>\n",
       "  </tbody>\n",
       "</table>\n",
       "</div>"
      ],
      "text/plain": [
       "            payload  length attack_type label\n",
       "0    c/ caridad s/n      14        norm  norm\n",
       "1      campello, el      12        norm  norm\n",
       "2             40184       5        norm  norm\n",
       "3  1442431887503330      16        norm  norm\n",
       "4             nue37       5        norm  norm"
      ]
     },
     "execution_count": 2,
     "metadata": {},
     "output_type": "execute_result"
    }
   ],
   "source": [
    "data = pd.read_csv(\"/kaggle/input/httpparamsdataset/HttpParamsDataset-master/payload_full.csv\")\n",
    "data.head()"
   ]
  },
  {
   "cell_type": "code",
   "execution_count": 3,
   "id": "fce9a1de",
   "metadata": {
    "execution": {
     "iopub.execute_input": "2023-11-22T13:38:20.575968Z",
     "iopub.status.busy": "2023-11-22T13:38:20.575701Z",
     "iopub.status.idle": "2023-11-22T13:38:20.580157Z",
     "shell.execute_reply": "2023-11-22T13:38:20.579229Z"
    },
    "papermill": {
     "duration": 0.016063,
     "end_time": "2023-11-22T13:38:20.582235",
     "exception": false,
     "start_time": "2023-11-22T13:38:20.566172",
     "status": "completed"
    },
    "tags": []
   },
   "outputs": [],
   "source": [
    "train_data = data[\"payload\"].values\n",
    "label_data = data[\"label\"].values"
   ]
  },
  {
   "cell_type": "code",
   "execution_count": 4,
   "id": "4612e436",
   "metadata": {
    "execution": {
     "iopub.execute_input": "2023-11-22T13:38:20.600003Z",
     "iopub.status.busy": "2023-11-22T13:38:20.599738Z",
     "iopub.status.idle": "2023-11-22T13:38:20.607678Z",
     "shell.execute_reply": "2023-11-22T13:38:20.606955Z"
    },
    "papermill": {
     "duration": 0.018928,
     "end_time": "2023-11-22T13:38:20.609563",
     "exception": false,
     "start_time": "2023-11-22T13:38:20.590635",
     "status": "completed"
    },
    "tags": []
   },
   "outputs": [],
   "source": [
    "train_data, train_cross, label_train, label_cross = train_test_split(train_data,label_data, \n",
    "                                                                     test_size=0.2, random_state = 42)"
   ]
  },
  {
   "cell_type": "code",
   "execution_count": 5,
   "id": "3aaec009",
   "metadata": {
    "execution": {
     "iopub.execute_input": "2023-11-22T13:38:20.627108Z",
     "iopub.status.busy": "2023-11-22T13:38:20.626856Z",
     "iopub.status.idle": "2023-11-22T13:38:20.644265Z",
     "shell.execute_reply": "2023-11-22T13:38:20.643608Z"
    },
    "papermill": {
     "duration": 0.028232,
     "end_time": "2023-11-22T13:38:20.646108",
     "exception": false,
     "start_time": "2023-11-22T13:38:20.617876",
     "status": "completed"
    },
    "tags": []
   },
   "outputs": [],
   "source": [
    "from sklearn.model_selection import StratifiedKFold\n",
    "from sklearn.metrics import confusion_matrix\n",
    "\n",
    "n_folds = 10\n",
    "\n",
    "kf = StratifiedKFold(n_splits=n_folds)\n",
    "\n",
    "train_data_k_fold = []\n",
    "for train_index, test_index in kf.split(train_cross, label_cross):\n",
    "    X_train, X_test = train_cross[train_index], train_cross[test_index]\n",
    "    y_train, y_test = label_cross[train_index], label_cross[test_index]\n",
    "    train_data_k_fold.append((X_train, y_train, X_test, y_test))"
   ]
  },
  {
   "attachments": {},
   "cell_type": "markdown",
   "id": "1a5a3f9a",
   "metadata": {
    "papermill": {
     "duration": 0.008843,
     "end_time": "2023-11-22T13:39:38.419366",
     "exception": false,
     "start_time": "2023-11-22T13:39:38.410523",
     "status": "completed"
    },
    "tags": []
   },
   "source": [
    "## 3-gram"
   ]
  },
  {
   "cell_type": "code",
   "execution_count": 12,
   "id": "426acb4f",
   "metadata": {
    "execution": {
     "iopub.execute_input": "2023-11-22T13:39:38.456469Z",
     "iopub.status.busy": "2023-11-22T13:39:38.456087Z",
     "iopub.status.idle": "2023-11-22T13:40:13.938921Z",
     "shell.execute_reply": "2023-11-22T13:40:13.937945Z"
    },
    "papermill": {
     "duration": 35.503114,
     "end_time": "2023-11-22T13:40:13.949487",
     "exception": false,
     "start_time": "2023-11-22T13:39:38.446373",
     "status": "completed"
    },
    "tags": []
   },
   "outputs": [
    {
     "name": "stdout",
     "output_type": "stream",
     "text": [
      "Thời gian chạy:  11.824961185455322\n"
     ]
    }
   ],
   "source": [
    "\n",
    "start_time = time.time()\n",
    "res_time = 0\n",
    "vectorizer = TfidfVectorizer(min_df=0.0, analyzer=\"char\", sublinear_tf=True, ngram_range=(3, 3), max_features=8000)\n",
    "tfidf_matrix = vectorizer.fit_transform(train_data)\n",
    "res_time += time.time() - start_time\n",
    "# pca\n",
    "pca = PCA(n_components=256)\n",
    "reduced_data = pca.fit_transform(tfidf_matrix.toarray())\n",
    "\n",
    "# random forest\n",
    "start_time = time.time()\n",
    "rf_classifier = RandomForestClassifier(n_estimators=20)\n",
    "rf_classifier.fit(reduced_data, label_train)\n",
    "res_time += time.time() - start_time\n",
    "print(\"Thời gian chạy: \", res_time)"
   ]
  },
  {
   "cell_type": "code",
   "execution_count": 13,
   "id": "4965effd",
   "metadata": {
    "execution": {
     "iopub.execute_input": "2023-11-22T13:40:13.968559Z",
     "iopub.status.busy": "2023-11-22T13:40:13.968208Z",
     "iopub.status.idle": "2023-11-22T13:41:44.499667Z",
     "shell.execute_reply": "2023-11-22T13:41:44.498393Z"
    },
    "papermill": {
     "duration": 90.555843,
     "end_time": "2023-11-22T13:41:44.514228",
     "exception": false,
     "start_time": "2023-11-22T13:40:13.958385",
     "status": "completed"
    },
    "tags": []
   },
   "outputs": [
    {
     "name": "stdout",
     "output_type": "stream",
     "text": [
      "Thời gian chạy: --- 1.055896520614624 giây ---\n",
      "Average TP: [231.2 384.3]\n",
      "Average FP: [3.2 2.7]\n",
      "Average FN: [2.7 3.2]\n",
      "Average TN: [384.3 231.2]\n"
     ]
    }
   ],
   "source": [
    "total_TP = 0\n",
    "total_FP = 0\n",
    "total_FN = 0\n",
    "total_TN = 0\n",
    "import time\n",
    "\n",
    "time_exe = 0\n",
    "for X_train, y_train, X_test, y_test in train_data_k_fold:\n",
    "    # tf-idf\n",
    "    tfidf_matrix = vectorizer.fit_transform(X_train)\n",
    "    \n",
    "    # pca\n",
    "    reduced_data = pca.fit_transform(tfidf_matrix.toarray())\n",
    "    \n",
    "    # random forest\n",
    "    rf_classifier.fit(reduced_data, y_train)\n",
    "    \n",
    "    start_time = time.time()\n",
    "    tfidf_test = vectorizer.transform(X_test)\n",
    "    reduced_test  = pca.transform(tfidf_test.toarray())\n",
    "    y_pred = rf_classifier.predict(reduced_test)\n",
    "    time_exe += (time.time() - start_time)\n",
    "    # calculate confusion matrix\n",
    "    cm = confusion_matrix(y_test, y_pred)\n",
    "\n",
    "    TP = cm.diagonal()\n",
    "    FP = cm.sum(axis=0) - TP\n",
    "    FN = cm.sum(axis=1) - TP\n",
    "    TN = cm.sum() - (TP + FP + FN)\n",
    "\n",
    "    total_TP += TP\n",
    "    total_FP += FP\n",
    "    total_FN += FN\n",
    "    total_TN += TN\n",
    "\n",
    "print(\"Thời gian chạy: --- %s giây ---\" % time_exe )\n",
    "\n",
    "average_TP = total_TP / n_folds\n",
    "average_FP = total_FP / n_folds\n",
    "average_FN = total_FN / n_folds\n",
    "average_TN = total_TN / n_folds\n",
    "\n",
    "print(\"Average TP:\", average_TP)\n",
    "print(\"Average FP:\", average_FP)\n",
    "print(\"Average FN:\", average_FN)\n",
    "print(\"Average TN:\", average_TN)"
   ]
  },
  {
   "cell_type": "code",
   "execution_count": 14,
   "id": "ba53fdb2",
   "metadata": {
    "execution": {
     "iopub.execute_input": "2023-11-22T13:41:44.555051Z",
     "iopub.status.busy": "2023-11-22T13:41:44.554524Z",
     "iopub.status.idle": "2023-11-22T13:41:44.575058Z",
     "shell.execute_reply": "2023-11-22T13:41:44.574062Z"
    },
    "papermill": {
     "duration": 0.044779,
     "end_time": "2023-11-22T13:41:44.578488",
     "exception": false,
     "start_time": "2023-11-22T13:41:44.533709",
     "status": "completed"
    },
    "tags": []
   },
   "outputs": [
    {
     "name": "stdout",
     "output_type": "stream",
     "text": [
      "[[231.2, 3.2], [2.7, 384.3]]\n",
      "      TPR       FPR       FNR       ACC Precision    Recall  F1_score\n",
      "   0.9885    0.0083    0.0115    0.9905    0.9863    0.9885    0.9874\n"
     ]
    }
   ],
   "source": [
    "TP = average_TP[0]\n",
    "FP = average_FP[0]\n",
    "FN = average_FN[0]\n",
    "TN = average_TN[0]\n",
    "\n",
    "precision = TP / (TP + FP)\n",
    "recall = TP / (TP + FN)\n",
    "f1_score = 2 * (precision * recall) / (precision + recall)\n",
    "\n",
    "\n",
    "\n",
    "cnf_matrix = [[TP,FP],[FN,TN]]\n",
    "TPR = TP / (TP + FN)\n",
    "FPR = FP / (FP + TN)\n",
    "FNR = FN / (FN + TP)\n",
    "ACC = (TP+TN)/(TP+FP+TN+FN)\n",
    "other_metrics = pd.DataFrame({'TPR': '%.4f' % TPR, \n",
    "                              'FPR': '%.4f' % FPR, \n",
    "                              'FNR': '%.4f' % FNR,\n",
    "                              'ACC': '%.4f' % ACC,\n",
    "                             'Precision':'%.4f' % precision,\n",
    "                             'Recall':'%.4f' % recall,\n",
    "                             'F1_score':'%.4f' % f1_score,}, index=[0]).to_string(col_space=9, index=False)\n",
    "# print(clf_report)\n",
    "print(cnf_matrix)\n",
    "print(other_metrics)"
   ]
  }
 ],
 "metadata": {
  "kaggle": {
   "accelerator": "gpu",
   "dataSources": [
    {
     "datasetId": 3304638,
     "sourceId": 5744587,
     "sourceType": "datasetVersion"
    }
   ],
   "dockerImageVersionId": 30512,
   "isGpuEnabled": true,
   "isInternetEnabled": true,
   "language": "python",
   "sourceType": "notebook"
  },
  "kernelspec": {
   "display_name": "Python 3",
   "language": "python",
   "name": "python3"
  },
  "language_info": {
   "codemirror_mode": {
    "name": "ipython",
    "version": 3
   },
   "file_extension": ".py",
   "mimetype": "text/x-python",
   "name": "python",
   "nbconvert_exporter": "python",
   "pygments_lexer": "ipython3",
   "version": "3.10.10"
  },
  "papermill": {
   "default_parameters": {},
   "duration": 447.427562,
   "end_time": "2023-11-22T13:45:35.878286",
   "environment_variables": {},
   "exception": null,
   "input_path": "__notebook__.ipynb",
   "output_path": "__notebook__.ipynb",
   "parameters": {},
   "start_time": "2023-11-22T13:38:08.450724",
   "version": "2.4.0"
  }
 },
 "nbformat": 4,
 "nbformat_minor": 5
}
